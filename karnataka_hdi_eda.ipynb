{
  "nbformat": 4,
  "nbformat_minor": 0,
  "metadata": {
    "colab": {
      "name": "karnataka_hdi_eda.ipynb",
      "provenance": [],
      "authorship_tag": "ABX9TyMVdsiX+zkAwcvV2GCuHbRO",
      "include_colab_link": true
    },
    "kernelspec": {
      "name": "python3",
      "display_name": "Python 3"
    }
  },
  "cells": [
    {
      "cell_type": "markdown",
      "metadata": {
        "id": "view-in-github",
        "colab_type": "text"
      },
      "source": [
        "<a href=\"https://colab.research.google.com/github/ishgirwan/gee/blob/master/karnataka_hdi_eda.ipynb\" target=\"_parent\"><img src=\"https://colab.research.google.com/assets/colab-badge.svg\" alt=\"Open In Colab\"/></a>"
      ]
    },
    {
      "cell_type": "markdown",
      "metadata": {
        "id": "bgaTJJUPDPTW",
        "colab_type": "text"
      },
      "source": [
        "#EDA of Karnataka HDI data"
      ]
    },
    {
      "cell_type": "code",
      "metadata": {
        "id": "TqJ0AdlS2RsH",
        "colab_type": "code",
        "colab": {
          "base_uri": "https://localhost:8080/",
          "height": 34
        },
        "outputId": "6d139f52-3246-42f9-b6f3-532f16f80d0a"
      },
      "source": [
        "from google.colab import drive\n",
        "drive.mount('/content/drive')"
      ],
      "execution_count": 1,
      "outputs": [
        {
          "output_type": "stream",
          "text": [
            "Mounted at /content/drive\n"
          ],
          "name": "stdout"
        }
      ]
    },
    {
      "cell_type": "code",
      "metadata": {
        "id": "eDB14Wb15U1I",
        "colab_type": "code",
        "colab": {}
      },
      "source": [
        "#pip install tabula-py\n",
        "#import tabula\n",
        "\n",
        "# Read pdf into list of DataFrame\n",
        "#df = tabula.read_pdf(\"/content/drive/My Drive/omdena/VillageHDIintheState.pdf\", pages='all')\n",
        "#tabula.convert_into(\"/content/drive/My Drive/omdena/VillageHDIintheState.pdf\", \"/content/drive/My Drive/omdena/karnataka_hdi.csv\", output_format=\"csv\", pages='all')"
      ],
      "execution_count": 3,
      "outputs": []
    },
    {
      "cell_type": "code",
      "metadata": {
        "id": "EevxZznD6ihQ",
        "colab_type": "code",
        "colab": {
          "base_uri": "https://localhost:8080/",
          "height": 71
        },
        "outputId": "231e030d-492c-457d-ee24-d7dee1c6e9aa"
      },
      "source": [
        "import pandas as pd\n",
        "import numpy as np\n",
        "import matplotlib.pyplot as plt\n",
        "import seaborn as sns"
      ],
      "execution_count": 2,
      "outputs": [
        {
          "output_type": "stream",
          "text": [
            "/usr/local/lib/python3.6/dist-packages/statsmodels/tools/_testing.py:19: FutureWarning: pandas.util.testing is deprecated. Use the functions in the public API at pandas.testing instead.\n",
            "  import pandas.util.testing as tm\n"
          ],
          "name": "stderr"
        }
      ]
    },
    {
      "cell_type": "code",
      "metadata": {
        "id": "4hjZ2Qpg7IbD",
        "colab_type": "code",
        "colab": {}
      },
      "source": [
        "df = pd.read_csv(\"/content/drive/My Drive/omdena/karnataka_hdi.csv\")"
      ],
      "execution_count": 3,
      "outputs": []
    },
    {
      "cell_type": "code",
      "metadata": {
        "id": "1BOobqVK7UnN",
        "colab_type": "code",
        "colab": {
          "base_uri": "https://localhost:8080/",
          "height": 323
        },
        "outputId": "800971ba-c18f-4d24-9be0-e9117537a87c"
      },
      "source": [
        "df.head()"
      ],
      "execution_count": 4,
      "outputs": [
        {
          "output_type": "execute_result",
          "data": {
            "text/html": [
              "<div>\n",
              "<style scoped>\n",
              "    .dataframe tbody tr th:only-of-type {\n",
              "        vertical-align: middle;\n",
              "    }\n",
              "\n",
              "    .dataframe tbody tr th {\n",
              "        vertical-align: top;\n",
              "    }\n",
              "\n",
              "    .dataframe thead th {\n",
              "        text-align: right;\n",
              "    }\n",
              "</style>\n",
              "<table border=\"1\" class=\"dataframe\">\n",
              "  <thead>\n",
              "    <tr style=\"text-align: right;\">\n",
              "      <th></th>\n",
              "      <th>District</th>\n",
              "      <th>Taluk</th>\n",
              "      <th>Gram Panchayat</th>\n",
              "      <th>Village</th>\n",
              "      <th>Standard of\\rliving index</th>\n",
              "      <th>Rank</th>\n",
              "      <th>Health\\rIndex</th>\n",
              "      <th>Rank.1</th>\n",
              "      <th>Education\\rIndex</th>\n",
              "      <th>Rank.2</th>\n",
              "      <th>HDI</th>\n",
              "      <th>Rank.3</th>\n",
              "    </tr>\n",
              "  </thead>\n",
              "  <tbody>\n",
              "    <tr>\n",
              "      <th>0</th>\n",
              "      <td>Bengaluru Urban</td>\n",
              "      <td>Bengaluru North</td>\n",
              "      <td>Arakere</td>\n",
              "      <td>Arakere</td>\n",
              "      <td>0.69966</td>\n",
              "      <td>1.0</td>\n",
              "      <td>1.00000</td>\n",
              "      <td>1.0</td>\n",
              "      <td>0.60993</td>\n",
              "      <td>4796.0</td>\n",
              "      <td>0.75287</td>\n",
              "      <td>1.0</td>\n",
              "    </tr>\n",
              "    <tr>\n",
              "      <th>1</th>\n",
              "      <td>Bengaluru Urban</td>\n",
              "      <td>Bengaluru North</td>\n",
              "      <td>Vaderahalli</td>\n",
              "      <td>Shamarajpura</td>\n",
              "      <td>0.69553</td>\n",
              "      <td>2.0</td>\n",
              "      <td>0.97289</td>\n",
              "      <td>22344.0</td>\n",
              "      <td>0.61509</td>\n",
              "      <td>3765.0</td>\n",
              "      <td>0.74663</td>\n",
              "      <td>2.0</td>\n",
              "    </tr>\n",
              "    <tr>\n",
              "      <th>2</th>\n",
              "      <td>Bengaluru Urban</td>\n",
              "      <td>Bengaluru North</td>\n",
              "      <td>Kasagattapura</td>\n",
              "      <td>Kasagattapura</td>\n",
              "      <td>0.49102</td>\n",
              "      <td>76.0</td>\n",
              "      <td>1.00000</td>\n",
              "      <td>1.0</td>\n",
              "      <td>0.81767</td>\n",
              "      <td>2.0</td>\n",
              "      <td>0.73772</td>\n",
              "      <td>3.0</td>\n",
              "    </tr>\n",
              "    <tr>\n",
              "      <th>3</th>\n",
              "      <td>Bengaluru Urban</td>\n",
              "      <td>Bengaluru North</td>\n",
              "      <td>Adakamaranahalli</td>\n",
              "      <td>Makali</td>\n",
              "      <td>0.63767</td>\n",
              "      <td>3.0</td>\n",
              "      <td>1.00000</td>\n",
              "      <td>1.0</td>\n",
              "      <td>0.59298</td>\n",
              "      <td>8643.0</td>\n",
              "      <td>0.72313</td>\n",
              "      <td>4.0</td>\n",
              "    </tr>\n",
              "    <tr>\n",
              "      <th>4</th>\n",
              "      <td>Bengaluru Urban</td>\n",
              "      <td>Bengaluru North</td>\n",
              "      <td>Shivakote</td>\n",
              "      <td>Kalenahalli</td>\n",
              "      <td>0.62548</td>\n",
              "      <td>5.0</td>\n",
              "      <td>1.00000</td>\n",
              "      <td>1.0</td>\n",
              "      <td>0.60343</td>\n",
              "      <td>6110.0</td>\n",
              "      <td>0.72268</td>\n",
              "      <td>5.0</td>\n",
              "    </tr>\n",
              "  </tbody>\n",
              "</table>\n",
              "</div>"
            ],
            "text/plain": [
              "          District            Taluk    Gram Panchayat  ...  Rank.2      HDI  Rank.3\n",
              "0  Bengaluru Urban  Bengaluru North           Arakere  ...  4796.0  0.75287     1.0\n",
              "1  Bengaluru Urban  Bengaluru North       Vaderahalli  ...  3765.0  0.74663     2.0\n",
              "2  Bengaluru Urban  Bengaluru North     Kasagattapura  ...     2.0  0.73772     3.0\n",
              "3  Bengaluru Urban  Bengaluru North  Adakamaranahalli  ...  8643.0  0.72313     4.0\n",
              "4  Bengaluru Urban  Bengaluru North         Shivakote  ...  6110.0  0.72268     5.0\n",
              "\n",
              "[5 rows x 12 columns]"
            ]
          },
          "metadata": {
            "tags": []
          },
          "execution_count": 4
        }
      ]
    },
    {
      "cell_type": "code",
      "metadata": {
        "id": "iT_qMmJj7WRU",
        "colab_type": "code",
        "colab": {
          "base_uri": "https://localhost:8080/",
          "height": 340
        },
        "outputId": "2edda4f7-c985-4cec-aa89-626eeb709d61"
      },
      "source": [
        "df.info()"
      ],
      "execution_count": 5,
      "outputs": [
        {
          "output_type": "stream",
          "text": [
            "<class 'pandas.core.frame.DataFrame'>\n",
            "RangeIndex: 27077 entries, 0 to 27076\n",
            "Data columns (total 12 columns):\n",
            " #   Column                    Non-Null Count  Dtype  \n",
            "---  ------                    --------------  -----  \n",
            " 0   District                  27075 non-null  object \n",
            " 1   Taluk                     27075 non-null  object \n",
            " 2   Gram Panchayat            27075 non-null  object \n",
            " 3   Village                   27076 non-null  object \n",
            " 4   Standard of\rliving index  27075 non-null  object \n",
            " 5   Rank                      27075 non-null  float64\n",
            " 6   Health\rIndex              27075 non-null  float64\n",
            " 7   Rank.1                    27075 non-null  float64\n",
            " 8   Education\rIndex           27075 non-null  float64\n",
            " 9   Rank.2                    27075 non-null  float64\n",
            " 10  HDI                       27075 non-null  float64\n",
            " 11  Rank.3                    27075 non-null  float64\n",
            "dtypes: float64(7), object(5)\n",
            "memory usage: 2.5+ MB\n"
          ],
          "name": "stdout"
        }
      ]
    },
    {
      "cell_type": "code",
      "metadata": {
        "id": "sfstN6MTKFBt",
        "colab_type": "code",
        "colab": {}
      },
      "source": [
        "df = df.rename(columns={'Education\\rIndex': 'Education_Index', 'Health\\rIndex': 'Health_Index', 'Standard of\\rliving index': 'Standard_of_living_index' })"
      ],
      "execution_count": 6,
      "outputs": []
    },
    {
      "cell_type": "code",
      "metadata": {
        "id": "8IS34vDPKLCy",
        "colab_type": "code",
        "colab": {
          "base_uri": "https://localhost:8080/",
          "height": 340
        },
        "outputId": "f46eb294-c30c-41ef-9f25-a3dc6e7910c5"
      },
      "source": [
        "df.info()"
      ],
      "execution_count": 7,
      "outputs": [
        {
          "output_type": "stream",
          "text": [
            "<class 'pandas.core.frame.DataFrame'>\n",
            "RangeIndex: 27077 entries, 0 to 27076\n",
            "Data columns (total 12 columns):\n",
            " #   Column                    Non-Null Count  Dtype  \n",
            "---  ------                    --------------  -----  \n",
            " 0   District                  27075 non-null  object \n",
            " 1   Taluk                     27075 non-null  object \n",
            " 2   Gram Panchayat            27075 non-null  object \n",
            " 3   Village                   27076 non-null  object \n",
            " 4   Standard_of_living_index  27075 non-null  object \n",
            " 5   Rank                      27075 non-null  float64\n",
            " 6   Health_Index              27075 non-null  float64\n",
            " 7   Rank.1                    27075 non-null  float64\n",
            " 8   Education_Index           27075 non-null  float64\n",
            " 9   Rank.2                    27075 non-null  float64\n",
            " 10  HDI                       27075 non-null  float64\n",
            " 11  Rank.3                    27075 non-null  float64\n",
            "dtypes: float64(7), object(5)\n",
            "memory usage: 2.5+ MB\n"
          ],
          "name": "stdout"
        }
      ]
    },
    {
      "cell_type": "code",
      "metadata": {
        "id": "gU14iXXdMV-W",
        "colab_type": "code",
        "colab": {}
      },
      "source": [
        "df['Standard_of_living_index'] = df['Standard_of_living_index'].str.replace(' ', '')"
      ],
      "execution_count": 8,
      "outputs": []
    },
    {
      "cell_type": "code",
      "metadata": {
        "id": "YWPL104DNdqh",
        "colab_type": "code",
        "colab": {
          "base_uri": "https://localhost:8080/",
          "height": 238
        },
        "outputId": "66250d51-5c1d-45c7-a400-60603b9f79bc"
      },
      "source": [
        "df.astype({'Standard_of_living_index': 'float64'}).dtypes"
      ],
      "execution_count": 9,
      "outputs": [
        {
          "output_type": "execute_result",
          "data": {
            "text/plain": [
              "District                     object\n",
              "Taluk                        object\n",
              "Gram Panchayat               object\n",
              "Village                      object\n",
              "Standard_of_living_index    float64\n",
              "Rank                        float64\n",
              "Health_Index                float64\n",
              "Rank.1                      float64\n",
              "Education_Index             float64\n",
              "Rank.2                      float64\n",
              "HDI                         float64\n",
              "Rank.3                      float64\n",
              "dtype: object"
            ]
          },
          "metadata": {
            "tags": []
          },
          "execution_count": 9
        }
      ]
    },
    {
      "cell_type": "code",
      "metadata": {
        "id": "6IV_KbEK7dqa",
        "colab_type": "code",
        "colab": {
          "base_uri": "https://localhost:8080/",
          "height": 297
        },
        "outputId": "472ad69a-299d-443b-eef3-71dc536123ac"
      },
      "source": [
        "df.describe()"
      ],
      "execution_count": 10,
      "outputs": [
        {
          "output_type": "execute_result",
          "data": {
            "text/html": [
              "<div>\n",
              "<style scoped>\n",
              "    .dataframe tbody tr th:only-of-type {\n",
              "        vertical-align: middle;\n",
              "    }\n",
              "\n",
              "    .dataframe tbody tr th {\n",
              "        vertical-align: top;\n",
              "    }\n",
              "\n",
              "    .dataframe thead th {\n",
              "        text-align: right;\n",
              "    }\n",
              "</style>\n",
              "<table border=\"1\" class=\"dataframe\">\n",
              "  <thead>\n",
              "    <tr style=\"text-align: right;\">\n",
              "      <th></th>\n",
              "      <th>Rank</th>\n",
              "      <th>Health_Index</th>\n",
              "      <th>Rank.1</th>\n",
              "      <th>Education_Index</th>\n",
              "      <th>Rank.2</th>\n",
              "      <th>HDI</th>\n",
              "      <th>Rank.3</th>\n",
              "    </tr>\n",
              "  </thead>\n",
              "  <tbody>\n",
              "    <tr>\n",
              "      <th>count</th>\n",
              "      <td>27075.000000</td>\n",
              "      <td>27075.000000</td>\n",
              "      <td>27075.000000</td>\n",
              "      <td>27075.000000</td>\n",
              "      <td>27075.000000</td>\n",
              "      <td>27075.000000</td>\n",
              "      <td>27075.000000</td>\n",
              "    </tr>\n",
              "    <tr>\n",
              "      <th>mean</th>\n",
              "      <td>13537.998892</td>\n",
              "      <td>0.990887</td>\n",
              "      <td>4476.054700</td>\n",
              "      <td>0.565508</td>\n",
              "      <td>13520.742678</td>\n",
              "      <td>0.406786</td>\n",
              "      <td>13537.999040</td>\n",
              "    </tr>\n",
              "    <tr>\n",
              "      <th>std</th>\n",
              "      <td>7816.023177</td>\n",
              "      <td>0.029470</td>\n",
              "      <td>9279.955049</td>\n",
              "      <td>0.049246</td>\n",
              "      <td>7844.352578</td>\n",
              "      <td>0.106000</td>\n",
              "      <td>7816.023077</td>\n",
              "    </tr>\n",
              "    <tr>\n",
              "      <th>min</th>\n",
              "      <td>1.000000</td>\n",
              "      <td>0.238490</td>\n",
              "      <td>1.000000</td>\n",
              "      <td>0.001560</td>\n",
              "      <td>1.000000</td>\n",
              "      <td>0.003700</td>\n",
              "      <td>1.000000</td>\n",
              "    </tr>\n",
              "    <tr>\n",
              "      <th>25%</th>\n",
              "      <td>6769.500000</td>\n",
              "      <td>1.000000</td>\n",
              "      <td>1.000000</td>\n",
              "      <td>0.540910</td>\n",
              "      <td>6769.500000</td>\n",
              "      <td>0.341950</td>\n",
              "      <td>6769.500000</td>\n",
              "    </tr>\n",
              "    <tr>\n",
              "      <th>50%</th>\n",
              "      <td>13538.000000</td>\n",
              "      <td>1.000000</td>\n",
              "      <td>1.000000</td>\n",
              "      <td>0.573840</td>\n",
              "      <td>13538.000000</td>\n",
              "      <td>0.419730</td>\n",
              "      <td>13538.000000</td>\n",
              "    </tr>\n",
              "    <tr>\n",
              "      <th>75%</th>\n",
              "      <td>20306.500000</td>\n",
              "      <td>1.000000</td>\n",
              "      <td>1.000000</td>\n",
              "      <td>0.600645</td>\n",
              "      <td>20306.000000</td>\n",
              "      <td>0.480575</td>\n",
              "      <td>20306.500000</td>\n",
              "    </tr>\n",
              "    <tr>\n",
              "      <th>max</th>\n",
              "      <td>27075.000000</td>\n",
              "      <td>1.000000</td>\n",
              "      <td>27075.000000</td>\n",
              "      <td>0.957010</td>\n",
              "      <td>27075.000000</td>\n",
              "      <td>0.752870</td>\n",
              "      <td>27075.000000</td>\n",
              "    </tr>\n",
              "  </tbody>\n",
              "</table>\n",
              "</div>"
            ],
            "text/plain": [
              "               Rank  Health_Index  ...           HDI        Rank.3\n",
              "count  27075.000000  27075.000000  ...  27075.000000  27075.000000\n",
              "mean   13537.998892      0.990887  ...      0.406786  13537.999040\n",
              "std     7816.023177      0.029470  ...      0.106000   7816.023077\n",
              "min        1.000000      0.238490  ...      0.003700      1.000000\n",
              "25%     6769.500000      1.000000  ...      0.341950   6769.500000\n",
              "50%    13538.000000      1.000000  ...      0.419730  13538.000000\n",
              "75%    20306.500000      1.000000  ...      0.480575  20306.500000\n",
              "max    27075.000000      1.000000  ...      0.752870  27075.000000\n",
              "\n",
              "[8 rows x 7 columns]"
            ]
          },
          "metadata": {
            "tags": []
          },
          "execution_count": 10
        }
      ]
    },
    {
      "cell_type": "code",
      "metadata": {
        "id": "Juyep0BN72LN",
        "colab_type": "code",
        "colab": {
          "base_uri": "https://localhost:8080/",
          "height": 549
        },
        "outputId": "b9c99462-bfce-4174-b212-80b39a85c35a"
      },
      "source": [
        "df.head(10)"
      ],
      "execution_count": 11,
      "outputs": [
        {
          "output_type": "execute_result",
          "data": {
            "text/html": [
              "<div>\n",
              "<style scoped>\n",
              "    .dataframe tbody tr th:only-of-type {\n",
              "        vertical-align: middle;\n",
              "    }\n",
              "\n",
              "    .dataframe tbody tr th {\n",
              "        vertical-align: top;\n",
              "    }\n",
              "\n",
              "    .dataframe thead th {\n",
              "        text-align: right;\n",
              "    }\n",
              "</style>\n",
              "<table border=\"1\" class=\"dataframe\">\n",
              "  <thead>\n",
              "    <tr style=\"text-align: right;\">\n",
              "      <th></th>\n",
              "      <th>District</th>\n",
              "      <th>Taluk</th>\n",
              "      <th>Gram Panchayat</th>\n",
              "      <th>Village</th>\n",
              "      <th>Standard_of_living_index</th>\n",
              "      <th>Rank</th>\n",
              "      <th>Health_Index</th>\n",
              "      <th>Rank.1</th>\n",
              "      <th>Education_Index</th>\n",
              "      <th>Rank.2</th>\n",
              "      <th>HDI</th>\n",
              "      <th>Rank.3</th>\n",
              "    </tr>\n",
              "  </thead>\n",
              "  <tbody>\n",
              "    <tr>\n",
              "      <th>0</th>\n",
              "      <td>Bengaluru Urban</td>\n",
              "      <td>Bengaluru North</td>\n",
              "      <td>Arakere</td>\n",
              "      <td>Arakere</td>\n",
              "      <td>0.69966</td>\n",
              "      <td>1.0</td>\n",
              "      <td>1.00000</td>\n",
              "      <td>1.0</td>\n",
              "      <td>0.60993</td>\n",
              "      <td>4796.0</td>\n",
              "      <td>0.75287</td>\n",
              "      <td>1.0</td>\n",
              "    </tr>\n",
              "    <tr>\n",
              "      <th>1</th>\n",
              "      <td>Bengaluru Urban</td>\n",
              "      <td>Bengaluru North</td>\n",
              "      <td>Vaderahalli</td>\n",
              "      <td>Shamarajpura</td>\n",
              "      <td>0.69553</td>\n",
              "      <td>2.0</td>\n",
              "      <td>0.97289</td>\n",
              "      <td>22344.0</td>\n",
              "      <td>0.61509</td>\n",
              "      <td>3765.0</td>\n",
              "      <td>0.74663</td>\n",
              "      <td>2.0</td>\n",
              "    </tr>\n",
              "    <tr>\n",
              "      <th>2</th>\n",
              "      <td>Bengaluru Urban</td>\n",
              "      <td>Bengaluru North</td>\n",
              "      <td>Kasagattapura</td>\n",
              "      <td>Kasagattapura</td>\n",
              "      <td>0.49102</td>\n",
              "      <td>76.0</td>\n",
              "      <td>1.00000</td>\n",
              "      <td>1.0</td>\n",
              "      <td>0.81767</td>\n",
              "      <td>2.0</td>\n",
              "      <td>0.73772</td>\n",
              "      <td>3.0</td>\n",
              "    </tr>\n",
              "    <tr>\n",
              "      <th>3</th>\n",
              "      <td>Bengaluru Urban</td>\n",
              "      <td>Bengaluru North</td>\n",
              "      <td>Adakamaranahalli</td>\n",
              "      <td>Makali</td>\n",
              "      <td>0.63767</td>\n",
              "      <td>3.0</td>\n",
              "      <td>1.00000</td>\n",
              "      <td>1.0</td>\n",
              "      <td>0.59298</td>\n",
              "      <td>8643.0</td>\n",
              "      <td>0.72313</td>\n",
              "      <td>4.0</td>\n",
              "    </tr>\n",
              "    <tr>\n",
              "      <th>4</th>\n",
              "      <td>Bengaluru Urban</td>\n",
              "      <td>Bengaluru North</td>\n",
              "      <td>Shivakote</td>\n",
              "      <td>Kalenahalli</td>\n",
              "      <td>0.62548</td>\n",
              "      <td>5.0</td>\n",
              "      <td>1.00000</td>\n",
              "      <td>1.0</td>\n",
              "      <td>0.60343</td>\n",
              "      <td>6110.0</td>\n",
              "      <td>0.72268</td>\n",
              "      <td>5.0</td>\n",
              "    </tr>\n",
              "    <tr>\n",
              "      <th>5</th>\n",
              "      <td>Bengaluru Urban</td>\n",
              "      <td>Bengaluru North</td>\n",
              "      <td>Madanayakanahalli</td>\n",
              "      <td>Kadaranahalli</td>\n",
              "      <td>0.61736</td>\n",
              "      <td>8.0</td>\n",
              "      <td>1.00000</td>\n",
              "      <td>1.0</td>\n",
              "      <td>0.61009</td>\n",
              "      <td>4753.0</td>\n",
              "      <td>0.72218</td>\n",
              "      <td>6.0</td>\n",
              "    </tr>\n",
              "    <tr>\n",
              "      <th>6</th>\n",
              "      <td>Bengaluru Urban</td>\n",
              "      <td>Anekal</td>\n",
              "      <td>Vanakanahalli</td>\n",
              "      <td>Menasiganahalli</td>\n",
              "      <td>0.39336</td>\n",
              "      <td>284.0</td>\n",
              "      <td>1.00000</td>\n",
              "      <td>1.0</td>\n",
              "      <td>0.95701</td>\n",
              "      <td>1.0</td>\n",
              "      <td>0.72205</td>\n",
              "      <td>7.0</td>\n",
              "    </tr>\n",
              "    <tr>\n",
              "      <th>7</th>\n",
              "      <td>Bengaluru Urban</td>\n",
              "      <td>Bengaluru North</td>\n",
              "      <td>Huskur</td>\n",
              "      <td>Huskur</td>\n",
              "      <td>0.60975</td>\n",
              "      <td>9.0</td>\n",
              "      <td>1.00000</td>\n",
              "      <td>1.0</td>\n",
              "      <td>0.61438</td>\n",
              "      <td>3898.0</td>\n",
              "      <td>0.72088</td>\n",
              "      <td>8.0</td>\n",
              "    </tr>\n",
              "    <tr>\n",
              "      <th>8</th>\n",
              "      <td>Bengaluru Urban</td>\n",
              "      <td>Bengaluru South</td>\n",
              "      <td>Nelaguli</td>\n",
              "      <td>Naganayakanaha\\rlli</td>\n",
              "      <td>0.63176</td>\n",
              "      <td>4.0</td>\n",
              "      <td>1.00000</td>\n",
              "      <td>1.0</td>\n",
              "      <td>0.58934</td>\n",
              "      <td>9562.0</td>\n",
              "      <td>0.71940</td>\n",
              "      <td>9.0</td>\n",
              "    </tr>\n",
              "    <tr>\n",
              "      <th>9</th>\n",
              "      <td>Bengaluru Urban</td>\n",
              "      <td>Bengaluru South</td>\n",
              "      <td>Chikkana halli</td>\n",
              "      <td>Sulivara</td>\n",
              "      <td>0.59381</td>\n",
              "      <td>14.0</td>\n",
              "      <td>1.00000</td>\n",
              "      <td>1.0</td>\n",
              "      <td>0.61554</td>\n",
              "      <td>3680.0</td>\n",
              "      <td>0.71499</td>\n",
              "      <td>10.0</td>\n",
              "    </tr>\n",
              "  </tbody>\n",
              "</table>\n",
              "</div>"
            ],
            "text/plain": [
              "          District            Taluk     Gram Panchayat  ...  Rank.2      HDI  Rank.3\n",
              "0  Bengaluru Urban  Bengaluru North            Arakere  ...  4796.0  0.75287     1.0\n",
              "1  Bengaluru Urban  Bengaluru North        Vaderahalli  ...  3765.0  0.74663     2.0\n",
              "2  Bengaluru Urban  Bengaluru North      Kasagattapura  ...     2.0  0.73772     3.0\n",
              "3  Bengaluru Urban  Bengaluru North   Adakamaranahalli  ...  8643.0  0.72313     4.0\n",
              "4  Bengaluru Urban  Bengaluru North          Shivakote  ...  6110.0  0.72268     5.0\n",
              "5  Bengaluru Urban  Bengaluru North  Madanayakanahalli  ...  4753.0  0.72218     6.0\n",
              "6  Bengaluru Urban           Anekal      Vanakanahalli  ...     1.0  0.72205     7.0\n",
              "7  Bengaluru Urban  Bengaluru North             Huskur  ...  3898.0  0.72088     8.0\n",
              "8  Bengaluru Urban  Bengaluru South           Nelaguli  ...  9562.0  0.71940     9.0\n",
              "9  Bengaluru Urban  Bengaluru South     Chikkana halli  ...  3680.0  0.71499    10.0\n",
              "\n",
              "[10 rows x 12 columns]"
            ]
          },
          "metadata": {
            "tags": []
          },
          "execution_count": 11
        }
      ]
    },
    {
      "cell_type": "code",
      "metadata": {
        "id": "4cIKPBPkJrxE",
        "colab_type": "code",
        "colab": {
          "base_uri": "https://localhost:8080/",
          "height": 221
        },
        "outputId": "04a9c9b4-dc62-4642-e797-7a3356de5cc0"
      },
      "source": [
        "df.Village.value_counts()"
      ],
      "execution_count": 12,
      "outputs": [
        {
          "output_type": "execute_result",
          "data": {
            "text/plain": [
              "Hosahalli        98\n",
              "Kodihalli        47\n",
              "Siddapura        39\n",
              "Kurubarahalli    36\n",
              "Honnenahalli     36\n",
              "                 ..\n",
              "Yadadore          1\n",
              "Kesarakoni        1\n",
              "Madeswara         1\n",
              "Mehkar            1\n",
              "Yaduvanahalli     1\n",
              "Name: Village, Length: 20581, dtype: int64"
            ]
          },
          "metadata": {
            "tags": []
          },
          "execution_count": 12
        }
      ]
    },
    {
      "cell_type": "markdown",
      "metadata": {
        "id": "qweMp_9ha3cw",
        "colab_type": "text"
      },
      "source": [
        "There are several villages with same names."
      ]
    },
    {
      "cell_type": "code",
      "metadata": {
        "id": "sNQnF0Vla9iO",
        "colab_type": "code",
        "colab": {
          "base_uri": "https://localhost:8080/",
          "height": 490
        },
        "outputId": "c79fe488-5e17-4beb-a1c2-ba48a03ca38d"
      },
      "source": [
        "df.loc[df.Village == 'Hosahalli']"
      ],
      "execution_count": 13,
      "outputs": [
        {
          "output_type": "execute_result",
          "data": {
            "text/html": [
              "<div>\n",
              "<style scoped>\n",
              "    .dataframe tbody tr th:only-of-type {\n",
              "        vertical-align: middle;\n",
              "    }\n",
              "\n",
              "    .dataframe tbody tr th {\n",
              "        vertical-align: top;\n",
              "    }\n",
              "\n",
              "    .dataframe thead th {\n",
              "        text-align: right;\n",
              "    }\n",
              "</style>\n",
              "<table border=\"1\" class=\"dataframe\">\n",
              "  <thead>\n",
              "    <tr style=\"text-align: right;\">\n",
              "      <th></th>\n",
              "      <th>District</th>\n",
              "      <th>Taluk</th>\n",
              "      <th>Gram Panchayat</th>\n",
              "      <th>Village</th>\n",
              "      <th>Standard_of_living_index</th>\n",
              "      <th>Rank</th>\n",
              "      <th>Health_Index</th>\n",
              "      <th>Rank.1</th>\n",
              "      <th>Education_Index</th>\n",
              "      <th>Rank.2</th>\n",
              "      <th>HDI</th>\n",
              "      <th>Rank.3</th>\n",
              "    </tr>\n",
              "  </thead>\n",
              "  <tbody>\n",
              "    <tr>\n",
              "      <th>137</th>\n",
              "      <td>Bengaluru Urban</td>\n",
              "      <td>Bengaluru North</td>\n",
              "      <td>Hunasamaranahalli</td>\n",
              "      <td>Hosahalli</td>\n",
              "      <td>0.44365</td>\n",
              "      <td>157.0</td>\n",
              "      <td>1.0</td>\n",
              "      <td>1.0</td>\n",
              "      <td>0.60111</td>\n",
              "      <td>6665.0</td>\n",
              "      <td>0.64367</td>\n",
              "      <td>138.0</td>\n",
              "    </tr>\n",
              "    <tr>\n",
              "      <th>141</th>\n",
              "      <td>Bengaluru Urban</td>\n",
              "      <td>Anekal</td>\n",
              "      <td>Hennagara</td>\n",
              "      <td>Hosahalli</td>\n",
              "      <td>0.44468</td>\n",
              "      <td>153.0</td>\n",
              "      <td>1.0</td>\n",
              "      <td>1.0</td>\n",
              "      <td>0.59777</td>\n",
              "      <td>7427.0</td>\n",
              "      <td>0.64298</td>\n",
              "      <td>142.0</td>\n",
              "    </tr>\n",
              "    <tr>\n",
              "      <th>543</th>\n",
              "      <td>Shivamogga</td>\n",
              "      <td>Shivamogga</td>\n",
              "      <td>Hosahalli</td>\n",
              "      <td>Hosahalli</td>\n",
              "      <td>0.33057</td>\n",
              "      <td>745.0</td>\n",
              "      <td>1.0</td>\n",
              "      <td>1.0</td>\n",
              "      <td>0.61950</td>\n",
              "      <td>2841.0</td>\n",
              "      <td>0.58943</td>\n",
              "      <td>544.0</td>\n",
              "    </tr>\n",
              "    <tr>\n",
              "      <th>644</th>\n",
              "      <td>Hassan</td>\n",
              "      <td>Hassan</td>\n",
              "      <td>Salagame</td>\n",
              "      <td>Hosahalli</td>\n",
              "      <td>0.31838</td>\n",
              "      <td>920.0</td>\n",
              "      <td>1.0</td>\n",
              "      <td>1.0</td>\n",
              "      <td>0.62273</td>\n",
              "      <td>1908.0</td>\n",
              "      <td>0.58311</td>\n",
              "      <td>645.0</td>\n",
              "    </tr>\n",
              "    <tr>\n",
              "      <th>952</th>\n",
              "      <td>Mysuru</td>\n",
              "      <td>Mysuru</td>\n",
              "      <td>Yadakola</td>\n",
              "      <td>Hosahalli</td>\n",
              "      <td>0.30334</td>\n",
              "      <td>1264.0</td>\n",
              "      <td>1.0</td>\n",
              "      <td>1.0</td>\n",
              "      <td>0.61374</td>\n",
              "      <td>4019.0</td>\n",
              "      <td>0.57100</td>\n",
              "      <td>953.0</td>\n",
              "    </tr>\n",
              "    <tr>\n",
              "      <th>...</th>\n",
              "      <td>...</td>\n",
              "      <td>...</td>\n",
              "      <td>...</td>\n",
              "      <td>...</td>\n",
              "      <td>...</td>\n",
              "      <td>...</td>\n",
              "      <td>...</td>\n",
              "      <td>...</td>\n",
              "      <td>...</td>\n",
              "      <td>...</td>\n",
              "      <td>...</td>\n",
              "      <td>...</td>\n",
              "    </tr>\n",
              "    <tr>\n",
              "      <th>25746</th>\n",
              "      <td>Hassan</td>\n",
              "      <td>Sakleshpur</td>\n",
              "      <td>Valalahalli</td>\n",
              "      <td>Hosahalli</td>\n",
              "      <td>0.01569</td>\n",
              "      <td>25855.0</td>\n",
              "      <td>1.0</td>\n",
              "      <td>1.0</td>\n",
              "      <td>0.60211</td>\n",
              "      <td>6412.0</td>\n",
              "      <td>0.21138</td>\n",
              "      <td>25747.0</td>\n",
              "    </tr>\n",
              "    <tr>\n",
              "      <th>25757</th>\n",
              "      <td>Tumakuru</td>\n",
              "      <td>Kunigal</td>\n",
              "      <td>Kothagere</td>\n",
              "      <td>Hosahalli</td>\n",
              "      <td>0.01498</td>\n",
              "      <td>25901.0</td>\n",
              "      <td>1.0</td>\n",
              "      <td>1.0</td>\n",
              "      <td>0.62553</td>\n",
              "      <td>13.0</td>\n",
              "      <td>0.21082</td>\n",
              "      <td>25758.0</td>\n",
              "    </tr>\n",
              "    <tr>\n",
              "      <th>26774</th>\n",
              "      <td>Hassan</td>\n",
              "      <td>Alur</td>\n",
              "      <td>Mallapura</td>\n",
              "      <td>Hosahalli</td>\n",
              "      <td>0.00280</td>\n",
              "      <td>26773.0</td>\n",
              "      <td>1.0</td>\n",
              "      <td>1.0</td>\n",
              "      <td>0.54171</td>\n",
              "      <td>20168.0</td>\n",
              "      <td>0.11495</td>\n",
              "      <td>26775.0</td>\n",
              "    </tr>\n",
              "    <tr>\n",
              "      <th>26798</th>\n",
              "      <td>Bengaluru Rural</td>\n",
              "      <td>Nelamangala</td>\n",
              "      <td>Soladevanahalli</td>\n",
              "      <td>Hosahalli</td>\n",
              "      <td>0.00234</td>\n",
              "      <td>26829.0</td>\n",
              "      <td>1.0</td>\n",
              "      <td>1.0</td>\n",
              "      <td>0.61045</td>\n",
              "      <td>4667.0</td>\n",
              "      <td>0.11260</td>\n",
              "      <td>26799.0</td>\n",
              "    </tr>\n",
              "    <tr>\n",
              "      <th>26938</th>\n",
              "      <td>Mandya</td>\n",
              "      <td>Nagamangala</td>\n",
              "      <td>Palagrahara</td>\n",
              "      <td>Hosahalli</td>\n",
              "      <td>0.00069</td>\n",
              "      <td>26946.0</td>\n",
              "      <td>1.0</td>\n",
              "      <td>1.0</td>\n",
              "      <td>0.62553</td>\n",
              "      <td>13.0</td>\n",
              "      <td>0.07575</td>\n",
              "      <td>26939.0</td>\n",
              "    </tr>\n",
              "  </tbody>\n",
              "</table>\n",
              "<p>98 rows × 12 columns</p>\n",
              "</div>"
            ],
            "text/plain": [
              "              District            Taluk  ...      HDI   Rank.3\n",
              "137    Bengaluru Urban  Bengaluru North  ...  0.64367    138.0\n",
              "141    Bengaluru Urban           Anekal  ...  0.64298    142.0\n",
              "543         Shivamogga       Shivamogga  ...  0.58943    544.0\n",
              "644             Hassan           Hassan  ...  0.58311    645.0\n",
              "952             Mysuru           Mysuru  ...  0.57100    953.0\n",
              "...                ...              ...  ...      ...      ...\n",
              "25746           Hassan       Sakleshpur  ...  0.21138  25747.0\n",
              "25757         Tumakuru          Kunigal  ...  0.21082  25758.0\n",
              "26774           Hassan             Alur  ...  0.11495  26775.0\n",
              "26798  Bengaluru Rural      Nelamangala  ...  0.11260  26799.0\n",
              "26938           Mandya      Nagamangala  ...  0.07575  26939.0\n",
              "\n",
              "[98 rows x 12 columns]"
            ]
          },
          "metadata": {
            "tags": []
          },
          "execution_count": 13
        }
      ]
    },
    {
      "cell_type": "markdown",
      "metadata": {
        "id": "I4o5BPW8a0ne",
        "colab_type": "text"
      },
      "source": [
        ""
      ]
    },
    {
      "cell_type": "code",
      "metadata": {
        "id": "CeA3n3vcSe9B",
        "colab_type": "code",
        "colab": {
          "base_uri": "https://localhost:8080/",
          "height": 34
        },
        "outputId": "4e0323c4-4595-4355-ccf9-e0f1dba4193d"
      },
      "source": [
        "df['HDI'].isnull().values.any()"
      ],
      "execution_count": 14,
      "outputs": [
        {
          "output_type": "execute_result",
          "data": {
            "text/plain": [
              "True"
            ]
          },
          "metadata": {
            "tags": []
          },
          "execution_count": 14
        }
      ]
    },
    {
      "cell_type": "code",
      "metadata": {
        "id": "vYEsieSGSsm-",
        "colab_type": "code",
        "colab": {
          "base_uri": "https://localhost:8080/",
          "height": 148
        },
        "outputId": "a46f746b-ca8b-406f-bd4f-37919fe4af66"
      },
      "source": [
        "df.loc[df['HDI'].isnull()]"
      ],
      "execution_count": 15,
      "outputs": [
        {
          "output_type": "execute_result",
          "data": {
            "text/html": [
              "<div>\n",
              "<style scoped>\n",
              "    .dataframe tbody tr th:only-of-type {\n",
              "        vertical-align: middle;\n",
              "    }\n",
              "\n",
              "    .dataframe tbody tr th {\n",
              "        vertical-align: top;\n",
              "    }\n",
              "\n",
              "    .dataframe thead th {\n",
              "        text-align: right;\n",
              "    }\n",
              "</style>\n",
              "<table border=\"1\" class=\"dataframe\">\n",
              "  <thead>\n",
              "    <tr style=\"text-align: right;\">\n",
              "      <th></th>\n",
              "      <th>District</th>\n",
              "      <th>Taluk</th>\n",
              "      <th>Gram Panchayat</th>\n",
              "      <th>Village</th>\n",
              "      <th>Standard_of_living_index</th>\n",
              "      <th>Rank</th>\n",
              "      <th>Health_Index</th>\n",
              "      <th>Rank.1</th>\n",
              "      <th>Education_Index</th>\n",
              "      <th>Rank.2</th>\n",
              "      <th>HDI</th>\n",
              "      <th>Rank.3</th>\n",
              "    </tr>\n",
              "  </thead>\n",
              "  <tbody>\n",
              "    <tr>\n",
              "      <th>27074</th>\n",
              "      <td>NaN</td>\n",
              "      <td>NaN</td>\n",
              "      <td>NaN</td>\n",
              "      <td>Chikkathekalavat</td>\n",
              "      <td>NaN</td>\n",
              "      <td>NaN</td>\n",
              "      <td>NaN</td>\n",
              "      <td>NaN</td>\n",
              "      <td>NaN</td>\n",
              "      <td>NaN</td>\n",
              "      <td>NaN</td>\n",
              "      <td>NaN</td>\n",
              "    </tr>\n",
              "    <tr>\n",
              "      <th>27076</th>\n",
              "      <td>Chitradurga</td>\n",
              "      <td>Hosadurga</td>\n",
              "      <td>Chikkabyladakere</td>\n",
              "      <td>ti</td>\n",
              "      <td>NaN</td>\n",
              "      <td>NaN</td>\n",
              "      <td>NaN</td>\n",
              "      <td>NaN</td>\n",
              "      <td>NaN</td>\n",
              "      <td>NaN</td>\n",
              "      <td>NaN</td>\n",
              "      <td>NaN</td>\n",
              "    </tr>\n",
              "  </tbody>\n",
              "</table>\n",
              "</div>"
            ],
            "text/plain": [
              "          District      Taluk    Gram Panchayat  ... Rank.2 HDI  Rank.3\n",
              "27074          NaN        NaN               NaN  ...    NaN NaN     NaN\n",
              "27076  Chitradurga  Hosadurga  Chikkabyladakere  ...    NaN NaN     NaN\n",
              "\n",
              "[2 rows x 12 columns]"
            ]
          },
          "metadata": {
            "tags": []
          },
          "execution_count": 15
        }
      ]
    },
    {
      "cell_type": "code",
      "metadata": {
        "id": "6P9fOZDDS8us",
        "colab_type": "code",
        "colab": {}
      },
      "source": [
        "#df.dropna(subset=['HDI']);\n",
        "df = df[df['HDI'].notna()]"
      ],
      "execution_count": 16,
      "outputs": []
    },
    {
      "cell_type": "code",
      "metadata": {
        "id": "m8_LQsbnWgJ0",
        "colab_type": "code",
        "colab": {
          "base_uri": "https://localhost:8080/",
          "height": 34
        },
        "outputId": "90b21b36-93fa-4109-91f5-982c3c84870c"
      },
      "source": [
        "df['HDI'].isnull().values.any()"
      ],
      "execution_count": 17,
      "outputs": [
        {
          "output_type": "execute_result",
          "data": {
            "text/plain": [
              "False"
            ]
          },
          "metadata": {
            "tags": []
          },
          "execution_count": 17
        }
      ]
    },
    {
      "cell_type": "code",
      "metadata": {
        "id": "ZxuUWu8LJoPU",
        "colab_type": "code",
        "colab": {
          "base_uri": "https://localhost:8080/",
          "height": 265
        },
        "outputId": "67d7ad57-300a-410c-fb56-464d21cc9aad"
      },
      "source": [
        "hdi_hist = df['HDI'].hist(bins=100)"
      ],
      "execution_count": 18,
      "outputs": [
        {
          "output_type": "display_data",
          "data": {
            "image/png": "[encoded data removed]",
            "text/plain": [
              "<Figure size 432x288 with 1 Axes>"
            ]
          },
          "metadata": {
            "tags": [],
            "needs_background": "light"
          }
        }
      ]
    },
    {
      "cell_type": "markdown",
      "metadata": {
        "id": "Re6CXz0NadRJ",
        "colab_type": "text"
      },
      "source": [
        "The HDI data distribution looks like a normal distribution."
      ]
    },
    {
      "cell_type": "code",
      "metadata": {
        "id": "cStNG0nTPmQL",
        "colab_type": "code",
        "colab": {
          "base_uri": "https://localhost:8080/",
          "height": 279
        },
        "outputId": "223c11b9-29d2-435f-e494-ba9dea13c27e"
      },
      "source": [
        "sns.distplot(df['HDI']);"
      ],
      "execution_count": 19,
      "outputs": [
        {
          "output_type": "display_data",
          "data": {
            "image/png": "[encoded data removed]",
            "text/plain": [
              "<Figure size 432x288 with 1 Axes>"
            ]
          },
          "metadata": {
            "tags": [],
            "needs_background": "light"
          }
        }
      ]
    },
    {
      "cell_type": "code",
      "metadata": {
        "id": "0OP345fQbiM1",
        "colab_type": "code",
        "colab": {}
      },
      "source": [
        "# convert to csv\n",
        "df.to_csv('/content/drive/My Drive/omdena/cleaned_karnataka_hdi.csv')"
      ],
      "execution_count": 20,
      "outputs": []
    },
    {
      "cell_type": "code",
      "metadata": {
        "id": "1YtOzpPzcfiK",
        "colab_type": "code",
        "colab": {}
      },
      "source": [
        ""
      ],
      "execution_count": null,
      "outputs": []
    }
  ]
}