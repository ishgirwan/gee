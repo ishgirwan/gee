{
  "nbformat": 4,
  "nbformat_minor": 0,
  "metadata": {
    "colab": {
      "name": "karnataka_hdi_dw.ipynb",
      "provenance": [],
      "include_colab_link": true
    },
    "kernelspec": {
      "name": "python3",
      "display_name": "Python 3"
    }
  },
  "cells": [
    {
      "cell_type": "markdown",
      "metadata": {
        "id": "view-in-github",
        "colab_type": "text"
      },
      "source": [
        "<a href=\"https://colab.research.google.com/github/ishgirwan/hdi/blob/master/karnataka_hdi_dw.ipynb\" target=\"_parent\"><img src=\"https://colab.research.google.com/assets/colab-badge.svg\" alt=\"Open In Colab\"/></a>"
      ]
    },
    {
      "cell_type": "markdown",
      "metadata": {
        "id": "bgaTJJUPDPTW",
        "colab_type": "text"
      },
      "source": [
        "#Data wrangling of Karnataka HDI data"
      ]
    },
    {
      "cell_type": "code",
      "metadata": {
        "id": "TqJ0AdlS2RsH",
        "colab_type": "code",
        "colab": {
          "base_uri": "https://localhost:8080/",
          "height": 34
        },
        "outputId": "5cec5b8a-65cb-4acd-f6cb-be521b5b58c5"
      },
      "source": [
        "from google.colab import drive\n",
        "drive.mount('/content/drive')"
      ],
      "execution_count": 1,
      "outputs": [
        {
          "output_type": "stream",
          "text": [
            "Mounted at /content/drive\n"
          ],
          "name": "stdout"
        }
      ]
    },
    {
      "cell_type": "code",
      "metadata": {
        "id": "eDB14Wb15U1I",
        "colab_type": "code",
        "colab": {}
      },
      "source": [
        "#pip install tabula-py\n",
        "#import tabula\n",
        "\n",
        "# Read pdf into list of DataFrame\n",
        "#df = tabula.read_pdf(\"/content/drive/My Drive/omdena/VillageHDIintheState.pdf\", pages='all')\n",
        "#tabula.convert_into(\"/content/drive/My Drive/omdena/VillageHDIintheState.pdf\", \"/content/drive/My Drive/omdena/karnataka_hdi.csv\", output_format=\"csv\", pages='all')"
      ],
      "execution_count": null,
      "outputs": []
    },
    {
      "cell_type": "code",
      "metadata": {
        "id": "EevxZznD6ihQ",
        "colab_type": "code",
        "colab": {
          "base_uri": "https://localhost:8080/",
          "height": 71
        },
        "outputId": "1a2c3cef-e552-429f-9eef-9962960537a4"
      },
      "source": [
        "import pandas as pd\n",
        "import numpy as np\n",
        "import matplotlib.pyplot as plt\n",
        "import seaborn as sns"
      ],
      "execution_count": 2,
      "outputs": [
        {
          "output_type": "stream",
          "text": [
            "/usr/local/lib/python3.6/dist-packages/statsmodels/tools/_testing.py:19: FutureWarning: pandas.util.testing is deprecated. Use the functions in the public API at pandas.testing instead.\n",
            "  import pandas.util.testing as tm\n"
          ],
          "name": "stderr"
        }
      ]
    },
    {
      "cell_type": "code",
      "metadata": {
        "id": "4hjZ2Qpg7IbD",
        "colab_type": "code",
        "colab": {}
      },
      "source": [
        "df = pd.read_csv(\"/content/drive/My Drive/omdena_hdi/data/karnataka_hdi.csv\")"
      ],
      "execution_count": 6,
      "outputs": []
    },
    {
      "cell_type": "code",
      "metadata": {
        "id": "1BOobqVK7UnN",
        "colab_type": "code",
        "colab": {
          "base_uri": "https://localhost:8080/",
          "height": 323
        },
        "outputId": "92dc9f4e-95fa-4115-d6a7-1d98c8fa00b6"
      },
      "source": [
        "df.head()"
      ],
      "execution_count": null,
      "outputs": [
        {
          "output_type": "execute_result",
          "data": {
            "text/html": [
              "<div>\n",
              "<style scoped>\n",
              "    .dataframe tbody tr th:only-of-type {\n",
              "        vertical-align: middle;\n",
              "    }\n",
              "\n",
              "    .dataframe tbody tr th {\n",
              "        vertical-align: top;\n",
              "    }\n",
              "\n",
              "    .dataframe thead th {\n",
              "        text-align: right;\n",
              "    }\n",
              "</style>\n",
              "<table border=\"1\" class=\"dataframe\">\n",
              "  <thead>\n",
              "    <tr style=\"text-align: right;\">\n",
              "      <th></th>\n",
              "      <th>District</th>\n",
              "      <th>Taluk</th>\n",
              "      <th>Gram Panchayat</th>\n",
              "      <th>Village</th>\n",
              "      <th>Standard of\\rliving index</th>\n",
              "      <th>Rank</th>\n",
              "      <th>Health\\rIndex</th>\n",
              "      <th>Rank.1</th>\n",
              "      <th>Education\\rIndex</th>\n",
              "      <th>Rank.2</th>\n",
              "      <th>HDI</th>\n",
              "      <th>Rank.3</th>\n",
              "    </tr>\n",
              "  </thead>\n",
              "  <tbody>\n",
              "    <tr>\n",
              "      <th>0</th>\n",
              "      <td>Bengaluru Urban</td>\n",
              "      <td>Bengaluru North</td>\n",
              "      <td>Arakere</td>\n",
              "      <td>Arakere</td>\n",
              "      <td>0.69966</td>\n",
              "      <td>1.0</td>\n",
              "      <td>1.00000</td>\n",
              "      <td>1.0</td>\n",
              "      <td>0.60993</td>\n",
              "      <td>4796.0</td>\n",
              "      <td>0.75287</td>\n",
              "      <td>1.0</td>\n",
              "    </tr>\n",
              "    <tr>\n",
              "      <th>1</th>\n",
              "      <td>Bengaluru Urban</td>\n",
              "      <td>Bengaluru North</td>\n",
              "      <td>Vaderahalli</td>\n",
              "      <td>Shamarajpura</td>\n",
              "      <td>0.69553</td>\n",
              "      <td>2.0</td>\n",
              "      <td>0.97289</td>\n",
              "      <td>22344.0</td>\n",
              "      <td>0.61509</td>\n",
              "      <td>3765.0</td>\n",
              "      <td>0.74663</td>\n",
              "      <td>2.0</td>\n",
              "    </tr>\n",
              "    <tr>\n",
              "      <th>2</th>\n",
              "      <td>Bengaluru Urban</td>\n",
              "      <td>Bengaluru North</td>\n",
              "      <td>Kasagattapura</td>\n",
              "      <td>Kasagattapura</td>\n",
              "      <td>0.49102</td>\n",
              "      <td>76.0</td>\n",
              "      <td>1.00000</td>\n",
              "      <td>1.0</td>\n",
              "      <td>0.81767</td>\n",
              "      <td>2.0</td>\n",
              "      <td>0.73772</td>\n",
              "      <td>3.0</td>\n",
              "    </tr>\n",
              "    <tr>\n",
              "      <th>3</th>\n",
              "      <td>Bengaluru Urban</td>\n",
              "      <td>Bengaluru North</td>\n",
              "      <td>Adakamaranahalli</td>\n",
              "      <td>Makali</td>\n",
              "      <td>0.63767</td>\n",
              "      <td>3.0</td>\n",
              "      <td>1.00000</td>\n",
              "      <td>1.0</td>\n",
              "      <td>0.59298</td>\n",
              "      <td>8643.0</td>\n",
              "      <td>0.72313</td>\n",
              "      <td>4.0</td>\n",
              "    </tr>\n",
              "    <tr>\n",
              "      <th>4</th>\n",
              "      <td>Bengaluru Urban</td>\n",
              "      <td>Bengaluru North</td>\n",
              "      <td>Shivakote</td>\n",
              "      <td>Kalenahalli</td>\n",
              "      <td>0.62548</td>\n",
              "      <td>5.0</td>\n",
              "      <td>1.00000</td>\n",
              "      <td>1.0</td>\n",
              "      <td>0.60343</td>\n",
              "      <td>6110.0</td>\n",
              "      <td>0.72268</td>\n",
              "      <td>5.0</td>\n",
              "    </tr>\n",
              "  </tbody>\n",
              "</table>\n",
              "</div>"
            ],
            "text/plain": [
              "          District            Taluk    Gram Panchayat  ...  Rank.2      HDI  Rank.3\n",
              "0  Bengaluru Urban  Bengaluru North           Arakere  ...  4796.0  0.75287     1.0\n",
              "1  Bengaluru Urban  Bengaluru North       Vaderahalli  ...  3765.0  0.74663     2.0\n",
              "2  Bengaluru Urban  Bengaluru North     Kasagattapura  ...     2.0  0.73772     3.0\n",
              "3  Bengaluru Urban  Bengaluru North  Adakamaranahalli  ...  8643.0  0.72313     4.0\n",
              "4  Bengaluru Urban  Bengaluru North         Shivakote  ...  6110.0  0.72268     5.0\n",
              "\n",
              "[5 rows x 12 columns]"
            ]
          },
          "metadata": {
            "tags": []
          },
          "execution_count": 95
        }
      ]
    },
    {
      "cell_type": "code",
      "metadata": {
        "id": "iT_qMmJj7WRU",
        "colab_type": "code",
        "colab": {
          "base_uri": "https://localhost:8080/",
          "height": 340
        },
        "outputId": "2a533e61-d8f9-41fb-cba6-56ef7ecaa4f8"
      },
      "source": [
        "df.info()"
      ],
      "execution_count": null,
      "outputs": [
        {
          "output_type": "stream",
          "text": [
            "<class 'pandas.core.frame.DataFrame'>\n",
            "RangeIndex: 27077 entries, 0 to 27076\n",
            "Data columns (total 12 columns):\n",
            " #   Column                    Non-Null Count  Dtype  \n",
            "---  ------                    --------------  -----  \n",
            " 0   District                  27075 non-null  object \n",
            " 1   Taluk                     27075 non-null  object \n",
            " 2   Gram Panchayat            27075 non-null  object \n",
            " 3   Village                   27076 non-null  object \n",
            " 4   Standard of\rliving index  27075 non-null  object \n",
            " 5   Rank                      27075 non-null  float64\n",
            " 6   Health\rIndex              27075 non-null  float64\n",
            " 7   Rank.1                    27075 non-null  float64\n",
            " 8   Education\rIndex           27075 non-null  float64\n",
            " 9   Rank.2                    27075 non-null  float64\n",
            " 10  HDI                       27075 non-null  float64\n",
            " 11  Rank.3                    27075 non-null  float64\n",
            "dtypes: float64(7), object(5)\n",
            "memory usage: 2.5+ MB\n"
          ],
          "name": "stdout"
        }
      ]
    },
    {
      "cell_type": "code",
      "metadata": {
        "id": "sfstN6MTKFBt",
        "colab_type": "code",
        "colab": {}
      },
      "source": [
        "df = df.rename(columns={'Education\\rIndex': 'Education_Index', 'Health\\rIndex': 'Health_Index', 'Standard of\\rliving index': 'Standard_of_living_index' })"
      ],
      "execution_count": null,
      "outputs": []
    },
    {
      "cell_type": "code",
      "metadata": {
        "id": "8IS34vDPKLCy",
        "colab_type": "code",
        "colab": {
          "base_uri": "https://localhost:8080/",
          "height": 340
        },
        "outputId": "7fc4f2a1-d7c4-4dd1-dccd-1178d220b23a"
      },
      "source": [
        "df.info()"
      ],
      "execution_count": null,
      "outputs": [
        {
          "output_type": "stream",
          "text": [
            "<class 'pandas.core.frame.DataFrame'>\n",
            "RangeIndex: 27077 entries, 0 to 27076\n",
            "Data columns (total 12 columns):\n",
            " #   Column                    Non-Null Count  Dtype  \n",
            "---  ------                    --------------  -----  \n",
            " 0   District                  27075 non-null  object \n",
            " 1   Taluk                     27075 non-null  object \n",
            " 2   Gram Panchayat            27075 non-null  object \n",
            " 3   Village                   27076 non-null  object \n",
            " 4   Standard_of_living_index  27075 non-null  object \n",
            " 5   Rank                      27075 non-null  float64\n",
            " 6   Health_Index              27075 non-null  float64\n",
            " 7   Rank.1                    27075 non-null  float64\n",
            " 8   Education_Index           27075 non-null  float64\n",
            " 9   Rank.2                    27075 non-null  float64\n",
            " 10  HDI                       27075 non-null  float64\n",
            " 11  Rank.3                    27075 non-null  float64\n",
            "dtypes: float64(7), object(5)\n",
            "memory usage: 2.5+ MB\n"
          ],
          "name": "stdout"
        }
      ]
    },
    {
      "cell_type": "code",
      "metadata": {
        "id": "6IV_KbEK7dqa",
        "colab_type": "code",
        "colab": {
          "base_uri": "https://localhost:8080/",
          "height": 297
        },
        "outputId": "84db23e8-ccc8-4114-b1af-a94596b2d0d4"
      },
      "source": [
        "df.describe()"
      ],
      "execution_count": null,
      "outputs": [
        {
          "output_type": "execute_result",
          "data": {
            "text/html": [
              "<div>\n",
              "<style scoped>\n",
              "    .dataframe tbody tr th:only-of-type {\n",
              "        vertical-align: middle;\n",
              "    }\n",
              "\n",
              "    .dataframe tbody tr th {\n",
              "        vertical-align: top;\n",
              "    }\n",
              "\n",
              "    .dataframe thead th {\n",
              "        text-align: right;\n",
              "    }\n",
              "</style>\n",
              "<table border=\"1\" class=\"dataframe\">\n",
              "  <thead>\n",
              "    <tr style=\"text-align: right;\">\n",
              "      <th></th>\n",
              "      <th>Rank</th>\n",
              "      <th>Health_Index</th>\n",
              "      <th>Rank.1</th>\n",
              "      <th>Education_Index</th>\n",
              "      <th>Rank.2</th>\n",
              "      <th>HDI</th>\n",
              "      <th>Rank.3</th>\n",
              "    </tr>\n",
              "  </thead>\n",
              "  <tbody>\n",
              "    <tr>\n",
              "      <th>count</th>\n",
              "      <td>27075.000000</td>\n",
              "      <td>27075.000000</td>\n",
              "      <td>27075.000000</td>\n",
              "      <td>27075.000000</td>\n",
              "      <td>27075.000000</td>\n",
              "      <td>27075.000000</td>\n",
              "      <td>27075.000000</td>\n",
              "    </tr>\n",
              "    <tr>\n",
              "      <th>mean</th>\n",
              "      <td>13537.998892</td>\n",
              "      <td>0.990887</td>\n",
              "      <td>4476.054700</td>\n",
              "      <td>0.565508</td>\n",
              "      <td>13520.742678</td>\n",
              "      <td>0.406786</td>\n",
              "      <td>13537.999040</td>\n",
              "    </tr>\n",
              "    <tr>\n",
              "      <th>std</th>\n",
              "      <td>7816.023177</td>\n",
              "      <td>0.029470</td>\n",
              "      <td>9279.955049</td>\n",
              "      <td>0.049246</td>\n",
              "      <td>7844.352578</td>\n",
              "      <td>0.106000</td>\n",
              "      <td>7816.023077</td>\n",
              "    </tr>\n",
              "    <tr>\n",
              "      <th>min</th>\n",
              "      <td>1.000000</td>\n",
              "      <td>0.238490</td>\n",
              "      <td>1.000000</td>\n",
              "      <td>0.001560</td>\n",
              "      <td>1.000000</td>\n",
              "      <td>0.003700</td>\n",
              "      <td>1.000000</td>\n",
              "    </tr>\n",
              "    <tr>\n",
              "      <th>25%</th>\n",
              "      <td>6769.500000</td>\n",
              "      <td>1.000000</td>\n",
              "      <td>1.000000</td>\n",
              "      <td>0.540910</td>\n",
              "      <td>6769.500000</td>\n",
              "      <td>0.341950</td>\n",
              "      <td>6769.500000</td>\n",
              "    </tr>\n",
              "    <tr>\n",
              "      <th>50%</th>\n",
              "      <td>13538.000000</td>\n",
              "      <td>1.000000</td>\n",
              "      <td>1.000000</td>\n",
              "      <td>0.573840</td>\n",
              "      <td>13538.000000</td>\n",
              "      <td>0.419730</td>\n",
              "      <td>13538.000000</td>\n",
              "    </tr>\n",
              "    <tr>\n",
              "      <th>75%</th>\n",
              "      <td>20306.500000</td>\n",
              "      <td>1.000000</td>\n",
              "      <td>1.000000</td>\n",
              "      <td>0.600645</td>\n",
              "      <td>20306.000000</td>\n",
              "      <td>0.480575</td>\n",
              "      <td>20306.500000</td>\n",
              "    </tr>\n",
              "    <tr>\n",
              "      <th>max</th>\n",
              "      <td>27075.000000</td>\n",
              "      <td>1.000000</td>\n",
              "      <td>27075.000000</td>\n",
              "      <td>0.957010</td>\n",
              "      <td>27075.000000</td>\n",
              "      <td>0.752870</td>\n",
              "      <td>27075.000000</td>\n",
              "    </tr>\n",
              "  </tbody>\n",
              "</table>\n",
              "</div>"
            ],
            "text/plain": [
              "               Rank  Health_Index  ...           HDI        Rank.3\n",
              "count  27075.000000  27075.000000  ...  27075.000000  27075.000000\n",
              "mean   13537.998892      0.990887  ...      0.406786  13537.999040\n",
              "std     7816.023177      0.029470  ...      0.106000   7816.023077\n",
              "min        1.000000      0.238490  ...      0.003700      1.000000\n",
              "25%     6769.500000      1.000000  ...      0.341950   6769.500000\n",
              "50%    13538.000000      1.000000  ...      0.419730  13538.000000\n",
              "75%    20306.500000      1.000000  ...      0.480575  20306.500000\n",
              "max    27075.000000      1.000000  ...      0.752870  27075.000000\n",
              "\n",
              "[8 rows x 7 columns]"
            ]
          },
          "metadata": {
            "tags": []
          },
          "execution_count": 99
        }
      ]
    },
    {
      "cell_type": "code",
      "metadata": {
        "id": "4cIKPBPkJrxE",
        "colab_type": "code",
        "colab": {
          "base_uri": "https://localhost:8080/",
          "height": 221
        },
        "outputId": "1ff5854c-3455-47ce-eed7-cb0c20e7e5cc"
      },
      "source": [
        "df.Village.value_counts()"
      ],
      "execution_count": null,
      "outputs": [
        {
          "output_type": "execute_result",
          "data": {
            "text/plain": [
              "Hosahalli              98\n",
              "Kodihalli              47\n",
              "Siddapura              39\n",
              "Kurubarahalli          36\n",
              "Honnenahalli           36\n",
              "                       ..\n",
              "Rupanagudi              1\n",
              "Bilkerur                1\n",
              "Muttige\\r(gunjagod)     1\n",
              "Kombinakai              1\n",
              "Adakatahalli            1\n",
              "Name: Village, Length: 20581, dtype: int64"
            ]
          },
          "metadata": {
            "tags": []
          },
          "execution_count": 100
        }
      ]
    },
    {
      "cell_type": "markdown",
      "metadata": {
        "id": "qweMp_9ha3cw",
        "colab_type": "text"
      },
      "source": [
        "There are several villages with same names."
      ]
    },
    {
      "cell_type": "code",
      "metadata": {
        "id": "sNQnF0Vla9iO",
        "colab_type": "code",
        "colab": {
          "base_uri": "https://localhost:8080/",
          "height": 278
        },
        "outputId": "ee9f1e2f-16f6-42d6-8d01-5aabb4ad3699"
      },
      "source": [
        "df.loc[(df.District == 'Bengaluru Rural') & (df.Village == 'Hosahalli')]"
      ],
      "execution_count": null,
      "outputs": [
        {
          "output_type": "execute_result",
          "data": {
            "text/html": [
              "<div>\n",
              "<style scoped>\n",
              "    .dataframe tbody tr th:only-of-type {\n",
              "        vertical-align: middle;\n",
              "    }\n",
              "\n",
              "    .dataframe tbody tr th {\n",
              "        vertical-align: top;\n",
              "    }\n",
              "\n",
              "    .dataframe thead th {\n",
              "        text-align: right;\n",
              "    }\n",
              "</style>\n",
              "<table border=\"1\" class=\"dataframe\">\n",
              "  <thead>\n",
              "    <tr style=\"text-align: right;\">\n",
              "      <th></th>\n",
              "      <th>District</th>\n",
              "      <th>Taluk</th>\n",
              "      <th>Gram Panchayat</th>\n",
              "      <th>Village</th>\n",
              "      <th>Standard_of_living_index</th>\n",
              "      <th>Rank</th>\n",
              "      <th>Health_Index</th>\n",
              "      <th>Rank.1</th>\n",
              "      <th>Education_Index</th>\n",
              "      <th>Rank.2</th>\n",
              "      <th>HDI</th>\n",
              "      <th>Rank.3</th>\n",
              "    </tr>\n",
              "  </thead>\n",
              "  <tbody>\n",
              "    <tr>\n",
              "      <th>1827</th>\n",
              "      <td>Bengaluru Rural</td>\n",
              "      <td>Nelamangala</td>\n",
              "      <td>Honnenahalli</td>\n",
              "      <td>Hosahalli</td>\n",
              "      <td>0.27055</td>\n",
              "      <td>2273.0</td>\n",
              "      <td>1.0</td>\n",
              "      <td>1.0</td>\n",
              "      <td>0.60920</td>\n",
              "      <td>4946.0</td>\n",
              "      <td>0.54828</td>\n",
              "      <td>1828.0</td>\n",
              "    </tr>\n",
              "    <tr>\n",
              "      <th>4751</th>\n",
              "      <td>Bengaluru Rural</td>\n",
              "      <td>Devanahalli</td>\n",
              "      <td>Bijjawara</td>\n",
              "      <td>Hosahalli</td>\n",
              "      <td>0.20297</td>\n",
              "      <td>6158.0</td>\n",
              "      <td>1.0</td>\n",
              "      <td>1.0</td>\n",
              "      <td>0.62446</td>\n",
              "      <td>1237.0</td>\n",
              "      <td>0.50232</td>\n",
              "      <td>4752.0</td>\n",
              "    </tr>\n",
              "    <tr>\n",
              "      <th>23654</th>\n",
              "      <td>Bengaluru Rural</td>\n",
              "      <td>Devanahalli</td>\n",
              "      <td>Bettakote</td>\n",
              "      <td>Hosahalli</td>\n",
              "      <td>0.04614</td>\n",
              "      <td>23039.0</td>\n",
              "      <td>1.0</td>\n",
              "      <td>1.0</td>\n",
              "      <td>0.48854</td>\n",
              "      <td>25350.0</td>\n",
              "      <td>0.28249</td>\n",
              "      <td>23655.0</td>\n",
              "    </tr>\n",
              "    <tr>\n",
              "      <th>26798</th>\n",
              "      <td>Bengaluru Rural</td>\n",
              "      <td>Nelamangala</td>\n",
              "      <td>Soladevanahalli</td>\n",
              "      <td>Hosahalli</td>\n",
              "      <td>0.00234</td>\n",
              "      <td>26829.0</td>\n",
              "      <td>1.0</td>\n",
              "      <td>1.0</td>\n",
              "      <td>0.61045</td>\n",
              "      <td>4667.0</td>\n",
              "      <td>0.11260</td>\n",
              "      <td>26799.0</td>\n",
              "    </tr>\n",
              "  </tbody>\n",
              "</table>\n",
              "</div>"
            ],
            "text/plain": [
              "              District        Taluk   Gram Panchayat  ...   Rank.2      HDI   Rank.3\n",
              "1827   Bengaluru Rural  Nelamangala     Honnenahalli  ...   4946.0  0.54828   1828.0\n",
              "4751   Bengaluru Rural  Devanahalli        Bijjawara  ...   1237.0  0.50232   4752.0\n",
              "23654  Bengaluru Rural  Devanahalli        Bettakote  ...  25350.0  0.28249  23655.0\n",
              "26798  Bengaluru Rural  Nelamangala  Soladevanahalli  ...   4667.0  0.11260  26799.0\n",
              "\n",
              "[4 rows x 12 columns]"
            ]
          },
          "metadata": {
            "tags": []
          },
          "execution_count": 101
        }
      ]
    },
    {
      "cell_type": "markdown",
      "metadata": {
        "id": "I4o5BPW8a0ne",
        "colab_type": "text"
      },
      "source": [
        ""
      ]
    },
    {
      "cell_type": "code",
      "metadata": {
        "id": "TUTZKwh_flAE",
        "colab_type": "code",
        "colab": {
          "base_uri": "https://localhost:8080/",
          "height": 136
        },
        "outputId": "72b4b433-6d0b-49f0-afd5-8d27a158b1ff"
      },
      "source": [
        "df['District'].unique()"
      ],
      "execution_count": null,
      "outputs": [
        {
          "output_type": "execute_result",
          "data": {
            "text/plain": [
              "array(['Bengaluru Urban', 'Ballari', 'Dakshina Kannada', 'Uttara Kannada',\n",
              "       'Bengaluru Rural', 'Shivamogga', 'Belagavi', 'Kodagu',\n",
              "       'Chikkamagalur', 'Kolar', 'Ramanagara', 'Mysuru', 'Udupi',\n",
              "       'Chitradurga', 'Mandya', 'Hassan', 'Tumakuru', 'Davanagere',\n",
              "       'Chikkaballapura', 'Dharwad', 'Gadag', 'Chamarajanagara',\n",
              "       'Chamarajanagar', 'Bagalkot', 'Haveri', 'Koppal', 'Bidar',\n",
              "       'Kalaburagi', 'Vijayapura', 'Yadgir', 'Raichur', nan], dtype=object)"
            ]
          },
          "metadata": {
            "tags": []
          },
          "execution_count": 102
        }
      ]
    },
    {
      "cell_type": "code",
      "metadata": {
        "id": "oshxxAfgfxbx",
        "colab_type": "code",
        "colab": {
          "base_uri": "https://localhost:8080/",
          "height": 148
        },
        "outputId": "e072f953-d915-4c46-8c87-d25bda926aec"
      },
      "source": [
        "df.loc[df['District'].isnull()]"
      ],
      "execution_count": null,
      "outputs": [
        {
          "output_type": "execute_result",
          "data": {
            "text/html": [
              "<div>\n",
              "<style scoped>\n",
              "    .dataframe tbody tr th:only-of-type {\n",
              "        vertical-align: middle;\n",
              "    }\n",
              "\n",
              "    .dataframe tbody tr th {\n",
              "        vertical-align: top;\n",
              "    }\n",
              "\n",
              "    .dataframe thead th {\n",
              "        text-align: right;\n",
              "    }\n",
              "</style>\n",
              "<table border=\"1\" class=\"dataframe\">\n",
              "  <thead>\n",
              "    <tr style=\"text-align: right;\">\n",
              "      <th></th>\n",
              "      <th>District</th>\n",
              "      <th>Taluk</th>\n",
              "      <th>Gram Panchayat</th>\n",
              "      <th>Village</th>\n",
              "      <th>Standard_of_living_index</th>\n",
              "      <th>Rank</th>\n",
              "      <th>Health_Index</th>\n",
              "      <th>Rank.1</th>\n",
              "      <th>Education_Index</th>\n",
              "      <th>Rank.2</th>\n",
              "      <th>HDI</th>\n",
              "      <th>Rank.3</th>\n",
              "    </tr>\n",
              "  </thead>\n",
              "  <tbody>\n",
              "    <tr>\n",
              "      <th>27074</th>\n",
              "      <td>NaN</td>\n",
              "      <td>NaN</td>\n",
              "      <td>NaN</td>\n",
              "      <td>Chikkathekalavat</td>\n",
              "      <td>NaN</td>\n",
              "      <td>NaN</td>\n",
              "      <td>NaN</td>\n",
              "      <td>NaN</td>\n",
              "      <td>NaN</td>\n",
              "      <td>NaN</td>\n",
              "      <td>NaN</td>\n",
              "      <td>NaN</td>\n",
              "    </tr>\n",
              "    <tr>\n",
              "      <th>27075</th>\n",
              "      <td>NaN</td>\n",
              "      <td>NaN</td>\n",
              "      <td>NaN</td>\n",
              "      <td>NaN</td>\n",
              "      <td>0.00003</td>\n",
              "      <td>27067.0</td>\n",
              "      <td>1.0</td>\n",
              "      <td>1.0</td>\n",
              "      <td>0.00198</td>\n",
              "      <td>27068.0</td>\n",
              "      <td>0.0037</td>\n",
              "      <td>27075.0</td>\n",
              "    </tr>\n",
              "  </tbody>\n",
              "</table>\n",
              "</div>"
            ],
            "text/plain": [
              "      District Taluk Gram Panchayat  ...   Rank.2     HDI   Rank.3\n",
              "27074      NaN   NaN            NaN  ...      NaN     NaN      NaN\n",
              "27075      NaN   NaN            NaN  ...  27068.0  0.0037  27075.0\n",
              "\n",
              "[2 rows x 12 columns]"
            ]
          },
          "metadata": {
            "tags": []
          },
          "execution_count": 103
        }
      ]
    },
    {
      "cell_type": "code",
      "metadata": {
        "id": "d57r03TKf8uR",
        "colab_type": "code",
        "colab": {}
      },
      "source": [
        "df = df[df['District'].notna()]"
      ],
      "execution_count": null,
      "outputs": []
    },
    {
      "cell_type": "code",
      "metadata": {
        "id": "SL8s4rHJgCZ0",
        "colab_type": "code",
        "colab": {
          "base_uri": "https://localhost:8080/",
          "height": 34
        },
        "outputId": "03d99e20-e57a-4a65-e6ac-9fb371fe8456"
      },
      "source": [
        "df['District'].isnull().values.any()"
      ],
      "execution_count": null,
      "outputs": [
        {
          "output_type": "execute_result",
          "data": {
            "text/plain": [
              "False"
            ]
          },
          "metadata": {
            "tags": []
          },
          "execution_count": 105
        }
      ]
    },
    {
      "cell_type": "code",
      "metadata": {
        "id": "bES1hzNXgM-c",
        "colab_type": "code",
        "colab": {
          "base_uri": "https://localhost:8080/",
          "height": 136
        },
        "outputId": "8bbace96-c922-414d-f1d7-867c71b4dd12"
      },
      "source": [
        "df['District'].unique()"
      ],
      "execution_count": null,
      "outputs": [
        {
          "output_type": "execute_result",
          "data": {
            "text/plain": [
              "array(['Bengaluru Urban', 'Ballari', 'Dakshina Kannada', 'Uttara Kannada',\n",
              "       'Bengaluru Rural', 'Shivamogga', 'Belagavi', 'Kodagu',\n",
              "       'Chikkamagalur', 'Kolar', 'Ramanagara', 'Mysuru', 'Udupi',\n",
              "       'Chitradurga', 'Mandya', 'Hassan', 'Tumakuru', 'Davanagere',\n",
              "       'Chikkaballapura', 'Dharwad', 'Gadag', 'Chamarajanagara',\n",
              "       'Chamarajanagar', 'Bagalkot', 'Haveri', 'Koppal', 'Bidar',\n",
              "       'Kalaburagi', 'Vijayapura', 'Yadgir', 'Raichur'], dtype=object)"
            ]
          },
          "metadata": {
            "tags": []
          },
          "execution_count": 106
        }
      ]
    },
    {
      "cell_type": "code",
      "metadata": {
        "id": "f1UTL-87gQaQ",
        "colab_type": "code",
        "colab": {
          "base_uri": "https://localhost:8080/",
          "height": 34
        },
        "outputId": "4760b759-ed67-4188-895b-6a6cc192f03a"
      },
      "source": [
        "df['District'].nunique()"
      ],
      "execution_count": null,
      "outputs": [
        {
          "output_type": "execute_result",
          "data": {
            "text/plain": [
              "31"
            ]
          },
          "metadata": {
            "tags": []
          },
          "execution_count": 107
        }
      ]
    },
    {
      "cell_type": "code",
      "metadata": {
        "id": "78gPBqgBhXmO",
        "colab_type": "code",
        "colab": {}
      },
      "source": [
        "df['District'].replace('Chamarajanagar', 'Chamarajanagara', inplace=True);"
      ],
      "execution_count": null,
      "outputs": []
    },
    {
      "cell_type": "code",
      "metadata": {
        "id": "uq9tvKZXiRav",
        "colab_type": "code",
        "colab": {
          "base_uri": "https://localhost:8080/",
          "height": 136
        },
        "outputId": "c0e88331-c435-480f-abf2-00719266bc49"
      },
      "source": [
        "df['District'].unique()"
      ],
      "execution_count": null,
      "outputs": [
        {
          "output_type": "execute_result",
          "data": {
            "text/plain": [
              "array(['Bengaluru Urban', 'Ballari', 'Dakshina Kannada', 'Uttara Kannada',\n",
              "       'Bengaluru Rural', 'Shivamogga', 'Belagavi', 'Kodagu',\n",
              "       'Chikkamagalur', 'Kolar', 'Ramanagara', 'Mysuru', 'Udupi',\n",
              "       'Chitradurga', 'Mandya', 'Hassan', 'Tumakuru', 'Davanagere',\n",
              "       'Chikkaballapura', 'Dharwad', 'Gadag', 'Chamarajanagara',\n",
              "       'Bagalkot', 'Haveri', 'Koppal', 'Bidar', 'Kalaburagi',\n",
              "       'Vijayapura', 'Yadgir', 'Raichur'], dtype=object)"
            ]
          },
          "metadata": {
            "tags": []
          },
          "execution_count": 109
        }
      ]
    },
    {
      "cell_type": "code",
      "metadata": {
        "id": "7cDv0tTdi_o4",
        "colab_type": "code",
        "colab": {
          "base_uri": "https://localhost:8080/",
          "height": 34
        },
        "outputId": "26f89402-8b75-423a-8f6d-8918800c2c46"
      },
      "source": [
        "df['District'].nunique()"
      ],
      "execution_count": null,
      "outputs": [
        {
          "output_type": "execute_result",
          "data": {
            "text/plain": [
              "30"
            ]
          },
          "metadata": {
            "tags": []
          },
          "execution_count": 110
        }
      ]
    },
    {
      "cell_type": "code",
      "metadata": {
        "id": "CeA3n3vcSe9B",
        "colab_type": "code",
        "colab": {
          "base_uri": "https://localhost:8080/",
          "height": 34
        },
        "outputId": "c66e9277-3095-48bf-eb82-29cffa70b818"
      },
      "source": [
        "df['HDI'].isnull().values.any()"
      ],
      "execution_count": null,
      "outputs": [
        {
          "output_type": "execute_result",
          "data": {
            "text/plain": [
              "True"
            ]
          },
          "metadata": {
            "tags": []
          },
          "execution_count": 111
        }
      ]
    },
    {
      "cell_type": "code",
      "metadata": {
        "id": "lwmBBXpzlpt3",
        "colab_type": "code",
        "colab": {
          "base_uri": "https://localhost:8080/",
          "height": 117
        },
        "outputId": "4c2c9094-2199-442f-c4b6-3f0132800852"
      },
      "source": [
        "df.loc[df['HDI'].isnull()]"
      ],
      "execution_count": null,
      "outputs": [
        {
          "output_type": "execute_result",
          "data": {
            "text/html": [
              "<div>\n",
              "<style scoped>\n",
              "    .dataframe tbody tr th:only-of-type {\n",
              "        vertical-align: middle;\n",
              "    }\n",
              "\n",
              "    .dataframe tbody tr th {\n",
              "        vertical-align: top;\n",
              "    }\n",
              "\n",
              "    .dataframe thead th {\n",
              "        text-align: right;\n",
              "    }\n",
              "</style>\n",
              "<table border=\"1\" class=\"dataframe\">\n",
              "  <thead>\n",
              "    <tr style=\"text-align: right;\">\n",
              "      <th></th>\n",
              "      <th>District</th>\n",
              "      <th>Taluk</th>\n",
              "      <th>Gram Panchayat</th>\n",
              "      <th>Village</th>\n",
              "      <th>Standard_of_living_index</th>\n",
              "      <th>Rank</th>\n",
              "      <th>Health_Index</th>\n",
              "      <th>Rank.1</th>\n",
              "      <th>Education_Index</th>\n",
              "      <th>Rank.2</th>\n",
              "      <th>HDI</th>\n",
              "      <th>Rank.3</th>\n",
              "    </tr>\n",
              "  </thead>\n",
              "  <tbody>\n",
              "    <tr>\n",
              "      <th>27076</th>\n",
              "      <td>Chitradurga</td>\n",
              "      <td>Hosadurga</td>\n",
              "      <td>Chikkabyladakere</td>\n",
              "      <td>ti</td>\n",
              "      <td>NaN</td>\n",
              "      <td>NaN</td>\n",
              "      <td>NaN</td>\n",
              "      <td>NaN</td>\n",
              "      <td>NaN</td>\n",
              "      <td>NaN</td>\n",
              "      <td>NaN</td>\n",
              "      <td>NaN</td>\n",
              "    </tr>\n",
              "  </tbody>\n",
              "</table>\n",
              "</div>"
            ],
            "text/plain": [
              "          District      Taluk    Gram Panchayat  ... Rank.2 HDI  Rank.3\n",
              "27076  Chitradurga  Hosadurga  Chikkabyladakere  ...    NaN NaN     NaN\n",
              "\n",
              "[1 rows x 12 columns]"
            ]
          },
          "metadata": {
            "tags": []
          },
          "execution_count": 112
        }
      ]
    },
    {
      "cell_type": "code",
      "metadata": {
        "id": "PSqo2LoXlf1R",
        "colab_type": "code",
        "colab": {}
      },
      "source": [
        "df = df[df['HDI'].notna()]"
      ],
      "execution_count": null,
      "outputs": []
    },
    {
      "cell_type": "code",
      "metadata": {
        "id": "tLKvtzx1lucq",
        "colab_type": "code",
        "colab": {
          "base_uri": "https://localhost:8080/",
          "height": 34
        },
        "outputId": "d552510c-c678-45e4-84e7-85698bc3eaa7"
      },
      "source": [
        "df['HDI'].isnull().values.any()"
      ],
      "execution_count": null,
      "outputs": [
        {
          "output_type": "execute_result",
          "data": {
            "text/plain": [
              "False"
            ]
          },
          "metadata": {
            "tags": []
          },
          "execution_count": 114
        }
      ]
    },
    {
      "cell_type": "code",
      "metadata": {
        "id": "VhUjr7AtpFF8",
        "colab_type": "code",
        "colab": {
          "base_uri": "https://localhost:8080/",
          "height": 34
        },
        "outputId": "e52218dc-da3b-4bfc-cea1-b32121c3766f"
      },
      "source": [
        "df['Taluk'].isnull().values.any()"
      ],
      "execution_count": null,
      "outputs": [
        {
          "output_type": "execute_result",
          "data": {
            "text/plain": [
              "False"
            ]
          },
          "metadata": {
            "tags": []
          },
          "execution_count": 115
        }
      ]
    },
    {
      "cell_type": "code",
      "metadata": {
        "id": "lbl70LdppQ6j",
        "colab_type": "code",
        "colab": {
          "base_uri": "https://localhost:8080/",
          "height": 34
        },
        "outputId": "23d49b09-4b42-4e10-e154-bec3a11cc043"
      },
      "source": [
        "df['Gram Panchayat'].isnull().values.any()"
      ],
      "execution_count": null,
      "outputs": [
        {
          "output_type": "execute_result",
          "data": {
            "text/plain": [
              "False"
            ]
          },
          "metadata": {
            "tags": []
          },
          "execution_count": 116
        }
      ]
    },
    {
      "cell_type": "code",
      "metadata": {
        "id": "bKNdMYkrpfrK",
        "colab_type": "code",
        "colab": {
          "base_uri": "https://localhost:8080/",
          "height": 34
        },
        "outputId": "73c9c3e7-b59e-4afa-ab72-7ee7f9384674"
      },
      "source": [
        "df.isnull().values.any()"
      ],
      "execution_count": null,
      "outputs": [
        {
          "output_type": "execute_result",
          "data": {
            "text/plain": [
              "False"
            ]
          },
          "metadata": {
            "tags": []
          },
          "execution_count": 117
        }
      ]
    },
    {
      "cell_type": "code",
      "metadata": {
        "id": "ZxuUWu8LJoPU",
        "colab_type": "code",
        "colab": {
          "base_uri": "https://localhost:8080/",
          "height": 265
        },
        "outputId": "4905ec4b-5fb3-4936-cd56-97284e26e2ec"
      },
      "source": [
        "hdi_hist = df['HDI'].hist(bins=100)"
      ],
      "execution_count": null,
      "outputs": [
        {
          "output_type": "display_data",
          "data": {
            "image/png": "[encoded data removed]",
            "text/plain": [
              "<Figure size 432x288 with 1 Axes>"
            ]
          },
          "metadata": {
            "tags": [],
            "needs_background": "light"
          }
        }
      ]
    },
    {
      "cell_type": "markdown",
      "metadata": {
        "id": "Re6CXz0NadRJ",
        "colab_type": "text"
      },
      "source": [
        "The HDI data distribution looks like a normal distribution."
      ]
    },
    {
      "cell_type": "code",
      "metadata": {
        "id": "cStNG0nTPmQL",
        "colab_type": "code",
        "colab": {
          "base_uri": "https://localhost:8080/",
          "height": 279
        },
        "outputId": "2b7aa165-f490-4c1d-c59b-5c081af46408"
      },
      "source": [
        "sns.distplot(df['HDI']);"
      ],
      "execution_count": null,
      "outputs": [
        {
          "output_type": "display_data",
          "data": {
            "image/png": "[encoded data removed]",
            "text/plain": [
              "<Figure size 432x288 with 1 Axes>"
            ]
          },
          "metadata": {
            "tags": [],
            "needs_background": "light"
          }
        }
      ]
    },
    {
      "cell_type": "code",
      "metadata": {
        "id": "hsywFfgBmnE0",
        "colab_type": "code",
        "colab": {
          "base_uri": "https://localhost:8080/",
          "height": 340
        },
        "outputId": "7ad5f7b9-c5b7-4257-aa52-de760b031948"
      },
      "source": [
        "df.info()"
      ],
      "execution_count": null,
      "outputs": [
        {
          "output_type": "stream",
          "text": [
            "<class 'pandas.core.frame.DataFrame'>\n",
            "Int64Index: 27074 entries, 0 to 27073\n",
            "Data columns (total 12 columns):\n",
            " #   Column                    Non-Null Count  Dtype  \n",
            "---  ------                    --------------  -----  \n",
            " 0   District                  27074 non-null  object \n",
            " 1   Taluk                     27074 non-null  object \n",
            " 2   Gram Panchayat            27074 non-null  object \n",
            " 3   Village                   27074 non-null  object \n",
            " 4   Standard_of_living_index  27074 non-null  object \n",
            " 5   Rank                      27074 non-null  float64\n",
            " 6   Health_Index              27074 non-null  float64\n",
            " 7   Rank.1                    27074 non-null  float64\n",
            " 8   Education_Index           27074 non-null  float64\n",
            " 9   Rank.2                    27074 non-null  float64\n",
            " 10  HDI                       27074 non-null  float64\n",
            " 11  Rank.3                    27074 non-null  float64\n",
            "dtypes: float64(7), object(5)\n",
            "memory usage: 2.7+ MB\n"
          ],
          "name": "stdout"
        }
      ]
    },
    {
      "cell_type": "code",
      "metadata": {
        "id": "SV6wvN1JqX0h",
        "colab_type": "code",
        "colab": {}
      },
      "source": [
        "cols = [4,5,6,7,8,9]\n",
        "df.drop(df.columns[cols], axis =1, inplace=True);"
      ],
      "execution_count": null,
      "outputs": []
    },
    {
      "cell_type": "code",
      "metadata": {
        "id": "kB-jD7qcq5Or",
        "colab_type": "code",
        "colab": {
          "base_uri": "https://localhost:8080/",
          "height": 238
        },
        "outputId": "6fcb893f-ca61-477a-ef72-f47a186b5dba"
      },
      "source": [
        "df.info()"
      ],
      "execution_count": null,
      "outputs": [
        {
          "output_type": "stream",
          "text": [
            "<class 'pandas.core.frame.DataFrame'>\n",
            "Int64Index: 27074 entries, 0 to 27073\n",
            "Data columns (total 6 columns):\n",
            " #   Column          Non-Null Count  Dtype  \n",
            "---  ------          --------------  -----  \n",
            " 0   District        27074 non-null  object \n",
            " 1   Taluk           27074 non-null  object \n",
            " 2   Gram Panchayat  27074 non-null  object \n",
            " 3   Village         27074 non-null  object \n",
            " 4   HDI             27074 non-null  float64\n",
            " 5   Rank.3          27074 non-null  float64\n",
            "dtypes: float64(2), object(4)\n",
            "memory usage: 1.4+ MB\n"
          ],
          "name": "stdout"
        }
      ]
    },
    {
      "cell_type": "code",
      "metadata": {
        "id": "IaOiAlfItYzB",
        "colab_type": "code",
        "colab": {
          "base_uri": "https://localhost:8080/",
          "height": 669
        },
        "outputId": "b0d632e7-9260-4695-8316-bfb92627a7af"
      },
      "source": [
        "df.head(5)"
      ],
      "execution_count": null,
      "outputs": [
        {
          "output_type": "execute_result",
          "data": {
            "text/html": [
              "<div>\n",
              "<style scoped>\n",
              "    .dataframe tbody tr th:only-of-type {\n",
              "        vertical-align: middle;\n",
              "    }\n",
              "\n",
              "    .dataframe tbody tr th {\n",
              "        vertical-align: top;\n",
              "    }\n",
              "\n",
              "    .dataframe thead th {\n",
              "        text-align: right;\n",
              "    }\n",
              "</style>\n",
              "<table border=\"1\" class=\"dataframe\">\n",
              "  <thead>\n",
              "    <tr style=\"text-align: right;\">\n",
              "      <th></th>\n",
              "      <th>District</th>\n",
              "      <th>Taluk</th>\n",
              "      <th>Gram Panchayat</th>\n",
              "      <th>Village</th>\n",
              "      <th>HDI</th>\n",
              "      <th>Rank.3</th>\n",
              "    </tr>\n",
              "  </thead>\n",
              "  <tbody>\n",
              "    <tr>\n",
              "      <th>0</th>\n",
              "      <td>Bengaluru Urban</td>\n",
              "      <td>Bengaluru North</td>\n",
              "      <td>Arakere</td>\n",
              "      <td>Arakere</td>\n",
              "      <td>0.75287</td>\n",
              "      <td>1.0</td>\n",
              "    </tr>\n",
              "    <tr>\n",
              "      <th>1</th>\n",
              "      <td>Bengaluru Urban</td>\n",
              "      <td>Bengaluru North</td>\n",
              "      <td>Vaderahalli</td>\n",
              "      <td>Shamarajpura</td>\n",
              "      <td>0.74663</td>\n",
              "      <td>2.0</td>\n",
              "    </tr>\n",
              "    <tr>\n",
              "      <th>2</th>\n",
              "      <td>Bengaluru Urban</td>\n",
              "      <td>Bengaluru North</td>\n",
              "      <td>Kasagattapura</td>\n",
              "      <td>Kasagattapura</td>\n",
              "      <td>0.73772</td>\n",
              "      <td>3.0</td>\n",
              "    </tr>\n",
              "    <tr>\n",
              "      <th>3</th>\n",
              "      <td>Bengaluru Urban</td>\n",
              "      <td>Bengaluru North</td>\n",
              "      <td>Adakamaranahalli</td>\n",
              "      <td>Makali</td>\n",
              "      <td>0.72313</td>\n",
              "      <td>4.0</td>\n",
              "    </tr>\n",
              "    <tr>\n",
              "      <th>4</th>\n",
              "      <td>Bengaluru Urban</td>\n",
              "      <td>Bengaluru North</td>\n",
              "      <td>Shivakote</td>\n",
              "      <td>Kalenahalli</td>\n",
              "      <td>0.72268</td>\n",
              "      <td>5.0</td>\n",
              "    </tr>\n",
              "    <tr>\n",
              "      <th>5</th>\n",
              "      <td>Bengaluru Urban</td>\n",
              "      <td>Bengaluru North</td>\n",
              "      <td>Madanayakanahalli</td>\n",
              "      <td>Kadaranahalli</td>\n",
              "      <td>0.72218</td>\n",
              "      <td>6.0</td>\n",
              "    </tr>\n",
              "    <tr>\n",
              "      <th>6</th>\n",
              "      <td>Bengaluru Urban</td>\n",
              "      <td>Anekal</td>\n",
              "      <td>Vanakanahalli</td>\n",
              "      <td>Menasiganahalli</td>\n",
              "      <td>0.72205</td>\n",
              "      <td>7.0</td>\n",
              "    </tr>\n",
              "    <tr>\n",
              "      <th>7</th>\n",
              "      <td>Bengaluru Urban</td>\n",
              "      <td>Bengaluru North</td>\n",
              "      <td>Huskur</td>\n",
              "      <td>Huskur</td>\n",
              "      <td>0.72088</td>\n",
              "      <td>8.0</td>\n",
              "    </tr>\n",
              "    <tr>\n",
              "      <th>8</th>\n",
              "      <td>Bengaluru Urban</td>\n",
              "      <td>Bengaluru South</td>\n",
              "      <td>Nelaguli</td>\n",
              "      <td>Naganayakanaha\\rlli</td>\n",
              "      <td>0.71940</td>\n",
              "      <td>9.0</td>\n",
              "    </tr>\n",
              "    <tr>\n",
              "      <th>9</th>\n",
              "      <td>Bengaluru Urban</td>\n",
              "      <td>Bengaluru South</td>\n",
              "      <td>Chikkana halli</td>\n",
              "      <td>Sulivara</td>\n",
              "      <td>0.71499</td>\n",
              "      <td>10.0</td>\n",
              "    </tr>\n",
              "    <tr>\n",
              "      <th>10</th>\n",
              "      <td>Bengaluru Urban</td>\n",
              "      <td>Bengaluru North</td>\n",
              "      <td>Bandi kodige halli</td>\n",
              "      <td>Mahadevakodige\\rhalli</td>\n",
              "      <td>0.71288</td>\n",
              "      <td>11.0</td>\n",
              "    </tr>\n",
              "    <tr>\n",
              "      <th>11</th>\n",
              "      <td>Bengaluru Urban</td>\n",
              "      <td>Bengaluru North</td>\n",
              "      <td>Arakere</td>\n",
              "      <td>Kakkehalli</td>\n",
              "      <td>0.71171</td>\n",
              "      <td>12.0</td>\n",
              "    </tr>\n",
              "    <tr>\n",
              "      <th>12</th>\n",
              "      <td>Bengaluru Urban</td>\n",
              "      <td>Bengaluru North</td>\n",
              "      <td>Hurali chikkanahalli</td>\n",
              "      <td>Ivar kandapura</td>\n",
              "      <td>0.71141</td>\n",
              "      <td>13.0</td>\n",
              "    </tr>\n",
              "    <tr>\n",
              "      <th>13</th>\n",
              "      <td>Bengaluru Urban</td>\n",
              "      <td>Bengaluru North</td>\n",
              "      <td>Huskur</td>\n",
              "      <td>Pillahalli</td>\n",
              "      <td>0.70814</td>\n",
              "      <td>14.0</td>\n",
              "    </tr>\n",
              "    <tr>\n",
              "      <th>14</th>\n",
              "      <td>Bengaluru Urban</td>\n",
              "      <td>Bengaluru North</td>\n",
              "      <td>Huskur</td>\n",
              "      <td>Muniyanapalya</td>\n",
              "      <td>0.70527</td>\n",
              "      <td>15.0</td>\n",
              "    </tr>\n",
              "    <tr>\n",
              "      <th>15</th>\n",
              "      <td>Bengaluru Urban</td>\n",
              "      <td>Bengaluru North</td>\n",
              "      <td>Shivakote</td>\n",
              "      <td>Seethakempanah\\ralli</td>\n",
              "      <td>0.70507</td>\n",
              "      <td>16.0</td>\n",
              "    </tr>\n",
              "    <tr>\n",
              "      <th>16</th>\n",
              "      <td>Bengaluru Urban</td>\n",
              "      <td>Bengaluru North</td>\n",
              "      <td>K.g.srikantapura</td>\n",
              "      <td>Gangondanahalli</td>\n",
              "      <td>0.70389</td>\n",
              "      <td>17.0</td>\n",
              "    </tr>\n",
              "    <tr>\n",
              "      <th>17</th>\n",
              "      <td>Bengaluru Urban</td>\n",
              "      <td>Bengaluru North</td>\n",
              "      <td>Alur</td>\n",
              "      <td>Kuduragere</td>\n",
              "      <td>0.70348</td>\n",
              "      <td>18.0</td>\n",
              "    </tr>\n",
              "    <tr>\n",
              "      <th>18</th>\n",
              "      <td>Bengaluru Urban</td>\n",
              "      <td>Bengaluru North</td>\n",
              "      <td>Gopalapura</td>\n",
              "      <td>Shamabhattara\\rpalya</td>\n",
              "      <td>0.70276</td>\n",
              "      <td>19.0</td>\n",
              "    </tr>\n",
              "    <tr>\n",
              "      <th>19</th>\n",
              "      <td>Bengaluru Urban</td>\n",
              "      <td>Bengaluru North</td>\n",
              "      <td>Gopalapura</td>\n",
              "      <td>Hosahalli palya</td>\n",
              "      <td>0.70165</td>\n",
              "      <td>20.0</td>\n",
              "    </tr>\n",
              "  </tbody>\n",
              "</table>\n",
              "</div>"
            ],
            "text/plain": [
              "           District            Taluk  ...      HDI Rank.3\n",
              "0   Bengaluru Urban  Bengaluru North  ...  0.75287    1.0\n",
              "1   Bengaluru Urban  Bengaluru North  ...  0.74663    2.0\n",
              "2   Bengaluru Urban  Bengaluru North  ...  0.73772    3.0\n",
              "3   Bengaluru Urban  Bengaluru North  ...  0.72313    4.0\n",
              "4   Bengaluru Urban  Bengaluru North  ...  0.72268    5.0\n",
              "5   Bengaluru Urban  Bengaluru North  ...  0.72218    6.0\n",
              "6   Bengaluru Urban           Anekal  ...  0.72205    7.0\n",
              "7   Bengaluru Urban  Bengaluru North  ...  0.72088    8.0\n",
              "8   Bengaluru Urban  Bengaluru South  ...  0.71940    9.0\n",
              "9   Bengaluru Urban  Bengaluru South  ...  0.71499   10.0\n",
              "10  Bengaluru Urban  Bengaluru North  ...  0.71288   11.0\n",
              "11  Bengaluru Urban  Bengaluru North  ...  0.71171   12.0\n",
              "12  Bengaluru Urban  Bengaluru North  ...  0.71141   13.0\n",
              "13  Bengaluru Urban  Bengaluru North  ...  0.70814   14.0\n",
              "14  Bengaluru Urban  Bengaluru North  ...  0.70527   15.0\n",
              "15  Bengaluru Urban  Bengaluru North  ...  0.70507   16.0\n",
              "16  Bengaluru Urban  Bengaluru North  ...  0.70389   17.0\n",
              "17  Bengaluru Urban  Bengaluru North  ...  0.70348   18.0\n",
              "18  Bengaluru Urban  Bengaluru North  ...  0.70276   19.0\n",
              "19  Bengaluru Urban  Bengaluru North  ...  0.70165   20.0\n",
              "\n",
              "[20 rows x 6 columns]"
            ]
          },
          "metadata": {
            "tags": []
          },
          "execution_count": 123
        }
      ]
    },
    {
      "cell_type": "code",
      "metadata": {
        "id": "23uoVe40yvGa",
        "colab_type": "code",
        "colab": {}
      },
      "source": [
        "df.replace(\" \",\"\", inplace=True, regex=True)"
      ],
      "execution_count": null,
      "outputs": []
    },
    {
      "cell_type": "code",
      "metadata": {
        "id": "4-FwN4dZufSV",
        "colab_type": "code",
        "colab": {}
      },
      "source": [
        "df.replace(\"\\r\",\"\", inplace=True, regex=True)"
      ],
      "execution_count": null,
      "outputs": []
    },
    {
      "cell_type": "code",
      "metadata": {
        "id": "5iFtIRR6ukGf",
        "colab_type": "code",
        "colab": {
          "base_uri": "https://localhost:8080/",
          "height": 669
        },
        "outputId": "5b617af3-5cfb-4ffe-cf80-71d199237563"
      },
      "source": [
        "df.head(5)"
      ],
      "execution_count": null,
      "outputs": [
        {
          "output_type": "execute_result",
          "data": {
            "text/html": [
              "<div>\n",
              "<style scoped>\n",
              "    .dataframe tbody tr th:only-of-type {\n",
              "        vertical-align: middle;\n",
              "    }\n",
              "\n",
              "    .dataframe tbody tr th {\n",
              "        vertical-align: top;\n",
              "    }\n",
              "\n",
              "    .dataframe thead th {\n",
              "        text-align: right;\n",
              "    }\n",
              "</style>\n",
              "<table border=\"1\" class=\"dataframe\">\n",
              "  <thead>\n",
              "    <tr style=\"text-align: right;\">\n",
              "      <th></th>\n",
              "      <th>District</th>\n",
              "      <th>Taluk</th>\n",
              "      <th>Gram Panchayat</th>\n",
              "      <th>Village</th>\n",
              "      <th>HDI</th>\n",
              "      <th>Rank.3</th>\n",
              "    </tr>\n",
              "  </thead>\n",
              "  <tbody>\n",
              "    <tr>\n",
              "      <th>0</th>\n",
              "      <td>BengaluruUrban</td>\n",
              "      <td>BengaluruNorth</td>\n",
              "      <td>Arakere</td>\n",
              "      <td>Arakere</td>\n",
              "      <td>0.75287</td>\n",
              "      <td>1.0</td>\n",
              "    </tr>\n",
              "    <tr>\n",
              "      <th>1</th>\n",
              "      <td>BengaluruUrban</td>\n",
              "      <td>BengaluruNorth</td>\n",
              "      <td>Vaderahalli</td>\n",
              "      <td>Shamarajpura</td>\n",
              "      <td>0.74663</td>\n",
              "      <td>2.0</td>\n",
              "    </tr>\n",
              "    <tr>\n",
              "      <th>2</th>\n",
              "      <td>BengaluruUrban</td>\n",
              "      <td>BengaluruNorth</td>\n",
              "      <td>Kasagattapura</td>\n",
              "      <td>Kasagattapura</td>\n",
              "      <td>0.73772</td>\n",
              "      <td>3.0</td>\n",
              "    </tr>\n",
              "    <tr>\n",
              "      <th>3</th>\n",
              "      <td>BengaluruUrban</td>\n",
              "      <td>BengaluruNorth</td>\n",
              "      <td>Adakamaranahalli</td>\n",
              "      <td>Makali</td>\n",
              "      <td>0.72313</td>\n",
              "      <td>4.0</td>\n",
              "    </tr>\n",
              "    <tr>\n",
              "      <th>4</th>\n",
              "      <td>BengaluruUrban</td>\n",
              "      <td>BengaluruNorth</td>\n",
              "      <td>Shivakote</td>\n",
              "      <td>Kalenahalli</td>\n",
              "      <td>0.72268</td>\n",
              "      <td>5.0</td>\n",
              "    </tr>\n",
              "    <tr>\n",
              "      <th>5</th>\n",
              "      <td>BengaluruUrban</td>\n",
              "      <td>BengaluruNorth</td>\n",
              "      <td>Madanayakanahalli</td>\n",
              "      <td>Kadaranahalli</td>\n",
              "      <td>0.72218</td>\n",
              "      <td>6.0</td>\n",
              "    </tr>\n",
              "    <tr>\n",
              "      <th>6</th>\n",
              "      <td>BengaluruUrban</td>\n",
              "      <td>Anekal</td>\n",
              "      <td>Vanakanahalli</td>\n",
              "      <td>Menasiganahalli</td>\n",
              "      <td>0.72205</td>\n",
              "      <td>7.0</td>\n",
              "    </tr>\n",
              "    <tr>\n",
              "      <th>7</th>\n",
              "      <td>BengaluruUrban</td>\n",
              "      <td>BengaluruNorth</td>\n",
              "      <td>Huskur</td>\n",
              "      <td>Huskur</td>\n",
              "      <td>0.72088</td>\n",
              "      <td>8.0</td>\n",
              "    </tr>\n",
              "    <tr>\n",
              "      <th>8</th>\n",
              "      <td>BengaluruUrban</td>\n",
              "      <td>BengaluruSouth</td>\n",
              "      <td>Nelaguli</td>\n",
              "      <td>Naganayakanahalli</td>\n",
              "      <td>0.71940</td>\n",
              "      <td>9.0</td>\n",
              "    </tr>\n",
              "    <tr>\n",
              "      <th>9</th>\n",
              "      <td>BengaluruUrban</td>\n",
              "      <td>BengaluruSouth</td>\n",
              "      <td>Chikkanahalli</td>\n",
              "      <td>Sulivara</td>\n",
              "      <td>0.71499</td>\n",
              "      <td>10.0</td>\n",
              "    </tr>\n",
              "    <tr>\n",
              "      <th>10</th>\n",
              "      <td>BengaluruUrban</td>\n",
              "      <td>BengaluruNorth</td>\n",
              "      <td>Bandikodigehalli</td>\n",
              "      <td>Mahadevakodigehalli</td>\n",
              "      <td>0.71288</td>\n",
              "      <td>11.0</td>\n",
              "    </tr>\n",
              "    <tr>\n",
              "      <th>11</th>\n",
              "      <td>BengaluruUrban</td>\n",
              "      <td>BengaluruNorth</td>\n",
              "      <td>Arakere</td>\n",
              "      <td>Kakkehalli</td>\n",
              "      <td>0.71171</td>\n",
              "      <td>12.0</td>\n",
              "    </tr>\n",
              "    <tr>\n",
              "      <th>12</th>\n",
              "      <td>BengaluruUrban</td>\n",
              "      <td>BengaluruNorth</td>\n",
              "      <td>Huralichikkanahalli</td>\n",
              "      <td>Ivarkandapura</td>\n",
              "      <td>0.71141</td>\n",
              "      <td>13.0</td>\n",
              "    </tr>\n",
              "    <tr>\n",
              "      <th>13</th>\n",
              "      <td>BengaluruUrban</td>\n",
              "      <td>BengaluruNorth</td>\n",
              "      <td>Huskur</td>\n",
              "      <td>Pillahalli</td>\n",
              "      <td>0.70814</td>\n",
              "      <td>14.0</td>\n",
              "    </tr>\n",
              "    <tr>\n",
              "      <th>14</th>\n",
              "      <td>BengaluruUrban</td>\n",
              "      <td>BengaluruNorth</td>\n",
              "      <td>Huskur</td>\n",
              "      <td>Muniyanapalya</td>\n",
              "      <td>0.70527</td>\n",
              "      <td>15.0</td>\n",
              "    </tr>\n",
              "    <tr>\n",
              "      <th>15</th>\n",
              "      <td>BengaluruUrban</td>\n",
              "      <td>BengaluruNorth</td>\n",
              "      <td>Shivakote</td>\n",
              "      <td>Seethakempanahalli</td>\n",
              "      <td>0.70507</td>\n",
              "      <td>16.0</td>\n",
              "    </tr>\n",
              "    <tr>\n",
              "      <th>16</th>\n",
              "      <td>BengaluruUrban</td>\n",
              "      <td>BengaluruNorth</td>\n",
              "      <td>K.g.srikantapura</td>\n",
              "      <td>Gangondanahalli</td>\n",
              "      <td>0.70389</td>\n",
              "      <td>17.0</td>\n",
              "    </tr>\n",
              "    <tr>\n",
              "      <th>17</th>\n",
              "      <td>BengaluruUrban</td>\n",
              "      <td>BengaluruNorth</td>\n",
              "      <td>Alur</td>\n",
              "      <td>Kuduragere</td>\n",
              "      <td>0.70348</td>\n",
              "      <td>18.0</td>\n",
              "    </tr>\n",
              "    <tr>\n",
              "      <th>18</th>\n",
              "      <td>BengaluruUrban</td>\n",
              "      <td>BengaluruNorth</td>\n",
              "      <td>Gopalapura</td>\n",
              "      <td>Shamabhattarapalya</td>\n",
              "      <td>0.70276</td>\n",
              "      <td>19.0</td>\n",
              "    </tr>\n",
              "    <tr>\n",
              "      <th>19</th>\n",
              "      <td>BengaluruUrban</td>\n",
              "      <td>BengaluruNorth</td>\n",
              "      <td>Gopalapura</td>\n",
              "      <td>Hosahallipalya</td>\n",
              "      <td>0.70165</td>\n",
              "      <td>20.0</td>\n",
              "    </tr>\n",
              "  </tbody>\n",
              "</table>\n",
              "</div>"
            ],
            "text/plain": [
              "          District           Taluk  ...      HDI Rank.3\n",
              "0   BengaluruUrban  BengaluruNorth  ...  0.75287    1.0\n",
              "1   BengaluruUrban  BengaluruNorth  ...  0.74663    2.0\n",
              "2   BengaluruUrban  BengaluruNorth  ...  0.73772    3.0\n",
              "3   BengaluruUrban  BengaluruNorth  ...  0.72313    4.0\n",
              "4   BengaluruUrban  BengaluruNorth  ...  0.72268    5.0\n",
              "5   BengaluruUrban  BengaluruNorth  ...  0.72218    6.0\n",
              "6   BengaluruUrban          Anekal  ...  0.72205    7.0\n",
              "7   BengaluruUrban  BengaluruNorth  ...  0.72088    8.0\n",
              "8   BengaluruUrban  BengaluruSouth  ...  0.71940    9.0\n",
              "9   BengaluruUrban  BengaluruSouth  ...  0.71499   10.0\n",
              "10  BengaluruUrban  BengaluruNorth  ...  0.71288   11.0\n",
              "11  BengaluruUrban  BengaluruNorth  ...  0.71171   12.0\n",
              "12  BengaluruUrban  BengaluruNorth  ...  0.71141   13.0\n",
              "13  BengaluruUrban  BengaluruNorth  ...  0.70814   14.0\n",
              "14  BengaluruUrban  BengaluruNorth  ...  0.70527   15.0\n",
              "15  BengaluruUrban  BengaluruNorth  ...  0.70507   16.0\n",
              "16  BengaluruUrban  BengaluruNorth  ...  0.70389   17.0\n",
              "17  BengaluruUrban  BengaluruNorth  ...  0.70348   18.0\n",
              "18  BengaluruUrban  BengaluruNorth  ...  0.70276   19.0\n",
              "19  BengaluruUrban  BengaluruNorth  ...  0.70165   20.0\n",
              "\n",
              "[20 rows x 6 columns]"
            ]
          },
          "metadata": {
            "tags": []
          },
          "execution_count": 126
        }
      ]
    },
    {
      "cell_type": "code",
      "metadata": {
        "id": "RpBQI9u90-En",
        "colab_type": "code",
        "colab": {
          "base_uri": "https://localhost:8080/",
          "height": 34
        },
        "outputId": "d0448d6d-4fb7-4b8b-95f5-c284230b5c4c"
      },
      "source": [
        "df['Taluk'].nunique()"
      ],
      "execution_count": null,
      "outputs": [
        {
          "output_type": "execute_result",
          "data": {
            "text/plain": [
              "176"
            ]
          },
          "metadata": {
            "tags": []
          },
          "execution_count": 127
        }
      ]
    },
    {
      "cell_type": "code",
      "metadata": {
        "id": "T4Nf32fF523e",
        "colab_type": "code",
        "colab": {
          "base_uri": "https://localhost:8080/",
          "height": 629
        },
        "outputId": "113279e3-1955-478b-b079-a103ba192208"
      },
      "source": [
        "df['Taluk'].unique()"
      ],
      "execution_count": null,
      "outputs": [
        {
          "output_type": "execute_result",
          "data": {
            "text/plain": [
              "array(['BengaluruNorth', 'Anekal', 'BengaluruSouth', 'Hospet',\n",
              "       'BengaluruEast', 'Mangaluru', 'Karwar', 'Doddaballapur',\n",
              "       'Shivamogga', 'Belagavi', 'Somvarpet', 'Mudigere', 'Sirsi',\n",
              "       'Bangarapet', 'Channapatna', 'Mysuru', 'Udupi', 'Devanahalli',\n",
              "       'Kundapura', 'Nelamangala', 'Virajpet', 'Ramanagara', 'Hosanagara',\n",
              "       'Madikere', 'Siddapur', 'Holalkere', 'Shrirangapattana', 'Hassan',\n",
              "       'Tumakuru', 'Karkal', 'Hunsur', 'Bhatkal', 'Hiriyur',\n",
              "       'Chikkamagalur', 'Heggadadevankote', 'Sorab', 'Sakleshpur',\n",
              "       'Malur', 'Bantval', 'Sulya', 'Tirumakudal-Narsip', 'Harihar',\n",
              "       'Sagar', 'Nanjangud', 'Tirthahalli', 'Davanagere', 'Bagepalli',\n",
              "       'Yellapur', 'Hosakote', 'Beltangadi', 'Hubli', 'Koppa', 'Gubbi',\n",
              "       'Malavalli', 'Arkalgud', 'Magadi', 'Chikkaballapura', 'Dharwad',\n",
              "       'Puttur', 'Jagalur', 'Maddur', 'Gauribidanur', 'Tarikere',\n",
              "       'Krishnarajpet', 'Kanakapura', 'Koratagere', 'Bhadravati',\n",
              "       'Piriyapatna', 'Krishnarajanagara', 'Mulbagal', 'Belur', 'Kadur',\n",
              "       'Kumta', 'Honavar', 'Sringeri', 'Mundgod', 'Chintamani',\n",
              "       'Nagamangala', 'Alur', 'Mandya', 'Gadag', 'Haliyal', 'Kolar',\n",
              "       'Supa', 'Channarayapatna', 'Shikaripur', 'Madhugiri',\n",
              "       'Narasimharajapura', 'Channagiri', 'HoleNarsipur',\n",
              "       'Chamarajanagara', 'Honnali', 'Pavagada', 'Turuvekere',\n",
              "       'Pandavapura', 'Kalghatgi', 'Tiptur', 'Arsikere', 'Ankola',\n",
              "       'Srinivaspur', 'Kollegala', 'Bagalkot', 'Chikkodi', 'Ranibennur',\n",
              "       'Harapanahalli', 'Sira', 'Navalgund', 'Hosadurga', 'Kunigal',\n",
              "       'Koppal', 'Khanapur', 'Hungund', 'Bidar', 'Ramdurg', 'Chitradurga',\n",
              "       'Sandur', 'Gudibanda', 'Chiknayakanhalli', 'Hukeri', 'Sidlaghatta',\n",
              "       'Gundlupet', 'Hirekerur', 'Yelandur', 'Molakalmuru', 'Challakere',\n",
              "       'Badami', 'Gangawati', 'Jamkhandi', 'Kalaburagi', 'Byadgi',\n",
              "       'Hagaribommanahalli', 'Gokak', 'Vijayapura', 'Shiggaon', 'Hangal',\n",
              "       'Humnabad', 'Bellary', 'Kundgol', 'Savadathi', 'Shorapur',\n",
              "       'Kudligi', 'Mudhol', 'Yelburga', 'Sindhnur', 'Athni', 'Haveri',\n",
              "       'Sedam', 'Bilahongal', 'Manvi', 'BasavanaBagevadi', 'Basavakalyan',\n",
              "       'Bilgi', 'Raybag', 'Nargund', 'Shirahatti', 'Savanur', 'Raichur',\n",
              "       'Siruguppa', 'Chincholi', 'Hadagalli', 'Kushtagi', 'Lingsugur',\n",
              "       'Jevargi', 'Shahpur', 'Bhalki', 'Chitapur', 'Afzalpur', 'Sindgi',\n",
              "       'Muddebihal', 'Yadgir', 'Ron', 'Mundargi', 'Indi', 'Aurad',\n",
              "       'Devadurga', 'Aland'], dtype=object)"
            ]
          },
          "metadata": {
            "tags": []
          },
          "execution_count": 128
        }
      ]
    },
    {
      "cell_type": "code",
      "metadata": {
        "id": "iMwpLxOv15vm",
        "colab_type": "code",
        "colab": {
          "base_uri": "https://localhost:8080/",
          "height": 34
        },
        "outputId": "77713a24-db19-4b3f-f575-ef3e207bcbfd"
      },
      "source": [
        "df['Gram Panchayat'].nunique()"
      ],
      "execution_count": null,
      "outputs": [
        {
          "output_type": "execute_result",
          "data": {
            "text/plain": [
              "5574"
            ]
          },
          "metadata": {
            "tags": []
          },
          "execution_count": 129
        }
      ]
    },
    {
      "cell_type": "code",
      "metadata": {
        "id": "aWLzWqeD4yAF",
        "colab_type": "code",
        "colab": {
          "base_uri": "https://localhost:8080/",
          "height": 51
        },
        "outputId": "6b847563-9a91-4535-a254-d6b20d22f911"
      },
      "source": [
        "df['Gram Panchayat'].unique()"
      ],
      "execution_count": null,
      "outputs": [
        {
          "output_type": "execute_result",
          "data": {
            "text/plain": [
              "array(['Arakere', 'Vaderahalli', 'Kasagattapura', ...,\n",
              "       'Notunderanypanchayat', 'Maidala', 'Gadinadforest'], dtype=object)"
            ]
          },
          "metadata": {
            "tags": []
          },
          "execution_count": 130
        }
      ]
    },
    {
      "cell_type": "code",
      "metadata": {
        "id": "VpdbFE1W-HsQ",
        "colab_type": "code",
        "colab": {}
      },
      "source": [
        "#df[['Gram Panchayat','gp_extra_info']] = df['Gram Panchayat'].str.split('(',expand=True)\n",
        "#df['Gram Panchayat'].str.replace(r\"\\(.*\\)\",\"\", inplace=True)\n",
        "df.replace(r\"\\(.*\\)\",\"\", inplace=True, regex=True)"
      ],
      "execution_count": null,
      "outputs": []
    },
    {
      "cell_type": "code",
      "metadata": {
        "id": "Q8w78DJK_p6c",
        "colab_type": "code",
        "colab": {
          "base_uri": "https://localhost:8080/",
          "height": 238
        },
        "outputId": "f6805021-4b79-4169-a288-3a6597215e61"
      },
      "source": [
        "df.info()"
      ],
      "execution_count": null,
      "outputs": [
        {
          "output_type": "stream",
          "text": [
            "<class 'pandas.core.frame.DataFrame'>\n",
            "Int64Index: 27074 entries, 0 to 27073\n",
            "Data columns (total 6 columns):\n",
            " #   Column          Non-Null Count  Dtype  \n",
            "---  ------          --------------  -----  \n",
            " 0   District        27074 non-null  object \n",
            " 1   Taluk           27074 non-null  object \n",
            " 2   Gram Panchayat  27074 non-null  object \n",
            " 3   Village         27074 non-null  object \n",
            " 4   HDI             27074 non-null  float64\n",
            " 5   Rank.3          27074 non-null  float64\n",
            "dtypes: float64(2), object(4)\n",
            "memory usage: 1.4+ MB\n"
          ],
          "name": "stdout"
        }
      ]
    },
    {
      "cell_type": "code",
      "metadata": {
        "id": "00my7SD_d-zJ",
        "colab_type": "code",
        "colab": {
          "base_uri": "https://localhost:8080/",
          "height": 204
        },
        "outputId": "39266adc-6f1d-4184-d99f-9b5a3fda38b7"
      },
      "source": [
        "df.sample(5)"
      ],
      "execution_count": null,
      "outputs": [
        {
          "output_type": "execute_result",
          "data": {
            "text/html": [
              "<div>\n",
              "<style scoped>\n",
              "    .dataframe tbody tr th:only-of-type {\n",
              "        vertical-align: middle;\n",
              "    }\n",
              "\n",
              "    .dataframe tbody tr th {\n",
              "        vertical-align: top;\n",
              "    }\n",
              "\n",
              "    .dataframe thead th {\n",
              "        text-align: right;\n",
              "    }\n",
              "</style>\n",
              "<table border=\"1\" class=\"dataframe\">\n",
              "  <thead>\n",
              "    <tr style=\"text-align: right;\">\n",
              "      <th></th>\n",
              "      <th>District</th>\n",
              "      <th>Taluk</th>\n",
              "      <th>Gram Panchayat</th>\n",
              "      <th>Village</th>\n",
              "      <th>HDI</th>\n",
              "      <th>Rank.3</th>\n",
              "    </tr>\n",
              "  </thead>\n",
              "  <tbody>\n",
              "    <tr>\n",
              "      <th>5675</th>\n",
              "      <td>BengaluruRural</td>\n",
              "      <td>Hosakote</td>\n",
              "      <td>Jadigenahalli</td>\n",
              "      <td>Kurubaragollahalli</td>\n",
              "      <td>0.49211</td>\n",
              "      <td>5676.0</td>\n",
              "    </tr>\n",
              "    <tr>\n",
              "      <th>13965</th>\n",
              "      <td>Kalaburagi</td>\n",
              "      <td>Chincholi</td>\n",
              "      <td>Siroli</td>\n",
              "      <td>Rudnoor</td>\n",
              "      <td>0.41591</td>\n",
              "      <td>13966.0</td>\n",
              "    </tr>\n",
              "    <tr>\n",
              "      <th>21569</th>\n",
              "      <td>Yadgir</td>\n",
              "      <td>Yadgir</td>\n",
              "      <td>Saidapur</td>\n",
              "      <td>Balched</td>\n",
              "      <td>0.32024</td>\n",
              "      <td>21570.0</td>\n",
              "    </tr>\n",
              "    <tr>\n",
              "      <th>10746</th>\n",
              "      <td>Chikkamagalur</td>\n",
              "      <td>Chikkamagalur</td>\n",
              "      <td>Kadavanthi</td>\n",
              "      <td>Basapura</td>\n",
              "      <td>0.44399</td>\n",
              "      <td>10747.0</td>\n",
              "    </tr>\n",
              "    <tr>\n",
              "      <th>791</th>\n",
              "      <td>Chikkamagalur</td>\n",
              "      <td>Chikkamagalur</td>\n",
              "      <td>Allampura</td>\n",
              "      <td>Karadihallikaval</td>\n",
              "      <td>0.57720</td>\n",
              "      <td>792.0</td>\n",
              "    </tr>\n",
              "  </tbody>\n",
              "</table>\n",
              "</div>"
            ],
            "text/plain": [
              "             District          Taluk  ...      HDI   Rank.3\n",
              "5675   BengaluruRural       Hosakote  ...  0.49211   5676.0\n",
              "13965      Kalaburagi      Chincholi  ...  0.41591  13966.0\n",
              "21569          Yadgir         Yadgir  ...  0.32024  21570.0\n",
              "10746   Chikkamagalur  Chikkamagalur  ...  0.44399  10747.0\n",
              "791     Chikkamagalur  Chikkamagalur  ...  0.57720    792.0\n",
              "\n",
              "[5 rows x 6 columns]"
            ]
          },
          "metadata": {
            "tags": []
          },
          "execution_count": 133
        }
      ]
    },
    {
      "cell_type": "code",
      "metadata": {
        "id": "0OP345fQbiM1",
        "colab_type": "code",
        "colab": {}
      },
      "source": [
        "# convert to csv\n",
        "df.to_csv('/content/drive/My Drive/omdena/cleaned_karnataka_hdi.csv', index=False, header=True)"
      ],
      "execution_count": null,
      "outputs": []
    },
    {
      "cell_type": "code",
      "metadata": {
        "id": "1YtOzpPzcfiK",
        "colab_type": "code",
        "colab": {}
      },
      "source": [
        "df_cleaned = pd.read_csv(\"/content/drive/My Drive/omdena_hdi/data/cleaned_karnataka_hdi.csv\")"
      ],
      "execution_count": 3,
      "outputs": []
    },
    {
      "cell_type": "code",
      "metadata": {
        "id": "dtDdNd2QjZY3",
        "colab_type": "code",
        "colab": {
          "base_uri": "https://localhost:8080/",
          "height": 238
        },
        "outputId": "ecc48ca7-2597-4858-9812-2ade837f7cf5"
      },
      "source": [
        "df_cleaned.info()"
      ],
      "execution_count": 4,
      "outputs": [
        {
          "output_type": "stream",
          "text": [
            "<class 'pandas.core.frame.DataFrame'>\n",
            "RangeIndex: 27074 entries, 0 to 27073\n",
            "Data columns (total 6 columns):\n",
            " #   Column          Non-Null Count  Dtype  \n",
            "---  ------          --------------  -----  \n",
            " 0   District        27074 non-null  object \n",
            " 1   Taluk           27074 non-null  object \n",
            " 2   Gram Panchayat  27074 non-null  object \n",
            " 3   Village         27074 non-null  object \n",
            " 4   HDI             27074 non-null  float64\n",
            " 5   Rank.3          27074 non-null  float64\n",
            "dtypes: float64(2), object(4)\n",
            "memory usage: 1.2+ MB\n"
          ],
          "name": "stdout"
        }
      ]
    },
    {
      "cell_type": "code",
      "metadata": {
        "id": "_HkAPECnjbDd",
        "colab_type": "code",
        "colab": {
          "base_uri": "https://localhost:8080/",
          "height": 136
        },
        "outputId": "aab70182-2006-4d8c-c9fe-4f67cade0fc9"
      },
      "source": [
        "df_cleaned['District'].unique()"
      ],
      "execution_count": 5,
      "outputs": [
        {
          "output_type": "execute_result",
          "data": {
            "text/plain": [
              "array(['BengaluruUrban', 'Ballari', 'DakshinaKannada', 'UttaraKannada',\n",
              "       'BengaluruRural', 'Shivamogga', 'Belagavi', 'Kodagu',\n",
              "       'Chikkamagalur', 'Kolar', 'Ramanagara', 'Mysuru', 'Udupi',\n",
              "       'Chitradurga', 'Mandya', 'Hassan', 'Tumakuru', 'Davanagere',\n",
              "       'Chikkaballapura', 'Dharwad', 'Gadag', 'Chamarajanagara',\n",
              "       'Bagalkot', 'Haveri', 'Koppal', 'Bidar', 'Kalaburagi',\n",
              "       'Vijayapura', 'Yadgir', 'Raichur'], dtype=object)"
            ]
          },
          "metadata": {
            "tags": []
          },
          "execution_count": 5
        }
      ]
    },
    {
      "cell_type": "code",
      "metadata": {
        "id": "hr42wqvBhJYX",
        "colab_type": "code",
        "colab": {
          "base_uri": "https://localhost:8080/",
          "height": 34
        },
        "outputId": "d51bf19d-0df3-45a0-a844-c08175982179"
      },
      "source": [
        "df_cleaned['District'].nunique()"
      ],
      "execution_count": 6,
      "outputs": [
        {
          "output_type": "execute_result",
          "data": {
            "text/plain": [
              "30"
            ]
          },
          "metadata": {
            "tags": []
          },
          "execution_count": 6
        }
      ]
    },
    {
      "cell_type": "code",
      "metadata": {
        "id": "kG4cQ7okhEJg",
        "colab_type": "code",
        "colab": {}
      },
      "source": [
        "#df_cleaned['Taluk'].unique()"
      ],
      "execution_count": 7,
      "outputs": []
    },
    {
      "cell_type": "code",
      "metadata": {
        "id": "g8bOrbNfhOPk",
        "colab_type": "code",
        "colab": {
          "base_uri": "https://localhost:8080/",
          "height": 34
        },
        "outputId": "dc033179-e48d-4f06-96d3-dac7efbb9c0f"
      },
      "source": [
        "df_cleaned['Taluk'].nunique()"
      ],
      "execution_count": 8,
      "outputs": [
        {
          "output_type": "execute_result",
          "data": {
            "text/plain": [
              "176"
            ]
          },
          "metadata": {
            "tags": []
          },
          "execution_count": 8
        }
      ]
    },
    {
      "cell_type": "code",
      "metadata": {
        "id": "mb3LUdBThP7E",
        "colab_type": "code",
        "colab": {
          "base_uri": "https://localhost:8080/",
          "height": 51
        },
        "outputId": "f2a5c763-6846-41f0-c758-77ffe06193cb"
      },
      "source": [
        "df_cleaned['Gram Panchayat'].unique()"
      ],
      "execution_count": 9,
      "outputs": [
        {
          "output_type": "execute_result",
          "data": {
            "text/plain": [
              "array(['Arakere', 'Vaderahalli', 'Kasagattapura', ...,\n",
              "       'Notunderanypanchayat', 'Maidala', 'Gadinadforest'], dtype=object)"
            ]
          },
          "metadata": {
            "tags": []
          },
          "execution_count": 9
        }
      ]
    },
    {
      "cell_type": "code",
      "metadata": {
        "id": "jy0xzDMfhVQc",
        "colab_type": "code",
        "colab": {
          "base_uri": "https://localhost:8080/",
          "height": 34
        },
        "outputId": "f012be13-6af0-4be3-c8fd-7c6a43bf78f9"
      },
      "source": [
        "df_cleaned['Gram Panchayat'].nunique()"
      ],
      "execution_count": 10,
      "outputs": [
        {
          "output_type": "execute_result",
          "data": {
            "text/plain": [
              "5543"
            ]
          },
          "metadata": {
            "tags": []
          },
          "execution_count": 10
        }
      ]
    },
    {
      "cell_type": "code",
      "metadata": {
        "id": "iDRQnMZrnbdi",
        "colab_type": "code",
        "colab": {
          "base_uri": "https://localhost:8080/",
          "height": 204
        },
        "outputId": "e5edc7e0-c972-4c95-ce81-ce408c3f46c3"
      },
      "source": [
        "df_cleaned.sample(5)"
      ],
      "execution_count": 11,
      "outputs": [
        {
          "output_type": "execute_result",
          "data": {
            "text/html": [
              "<div>\n",
              "<style scoped>\n",
              "    .dataframe tbody tr th:only-of-type {\n",
              "        vertical-align: middle;\n",
              "    }\n",
              "\n",
              "    .dataframe tbody tr th {\n",
              "        vertical-align: top;\n",
              "    }\n",
              "\n",
              "    .dataframe thead th {\n",
              "        text-align: right;\n",
              "    }\n",
              "</style>\n",
              "<table border=\"1\" class=\"dataframe\">\n",
              "  <thead>\n",
              "    <tr style=\"text-align: right;\">\n",
              "      <th></th>\n",
              "      <th>District</th>\n",
              "      <th>Taluk</th>\n",
              "      <th>Gram Panchayat</th>\n",
              "      <th>Village</th>\n",
              "      <th>HDI</th>\n",
              "      <th>Rank.3</th>\n",
              "    </tr>\n",
              "  </thead>\n",
              "  <tbody>\n",
              "    <tr>\n",
              "      <th>19620</th>\n",
              "      <td>Bagalkot</td>\n",
              "      <td>Bilgi</td>\n",
              "      <td>Kollur</td>\n",
              "      <td>Mundaganur</td>\n",
              "      <td>0.35272</td>\n",
              "      <td>19621.0</td>\n",
              "    </tr>\n",
              "    <tr>\n",
              "      <th>15784</th>\n",
              "      <td>Tumakuru</td>\n",
              "      <td>Sira</td>\n",
              "      <td>Neralagudda</td>\n",
              "      <td>Ajjenahalli</td>\n",
              "      <td>0.39841</td>\n",
              "      <td>15785.0</td>\n",
              "    </tr>\n",
              "    <tr>\n",
              "      <th>21444</th>\n",
              "      <td>Shivamogga</td>\n",
              "      <td>Shivamogga</td>\n",
              "      <td>Kommanalu</td>\n",
              "      <td>Bikkonahalli</td>\n",
              "      <td>0.32239</td>\n",
              "      <td>21445.0</td>\n",
              "    </tr>\n",
              "    <tr>\n",
              "      <th>5305</th>\n",
              "      <td>UttaraKannada</td>\n",
              "      <td>Siddapur</td>\n",
              "      <td>Halgeri</td>\n",
              "      <td>Nagarbhavi</td>\n",
              "      <td>0.49614</td>\n",
              "      <td>5306.0</td>\n",
              "    </tr>\n",
              "    <tr>\n",
              "      <th>10025</th>\n",
              "      <td>Belagavi</td>\n",
              "      <td>Belagavi</td>\n",
              "      <td>Muthnal</td>\n",
              "      <td>VIRAPANKOPPA</td>\n",
              "      <td>0.45049</td>\n",
              "      <td>10026.0</td>\n",
              "    </tr>\n",
              "  </tbody>\n",
              "</table>\n",
              "</div>"
            ],
            "text/plain": [
              "            District       Taluk Gram Panchayat       Village      HDI   Rank.3\n",
              "19620       Bagalkot       Bilgi         Kollur    Mundaganur  0.35272  19621.0\n",
              "15784       Tumakuru        Sira    Neralagudda   Ajjenahalli  0.39841  15785.0\n",
              "21444     Shivamogga  Shivamogga      Kommanalu  Bikkonahalli  0.32239  21445.0\n",
              "5305   UttaraKannada    Siddapur        Halgeri    Nagarbhavi  0.49614   5306.0\n",
              "10025       Belagavi    Belagavi        Muthnal  VIRAPANKOPPA  0.45049  10026.0"
            ]
          },
          "metadata": {
            "tags": []
          },
          "execution_count": 11
        }
      ]
    },
    {
      "cell_type": "code",
      "metadata": {
        "id": "hrttQKwPoo1n",
        "colab_type": "code",
        "colab": {
          "base_uri": "https://localhost:8080/",
          "height": 279
        },
        "outputId": "7e4cc261-bd39-41f3-df73-580c188fc341"
      },
      "source": [
        "sns.distplot(df_cleaned['HDI']);"
      ],
      "execution_count": 12,
      "outputs": [
        {
          "output_type": "display_data",
          "data": {
            "image/png": "[encoded data removed]",
            "text/plain": [
              "<Figure size 432x288 with 1 Axes>"
            ]
          },
          "metadata": {
            "tags": [],
            "needs_background": "light"
          }
        }
      ]
    },
    {
      "cell_type": "code",
      "metadata": {
        "id": "wdUr2ph4YO8B",
        "colab_type": "code",
        "colab": {
          "base_uri": "https://localhost:8080/",
          "height": 34
        },
        "outputId": "346736ae-4d00-4984-8c71-edaf93cdc55a"
      },
      "source": [
        "df_cleaned['Village'].nunique()"
      ],
      "execution_count": 13,
      "outputs": [
        {
          "output_type": "execute_result",
          "data": {
            "text/plain": [
              "20221"
            ]
          },
          "metadata": {
            "tags": []
          },
          "execution_count": 13
        }
      ]
    },
    {
      "cell_type": "code",
      "metadata": {
        "id": "tg-KYt3uhk70",
        "colab_type": "code",
        "colab": {}
      },
      "source": [
        "df_codes = pd.read_csv(\"/content/drive/My Drive/omdena_hdi/data/gram_panchayat.csv\", sep=';')"
      ],
      "execution_count": 14,
      "outputs": []
    },
    {
      "cell_type": "code",
      "metadata": {
        "id": "Kbir9-zBiMqJ",
        "colab_type": "code",
        "colab": {
          "base_uri": "https://localhost:8080/",
          "height": 374
        },
        "outputId": "8a5219bf-b519-4dc1-a28f-362e944d4196"
      },
      "source": [
        "df_codes.info()"
      ],
      "execution_count": 15,
      "outputs": [
        {
          "output_type": "stream",
          "text": [
            "<class 'pandas.core.frame.DataFrame'>\n",
            "RangeIndex: 34328 entries, 0 to 34327\n",
            "Data columns (total 14 columns):\n",
            " #   Column                         Non-Null Count  Dtype  \n",
            "---  ------                         --------------  -----  \n",
            " 0   District Code                  34328 non-null  int64  \n",
            " 1   District Name(in English)      34328 non-null  object \n",
            " 2   District Census Code2011       34328 non-null  int64  \n",
            " 3   District Census Code 2001      34328 non-null  int64  \n",
            " 4   Sub District Code              34328 non-null  int64  \n",
            " 5   Sub District Name(in English)  34328 non-null  object \n",
            " 6   Sub District Census Code 2011  34328 non-null  int64  \n",
            " 7   Sub District Census Code 2001  31602 non-null  float64\n",
            " 8   Village Code                   34328 non-null  int64  \n",
            " 9   Village Name(in English)       34328 non-null  object \n",
            " 10  Village Census Code 2011       34328 non-null  int64  \n",
            " 11  Village Census Code 2001       29446 non-null  float64\n",
            " 12  Local Body Code                32616 non-null  float64\n",
            " 13  Local Body Name(in English)    32616 non-null  object \n",
            "dtypes: float64(3), int64(7), object(4)\n",
            "memory usage: 3.7+ MB\n"
          ],
          "name": "stdout"
        }
      ]
    },
    {
      "cell_type": "code",
      "metadata": {
        "id": "xRd1wm5Eket4",
        "colab_type": "code",
        "colab": {
          "base_uri": "https://localhost:8080/",
          "height": 292
        },
        "outputId": "d4dc23c2-f536-4681-9b29-6bb9fc6a3063"
      },
      "source": [
        "df_codes.head(5)"
      ],
      "execution_count": 16,
      "outputs": [
        {
          "output_type": "execute_result",
          "data": {
            "text/html": [
              "<div>\n",
              "<style scoped>\n",
              "    .dataframe tbody tr th:only-of-type {\n",
              "        vertical-align: middle;\n",
              "    }\n",
              "\n",
              "    .dataframe tbody tr th {\n",
              "        vertical-align: top;\n",
              "    }\n",
              "\n",
              "    .dataframe thead th {\n",
              "        text-align: right;\n",
              "    }\n",
              "</style>\n",
              "<table border=\"1\" class=\"dataframe\">\n",
              "  <thead>\n",
              "    <tr style=\"text-align: right;\">\n",
              "      <th></th>\n",
              "      <th>District Code</th>\n",
              "      <th>District Name(in English)</th>\n",
              "      <th>District Census Code2011</th>\n",
              "      <th>District Census Code 2001</th>\n",
              "      <th>Sub District Code</th>\n",
              "      <th>Sub District Name(in English)</th>\n",
              "      <th>Sub District Census Code 2011</th>\n",
              "      <th>Sub District Census Code 2001</th>\n",
              "      <th>Village Code</th>\n",
              "      <th>Village Name(in English)</th>\n",
              "      <th>Village Census Code 2011</th>\n",
              "      <th>Village Census Code 2001</th>\n",
              "      <th>Local Body Code</th>\n",
              "      <th>Local Body Name(in English)</th>\n",
              "    </tr>\n",
              "  </thead>\n",
              "  <tbody>\n",
              "    <tr>\n",
              "      <th>0</th>\n",
              "      <td>524</td>\n",
              "      <td>BAGALKOTE</td>\n",
              "      <td>556</td>\n",
              "      <td>2</td>\n",
              "      <td>5446</td>\n",
              "      <td>Badami</td>\n",
              "      <td>5446</td>\n",
              "      <td>4.0</td>\n",
              "      <td>598748</td>\n",
              "      <td>Adagal</td>\n",
              "      <td>598748</td>\n",
              "      <td>161700.0</td>\n",
              "      <td>215148.0</td>\n",
              "      <td>ADAGAL</td>\n",
              "    </tr>\n",
              "    <tr>\n",
              "      <th>1</th>\n",
              "      <td>524</td>\n",
              "      <td>BAGALKOTE</td>\n",
              "      <td>556</td>\n",
              "      <td>2</td>\n",
              "      <td>5446</td>\n",
              "      <td>Badami</td>\n",
              "      <td>5446</td>\n",
              "      <td>4.0</td>\n",
              "      <td>598647</td>\n",
              "      <td>Agasarakoppa</td>\n",
              "      <td>598647</td>\n",
              "      <td>151600.0</td>\n",
              "      <td>215158.0</td>\n",
              "      <td>HULIGERI</td>\n",
              "    </tr>\n",
              "    <tr>\n",
              "      <th>2</th>\n",
              "      <td>524</td>\n",
              "      <td>BAGALKOTE</td>\n",
              "      <td>556</td>\n",
              "      <td>2</td>\n",
              "      <td>5446</td>\n",
              "      <td>Badami</td>\n",
              "      <td>5446</td>\n",
              "      <td>4.0</td>\n",
              "      <td>598713</td>\n",
              "      <td>Aladakatti</td>\n",
              "      <td>598713</td>\n",
              "      <td>158200.0</td>\n",
              "      <td>215173.0</td>\n",
              "      <td>MUTALGERI</td>\n",
              "    </tr>\n",
              "    <tr>\n",
              "      <th>3</th>\n",
              "      <td>524</td>\n",
              "      <td>BAGALKOTE</td>\n",
              "      <td>556</td>\n",
              "      <td>2</td>\n",
              "      <td>5446</td>\n",
              "      <td>Badami</td>\n",
              "      <td>5446</td>\n",
              "      <td>4.0</td>\n",
              "      <td>598724</td>\n",
              "      <td>Alur .S.K.</td>\n",
              "      <td>598724</td>\n",
              "      <td>159300.0</td>\n",
              "      <td>273085.0</td>\n",
              "      <td>ALUR-SK</td>\n",
              "    </tr>\n",
              "    <tr>\n",
              "      <th>4</th>\n",
              "      <td>524</td>\n",
              "      <td>BAGALKOTE</td>\n",
              "      <td>556</td>\n",
              "      <td>2</td>\n",
              "      <td>5446</td>\n",
              "      <td>Badami</td>\n",
              "      <td>5446</td>\n",
              "      <td>4.0</td>\n",
              "      <td>598769</td>\n",
              "      <td>Anantagiri</td>\n",
              "      <td>598769</td>\n",
              "      <td>163800.0</td>\n",
              "      <td>215157.0</td>\n",
              "      <td>HOSUR</td>\n",
              "    </tr>\n",
              "  </tbody>\n",
              "</table>\n",
              "</div>"
            ],
            "text/plain": [
              "   District Code  ... Local Body Name(in English)\n",
              "0            524  ...                      ADAGAL\n",
              "1            524  ...                    HULIGERI\n",
              "2            524  ...                   MUTALGERI\n",
              "3            524  ...                     ALUR-SK\n",
              "4            524  ...                       HOSUR\n",
              "\n",
              "[5 rows x 14 columns]"
            ]
          },
          "metadata": {
            "tags": []
          },
          "execution_count": 16
        }
      ]
    },
    {
      "cell_type": "code",
      "metadata": {
        "id": "idgmI6ABqWxG",
        "colab_type": "code",
        "colab": {
          "base_uri": "https://localhost:8080/",
          "height": 136
        },
        "outputId": "68045454-5ab1-4c40-bbef-5bd85ad7834c"
      },
      "source": [
        "df_codes['District Name(in English)'].unique()"
      ],
      "execution_count": 17,
      "outputs": [
        {
          "output_type": "execute_result",
          "data": {
            "text/plain": [
              "array(['BAGALKOTE', 'BALLARI', 'BELAGAVI', 'BENGALURU RURAL',\n",
              "       'BENGALURU URBAN', 'BIDAR', 'CHAMARAJANAGARA', 'CHIKKABALLAPURA',\n",
              "       'CHIKKAMAGALURU', 'CHITRADURGA', 'DAKSHINA KANNADA', 'DAVANGERE',\n",
              "       'DHARWAD', 'GADAG', 'HASSAN', 'HAVERI', 'KALABURAGI', 'KODAGU',\n",
              "       'KOLAR', 'KOPPAL', 'MANDYA', 'MYSURU', 'RAICHUR', 'RAMANAGARA',\n",
              "       'SHIVAMOGGA', 'TUMAKURU', 'UDUPI', 'UTTARA KANNADA', 'VIJAYAPURA',\n",
              "       'YADGIR'], dtype=object)"
            ]
          },
          "metadata": {
            "tags": []
          },
          "execution_count": 17
        }
      ]
    },
    {
      "cell_type": "code",
      "metadata": {
        "id": "APoVZ0FeqmtE",
        "colab_type": "code",
        "colab": {
          "base_uri": "https://localhost:8080/",
          "height": 34
        },
        "outputId": "c2480ff2-0b31-447c-f28f-33f755923122"
      },
      "source": [
        "df_codes['District Name(in English)'].nunique()"
      ],
      "execution_count": 18,
      "outputs": [
        {
          "output_type": "execute_result",
          "data": {
            "text/plain": [
              "30"
            ]
          },
          "metadata": {
            "tags": []
          },
          "execution_count": 18
        }
      ]
    },
    {
      "cell_type": "code",
      "metadata": {
        "id": "txkup9VPrF25",
        "colab_type": "code",
        "colab": {}
      },
      "source": [
        "#df_codes['Sub District Name(in English)'].unique()"
      ],
      "execution_count": 19,
      "outputs": []
    },
    {
      "cell_type": "code",
      "metadata": {
        "id": "RjVinbU9rRrd",
        "colab_type": "code",
        "colab": {
          "base_uri": "https://localhost:8080/",
          "height": 34
        },
        "outputId": "cbdf6001-5a6e-4565-b6d9-c51556c080a2"
      },
      "source": [
        "df_codes['Sub District Name(in English)'].nunique()"
      ],
      "execution_count": 20,
      "outputs": [
        {
          "output_type": "execute_result",
          "data": {
            "text/plain": [
              "227"
            ]
          },
          "metadata": {
            "tags": []
          },
          "execution_count": 20
        }
      ]
    },
    {
      "cell_type": "code",
      "metadata": {
        "id": "0oUivrCEqqT7",
        "colab_type": "code",
        "colab": {
          "base_uri": "https://localhost:8080/",
          "height": 68
        },
        "outputId": "98535d10-32b8-4e27-c0fc-112d1aa511c9"
      },
      "source": [
        "df_codes['District Code'].unique()"
      ],
      "execution_count": 21,
      "outputs": [
        {
          "output_type": "execute_result",
          "data": {
            "text/plain": [
              "array([524, 528, 527, 526, 525, 529, 531, 630, 532, 533, 534, 535, 536,\n",
              "       537, 539, 540, 538, 541, 542, 543, 544, 545, 546, 631, 547, 548,\n",
              "       549, 550, 530, 635])"
            ]
          },
          "metadata": {
            "tags": []
          },
          "execution_count": 21
        }
      ]
    },
    {
      "cell_type": "code",
      "metadata": {
        "id": "BRtzMlxhqxHC",
        "colab_type": "code",
        "colab": {
          "base_uri": "https://localhost:8080/",
          "height": 68
        },
        "outputId": "35126b3b-b405-430c-bb82-83e9ed5eddb4"
      },
      "source": [
        "df_codes['District Census Code2011'].unique()"
      ],
      "execution_count": 22,
      "outputs": [
        {
          "output_type": "execute_result",
          "data": {
            "text/plain": [
              "array([556, 565, 555, 583, 572, 558, 578, 582, 570, 566, 575, 567, 562,\n",
              "       561, 574, 564, 579, 576, 581, 560, 573, 577, 559, 584, 568, 571,\n",
              "       569, 563, 557, 580])"
            ]
          },
          "metadata": {
            "tags": []
          },
          "execution_count": 22
        }
      ]
    },
    {
      "cell_type": "code",
      "metadata": {
        "id": "jjZmumUInDoc",
        "colab_type": "code",
        "colab": {}
      },
      "source": [
        "#cols = [0,3,4,7,8,11,12]\n",
        "#df_codes.drop(df_codes.columns[cols], axis=1, inplace=True);"
      ],
      "execution_count": 23,
      "outputs": []
    },
    {
      "cell_type": "code",
      "metadata": {
        "id": "-p2dvzQfko7X",
        "colab_type": "code",
        "colab": {
          "base_uri": "https://localhost:8080/",
          "height": 34
        },
        "outputId": "c1355637-6140-41bc-d498-fcd1651bc533"
      },
      "source": [
        "df_codes.isnull().values.any()"
      ],
      "execution_count": 24,
      "outputs": [
        {
          "output_type": "execute_result",
          "data": {
            "text/plain": [
              "True"
            ]
          },
          "metadata": {
            "tags": []
          },
          "execution_count": 24
        }
      ]
    },
    {
      "cell_type": "code",
      "metadata": {
        "id": "9eDDc-K8y33j",
        "colab_type": "code",
        "colab": {
          "base_uri": "https://localhost:8080/",
          "height": 51
        },
        "outputId": "dcf7a3ae-a018-4312-c80a-498c3ce90759"
      },
      "source": [
        "(df_codes['District Census Code2011'] == 0).value_counts()"
      ],
      "execution_count": 25,
      "outputs": [
        {
          "output_type": "execute_result",
          "data": {
            "text/plain": [
              "False    34328\n",
              "Name: District Census Code2011, dtype: int64"
            ]
          },
          "metadata": {
            "tags": []
          },
          "execution_count": 25
        }
      ]
    },
    {
      "cell_type": "code",
      "metadata": {
        "id": "3AikQF2WlQZH",
        "colab_type": "code",
        "colab": {
          "base_uri": "https://localhost:8080/",
          "height": 68
        },
        "outputId": "d2908fc7-1866-4d4d-fd9a-8b2dc59e75e3"
      },
      "source": [
        "(df_codes['Village Census Code 2011'] == 0).value_counts()"
      ],
      "execution_count": 26,
      "outputs": [
        {
          "output_type": "execute_result",
          "data": {
            "text/plain": [
              "False    29523\n",
              "True      4805\n",
              "Name: Village Census Code 2011, dtype: int64"
            ]
          },
          "metadata": {
            "tags": []
          },
          "execution_count": 26
        }
      ]
    },
    {
      "cell_type": "code",
      "metadata": {
        "id": "-FoJxv6tyr1x",
        "colab_type": "code",
        "colab": {
          "base_uri": "https://localhost:8080/",
          "height": 51
        },
        "outputId": "3db15ebb-41a5-41a7-8bb8-efef83f9cfb5"
      },
      "source": [
        "(df_codes['Village Code'] == 0).value_counts()"
      ],
      "execution_count": 27,
      "outputs": [
        {
          "output_type": "execute_result",
          "data": {
            "text/plain": [
              "False    34328\n",
              "Name: Village Code, dtype: int64"
            ]
          },
          "metadata": {
            "tags": []
          },
          "execution_count": 27
        }
      ]
    },
    {
      "cell_type": "code",
      "metadata": {
        "id": "NLqsLuYflpZ5",
        "colab_type": "code",
        "colab": {
          "base_uri": "https://localhost:8080/",
          "height": 68
        },
        "outputId": "390a8159-9eea-4aaa-8885-6682ec986b50"
      },
      "source": [
        "(df_codes['Sub District Census Code 2011'] == 0).value_counts()"
      ],
      "execution_count": 28,
      "outputs": [
        {
          "output_type": "execute_result",
          "data": {
            "text/plain": [
              "False    31602\n",
              "True      2726\n",
              "Name: Sub District Census Code 2011, dtype: int64"
            ]
          },
          "metadata": {
            "tags": []
          },
          "execution_count": 28
        }
      ]
    },
    {
      "cell_type": "code",
      "metadata": {
        "id": "50RNfIZpx2Bk",
        "colab_type": "code",
        "colab": {
          "base_uri": "https://localhost:8080/",
          "height": 51
        },
        "outputId": "92672438-a37d-4649-b19d-bc552edad8cd"
      },
      "source": [
        "(df_codes['Sub District Code'] == 0).value_counts()"
      ],
      "execution_count": 29,
      "outputs": [
        {
          "output_type": "execute_result",
          "data": {
            "text/plain": [
              "False    34328\n",
              "Name: Sub District Code, dtype: int64"
            ]
          },
          "metadata": {
            "tags": []
          },
          "execution_count": 29
        }
      ]
    },
    {
      "cell_type": "code",
      "metadata": {
        "id": "gJu3RxuizoHy",
        "colab_type": "code",
        "colab": {}
      },
      "source": [
        "df_codes['unique code'] = '29'+ df_codes['District Census Code2011'].map(str) + '0' + df_codes['Sub District Code'].map(str) + df_codes['Village Code'].map(str)"
      ],
      "execution_count": 30,
      "outputs": []
    },
    {
      "cell_type": "code",
      "metadata": {
        "id": "P4naj_52AlWc",
        "colab_type": "code",
        "colab": {
          "base_uri": "https://localhost:8080/",
          "height": 391
        },
        "outputId": "45aa2d28-320c-482f-d318-93b10241332f"
      },
      "source": [
        "df_codes.info()"
      ],
      "execution_count": 31,
      "outputs": [
        {
          "output_type": "stream",
          "text": [
            "<class 'pandas.core.frame.DataFrame'>\n",
            "RangeIndex: 34328 entries, 0 to 34327\n",
            "Data columns (total 15 columns):\n",
            " #   Column                         Non-Null Count  Dtype  \n",
            "---  ------                         --------------  -----  \n",
            " 0   District Code                  34328 non-null  int64  \n",
            " 1   District Name(in English)      34328 non-null  object \n",
            " 2   District Census Code2011       34328 non-null  int64  \n",
            " 3   District Census Code 2001      34328 non-null  int64  \n",
            " 4   Sub District Code              34328 non-null  int64  \n",
            " 5   Sub District Name(in English)  34328 non-null  object \n",
            " 6   Sub District Census Code 2011  34328 non-null  int64  \n",
            " 7   Sub District Census Code 2001  31602 non-null  float64\n",
            " 8   Village Code                   34328 non-null  int64  \n",
            " 9   Village Name(in English)       34328 non-null  object \n",
            " 10  Village Census Code 2011       34328 non-null  int64  \n",
            " 11  Village Census Code 2001       29446 non-null  float64\n",
            " 12  Local Body Code                32616 non-null  float64\n",
            " 13  Local Body Name(in English)    32616 non-null  object \n",
            " 14  unique code                    34328 non-null  object \n",
            "dtypes: float64(3), int64(7), object(5)\n",
            "memory usage: 3.9+ MB\n"
          ],
          "name": "stdout"
        }
      ]
    },
    {
      "cell_type": "code",
      "metadata": {
        "id": "x2yhTusYAsIX",
        "colab_type": "code",
        "colab": {
          "base_uri": "https://localhost:8080/",
          "height": 309
        },
        "outputId": "0442c018-1158-4bd6-836b-f4dafe9cca9b"
      },
      "source": [
        "df_codes.sample(5)"
      ],
      "execution_count": 32,
      "outputs": [
        {
          "output_type": "execute_result",
          "data": {
            "text/html": [
              "<div>\n",
              "<style scoped>\n",
              "    .dataframe tbody tr th:only-of-type {\n",
              "        vertical-align: middle;\n",
              "    }\n",
              "\n",
              "    .dataframe tbody tr th {\n",
              "        vertical-align: top;\n",
              "    }\n",
              "\n",
              "    .dataframe thead th {\n",
              "        text-align: right;\n",
              "    }\n",
              "</style>\n",
              "<table border=\"1\" class=\"dataframe\">\n",
              "  <thead>\n",
              "    <tr style=\"text-align: right;\">\n",
              "      <th></th>\n",
              "      <th>District Code</th>\n",
              "      <th>District Name(in English)</th>\n",
              "      <th>District Census Code2011</th>\n",
              "      <th>District Census Code 2001</th>\n",
              "      <th>Sub District Code</th>\n",
              "      <th>Sub District Name(in English)</th>\n",
              "      <th>Sub District Census Code 2011</th>\n",
              "      <th>Sub District Census Code 2001</th>\n",
              "      <th>Village Code</th>\n",
              "      <th>Village Name(in English)</th>\n",
              "      <th>Village Census Code 2011</th>\n",
              "      <th>Village Census Code 2001</th>\n",
              "      <th>Local Body Code</th>\n",
              "      <th>Local Body Name(in English)</th>\n",
              "      <th>unique code</th>\n",
              "    </tr>\n",
              "  </thead>\n",
              "  <tbody>\n",
              "    <tr>\n",
              "      <th>14376</th>\n",
              "      <td>539</td>\n",
              "      <td>HASSAN</td>\n",
              "      <td>574</td>\n",
              "      <td>23</td>\n",
              "      <td>5558</td>\n",
              "      <td>Arkalgud</td>\n",
              "      <td>5558</td>\n",
              "      <td>6.0</td>\n",
              "      <td>616700</td>\n",
              "      <td>Kabbaligere</td>\n",
              "      <td>616700</td>\n",
              "      <td>2618500.0</td>\n",
              "      <td>218221.0</td>\n",
              "      <td>CHIKKANAHALLI</td>\n",
              "      <td>2957405558616700</td>\n",
              "    </tr>\n",
              "    <tr>\n",
              "      <th>1034</th>\n",
              "      <td>528</td>\n",
              "      <td>BALLARI</td>\n",
              "      <td>565</td>\n",
              "      <td>12</td>\n",
              "      <td>5498</td>\n",
              "      <td>Hosapete</td>\n",
              "      <td>5498</td>\n",
              "      <td>3.0</td>\n",
              "      <td>604700</td>\n",
              "      <td>Ayyanahalli</td>\n",
              "      <td>604700</td>\n",
              "      <td>896400.0</td>\n",
              "      <td>216191.0</td>\n",
              "      <td>114.DANAPURA</td>\n",
              "      <td>2956505498604700</td>\n",
              "    </tr>\n",
              "    <tr>\n",
              "      <th>12009</th>\n",
              "      <td>534</td>\n",
              "      <td>DAKSHINA KANNADA</td>\n",
              "      <td>575</td>\n",
              "      <td>24</td>\n",
              "      <td>5563</td>\n",
              "      <td>Beltangadi</td>\n",
              "      <td>5563</td>\n",
              "      <td>3.0</td>\n",
              "      <td>617625</td>\n",
              "      <td>Shirlalu</td>\n",
              "      <td>617625</td>\n",
              "      <td>2709400.0</td>\n",
              "      <td>217283.0</td>\n",
              "      <td>SHIRLALU</td>\n",
              "      <td>2957505563617625</td>\n",
              "    </tr>\n",
              "    <tr>\n",
              "      <th>2032</th>\n",
              "      <td>527</td>\n",
              "      <td>BELAGAVI</td>\n",
              "      <td>555</td>\n",
              "      <td>1</td>\n",
              "      <td>5436</td>\n",
              "      <td>Gokak</td>\n",
              "      <td>5436</td>\n",
              "      <td>4.0</td>\n",
              "      <td>597539</td>\n",
              "      <td>Gosabal</td>\n",
              "      <td>597539</td>\n",
              "      <td>42400.0</td>\n",
              "      <td>215853.0</td>\n",
              "      <td>GOSABAL</td>\n",
              "      <td>2955505436597539</td>\n",
              "    </tr>\n",
              "    <tr>\n",
              "      <th>12768</th>\n",
              "      <td>535</td>\n",
              "      <td>DAVANGERE</td>\n",
              "      <td>567</td>\n",
              "      <td>14</td>\n",
              "      <td>5509</td>\n",
              "      <td>Harihar</td>\n",
              "      <td>5509</td>\n",
              "      <td>1.0</td>\n",
              "      <td>606225</td>\n",
              "      <td>Hindasaghatte</td>\n",
              "      <td>606225</td>\n",
              "      <td>1048200.0</td>\n",
              "      <td>217559.0</td>\n",
              "      <td>VASANA</td>\n",
              "      <td>2956705509606225</td>\n",
              "    </tr>\n",
              "  </tbody>\n",
              "</table>\n",
              "</div>"
            ],
            "text/plain": [
              "       District Code  ...       unique code\n",
              "14376            539  ...  2957405558616700\n",
              "1034             528  ...  2956505498604700\n",
              "12009            534  ...  2957505563617625\n",
              "2032             527  ...  2955505436597539\n",
              "12768            535  ...  2956705509606225\n",
              "\n",
              "[5 rows x 15 columns]"
            ]
          },
          "metadata": {
            "tags": []
          },
          "execution_count": 32
        }
      ]
    },
    {
      "cell_type": "code",
      "metadata": {
        "id": "N3DFrGzhH4D6",
        "colab_type": "code",
        "colab": {
          "base_uri": "https://localhost:8080/",
          "height": 34
        },
        "outputId": "67b3d73a-2318-40e5-f16f-48c26a7b76d4"
      },
      "source": [
        "df_codes['unique code'].isnull().values.any()"
      ],
      "execution_count": 33,
      "outputs": [
        {
          "output_type": "execute_result",
          "data": {
            "text/plain": [
              "False"
            ]
          },
          "metadata": {
            "tags": []
          },
          "execution_count": 33
        }
      ]
    },
    {
      "cell_type": "code",
      "metadata": {
        "id": "4dwACuqmAw3H",
        "colab_type": "code",
        "colab": {
          "base_uri": "https://localhost:8080/",
          "height": 323
        },
        "outputId": "4dc9d224-1291-47ac-80aa-67efd885760b"
      },
      "source": [
        "df_codes[df_codes['unique code'].duplicated(keep=False)]"
      ],
      "execution_count": 34,
      "outputs": [
        {
          "output_type": "execute_result",
          "data": {
            "text/html": [
              "<div>\n",
              "<style scoped>\n",
              "    .dataframe tbody tr th:only-of-type {\n",
              "        vertical-align: middle;\n",
              "    }\n",
              "\n",
              "    .dataframe tbody tr th {\n",
              "        vertical-align: top;\n",
              "    }\n",
              "\n",
              "    .dataframe thead th {\n",
              "        text-align: right;\n",
              "    }\n",
              "</style>\n",
              "<table border=\"1\" class=\"dataframe\">\n",
              "  <thead>\n",
              "    <tr style=\"text-align: right;\">\n",
              "      <th></th>\n",
              "      <th>District Code</th>\n",
              "      <th>District Name(in English)</th>\n",
              "      <th>District Census Code2011</th>\n",
              "      <th>District Census Code 2001</th>\n",
              "      <th>Sub District Code</th>\n",
              "      <th>Sub District Name(in English)</th>\n",
              "      <th>Sub District Census Code 2011</th>\n",
              "      <th>Sub District Census Code 2001</th>\n",
              "      <th>Village Code</th>\n",
              "      <th>Village Name(in English)</th>\n",
              "      <th>Village Census Code 2011</th>\n",
              "      <th>Village Census Code 2001</th>\n",
              "      <th>Local Body Code</th>\n",
              "      <th>Local Body Name(in English)</th>\n",
              "      <th>unique code</th>\n",
              "    </tr>\n",
              "  </thead>\n",
              "  <tbody>\n",
              "    <tr>\n",
              "      <th>18797</th>\n",
              "      <td>541</td>\n",
              "      <td>KODAGU</td>\n",
              "      <td>576</td>\n",
              "      <td>25</td>\n",
              "      <td>5568</td>\n",
              "      <td>Virajpet</td>\n",
              "      <td>5568</td>\n",
              "      <td>3.0</td>\n",
              "      <td>618050</td>\n",
              "      <td>Aruvath0Klu</td>\n",
              "      <td>618050</td>\n",
              "      <td>2751900.0</td>\n",
              "      <td>218728.0</td>\n",
              "      <td>ARUVATOKLU</td>\n",
              "      <td>2957605568618050</td>\n",
              "    </tr>\n",
              "    <tr>\n",
              "      <th>18798</th>\n",
              "      <td>541</td>\n",
              "      <td>KODAGU</td>\n",
              "      <td>576</td>\n",
              "      <td>25</td>\n",
              "      <td>5568</td>\n",
              "      <td>Virajpet</td>\n",
              "      <td>5568</td>\n",
              "      <td>3.0</td>\n",
              "      <td>618050</td>\n",
              "      <td>Aruvath0Klu</td>\n",
              "      <td>618050</td>\n",
              "      <td>2751900.0</td>\n",
              "      <td>218757.0</td>\n",
              "      <td>PONNAMPET</td>\n",
              "      <td>2957605568618050</td>\n",
              "    </tr>\n",
              "    <tr>\n",
              "      <th>18850</th>\n",
              "      <td>541</td>\n",
              "      <td>KODAGU</td>\n",
              "      <td>576</td>\n",
              "      <td>25</td>\n",
              "      <td>5568</td>\n",
              "      <td>Virajpet</td>\n",
              "      <td>5568</td>\n",
              "      <td>3.0</td>\n",
              "      <td>618054</td>\n",
              "      <td>Halligattu</td>\n",
              "      <td>618054</td>\n",
              "      <td>2752300.0</td>\n",
              "      <td>218728.0</td>\n",
              "      <td>ARUVATOKLU</td>\n",
              "      <td>2957605568618054</td>\n",
              "    </tr>\n",
              "    <tr>\n",
              "      <th>18851</th>\n",
              "      <td>541</td>\n",
              "      <td>KODAGU</td>\n",
              "      <td>576</td>\n",
              "      <td>25</td>\n",
              "      <td>5568</td>\n",
              "      <td>Virajpet</td>\n",
              "      <td>5568</td>\n",
              "      <td>3.0</td>\n",
              "      <td>618054</td>\n",
              "      <td>Halligattu</td>\n",
              "      <td>618054</td>\n",
              "      <td>2752300.0</td>\n",
              "      <td>218757.0</td>\n",
              "      <td>PONNAMPET</td>\n",
              "      <td>2957605568618054</td>\n",
              "    </tr>\n",
              "    <tr>\n",
              "      <th>26606</th>\n",
              "      <td>631</td>\n",
              "      <td>RAMANAGARA</td>\n",
              "      <td>584</td>\n",
              "      <td>21</td>\n",
              "      <td>5605</td>\n",
              "      <td>Magadi</td>\n",
              "      <td>5605</td>\n",
              "      <td>5.0</td>\n",
              "      <td>625784</td>\n",
              "      <td>Thippasandra</td>\n",
              "      <td>625784</td>\n",
              "      <td>2207000.0</td>\n",
              "      <td>215548.0</td>\n",
              "      <td>BELAGUMBA</td>\n",
              "      <td>2958405605625784</td>\n",
              "    </tr>\n",
              "    <tr>\n",
              "      <th>26607</th>\n",
              "      <td>631</td>\n",
              "      <td>RAMANAGARA</td>\n",
              "      <td>584</td>\n",
              "      <td>21</td>\n",
              "      <td>5605</td>\n",
              "      <td>Magadi</td>\n",
              "      <td>5605</td>\n",
              "      <td>5.0</td>\n",
              "      <td>625784</td>\n",
              "      <td>Thippasandra</td>\n",
              "      <td>625784</td>\n",
              "      <td>2207000.0</td>\n",
              "      <td>215574.0</td>\n",
              "      <td>THJPPASANDRA</td>\n",
              "      <td>2958405605625784</td>\n",
              "    </tr>\n",
              "  </tbody>\n",
              "</table>\n",
              "</div>"
            ],
            "text/plain": [
              "       District Code  ...       unique code\n",
              "18797            541  ...  2957605568618050\n",
              "18798            541  ...  2957605568618050\n",
              "18850            541  ...  2957605568618054\n",
              "18851            541  ...  2957605568618054\n",
              "26606            631  ...  2958405605625784\n",
              "26607            631  ...  2958405605625784\n",
              "\n",
              "[6 rows x 15 columns]"
            ]
          },
          "metadata": {
            "tags": []
          },
          "execution_count": 34
        }
      ]
    },
    {
      "cell_type": "code",
      "metadata": {
        "id": "hXJX2anwTXzz",
        "colab_type": "code",
        "colab": {}
      },
      "source": [
        "#df_codes.drop_duplicates(subset=['unique code'], inplace=True)"
      ],
      "execution_count": 35,
      "outputs": []
    },
    {
      "cell_type": "code",
      "metadata": {
        "id": "T_6KDU19GKne",
        "colab_type": "code",
        "colab": {
          "base_uri": "https://localhost:8080/",
          "height": 34
        },
        "outputId": "7bc644b8-eee7-4a7f-9ac1-853568f39c30"
      },
      "source": [
        "df_codes['Local Body Code'].nunique()"
      ],
      "execution_count": 36,
      "outputs": [
        {
          "output_type": "execute_result",
          "data": {
            "text/plain": [
              "6008"
            ]
          },
          "metadata": {
            "tags": []
          },
          "execution_count": 36
        }
      ]
    },
    {
      "cell_type": "code",
      "metadata": {
        "id": "7-80jDAGSHVK",
        "colab_type": "code",
        "colab": {}
      },
      "source": [
        "#cols = [0,2,3,4,6,7,8,10,11,12]\n",
        "#df_codes.drop(df_codes.columns[cols], axis=1, inplace=True);"
      ],
      "execution_count": 37,
      "outputs": []
    },
    {
      "cell_type": "code",
      "metadata": {
        "id": "2waGMugPgD7O",
        "colab_type": "code",
        "colab": {}
      },
      "source": [
        "df_codes.sort_values(by=['District Name(in English)', 'Sub District Name(in English)', 'Village Name(in English)', 'Local Body Name(in English)'], inplace=True)"
      ],
      "execution_count": 38,
      "outputs": []
    },
    {
      "cell_type": "code",
      "metadata": {
        "id": "KnvcLejggvrR",
        "colab_type": "code",
        "colab": {
          "base_uri": "https://localhost:8080/",
          "height": 292
        },
        "outputId": "a933c7af-ab9d-4ae4-a631-171034f8ff13"
      },
      "source": [
        "df_codes.head()"
      ],
      "execution_count": 39,
      "outputs": [
        {
          "output_type": "execute_result",
          "data": {
            "text/html": [
              "<div>\n",
              "<style scoped>\n",
              "    .dataframe tbody tr th:only-of-type {\n",
              "        vertical-align: middle;\n",
              "    }\n",
              "\n",
              "    .dataframe tbody tr th {\n",
              "        vertical-align: top;\n",
              "    }\n",
              "\n",
              "    .dataframe thead th {\n",
              "        text-align: right;\n",
              "    }\n",
              "</style>\n",
              "<table border=\"1\" class=\"dataframe\">\n",
              "  <thead>\n",
              "    <tr style=\"text-align: right;\">\n",
              "      <th></th>\n",
              "      <th>District Code</th>\n",
              "      <th>District Name(in English)</th>\n",
              "      <th>District Census Code2011</th>\n",
              "      <th>District Census Code 2001</th>\n",
              "      <th>Sub District Code</th>\n",
              "      <th>Sub District Name(in English)</th>\n",
              "      <th>Sub District Census Code 2011</th>\n",
              "      <th>Sub District Census Code 2001</th>\n",
              "      <th>Village Code</th>\n",
              "      <th>Village Name(in English)</th>\n",
              "      <th>Village Census Code 2011</th>\n",
              "      <th>Village Census Code 2001</th>\n",
              "      <th>Local Body Code</th>\n",
              "      <th>Local Body Name(in English)</th>\n",
              "      <th>unique code</th>\n",
              "    </tr>\n",
              "  </thead>\n",
              "  <tbody>\n",
              "    <tr>\n",
              "      <th>0</th>\n",
              "      <td>524</td>\n",
              "      <td>BAGALKOTE</td>\n",
              "      <td>556</td>\n",
              "      <td>2</td>\n",
              "      <td>5446</td>\n",
              "      <td>Badami</td>\n",
              "      <td>5446</td>\n",
              "      <td>4.0</td>\n",
              "      <td>598748</td>\n",
              "      <td>Adagal</td>\n",
              "      <td>598748</td>\n",
              "      <td>161700.0</td>\n",
              "      <td>215148.0</td>\n",
              "      <td>ADAGAL</td>\n",
              "      <td>2955605446598748</td>\n",
              "    </tr>\n",
              "    <tr>\n",
              "      <th>1</th>\n",
              "      <td>524</td>\n",
              "      <td>BAGALKOTE</td>\n",
              "      <td>556</td>\n",
              "      <td>2</td>\n",
              "      <td>5446</td>\n",
              "      <td>Badami</td>\n",
              "      <td>5446</td>\n",
              "      <td>4.0</td>\n",
              "      <td>598647</td>\n",
              "      <td>Agasarakoppa</td>\n",
              "      <td>598647</td>\n",
              "      <td>151600.0</td>\n",
              "      <td>215158.0</td>\n",
              "      <td>HULIGERI</td>\n",
              "      <td>2955605446598647</td>\n",
              "    </tr>\n",
              "    <tr>\n",
              "      <th>2</th>\n",
              "      <td>524</td>\n",
              "      <td>BAGALKOTE</td>\n",
              "      <td>556</td>\n",
              "      <td>2</td>\n",
              "      <td>5446</td>\n",
              "      <td>Badami</td>\n",
              "      <td>5446</td>\n",
              "      <td>4.0</td>\n",
              "      <td>598713</td>\n",
              "      <td>Aladakatti</td>\n",
              "      <td>598713</td>\n",
              "      <td>158200.0</td>\n",
              "      <td>215173.0</td>\n",
              "      <td>MUTALGERI</td>\n",
              "      <td>2955605446598713</td>\n",
              "    </tr>\n",
              "    <tr>\n",
              "      <th>3</th>\n",
              "      <td>524</td>\n",
              "      <td>BAGALKOTE</td>\n",
              "      <td>556</td>\n",
              "      <td>2</td>\n",
              "      <td>5446</td>\n",
              "      <td>Badami</td>\n",
              "      <td>5446</td>\n",
              "      <td>4.0</td>\n",
              "      <td>598724</td>\n",
              "      <td>Alur .S.K.</td>\n",
              "      <td>598724</td>\n",
              "      <td>159300.0</td>\n",
              "      <td>273085.0</td>\n",
              "      <td>ALUR-SK</td>\n",
              "      <td>2955605446598724</td>\n",
              "    </tr>\n",
              "    <tr>\n",
              "      <th>4</th>\n",
              "      <td>524</td>\n",
              "      <td>BAGALKOTE</td>\n",
              "      <td>556</td>\n",
              "      <td>2</td>\n",
              "      <td>5446</td>\n",
              "      <td>Badami</td>\n",
              "      <td>5446</td>\n",
              "      <td>4.0</td>\n",
              "      <td>598769</td>\n",
              "      <td>Anantagiri</td>\n",
              "      <td>598769</td>\n",
              "      <td>163800.0</td>\n",
              "      <td>215157.0</td>\n",
              "      <td>HOSUR</td>\n",
              "      <td>2955605446598769</td>\n",
              "    </tr>\n",
              "  </tbody>\n",
              "</table>\n",
              "</div>"
            ],
            "text/plain": [
              "   District Code  ...       unique code\n",
              "0            524  ...  2955605446598748\n",
              "1            524  ...  2955605446598647\n",
              "2            524  ...  2955605446598713\n",
              "3            524  ...  2955605446598724\n",
              "4            524  ...  2955605446598769\n",
              "\n",
              "[5 rows x 15 columns]"
            ]
          },
          "metadata": {
            "tags": []
          },
          "execution_count": 39
        }
      ]
    },
    {
      "cell_type": "code",
      "metadata": {
        "id": "PN8ZtoVcqJuc",
        "colab_type": "code",
        "colab": {}
      },
      "source": [
        "df_codes.replace(\" \",\"\", inplace=True, regex=True)"
      ],
      "execution_count": 40,
      "outputs": []
    },
    {
      "cell_type": "code",
      "metadata": {
        "id": "ZuYsfdLVqgpt",
        "colab_type": "code",
        "colab": {
          "base_uri": "https://localhost:8080/",
          "height": 292
        },
        "outputId": "1d319021-e610-4adb-e285-984f781385f1"
      },
      "source": [
        "df_codes.head()"
      ],
      "execution_count": 41,
      "outputs": [
        {
          "output_type": "execute_result",
          "data": {
            "text/html": [
              "<div>\n",
              "<style scoped>\n",
              "    .dataframe tbody tr th:only-of-type {\n",
              "        vertical-align: middle;\n",
              "    }\n",
              "\n",
              "    .dataframe tbody tr th {\n",
              "        vertical-align: top;\n",
              "    }\n",
              "\n",
              "    .dataframe thead th {\n",
              "        text-align: right;\n",
              "    }\n",
              "</style>\n",
              "<table border=\"1\" class=\"dataframe\">\n",
              "  <thead>\n",
              "    <tr style=\"text-align: right;\">\n",
              "      <th></th>\n",
              "      <th>District Code</th>\n",
              "      <th>District Name(in English)</th>\n",
              "      <th>District Census Code2011</th>\n",
              "      <th>District Census Code 2001</th>\n",
              "      <th>Sub District Code</th>\n",
              "      <th>Sub District Name(in English)</th>\n",
              "      <th>Sub District Census Code 2011</th>\n",
              "      <th>Sub District Census Code 2001</th>\n",
              "      <th>Village Code</th>\n",
              "      <th>Village Name(in English)</th>\n",
              "      <th>Village Census Code 2011</th>\n",
              "      <th>Village Census Code 2001</th>\n",
              "      <th>Local Body Code</th>\n",
              "      <th>Local Body Name(in English)</th>\n",
              "      <th>unique code</th>\n",
              "    </tr>\n",
              "  </thead>\n",
              "  <tbody>\n",
              "    <tr>\n",
              "      <th>0</th>\n",
              "      <td>524</td>\n",
              "      <td>BAGALKOTE</td>\n",
              "      <td>556</td>\n",
              "      <td>2</td>\n",
              "      <td>5446</td>\n",
              "      <td>Badami</td>\n",
              "      <td>5446</td>\n",
              "      <td>4.0</td>\n",
              "      <td>598748</td>\n",
              "      <td>Adagal</td>\n",
              "      <td>598748</td>\n",
              "      <td>161700.0</td>\n",
              "      <td>215148.0</td>\n",
              "      <td>ADAGAL</td>\n",
              "      <td>2955605446598748</td>\n",
              "    </tr>\n",
              "    <tr>\n",
              "      <th>1</th>\n",
              "      <td>524</td>\n",
              "      <td>BAGALKOTE</td>\n",
              "      <td>556</td>\n",
              "      <td>2</td>\n",
              "      <td>5446</td>\n",
              "      <td>Badami</td>\n",
              "      <td>5446</td>\n",
              "      <td>4.0</td>\n",
              "      <td>598647</td>\n",
              "      <td>Agasarakoppa</td>\n",
              "      <td>598647</td>\n",
              "      <td>151600.0</td>\n",
              "      <td>215158.0</td>\n",
              "      <td>HULIGERI</td>\n",
              "      <td>2955605446598647</td>\n",
              "    </tr>\n",
              "    <tr>\n",
              "      <th>2</th>\n",
              "      <td>524</td>\n",
              "      <td>BAGALKOTE</td>\n",
              "      <td>556</td>\n",
              "      <td>2</td>\n",
              "      <td>5446</td>\n",
              "      <td>Badami</td>\n",
              "      <td>5446</td>\n",
              "      <td>4.0</td>\n",
              "      <td>598713</td>\n",
              "      <td>Aladakatti</td>\n",
              "      <td>598713</td>\n",
              "      <td>158200.0</td>\n",
              "      <td>215173.0</td>\n",
              "      <td>MUTALGERI</td>\n",
              "      <td>2955605446598713</td>\n",
              "    </tr>\n",
              "    <tr>\n",
              "      <th>3</th>\n",
              "      <td>524</td>\n",
              "      <td>BAGALKOTE</td>\n",
              "      <td>556</td>\n",
              "      <td>2</td>\n",
              "      <td>5446</td>\n",
              "      <td>Badami</td>\n",
              "      <td>5446</td>\n",
              "      <td>4.0</td>\n",
              "      <td>598724</td>\n",
              "      <td>Alur.S.K.</td>\n",
              "      <td>598724</td>\n",
              "      <td>159300.0</td>\n",
              "      <td>273085.0</td>\n",
              "      <td>ALUR-SK</td>\n",
              "      <td>2955605446598724</td>\n",
              "    </tr>\n",
              "    <tr>\n",
              "      <th>4</th>\n",
              "      <td>524</td>\n",
              "      <td>BAGALKOTE</td>\n",
              "      <td>556</td>\n",
              "      <td>2</td>\n",
              "      <td>5446</td>\n",
              "      <td>Badami</td>\n",
              "      <td>5446</td>\n",
              "      <td>4.0</td>\n",
              "      <td>598769</td>\n",
              "      <td>Anantagiri</td>\n",
              "      <td>598769</td>\n",
              "      <td>163800.0</td>\n",
              "      <td>215157.0</td>\n",
              "      <td>HOSUR</td>\n",
              "      <td>2955605446598769</td>\n",
              "    </tr>\n",
              "  </tbody>\n",
              "</table>\n",
              "</div>"
            ],
            "text/plain": [
              "   District Code  ...       unique code\n",
              "0            524  ...  2955605446598748\n",
              "1            524  ...  2955605446598647\n",
              "2            524  ...  2955605446598713\n",
              "3            524  ...  2955605446598724\n",
              "4            524  ...  2955605446598769\n",
              "\n",
              "[5 rows x 15 columns]"
            ]
          },
          "metadata": {
            "tags": []
          },
          "execution_count": 41
        }
      ]
    },
    {
      "cell_type": "code",
      "metadata": {
        "id": "165WfdIesGth",
        "colab_type": "code",
        "colab": {}
      },
      "source": [
        "df_codes['District Name(in English)'] = df_codes['District Name(in English)'].str.lower();\n",
        "df_codes['Sub District Name(in English)'] = df_codes['Sub District Name(in English)'].str.lower();\n",
        "df_codes['Village Name(in English)'] = df_codes['Village Name(in English)'].str.lower();\n",
        "df_codes['Local Body Name(in English)'] = df_codes['Local Body Name(in English)'].str.lower();"
      ],
      "execution_count": 42,
      "outputs": []
    },
    {
      "cell_type": "code",
      "metadata": {
        "id": "YvZnKk4ss1E9",
        "colab_type": "code",
        "colab": {
          "base_uri": "https://localhost:8080/",
          "height": 292
        },
        "outputId": "d2678038-61b5-4ba3-ec40-1f99f46df049"
      },
      "source": [
        "df_codes.head()"
      ],
      "execution_count": 43,
      "outputs": [
        {
          "output_type": "execute_result",
          "data": {
            "text/html": [
              "<div>\n",
              "<style scoped>\n",
              "    .dataframe tbody tr th:only-of-type {\n",
              "        vertical-align: middle;\n",
              "    }\n",
              "\n",
              "    .dataframe tbody tr th {\n",
              "        vertical-align: top;\n",
              "    }\n",
              "\n",
              "    .dataframe thead th {\n",
              "        text-align: right;\n",
              "    }\n",
              "</style>\n",
              "<table border=\"1\" class=\"dataframe\">\n",
              "  <thead>\n",
              "    <tr style=\"text-align: right;\">\n",
              "      <th></th>\n",
              "      <th>District Code</th>\n",
              "      <th>District Name(in English)</th>\n",
              "      <th>District Census Code2011</th>\n",
              "      <th>District Census Code 2001</th>\n",
              "      <th>Sub District Code</th>\n",
              "      <th>Sub District Name(in English)</th>\n",
              "      <th>Sub District Census Code 2011</th>\n",
              "      <th>Sub District Census Code 2001</th>\n",
              "      <th>Village Code</th>\n",
              "      <th>Village Name(in English)</th>\n",
              "      <th>Village Census Code 2011</th>\n",
              "      <th>Village Census Code 2001</th>\n",
              "      <th>Local Body Code</th>\n",
              "      <th>Local Body Name(in English)</th>\n",
              "      <th>unique code</th>\n",
              "    </tr>\n",
              "  </thead>\n",
              "  <tbody>\n",
              "    <tr>\n",
              "      <th>0</th>\n",
              "      <td>524</td>\n",
              "      <td>bagalkote</td>\n",
              "      <td>556</td>\n",
              "      <td>2</td>\n",
              "      <td>5446</td>\n",
              "      <td>badami</td>\n",
              "      <td>5446</td>\n",
              "      <td>4.0</td>\n",
              "      <td>598748</td>\n",
              "      <td>adagal</td>\n",
              "      <td>598748</td>\n",
              "      <td>161700.0</td>\n",
              "      <td>215148.0</td>\n",
              "      <td>adagal</td>\n",
              "      <td>2955605446598748</td>\n",
              "    </tr>\n",
              "    <tr>\n",
              "      <th>1</th>\n",
              "      <td>524</td>\n",
              "      <td>bagalkote</td>\n",
              "      <td>556</td>\n",
              "      <td>2</td>\n",
              "      <td>5446</td>\n",
              "      <td>badami</td>\n",
              "      <td>5446</td>\n",
              "      <td>4.0</td>\n",
              "      <td>598647</td>\n",
              "      <td>agasarakoppa</td>\n",
              "      <td>598647</td>\n",
              "      <td>151600.0</td>\n",
              "      <td>215158.0</td>\n",
              "      <td>huligeri</td>\n",
              "      <td>2955605446598647</td>\n",
              "    </tr>\n",
              "    <tr>\n",
              "      <th>2</th>\n",
              "      <td>524</td>\n",
              "      <td>bagalkote</td>\n",
              "      <td>556</td>\n",
              "      <td>2</td>\n",
              "      <td>5446</td>\n",
              "      <td>badami</td>\n",
              "      <td>5446</td>\n",
              "      <td>4.0</td>\n",
              "      <td>598713</td>\n",
              "      <td>aladakatti</td>\n",
              "      <td>598713</td>\n",
              "      <td>158200.0</td>\n",
              "      <td>215173.0</td>\n",
              "      <td>mutalgeri</td>\n",
              "      <td>2955605446598713</td>\n",
              "    </tr>\n",
              "    <tr>\n",
              "      <th>3</th>\n",
              "      <td>524</td>\n",
              "      <td>bagalkote</td>\n",
              "      <td>556</td>\n",
              "      <td>2</td>\n",
              "      <td>5446</td>\n",
              "      <td>badami</td>\n",
              "      <td>5446</td>\n",
              "      <td>4.0</td>\n",
              "      <td>598724</td>\n",
              "      <td>alur.s.k.</td>\n",
              "      <td>598724</td>\n",
              "      <td>159300.0</td>\n",
              "      <td>273085.0</td>\n",
              "      <td>alur-sk</td>\n",
              "      <td>2955605446598724</td>\n",
              "    </tr>\n",
              "    <tr>\n",
              "      <th>4</th>\n",
              "      <td>524</td>\n",
              "      <td>bagalkote</td>\n",
              "      <td>556</td>\n",
              "      <td>2</td>\n",
              "      <td>5446</td>\n",
              "      <td>badami</td>\n",
              "      <td>5446</td>\n",
              "      <td>4.0</td>\n",
              "      <td>598769</td>\n",
              "      <td>anantagiri</td>\n",
              "      <td>598769</td>\n",
              "      <td>163800.0</td>\n",
              "      <td>215157.0</td>\n",
              "      <td>hosur</td>\n",
              "      <td>2955605446598769</td>\n",
              "    </tr>\n",
              "  </tbody>\n",
              "</table>\n",
              "</div>"
            ],
            "text/plain": [
              "   District Code  ...       unique code\n",
              "0            524  ...  2955605446598748\n",
              "1            524  ...  2955605446598647\n",
              "2            524  ...  2955605446598713\n",
              "3            524  ...  2955605446598724\n",
              "4            524  ...  2955605446598769\n",
              "\n",
              "[5 rows x 15 columns]"
            ]
          },
          "metadata": {
            "tags": []
          },
          "execution_count": 43
        }
      ]
    },
    {
      "cell_type": "code",
      "metadata": {
        "id": "wdo8CsSpXDD-",
        "colab_type": "code",
        "colab": {}
      },
      "source": [
        "df_cleaned.sort_values(by=['District', 'Taluk', 'Village', 'Gram Panchayat'], inplace=True)"
      ],
      "execution_count": 44,
      "outputs": []
    },
    {
      "cell_type": "code",
      "metadata": {
        "id": "xu_S2cmPfzNW",
        "colab_type": "code",
        "colab": {
          "base_uri": "https://localhost:8080/",
          "height": 204
        },
        "outputId": "8d53a808-aea6-4676-9f05-7ac3b6ad4bee"
      },
      "source": [
        "df_cleaned.head()"
      ],
      "execution_count": 45,
      "outputs": [
        {
          "output_type": "execute_result",
          "data": {
            "text/html": [
              "<div>\n",
              "<style scoped>\n",
              "    .dataframe tbody tr th:only-of-type {\n",
              "        vertical-align: middle;\n",
              "    }\n",
              "\n",
              "    .dataframe tbody tr th {\n",
              "        vertical-align: top;\n",
              "    }\n",
              "\n",
              "    .dataframe thead th {\n",
              "        text-align: right;\n",
              "    }\n",
              "</style>\n",
              "<table border=\"1\" class=\"dataframe\">\n",
              "  <thead>\n",
              "    <tr style=\"text-align: right;\">\n",
              "      <th></th>\n",
              "      <th>District</th>\n",
              "      <th>Taluk</th>\n",
              "      <th>Gram Panchayat</th>\n",
              "      <th>Village</th>\n",
              "      <th>HDI</th>\n",
              "      <th>Rank.3</th>\n",
              "    </tr>\n",
              "  </thead>\n",
              "  <tbody>\n",
              "    <tr>\n",
              "      <th>17161</th>\n",
              "      <td>Bagalkot</td>\n",
              "      <td>Badami</td>\n",
              "      <td>Adagal</td>\n",
              "      <td>Adagal</td>\n",
              "      <td>0.38380</td>\n",
              "      <td>17162.0</td>\n",
              "    </tr>\n",
              "    <tr>\n",
              "      <th>21427</th>\n",
              "      <td>Bagalkot</td>\n",
              "      <td>Badami</td>\n",
              "      <td>Hoolageri</td>\n",
              "      <td>Agasarakoppa</td>\n",
              "      <td>0.32272</td>\n",
              "      <td>21428.0</td>\n",
              "    </tr>\n",
              "    <tr>\n",
              "      <th>20631</th>\n",
              "      <td>Bagalkot</td>\n",
              "      <td>Badami</td>\n",
              "      <td>Mutalgeri</td>\n",
              "      <td>Aladakatti</td>\n",
              "      <td>0.33646</td>\n",
              "      <td>20632.0</td>\n",
              "    </tr>\n",
              "    <tr>\n",
              "      <th>23247</th>\n",
              "      <td>Bagalkot</td>\n",
              "      <td>Badami</td>\n",
              "      <td>Haldur</td>\n",
              "      <td>Allur.S.p.</td>\n",
              "      <td>0.28975</td>\n",
              "      <td>23248.0</td>\n",
              "    </tr>\n",
              "    <tr>\n",
              "      <th>21321</th>\n",
              "      <td>Bagalkot</td>\n",
              "      <td>Badami</td>\n",
              "      <td>Alur.s.k.</td>\n",
              "      <td>Alur.s.k.</td>\n",
              "      <td>0.32455</td>\n",
              "      <td>21322.0</td>\n",
              "    </tr>\n",
              "  </tbody>\n",
              "</table>\n",
              "</div>"
            ],
            "text/plain": [
              "       District   Taluk Gram Panchayat       Village      HDI   Rank.3\n",
              "17161  Bagalkot  Badami         Adagal        Adagal  0.38380  17162.0\n",
              "21427  Bagalkot  Badami      Hoolageri  Agasarakoppa  0.32272  21428.0\n",
              "20631  Bagalkot  Badami      Mutalgeri    Aladakatti  0.33646  20632.0\n",
              "23247  Bagalkot  Badami         Haldur    Allur.S.p.  0.28975  23248.0\n",
              "21321  Bagalkot  Badami      Alur.s.k.     Alur.s.k.  0.32455  21322.0"
            ]
          },
          "metadata": {
            "tags": []
          },
          "execution_count": 45
        }
      ]
    },
    {
      "cell_type": "code",
      "metadata": {
        "id": "O3e4xHGjf2RS",
        "colab_type": "code",
        "colab": {}
      },
      "source": [
        "df_cleaned['District'] = df_cleaned['District'].str.lower();\n",
        "df_cleaned['Taluk'] = df_cleaned['Taluk'].str.lower();\n",
        "df_cleaned['Village'] = df_cleaned['Village'].str.lower();\n",
        "df_cleaned['Gram Panchayat'] = df_cleaned['Gram Panchayat'].str.lower();"
      ],
      "execution_count": 46,
      "outputs": []
    },
    {
      "cell_type": "code",
      "metadata": {
        "id": "_HnFaO2-uSCM",
        "colab_type": "code",
        "colab": {
          "base_uri": "https://localhost:8080/",
          "height": 204
        },
        "outputId": "eb889cd5-1f51-4bdf-fccd-11f2dbc9f56f"
      },
      "source": [
        "df_cleaned.head()"
      ],
      "execution_count": 47,
      "outputs": [
        {
          "output_type": "execute_result",
          "data": {
            "text/html": [
              "<div>\n",
              "<style scoped>\n",
              "    .dataframe tbody tr th:only-of-type {\n",
              "        vertical-align: middle;\n",
              "    }\n",
              "\n",
              "    .dataframe tbody tr th {\n",
              "        vertical-align: top;\n",
              "    }\n",
              "\n",
              "    .dataframe thead th {\n",
              "        text-align: right;\n",
              "    }\n",
              "</style>\n",
              "<table border=\"1\" class=\"dataframe\">\n",
              "  <thead>\n",
              "    <tr style=\"text-align: right;\">\n",
              "      <th></th>\n",
              "      <th>District</th>\n",
              "      <th>Taluk</th>\n",
              "      <th>Gram Panchayat</th>\n",
              "      <th>Village</th>\n",
              "      <th>HDI</th>\n",
              "      <th>Rank.3</th>\n",
              "    </tr>\n",
              "  </thead>\n",
              "  <tbody>\n",
              "    <tr>\n",
              "      <th>17161</th>\n",
              "      <td>bagalkot</td>\n",
              "      <td>badami</td>\n",
              "      <td>adagal</td>\n",
              "      <td>adagal</td>\n",
              "      <td>0.38380</td>\n",
              "      <td>17162.0</td>\n",
              "    </tr>\n",
              "    <tr>\n",
              "      <th>21427</th>\n",
              "      <td>bagalkot</td>\n",
              "      <td>badami</td>\n",
              "      <td>hoolageri</td>\n",
              "      <td>agasarakoppa</td>\n",
              "      <td>0.32272</td>\n",
              "      <td>21428.0</td>\n",
              "    </tr>\n",
              "    <tr>\n",
              "      <th>20631</th>\n",
              "      <td>bagalkot</td>\n",
              "      <td>badami</td>\n",
              "      <td>mutalgeri</td>\n",
              "      <td>aladakatti</td>\n",
              "      <td>0.33646</td>\n",
              "      <td>20632.0</td>\n",
              "    </tr>\n",
              "    <tr>\n",
              "      <th>23247</th>\n",
              "      <td>bagalkot</td>\n",
              "      <td>badami</td>\n",
              "      <td>haldur</td>\n",
              "      <td>allur.s.p.</td>\n",
              "      <td>0.28975</td>\n",
              "      <td>23248.0</td>\n",
              "    </tr>\n",
              "    <tr>\n",
              "      <th>21321</th>\n",
              "      <td>bagalkot</td>\n",
              "      <td>badami</td>\n",
              "      <td>alur.s.k.</td>\n",
              "      <td>alur.s.k.</td>\n",
              "      <td>0.32455</td>\n",
              "      <td>21322.0</td>\n",
              "    </tr>\n",
              "  </tbody>\n",
              "</table>\n",
              "</div>"
            ],
            "text/plain": [
              "       District   Taluk Gram Panchayat       Village      HDI   Rank.3\n",
              "17161  bagalkot  badami         adagal        adagal  0.38380  17162.0\n",
              "21427  bagalkot  badami      hoolageri  agasarakoppa  0.32272  21428.0\n",
              "20631  bagalkot  badami      mutalgeri    aladakatti  0.33646  20632.0\n",
              "23247  bagalkot  badami         haldur    allur.s.p.  0.28975  23248.0\n",
              "21321  bagalkot  badami      alur.s.k.     alur.s.k.  0.32455  21322.0"
            ]
          },
          "metadata": {
            "tags": []
          },
          "execution_count": 47
        }
      ]
    },
    {
      "cell_type": "code",
      "metadata": {
        "id": "dygvz4NVucWd",
        "colab_type": "code",
        "colab": {
          "base_uri": "https://localhost:8080/",
          "height": 85
        },
        "outputId": "5cd43182-7539-497b-c39f-7b909874cd34"
      },
      "source": [
        "df_codes['District Name(in English)'].unique() == df_cleaned['District'].unique()"
      ],
      "execution_count": 48,
      "outputs": [
        {
          "output_type": "execute_result",
          "data": {
            "text/plain": [
              "array([False,  True,  True,  True,  True,  True,  True,  True, False,\n",
              "        True,  True, False,  True,  True,  True,  True,  True,  True,\n",
              "        True,  True,  True,  True,  True,  True,  True,  True,  True,\n",
              "        True,  True,  True])"
            ]
          },
          "metadata": {
            "tags": []
          },
          "execution_count": 48
        }
      ]
    },
    {
      "cell_type": "code",
      "metadata": {
        "id": "lEXdCRoXXnvR",
        "colab_type": "code",
        "colab": {
          "base_uri": "https://localhost:8080/",
          "height": 136
        },
        "outputId": "9fd53c99-f04b-4624-ed6f-376340b4fbda"
      },
      "source": [
        "df_codes['District Name(in English)'].unique()"
      ],
      "execution_count": 49,
      "outputs": [
        {
          "output_type": "execute_result",
          "data": {
            "text/plain": [
              "array(['bagalkote', 'ballari', 'belagavi', 'bengalururural',\n",
              "       'bengaluruurban', 'bidar', 'chamarajanagara', 'chikkaballapura',\n",
              "       'chikkamagaluru', 'chitradurga', 'dakshinakannada', 'davangere',\n",
              "       'dharwad', 'gadag', 'hassan', 'haveri', 'kalaburagi', 'kodagu',\n",
              "       'kolar', 'koppal', 'mandya', 'mysuru', 'raichur', 'ramanagara',\n",
              "       'shivamogga', 'tumakuru', 'udupi', 'uttarakannada', 'vijayapura',\n",
              "       'yadgir'], dtype=object)"
            ]
          },
          "metadata": {
            "tags": []
          },
          "execution_count": 49
        }
      ]
    },
    {
      "cell_type": "code",
      "metadata": {
        "id": "yZ2ppqEvXwDV",
        "colab_type": "code",
        "colab": {
          "base_uri": "https://localhost:8080/",
          "height": 136
        },
        "outputId": "45512e29-5642-48e0-a88b-3c21277c9526"
      },
      "source": [
        "df_cleaned['District'].unique()"
      ],
      "execution_count": 50,
      "outputs": [
        {
          "output_type": "execute_result",
          "data": {
            "text/plain": [
              "array(['bagalkot', 'ballari', 'belagavi', 'bengalururural',\n",
              "       'bengaluruurban', 'bidar', 'chamarajanagara', 'chikkaballapura',\n",
              "       'chikkamagalur', 'chitradurga', 'dakshinakannada', 'davanagere',\n",
              "       'dharwad', 'gadag', 'hassan', 'haveri', 'kalaburagi', 'kodagu',\n",
              "       'kolar', 'koppal', 'mandya', 'mysuru', 'raichur', 'ramanagara',\n",
              "       'shivamogga', 'tumakuru', 'udupi', 'uttarakannada', 'vijayapura',\n",
              "       'yadgir'], dtype=object)"
            ]
          },
          "metadata": {
            "tags": []
          },
          "execution_count": 50
        }
      ]
    },
    {
      "cell_type": "code",
      "metadata": {
        "id": "DC-I2l6mmvKy",
        "colab_type": "code",
        "colab": {}
      },
      "source": [
        "df_cleaned['District'].replace({'bagalkot':'bagalkote', 'chikkamagalur':'chikkamagaluru'}, inplace=True)"
      ],
      "execution_count": 51,
      "outputs": []
    },
    {
      "cell_type": "code",
      "metadata": {
        "id": "MXoettuOuXHR",
        "colab_type": "code",
        "colab": {}
      },
      "source": [
        "df_codes['District Name(in English)'].replace({'davangere':'davanagere'}, inplace=True)"
      ],
      "execution_count": 52,
      "outputs": []
    },
    {
      "cell_type": "code",
      "metadata": {
        "id": "rvV3ET9Bu1r5",
        "colab_type": "code",
        "colab": {
          "base_uri": "https://localhost:8080/",
          "height": 85
        },
        "outputId": "6fe37f29-bdc1-4e46-bb7d-9dc9dfacecf5"
      },
      "source": [
        "df_codes['District Name(in English)'].unique() == df_cleaned['District'].unique()"
      ],
      "execution_count": 53,
      "outputs": [
        {
          "output_type": "execute_result",
          "data": {
            "text/plain": [
              "array([ True,  True,  True,  True,  True,  True,  True,  True,  True,\n",
              "        True,  True,  True,  True,  True,  True,  True,  True,  True,\n",
              "        True,  True,  True,  True,  True,  True,  True,  True,  True,\n",
              "        True,  True,  True])"
            ]
          },
          "metadata": {
            "tags": []
          },
          "execution_count": 53
        }
      ]
    },
    {
      "cell_type": "code",
      "metadata": {
        "id": "O56q4MNk0j5R",
        "colab_type": "code",
        "colab": {
          "base_uri": "https://localhost:8080/",
          "height": 34
        },
        "outputId": "b754802e-955d-4d0d-cd96-9031d9d85aec"
      },
      "source": [
        "df_codes['Village Name(in English)'].count()"
      ],
      "execution_count": 54,
      "outputs": [
        {
          "output_type": "execute_result",
          "data": {
            "text/plain": [
              "34328"
            ]
          },
          "metadata": {
            "tags": []
          },
          "execution_count": 54
        }
      ]
    },
    {
      "cell_type": "code",
      "metadata": {
        "id": "1cvRPiPhX03a",
        "colab_type": "code",
        "colab": {
          "base_uri": "https://localhost:8080/",
          "height": 34
        },
        "outputId": "09d52680-a6d9-4b42-fa3a-80cb19fe59bf"
      },
      "source": [
        "df_codes['Village Name(in English)'].nunique()"
      ],
      "execution_count": 55,
      "outputs": [
        {
          "output_type": "execute_result",
          "data": {
            "text/plain": [
              "26164"
            ]
          },
          "metadata": {
            "tags": []
          },
          "execution_count": 55
        }
      ]
    },
    {
      "cell_type": "code",
      "metadata": {
        "id": "pu_aFJP10v7h",
        "colab_type": "code",
        "colab": {}
      },
      "source": [
        "df_codes['freq'] = df_codes.groupby(by='Village Name(in English)')['Village Name(in English)'].transform('count')"
      ],
      "execution_count": 56,
      "outputs": []
    },
    {
      "cell_type": "code",
      "metadata": {
        "id": "YPy1HV1d5huW",
        "colab_type": "code",
        "colab": {
          "base_uri": "https://localhost:8080/",
          "height": 68
        },
        "outputId": "08ace3ac-de33-41ec-8def-d502f4176d7b"
      },
      "source": [
        "(df_codes['freq'] == 1).value_counts()"
      ],
      "execution_count": 57,
      "outputs": [
        {
          "output_type": "execute_result",
          "data": {
            "text/plain": [
              "True     22958\n",
              "False    11370\n",
              "Name: freq, dtype: int64"
            ]
          },
          "metadata": {
            "tags": []
          },
          "execution_count": 57
        }
      ]
    },
    {
      "cell_type": "code",
      "metadata": {
        "id": "6iRSfaoN766S",
        "colab_type": "code",
        "colab": {
          "base_uri": "https://localhost:8080/",
          "height": 697
        },
        "outputId": "712b9be9-7fea-4128-91c7-8077ce6e6287"
      },
      "source": [
        "df_codes['freq'].value_counts()"
      ],
      "execution_count": 58,
      "outputs": [
        {
          "output_type": "execute_result",
          "data": {
            "text/plain": [
              "1      22958\n",
              "2       3790\n",
              "3       1692\n",
              "4        992\n",
              "5        670\n",
              "6        498\n",
              "8        352\n",
              "7        329\n",
              "9        315\n",
              "10       250\n",
              "12       216\n",
              "11       209\n",
              "23       161\n",
              "14       154\n",
              "13       143\n",
              "18       126\n",
              "19       114\n",
              "110      110\n",
              "26       104\n",
              "20       100\n",
              "16        96\n",
              "22        88\n",
              "15        75\n",
              "34        68\n",
              "17        68\n",
              "21        63\n",
              "30        60\n",
              "29        58\n",
              "54        54\n",
              "27        54\n",
              "51        51\n",
              "25        50\n",
              "24        48\n",
              "44        44\n",
              "39        39\n",
              "37        37\n",
              "33        33\n",
              "31        31\n",
              "28        28\n",
              "Name: freq, dtype: int64"
            ]
          },
          "metadata": {
            "tags": []
          },
          "execution_count": 58
        }
      ]
    },
    {
      "cell_type": "code",
      "metadata": {
        "id": "WB--5IGc0VTj",
        "colab_type": "code",
        "colab": {
          "base_uri": "https://localhost:8080/",
          "height": 34
        },
        "outputId": "338b282e-d3a6-4946-c48e-fab268d1438f"
      },
      "source": [
        "df_cleaned['Village'].nunique()"
      ],
      "execution_count": 59,
      "outputs": [
        {
          "output_type": "execute_result",
          "data": {
            "text/plain": [
              "20007"
            ]
          },
          "metadata": {
            "tags": []
          },
          "execution_count": 59
        }
      ]
    },
    {
      "cell_type": "code",
      "metadata": {
        "id": "cv87cJWk7HEC",
        "colab_type": "code",
        "colab": {}
      },
      "source": [
        "df_cleaned['freq'] = df_cleaned.groupby(by='Village')['Village'].transform('count')"
      ],
      "execution_count": 60,
      "outputs": []
    },
    {
      "cell_type": "code",
      "metadata": {
        "id": "hjP1ADQo7X-E",
        "colab_type": "code",
        "colab": {
          "base_uri": "https://localhost:8080/",
          "height": 68
        },
        "outputId": "0d5591d2-a35c-4352-ab5a-901d6eee6f34"
      },
      "source": [
        "(df_cleaned['freq'] == 1).value_counts()"
      ],
      "execution_count": 61,
      "outputs": [
        {
          "output_type": "execute_result",
          "data": {
            "text/plain": [
              "True     17186\n",
              "False     9888\n",
              "Name: freq, dtype: int64"
            ]
          },
          "metadata": {
            "tags": []
          },
          "execution_count": 61
        }
      ]
    },
    {
      "cell_type": "code",
      "metadata": {
        "id": "vUVEc8xL7quG",
        "colab_type": "code",
        "colab": {
          "base_uri": "https://localhost:8080/",
          "height": 646
        },
        "outputId": "009a0526-b14a-4154-961d-990f49daf9d0"
      },
      "source": [
        "df_cleaned['freq'].value_counts(())"
      ],
      "execution_count": 62,
      "outputs": [
        {
          "output_type": "execute_result",
          "data": {
            "text/plain": [
              "1     17186\n",
              "2      3270\n",
              "3      1593\n",
              "4       900\n",
              "5       540\n",
              "6       414\n",
              "7       413\n",
              "8       304\n",
              "9       270\n",
              "17      170\n",
              "10      170\n",
              "13      169\n",
              "16      144\n",
              "12      144\n",
              "11      143\n",
              "15      105\n",
              "20      100\n",
              "99       99\n",
              "24       96\n",
              "23       92\n",
              "18       90\n",
              "21       84\n",
              "36       72\n",
              "19       57\n",
              "14       56\n",
              "26       52\n",
              "47       47\n",
              "22       44\n",
              "39       39\n",
              "38       38\n",
              "32       32\n",
              "31       31\n",
              "30       30\n",
              "28       28\n",
              "27       27\n",
              "25       25\n",
              "Name: freq, dtype: int64"
            ]
          },
          "metadata": {
            "tags": []
          },
          "execution_count": 62
        }
      ]
    },
    {
      "cell_type": "code",
      "metadata": {
        "id": "iVPxA3HNYoEu",
        "colab_type": "code",
        "colab": {
          "base_uri": "https://localhost:8080/",
          "height": 34
        },
        "outputId": "ce59f464-d28c-4b5f-eef9-74d0295b021f"
      },
      "source": [
        "df_codes['Local Body Name(in English)'].nunique()"
      ],
      "execution_count": 63,
      "outputs": [
        {
          "output_type": "execute_result",
          "data": {
            "text/plain": [
              "5478"
            ]
          },
          "metadata": {
            "tags": []
          },
          "execution_count": 63
        }
      ]
    },
    {
      "cell_type": "code",
      "metadata": {
        "id": "E3Tj5H1C0ODU",
        "colab_type": "code",
        "colab": {
          "base_uri": "https://localhost:8080/",
          "height": 34
        },
        "outputId": "697be3a1-e74d-4fb2-95fe-8a9ed626b883"
      },
      "source": [
        "df_cleaned['Gram Panchayat'].nunique()"
      ],
      "execution_count": 64,
      "outputs": [
        {
          "output_type": "execute_result",
          "data": {
            "text/plain": [
              "5492"
            ]
          },
          "metadata": {
            "tags": []
          },
          "execution_count": 64
        }
      ]
    },
    {
      "cell_type": "code",
      "metadata": {
        "id": "AAb6Nnzn0Tdf",
        "colab_type": "code",
        "colab": {}
      },
      "source": [
        ""
      ],
      "execution_count": 64,
      "outputs": []
    }
  ]
}