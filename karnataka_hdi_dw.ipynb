{
  "nbformat": 4,
  "nbformat_minor": 0,
  "metadata": {
    "colab": {
      "name": "karnataka_hdi_dw.ipynb",
      "provenance": [],
      "include_colab_link": true
    },
    "kernelspec": {
      "name": "python3",
      "display_name": "Python 3"
    }
  },
  "cells": [
    {
      "cell_type": "markdown",
      "metadata": {
        "id": "view-in-github",
        "colab_type": "text"
      },
      "source": [
        "<a href=\"https://colab.research.google.com/github/ishgirwan/omdena_hdi/blob/master/karnataka_hdi_dw.ipynb\" target=\"_parent\"><img src=\"https://colab.research.google.com/assets/colab-badge.svg\" alt=\"Open In Colab\"/></a>"
      ]
    },
    {
      "cell_type": "markdown",
      "metadata": {
        "id": "bgaTJJUPDPTW"
      },
      "source": [
        "#Data wrangling of Karnataka HDI data"
      ]
    },
    {
      "cell_type": "code",
      "metadata": {
        "id": "TqJ0AdlS2RsH",
        "outputId": "c482c205-39c8-4ef0-bc3c-6e80737e907e",
        "colab": {
          "base_uri": "https://localhost:8080/",
          "height": 34
        }
      },
      "source": [
        "from google.colab import drive\n",
        "drive.mount('/content/drive')"
      ],
      "execution_count": 1,
      "outputs": [
        {
          "output_type": "stream",
          "text": [
            "Mounted at /content/drive\n"
          ],
          "name": "stdout"
        }
      ]
    },
    {
      "cell_type": "code",
      "metadata": {
        "id": "eDB14Wb15U1I"
      },
      "source": [
        "#pip install tabula-py\n",
        "#import tabula\n",
        "\n",
        "# Read pdf into list of DataFrame\n",
        "#df = tabula.read_pdf(\"/content/drive/My Drive/omdena/VillageHDIintheState.pdf\", pages='all')\n",
        "#tabula.convert_into(\"/content/drive/My Drive/omdena/VillageHDIintheState.pdf\", \"/content/drive/My Drive/omdena/karnataka_hdi.csv\", output_format=\"csv\", pages='all')"
      ],
      "execution_count": null,
      "outputs": []
    },
    {
      "cell_type": "code",
      "metadata": {
        "id": "EevxZznD6ihQ",
        "outputId": "bbbeb3ac-52c5-4ef9-dfe2-8e9e2f9184f3",
        "colab": {
          "base_uri": "https://localhost:8080/",
          "height": 71
        }
      },
      "source": [
        "import pandas as pd\n",
        "import numpy as np\n",
        "import matplotlib.pyplot as plt\n",
        "import seaborn as sns"
      ],
      "execution_count": null,
      "outputs": [
        {
          "output_type": "stream",
          "text": [
            "/usr/local/lib/python3.6/dist-packages/statsmodels/tools/_testing.py:19: FutureWarning: pandas.util.testing is deprecated. Use the functions in the public API at pandas.testing instead.\n",
            "  import pandas.util.testing as tm\n"
          ],
          "name": "stderr"
        }
      ]
    },
    {
      "cell_type": "code",
      "metadata": {
        "id": "4hjZ2Qpg7IbD"
      },
      "source": [
        "df = pd.read_csv(\"/content/drive/My Drive/omdena_hdi/data/karnataka_hdi.csv\")"
      ],
      "execution_count": null,
      "outputs": []
    },
    {
      "cell_type": "code",
      "metadata": {
        "id": "1BOobqVK7UnN",
        "outputId": "92dc9f4e-95fa-4115-d6a7-1d98c8fa00b6",
        "colab": {
          "base_uri": "https://localhost:8080/",
          "height": 323
        }
      },
      "source": [
        "df.head()"
      ],
      "execution_count": null,
      "outputs": [
        {
          "output_type": "execute_result",
          "data": {
            "text/html": [
              "<div>\n",
              "<style scoped>\n",
              "    .dataframe tbody tr th:only-of-type {\n",
              "        vertical-align: middle;\n",
              "    }\n",
              "\n",
              "    .dataframe tbody tr th {\n",
              "        vertical-align: top;\n",
              "    }\n",
              "\n",
              "    .dataframe thead th {\n",
              "        text-align: right;\n",
              "    }\n",
              "</style>\n",
              "<table border=\"1\" class=\"dataframe\">\n",
              "  <thead>\n",
              "    <tr style=\"text-align: right;\">\n",
              "      <th></th>\n",
              "      <th>District</th>\n",
              "      <th>Taluk</th>\n",
              "      <th>Gram Panchayat</th>\n",
              "      <th>Village</th>\n",
              "      <th>Standard of\\rliving index</th>\n",
              "      <th>Rank</th>\n",
              "      <th>Health\\rIndex</th>\n",
              "      <th>Rank.1</th>\n",
              "      <th>Education\\rIndex</th>\n",
              "      <th>Rank.2</th>\n",
              "      <th>HDI</th>\n",
              "      <th>Rank.3</th>\n",
              "    </tr>\n",
              "  </thead>\n",
              "  <tbody>\n",
              "    <tr>\n",
              "      <th>0</th>\n",
              "      <td>Bengaluru Urban</td>\n",
              "      <td>Bengaluru North</td>\n",
              "      <td>Arakere</td>\n",
              "      <td>Arakere</td>\n",
              "      <td>0.69966</td>\n",
              "      <td>1.0</td>\n",
              "      <td>1.00000</td>\n",
              "      <td>1.0</td>\n",
              "      <td>0.60993</td>\n",
              "      <td>4796.0</td>\n",
              "      <td>0.75287</td>\n",
              "      <td>1.0</td>\n",
              "    </tr>\n",
              "    <tr>\n",
              "      <th>1</th>\n",
              "      <td>Bengaluru Urban</td>\n",
              "      <td>Bengaluru North</td>\n",
              "      <td>Vaderahalli</td>\n",
              "      <td>Shamarajpura</td>\n",
              "      <td>0.69553</td>\n",
              "      <td>2.0</td>\n",
              "      <td>0.97289</td>\n",
              "      <td>22344.0</td>\n",
              "      <td>0.61509</td>\n",
              "      <td>3765.0</td>\n",
              "      <td>0.74663</td>\n",
              "      <td>2.0</td>\n",
              "    </tr>\n",
              "    <tr>\n",
              "      <th>2</th>\n",
              "      <td>Bengaluru Urban</td>\n",
              "      <td>Bengaluru North</td>\n",
              "      <td>Kasagattapura</td>\n",
              "      <td>Kasagattapura</td>\n",
              "      <td>0.49102</td>\n",
              "      <td>76.0</td>\n",
              "      <td>1.00000</td>\n",
              "      <td>1.0</td>\n",
              "      <td>0.81767</td>\n",
              "      <td>2.0</td>\n",
              "      <td>0.73772</td>\n",
              "      <td>3.0</td>\n",
              "    </tr>\n",
              "    <tr>\n",
              "      <th>3</th>\n",
              "      <td>Bengaluru Urban</td>\n",
              "      <td>Bengaluru North</td>\n",
              "      <td>Adakamaranahalli</td>\n",
              "      <td>Makali</td>\n",
              "      <td>0.63767</td>\n",
              "      <td>3.0</td>\n",
              "      <td>1.00000</td>\n",
              "      <td>1.0</td>\n",
              "      <td>0.59298</td>\n",
              "      <td>8643.0</td>\n",
              "      <td>0.72313</td>\n",
              "      <td>4.0</td>\n",
              "    </tr>\n",
              "    <tr>\n",
              "      <th>4</th>\n",
              "      <td>Bengaluru Urban</td>\n",
              "      <td>Bengaluru North</td>\n",
              "      <td>Shivakote</td>\n",
              "      <td>Kalenahalli</td>\n",
              "      <td>0.62548</td>\n",
              "      <td>5.0</td>\n",
              "      <td>1.00000</td>\n",
              "      <td>1.0</td>\n",
              "      <td>0.60343</td>\n",
              "      <td>6110.0</td>\n",
              "      <td>0.72268</td>\n",
              "      <td>5.0</td>\n",
              "    </tr>\n",
              "  </tbody>\n",
              "</table>\n",
              "</div>"
            ],
            "text/plain": [
              "          District            Taluk    Gram Panchayat  ...  Rank.2      HDI  Rank.3\n",
              "0  Bengaluru Urban  Bengaluru North           Arakere  ...  4796.0  0.75287     1.0\n",
              "1  Bengaluru Urban  Bengaluru North       Vaderahalli  ...  3765.0  0.74663     2.0\n",
              "2  Bengaluru Urban  Bengaluru North     Kasagattapura  ...     2.0  0.73772     3.0\n",
              "3  Bengaluru Urban  Bengaluru North  Adakamaranahalli  ...  8643.0  0.72313     4.0\n",
              "4  Bengaluru Urban  Bengaluru North         Shivakote  ...  6110.0  0.72268     5.0\n",
              "\n",
              "[5 rows x 12 columns]"
            ]
          },
          "metadata": {
            "tags": []
          },
          "execution_count": 95
        }
      ]
    },
    {
      "cell_type": "code",
      "metadata": {
        "id": "iT_qMmJj7WRU",
        "outputId": "2a533e61-d8f9-41fb-cba6-56ef7ecaa4f8",
        "colab": {
          "base_uri": "https://localhost:8080/",
          "height": 340
        }
      },
      "source": [
        "df.info()"
      ],
      "execution_count": null,
      "outputs": [
        {
          "output_type": "stream",
          "text": [
            "<class 'pandas.core.frame.DataFrame'>\n",
            "RangeIndex: 27077 entries, 0 to 27076\n",
            "Data columns (total 12 columns):\n",
            " #   Column                    Non-Null Count  Dtype  \n",
            "---  ------                    --------------  -----  \n",
            " 0   District                  27075 non-null  object \n",
            " 1   Taluk                     27075 non-null  object \n",
            " 2   Gram Panchayat            27075 non-null  object \n",
            " 3   Village                   27076 non-null  object \n",
            " 4   Standard of\rliving index  27075 non-null  object \n",
            " 5   Rank                      27075 non-null  float64\n",
            " 6   Health\rIndex              27075 non-null  float64\n",
            " 7   Rank.1                    27075 non-null  float64\n",
            " 8   Education\rIndex           27075 non-null  float64\n",
            " 9   Rank.2                    27075 non-null  float64\n",
            " 10  HDI                       27075 non-null  float64\n",
            " 11  Rank.3                    27075 non-null  float64\n",
            "dtypes: float64(7), object(5)\n",
            "memory usage: 2.5+ MB\n"
          ],
          "name": "stdout"
        }
      ]
    },
    {
      "cell_type": "code",
      "metadata": {
        "id": "sfstN6MTKFBt"
      },
      "source": [
        "df = df.rename(columns={'Education\\rIndex': 'Education_Index', 'Health\\rIndex': 'Health_Index', 'Standard of\\rliving index': 'Standard_of_living_index' })"
      ],
      "execution_count": null,
      "outputs": []
    },
    {
      "cell_type": "code",
      "metadata": {
        "id": "8IS34vDPKLCy",
        "outputId": "7fc4f2a1-d7c4-4dd1-dccd-1178d220b23a",
        "colab": {
          "base_uri": "https://localhost:8080/",
          "height": 340
        }
      },
      "source": [
        "df.info()"
      ],
      "execution_count": null,
      "outputs": [
        {
          "output_type": "stream",
          "text": [
            "<class 'pandas.core.frame.DataFrame'>\n",
            "RangeIndex: 27077 entries, 0 to 27076\n",
            "Data columns (total 12 columns):\n",
            " #   Column                    Non-Null Count  Dtype  \n",
            "---  ------                    --------------  -----  \n",
            " 0   District                  27075 non-null  object \n",
            " 1   Taluk                     27075 non-null  object \n",
            " 2   Gram Panchayat            27075 non-null  object \n",
            " 3   Village                   27076 non-null  object \n",
            " 4   Standard_of_living_index  27075 non-null  object \n",
            " 5   Rank                      27075 non-null  float64\n",
            " 6   Health_Index              27075 non-null  float64\n",
            " 7   Rank.1                    27075 non-null  float64\n",
            " 8   Education_Index           27075 non-null  float64\n",
            " 9   Rank.2                    27075 non-null  float64\n",
            " 10  HDI                       27075 non-null  float64\n",
            " 11  Rank.3                    27075 non-null  float64\n",
            "dtypes: float64(7), object(5)\n",
            "memory usage: 2.5+ MB\n"
          ],
          "name": "stdout"
        }
      ]
    },
    {
      "cell_type": "code",
      "metadata": {
        "id": "6IV_KbEK7dqa",
        "outputId": "84db23e8-ccc8-4114-b1af-a94596b2d0d4",
        "colab": {
          "base_uri": "https://localhost:8080/",
          "height": 297
        }
      },
      "source": [
        "df.describe()"
      ],
      "execution_count": null,
      "outputs": [
        {
          "output_type": "execute_result",
          "data": {
            "text/html": [
              "<div>\n",
              "<style scoped>\n",
              "    .dataframe tbody tr th:only-of-type {\n",
              "        vertical-align: middle;\n",
              "    }\n",
              "\n",
              "    .dataframe tbody tr th {\n",
              "        vertical-align: top;\n",
              "    }\n",
              "\n",
              "    .dataframe thead th {\n",
              "        text-align: right;\n",
              "    }\n",
              "</style>\n",
              "<table border=\"1\" class=\"dataframe\">\n",
              "  <thead>\n",
              "    <tr style=\"text-align: right;\">\n",
              "      <th></th>\n",
              "      <th>Rank</th>\n",
              "      <th>Health_Index</th>\n",
              "      <th>Rank.1</th>\n",
              "      <th>Education_Index</th>\n",
              "      <th>Rank.2</th>\n",
              "      <th>HDI</th>\n",
              "      <th>Rank.3</th>\n",
              "    </tr>\n",
              "  </thead>\n",
              "  <tbody>\n",
              "    <tr>\n",
              "      <th>count</th>\n",
              "      <td>27075.000000</td>\n",
              "      <td>27075.000000</td>\n",
              "      <td>27075.000000</td>\n",
              "      <td>27075.000000</td>\n",
              "      <td>27075.000000</td>\n",
              "      <td>27075.000000</td>\n",
              "      <td>27075.000000</td>\n",
              "    </tr>\n",
              "    <tr>\n",
              "      <th>mean</th>\n",
              "      <td>13537.998892</td>\n",
              "      <td>0.990887</td>\n",
              "      <td>4476.054700</td>\n",
              "      <td>0.565508</td>\n",
              "      <td>13520.742678</td>\n",
              "      <td>0.406786</td>\n",
              "      <td>13537.999040</td>\n",
              "    </tr>\n",
              "    <tr>\n",
              "      <th>std</th>\n",
              "      <td>7816.023177</td>\n",
              "      <td>0.029470</td>\n",
              "      <td>9279.955049</td>\n",
              "      <td>0.049246</td>\n",
              "      <td>7844.352578</td>\n",
              "      <td>0.106000</td>\n",
              "      <td>7816.023077</td>\n",
              "    </tr>\n",
              "    <tr>\n",
              "      <th>min</th>\n",
              "      <td>1.000000</td>\n",
              "      <td>0.238490</td>\n",
              "      <td>1.000000</td>\n",
              "      <td>0.001560</td>\n",
              "      <td>1.000000</td>\n",
              "      <td>0.003700</td>\n",
              "      <td>1.000000</td>\n",
              "    </tr>\n",
              "    <tr>\n",
              "      <th>25%</th>\n",
              "      <td>6769.500000</td>\n",
              "      <td>1.000000</td>\n",
              "      <td>1.000000</td>\n",
              "      <td>0.540910</td>\n",
              "      <td>6769.500000</td>\n",
              "      <td>0.341950</td>\n",
              "      <td>6769.500000</td>\n",
              "    </tr>\n",
              "    <tr>\n",
              "      <th>50%</th>\n",
              "      <td>13538.000000</td>\n",
              "      <td>1.000000</td>\n",
              "      <td>1.000000</td>\n",
              "      <td>0.573840</td>\n",
              "      <td>13538.000000</td>\n",
              "      <td>0.419730</td>\n",
              "      <td>13538.000000</td>\n",
              "    </tr>\n",
              "    <tr>\n",
              "      <th>75%</th>\n",
              "      <td>20306.500000</td>\n",
              "      <td>1.000000</td>\n",
              "      <td>1.000000</td>\n",
              "      <td>0.600645</td>\n",
              "      <td>20306.000000</td>\n",
              "      <td>0.480575</td>\n",
              "      <td>20306.500000</td>\n",
              "    </tr>\n",
              "    <tr>\n",
              "      <th>max</th>\n",
              "      <td>27075.000000</td>\n",
              "      <td>1.000000</td>\n",
              "      <td>27075.000000</td>\n",
              "      <td>0.957010</td>\n",
              "      <td>27075.000000</td>\n",
              "      <td>0.752870</td>\n",
              "      <td>27075.000000</td>\n",
              "    </tr>\n",
              "  </tbody>\n",
              "</table>\n",
              "</div>"
            ],
            "text/plain": [
              "               Rank  Health_Index  ...           HDI        Rank.3\n",
              "count  27075.000000  27075.000000  ...  27075.000000  27075.000000\n",
              "mean   13537.998892      0.990887  ...      0.406786  13537.999040\n",
              "std     7816.023177      0.029470  ...      0.106000   7816.023077\n",
              "min        1.000000      0.238490  ...      0.003700      1.000000\n",
              "25%     6769.500000      1.000000  ...      0.341950   6769.500000\n",
              "50%    13538.000000      1.000000  ...      0.419730  13538.000000\n",
              "75%    20306.500000      1.000000  ...      0.480575  20306.500000\n",
              "max    27075.000000      1.000000  ...      0.752870  27075.000000\n",
              "\n",
              "[8 rows x 7 columns]"
            ]
          },
          "metadata": {
            "tags": []
          },
          "execution_count": 99
        }
      ]
    },
    {
      "cell_type": "code",
      "metadata": {
        "id": "4cIKPBPkJrxE",
        "outputId": "1ff5854c-3455-47ce-eed7-cb0c20e7e5cc",
        "colab": {
          "base_uri": "https://localhost:8080/",
          "height": 221
        }
      },
      "source": [
        "df.Village.value_counts()"
      ],
      "execution_count": null,
      "outputs": [
        {
          "output_type": "execute_result",
          "data": {
            "text/plain": [
              "Hosahalli              98\n",
              "Kodihalli              47\n",
              "Siddapura              39\n",
              "Kurubarahalli          36\n",
              "Honnenahalli           36\n",
              "                       ..\n",
              "Rupanagudi              1\n",
              "Bilkerur                1\n",
              "Muttige\\r(gunjagod)     1\n",
              "Kombinakai              1\n",
              "Adakatahalli            1\n",
              "Name: Village, Length: 20581, dtype: int64"
            ]
          },
          "metadata": {
            "tags": []
          },
          "execution_count": 100
        }
      ]
    },
    {
      "cell_type": "markdown",
      "metadata": {
        "id": "qweMp_9ha3cw"
      },
      "source": [
        "There are several villages with same names."
      ]
    },
    {
      "cell_type": "code",
      "metadata": {
        "id": "sNQnF0Vla9iO",
        "outputId": "ee9f1e2f-16f6-42d6-8d01-5aabb4ad3699",
        "colab": {
          "base_uri": "https://localhost:8080/",
          "height": 278
        }
      },
      "source": [
        "df.loc[(df.District == 'Bengaluru Rural') & (df.Village == 'Hosahalli')]"
      ],
      "execution_count": null,
      "outputs": [
        {
          "output_type": "execute_result",
          "data": {
            "text/html": [
              "<div>\n",
              "<style scoped>\n",
              "    .dataframe tbody tr th:only-of-type {\n",
              "        vertical-align: middle;\n",
              "    }\n",
              "\n",
              "    .dataframe tbody tr th {\n",
              "        vertical-align: top;\n",
              "    }\n",
              "\n",
              "    .dataframe thead th {\n",
              "        text-align: right;\n",
              "    }\n",
              "</style>\n",
              "<table border=\"1\" class=\"dataframe\">\n",
              "  <thead>\n",
              "    <tr style=\"text-align: right;\">\n",
              "      <th></th>\n",
              "      <th>District</th>\n",
              "      <th>Taluk</th>\n",
              "      <th>Gram Panchayat</th>\n",
              "      <th>Village</th>\n",
              "      <th>Standard_of_living_index</th>\n",
              "      <th>Rank</th>\n",
              "      <th>Health_Index</th>\n",
              "      <th>Rank.1</th>\n",
              "      <th>Education_Index</th>\n",
              "      <th>Rank.2</th>\n",
              "      <th>HDI</th>\n",
              "      <th>Rank.3</th>\n",
              "    </tr>\n",
              "  </thead>\n",
              "  <tbody>\n",
              "    <tr>\n",
              "      <th>1827</th>\n",
              "      <td>Bengaluru Rural</td>\n",
              "      <td>Nelamangala</td>\n",
              "      <td>Honnenahalli</td>\n",
              "      <td>Hosahalli</td>\n",
              "      <td>0.27055</td>\n",
              "      <td>2273.0</td>\n",
              "      <td>1.0</td>\n",
              "      <td>1.0</td>\n",
              "      <td>0.60920</td>\n",
              "      <td>4946.0</td>\n",
              "      <td>0.54828</td>\n",
              "      <td>1828.0</td>\n",
              "    </tr>\n",
              "    <tr>\n",
              "      <th>4751</th>\n",
              "      <td>Bengaluru Rural</td>\n",
              "      <td>Devanahalli</td>\n",
              "      <td>Bijjawara</td>\n",
              "      <td>Hosahalli</td>\n",
              "      <td>0.20297</td>\n",
              "      <td>6158.0</td>\n",
              "      <td>1.0</td>\n",
              "      <td>1.0</td>\n",
              "      <td>0.62446</td>\n",
              "      <td>1237.0</td>\n",
              "      <td>0.50232</td>\n",
              "      <td>4752.0</td>\n",
              "    </tr>\n",
              "    <tr>\n",
              "      <th>23654</th>\n",
              "      <td>Bengaluru Rural</td>\n",
              "      <td>Devanahalli</td>\n",
              "      <td>Bettakote</td>\n",
              "      <td>Hosahalli</td>\n",
              "      <td>0.04614</td>\n",
              "      <td>23039.0</td>\n",
              "      <td>1.0</td>\n",
              "      <td>1.0</td>\n",
              "      <td>0.48854</td>\n",
              "      <td>25350.0</td>\n",
              "      <td>0.28249</td>\n",
              "      <td>23655.0</td>\n",
              "    </tr>\n",
              "    <tr>\n",
              "      <th>26798</th>\n",
              "      <td>Bengaluru Rural</td>\n",
              "      <td>Nelamangala</td>\n",
              "      <td>Soladevanahalli</td>\n",
              "      <td>Hosahalli</td>\n",
              "      <td>0.00234</td>\n",
              "      <td>26829.0</td>\n",
              "      <td>1.0</td>\n",
              "      <td>1.0</td>\n",
              "      <td>0.61045</td>\n",
              "      <td>4667.0</td>\n",
              "      <td>0.11260</td>\n",
              "      <td>26799.0</td>\n",
              "    </tr>\n",
              "  </tbody>\n",
              "</table>\n",
              "</div>"
            ],
            "text/plain": [
              "              District        Taluk   Gram Panchayat  ...   Rank.2      HDI   Rank.3\n",
              "1827   Bengaluru Rural  Nelamangala     Honnenahalli  ...   4946.0  0.54828   1828.0\n",
              "4751   Bengaluru Rural  Devanahalli        Bijjawara  ...   1237.0  0.50232   4752.0\n",
              "23654  Bengaluru Rural  Devanahalli        Bettakote  ...  25350.0  0.28249  23655.0\n",
              "26798  Bengaluru Rural  Nelamangala  Soladevanahalli  ...   4667.0  0.11260  26799.0\n",
              "\n",
              "[4 rows x 12 columns]"
            ]
          },
          "metadata": {
            "tags": []
          },
          "execution_count": 101
        }
      ]
    },
    {
      "cell_type": "markdown",
      "metadata": {
        "id": "I4o5BPW8a0ne"
      },
      "source": [
        ""
      ]
    },
    {
      "cell_type": "code",
      "metadata": {
        "id": "TUTZKwh_flAE",
        "outputId": "72b4b433-6d0b-49f0-afd5-8d27a158b1ff",
        "colab": {
          "base_uri": "https://localhost:8080/",
          "height": 136
        }
      },
      "source": [
        "df['District'].unique()"
      ],
      "execution_count": null,
      "outputs": [
        {
          "output_type": "execute_result",
          "data": {
            "text/plain": [
              "array(['Bengaluru Urban', 'Ballari', 'Dakshina Kannada', 'Uttara Kannada',\n",
              "       'Bengaluru Rural', 'Shivamogga', 'Belagavi', 'Kodagu',\n",
              "       'Chikkamagalur', 'Kolar', 'Ramanagara', 'Mysuru', 'Udupi',\n",
              "       'Chitradurga', 'Mandya', 'Hassan', 'Tumakuru', 'Davanagere',\n",
              "       'Chikkaballapura', 'Dharwad', 'Gadag', 'Chamarajanagara',\n",
              "       'Chamarajanagar', 'Bagalkot', 'Haveri', 'Koppal', 'Bidar',\n",
              "       'Kalaburagi', 'Vijayapura', 'Yadgir', 'Raichur', nan], dtype=object)"
            ]
          },
          "metadata": {
            "tags": []
          },
          "execution_count": 102
        }
      ]
    },
    {
      "cell_type": "code",
      "metadata": {
        "id": "oshxxAfgfxbx",
        "outputId": "e072f953-d915-4c46-8c87-d25bda926aec",
        "colab": {
          "base_uri": "https://localhost:8080/",
          "height": 148
        }
      },
      "source": [
        "df.loc[df['District'].isnull()]"
      ],
      "execution_count": null,
      "outputs": [
        {
          "output_type": "execute_result",
          "data": {
            "text/html": [
              "<div>\n",
              "<style scoped>\n",
              "    .dataframe tbody tr th:only-of-type {\n",
              "        vertical-align: middle;\n",
              "    }\n",
              "\n",
              "    .dataframe tbody tr th {\n",
              "        vertical-align: top;\n",
              "    }\n",
              "\n",
              "    .dataframe thead th {\n",
              "        text-align: right;\n",
              "    }\n",
              "</style>\n",
              "<table border=\"1\" class=\"dataframe\">\n",
              "  <thead>\n",
              "    <tr style=\"text-align: right;\">\n",
              "      <th></th>\n",
              "      <th>District</th>\n",
              "      <th>Taluk</th>\n",
              "      <th>Gram Panchayat</th>\n",
              "      <th>Village</th>\n",
              "      <th>Standard_of_living_index</th>\n",
              "      <th>Rank</th>\n",
              "      <th>Health_Index</th>\n",
              "      <th>Rank.1</th>\n",
              "      <th>Education_Index</th>\n",
              "      <th>Rank.2</th>\n",
              "      <th>HDI</th>\n",
              "      <th>Rank.3</th>\n",
              "    </tr>\n",
              "  </thead>\n",
              "  <tbody>\n",
              "    <tr>\n",
              "      <th>27074</th>\n",
              "      <td>NaN</td>\n",
              "      <td>NaN</td>\n",
              "      <td>NaN</td>\n",
              "      <td>Chikkathekalavat</td>\n",
              "      <td>NaN</td>\n",
              "      <td>NaN</td>\n",
              "      <td>NaN</td>\n",
              "      <td>NaN</td>\n",
              "      <td>NaN</td>\n",
              "      <td>NaN</td>\n",
              "      <td>NaN</td>\n",
              "      <td>NaN</td>\n",
              "    </tr>\n",
              "    <tr>\n",
              "      <th>27075</th>\n",
              "      <td>NaN</td>\n",
              "      <td>NaN</td>\n",
              "      <td>NaN</td>\n",
              "      <td>NaN</td>\n",
              "      <td>0.00003</td>\n",
              "      <td>27067.0</td>\n",
              "      <td>1.0</td>\n",
              "      <td>1.0</td>\n",
              "      <td>0.00198</td>\n",
              "      <td>27068.0</td>\n",
              "      <td>0.0037</td>\n",
              "      <td>27075.0</td>\n",
              "    </tr>\n",
              "  </tbody>\n",
              "</table>\n",
              "</div>"
            ],
            "text/plain": [
              "      District Taluk Gram Panchayat  ...   Rank.2     HDI   Rank.3\n",
              "27074      NaN   NaN            NaN  ...      NaN     NaN      NaN\n",
              "27075      NaN   NaN            NaN  ...  27068.0  0.0037  27075.0\n",
              "\n",
              "[2 rows x 12 columns]"
            ]
          },
          "metadata": {
            "tags": []
          },
          "execution_count": 103
        }
      ]
    },
    {
      "cell_type": "code",
      "metadata": {
        "id": "d57r03TKf8uR"
      },
      "source": [
        "df = df[df['District'].notna()]"
      ],
      "execution_count": null,
      "outputs": []
    },
    {
      "cell_type": "code",
      "metadata": {
        "id": "SL8s4rHJgCZ0",
        "outputId": "03d99e20-e57a-4a65-e6ac-9fb371fe8456",
        "colab": {
          "base_uri": "https://localhost:8080/",
          "height": 34
        }
      },
      "source": [
        "df['District'].isnull().values.any()"
      ],
      "execution_count": null,
      "outputs": [
        {
          "output_type": "execute_result",
          "data": {
            "text/plain": [
              "False"
            ]
          },
          "metadata": {
            "tags": []
          },
          "execution_count": 105
        }
      ]
    },
    {
      "cell_type": "code",
      "metadata": {
        "id": "bES1hzNXgM-c",
        "outputId": "8bbace96-c922-414d-f1d7-867c71b4dd12",
        "colab": {
          "base_uri": "https://localhost:8080/",
          "height": 136
        }
      },
      "source": [
        "df['District'].unique()"
      ],
      "execution_count": null,
      "outputs": [
        {
          "output_type": "execute_result",
          "data": {
            "text/plain": [
              "array(['Bengaluru Urban', 'Ballari', 'Dakshina Kannada', 'Uttara Kannada',\n",
              "       'Bengaluru Rural', 'Shivamogga', 'Belagavi', 'Kodagu',\n",
              "       'Chikkamagalur', 'Kolar', 'Ramanagara', 'Mysuru', 'Udupi',\n",
              "       'Chitradurga', 'Mandya', 'Hassan', 'Tumakuru', 'Davanagere',\n",
              "       'Chikkaballapura', 'Dharwad', 'Gadag', 'Chamarajanagara',\n",
              "       'Chamarajanagar', 'Bagalkot', 'Haveri', 'Koppal', 'Bidar',\n",
              "       'Kalaburagi', 'Vijayapura', 'Yadgir', 'Raichur'], dtype=object)"
            ]
          },
          "metadata": {
            "tags": []
          },
          "execution_count": 106
        }
      ]
    },
    {
      "cell_type": "code",
      "metadata": {
        "id": "f1UTL-87gQaQ",
        "outputId": "4760b759-ed67-4188-895b-6a6cc192f03a",
        "colab": {
          "base_uri": "https://localhost:8080/",
          "height": 34
        }
      },
      "source": [
        "df['District'].nunique()"
      ],
      "execution_count": null,
      "outputs": [
        {
          "output_type": "execute_result",
          "data": {
            "text/plain": [
              "31"
            ]
          },
          "metadata": {
            "tags": []
          },
          "execution_count": 107
        }
      ]
    },
    {
      "cell_type": "code",
      "metadata": {
        "id": "78gPBqgBhXmO"
      },
      "source": [
        "df['District'].replace('Chamarajanagar', 'Chamarajanagara', inplace=True);"
      ],
      "execution_count": null,
      "outputs": []
    },
    {
      "cell_type": "code",
      "metadata": {
        "id": "uq9tvKZXiRav",
        "outputId": "c0e88331-c435-480f-abf2-00719266bc49",
        "colab": {
          "base_uri": "https://localhost:8080/",
          "height": 136
        }
      },
      "source": [
        "df['District'].unique()"
      ],
      "execution_count": null,
      "outputs": [
        {
          "output_type": "execute_result",
          "data": {
            "text/plain": [
              "array(['Bengaluru Urban', 'Ballari', 'Dakshina Kannada', 'Uttara Kannada',\n",
              "       'Bengaluru Rural', 'Shivamogga', 'Belagavi', 'Kodagu',\n",
              "       'Chikkamagalur', 'Kolar', 'Ramanagara', 'Mysuru', 'Udupi',\n",
              "       'Chitradurga', 'Mandya', 'Hassan', 'Tumakuru', 'Davanagere',\n",
              "       'Chikkaballapura', 'Dharwad', 'Gadag', 'Chamarajanagara',\n",
              "       'Bagalkot', 'Haveri', 'Koppal', 'Bidar', 'Kalaburagi',\n",
              "       'Vijayapura', 'Yadgir', 'Raichur'], dtype=object)"
            ]
          },
          "metadata": {
            "tags": []
          },
          "execution_count": 109
        }
      ]
    },
    {
      "cell_type": "code",
      "metadata": {
        "id": "7cDv0tTdi_o4",
        "outputId": "26f89402-8b75-423a-8f6d-8918800c2c46",
        "colab": {
          "base_uri": "https://localhost:8080/",
          "height": 34
        }
      },
      "source": [
        "df['District'].nunique()"
      ],
      "execution_count": null,
      "outputs": [
        {
          "output_type": "execute_result",
          "data": {
            "text/plain": [
              "30"
            ]
          },
          "metadata": {
            "tags": []
          },
          "execution_count": 110
        }
      ]
    },
    {
      "cell_type": "code",
      "metadata": {
        "id": "CeA3n3vcSe9B",
        "outputId": "c66e9277-3095-48bf-eb82-29cffa70b818",
        "colab": {
          "base_uri": "https://localhost:8080/",
          "height": 34
        }
      },
      "source": [
        "df['HDI'].isnull().values.any()"
      ],
      "execution_count": null,
      "outputs": [
        {
          "output_type": "execute_result",
          "data": {
            "text/plain": [
              "True"
            ]
          },
          "metadata": {
            "tags": []
          },
          "execution_count": 111
        }
      ]
    },
    {
      "cell_type": "code",
      "metadata": {
        "id": "lwmBBXpzlpt3",
        "outputId": "4c2c9094-2199-442f-c4b6-3f0132800852",
        "colab": {
          "base_uri": "https://localhost:8080/",
          "height": 117
        }
      },
      "source": [
        "df.loc[df['HDI'].isnull()]"
      ],
      "execution_count": null,
      "outputs": [
        {
          "output_type": "execute_result",
          "data": {
            "text/html": [
              "<div>\n",
              "<style scoped>\n",
              "    .dataframe tbody tr th:only-of-type {\n",
              "        vertical-align: middle;\n",
              "    }\n",
              "\n",
              "    .dataframe tbody tr th {\n",
              "        vertical-align: top;\n",
              "    }\n",
              "\n",
              "    .dataframe thead th {\n",
              "        text-align: right;\n",
              "    }\n",
              "</style>\n",
              "<table border=\"1\" class=\"dataframe\">\n",
              "  <thead>\n",
              "    <tr style=\"text-align: right;\">\n",
              "      <th></th>\n",
              "      <th>District</th>\n",
              "      <th>Taluk</th>\n",
              "      <th>Gram Panchayat</th>\n",
              "      <th>Village</th>\n",
              "      <th>Standard_of_living_index</th>\n",
              "      <th>Rank</th>\n",
              "      <th>Health_Index</th>\n",
              "      <th>Rank.1</th>\n",
              "      <th>Education_Index</th>\n",
              "      <th>Rank.2</th>\n",
              "      <th>HDI</th>\n",
              "      <th>Rank.3</th>\n",
              "    </tr>\n",
              "  </thead>\n",
              "  <tbody>\n",
              "    <tr>\n",
              "      <th>27076</th>\n",
              "      <td>Chitradurga</td>\n",
              "      <td>Hosadurga</td>\n",
              "      <td>Chikkabyladakere</td>\n",
              "      <td>ti</td>\n",
              "      <td>NaN</td>\n",
              "      <td>NaN</td>\n",
              "      <td>NaN</td>\n",
              "      <td>NaN</td>\n",
              "      <td>NaN</td>\n",
              "      <td>NaN</td>\n",
              "      <td>NaN</td>\n",
              "      <td>NaN</td>\n",
              "    </tr>\n",
              "  </tbody>\n",
              "</table>\n",
              "</div>"
            ],
            "text/plain": [
              "          District      Taluk    Gram Panchayat  ... Rank.2 HDI  Rank.3\n",
              "27076  Chitradurga  Hosadurga  Chikkabyladakere  ...    NaN NaN     NaN\n",
              "\n",
              "[1 rows x 12 columns]"
            ]
          },
          "metadata": {
            "tags": []
          },
          "execution_count": 112
        }
      ]
    },
    {
      "cell_type": "code",
      "metadata": {
        "id": "PSqo2LoXlf1R"
      },
      "source": [
        "df = df[df['HDI'].notna()]"
      ],
      "execution_count": null,
      "outputs": []
    },
    {
      "cell_type": "code",
      "metadata": {
        "id": "tLKvtzx1lucq",
        "outputId": "d552510c-c678-45e4-84e7-85698bc3eaa7",
        "colab": {
          "base_uri": "https://localhost:8080/",
          "height": 34
        }
      },
      "source": [
        "df['HDI'].isnull().values.any()"
      ],
      "execution_count": null,
      "outputs": [
        {
          "output_type": "execute_result",
          "data": {
            "text/plain": [
              "False"
            ]
          },
          "metadata": {
            "tags": []
          },
          "execution_count": 114
        }
      ]
    },
    {
      "cell_type": "code",
      "metadata": {
        "id": "VhUjr7AtpFF8",
        "outputId": "e52218dc-da3b-4bfc-cea1-b32121c3766f",
        "colab": {
          "base_uri": "https://localhost:8080/",
          "height": 34
        }
      },
      "source": [
        "df['Taluk'].isnull().values.any()"
      ],
      "execution_count": null,
      "outputs": [
        {
          "output_type": "execute_result",
          "data": {
            "text/plain": [
              "False"
            ]
          },
          "metadata": {
            "tags": []
          },
          "execution_count": 115
        }
      ]
    },
    {
      "cell_type": "code",
      "metadata": {
        "id": "lbl70LdppQ6j",
        "outputId": "23d49b09-4b42-4e10-e154-bec3a11cc043",
        "colab": {
          "base_uri": "https://localhost:8080/",
          "height": 34
        }
      },
      "source": [
        "df['Gram Panchayat'].isnull().values.any()"
      ],
      "execution_count": null,
      "outputs": [
        {
          "output_type": "execute_result",
          "data": {
            "text/plain": [
              "False"
            ]
          },
          "metadata": {
            "tags": []
          },
          "execution_count": 116
        }
      ]
    },
    {
      "cell_type": "code",
      "metadata": {
        "id": "bKNdMYkrpfrK",
        "outputId": "73c9c3e7-b59e-4afa-ab72-7ee7f9384674",
        "colab": {
          "base_uri": "https://localhost:8080/",
          "height": 34
        }
      },
      "source": [
        "df.isnull().values.any()"
      ],
      "execution_count": null,
      "outputs": [
        {
          "output_type": "execute_result",
          "data": {
            "text/plain": [
              "False"
            ]
          },
          "metadata": {
            "tags": []
          },
          "execution_count": 117
        }
      ]
    },
    {
      "cell_type": "code",
      "metadata": {
        "id": "ZxuUWu8LJoPU",
        "outputId": "4905ec4b-5fb3-4936-cd56-97284e26e2ec",
        "colab": {
          "base_uri": "https://localhost:8080/",
          "height": 265
        }
      },
      "source": [
        "hdi_hist = df['HDI'].hist(bins=100)"
      ],
      "execution_count": null,
      "outputs": [
        {
          "output_type": "display_data",
          "data": {
            "image/png": "[encoded data removed]",
            "text/plain": [
              "<Figure size 432x288 with 1 Axes>"
            ]
          },
          "metadata": {
            "tags": [],
            "needs_background": "light"
          }
        }
      ]
    },
    {
      "cell_type": "markdown",
      "metadata": {
        "id": "Re6CXz0NadRJ"
      },
      "source": [
        "The HDI data distribution looks like a normal distribution."
      ]
    },
    {
      "cell_type": "code",
      "metadata": {
        "id": "cStNG0nTPmQL",
        "outputId": "2b7aa165-f490-4c1d-c59b-5c081af46408",
        "colab": {
          "base_uri": "https://localhost:8080/",
          "height": 279
        }
      },
      "source": [
        "sns.distplot(df['HDI']);"
      ],
      "execution_count": null,
      "outputs": [
        {
          "output_type": "display_data",
          "data": {
            "image/png": "[encoded data removed]",
            "text/plain": [
              "<Figure size 432x288 with 1 Axes>"
            ]
          },
          "metadata": {
            "tags": [],
            "needs_background": "light"
          }
        }
      ]
    },
    {
      "cell_type": "code",
      "metadata": {
        "id": "hsywFfgBmnE0",
        "outputId": "7ad5f7b9-c5b7-4257-aa52-de760b031948",
        "colab": {
          "base_uri": "https://localhost:8080/",
          "height": 340
        }
      },
      "source": [
        "df.info()"
      ],
      "execution_count": null,
      "outputs": [
        {
          "output_type": "stream",
          "text": [
            "<class 'pandas.core.frame.DataFrame'>\n",
            "Int64Index: 27074 entries, 0 to 27073\n",
            "Data columns (total 12 columns):\n",
            " #   Column                    Non-Null Count  Dtype  \n",
            "---  ------                    --------------  -----  \n",
            " 0   District                  27074 non-null  object \n",
            " 1   Taluk                     27074 non-null  object \n",
            " 2   Gram Panchayat            27074 non-null  object \n",
            " 3   Village                   27074 non-null  object \n",
            " 4   Standard_of_living_index  27074 non-null  object \n",
            " 5   Rank                      27074 non-null  float64\n",
            " 6   Health_Index              27074 non-null  float64\n",
            " 7   Rank.1                    27074 non-null  float64\n",
            " 8   Education_Index           27074 non-null  float64\n",
            " 9   Rank.2                    27074 non-null  float64\n",
            " 10  HDI                       27074 non-null  float64\n",
            " 11  Rank.3                    27074 non-null  float64\n",
            "dtypes: float64(7), object(5)\n",
            "memory usage: 2.7+ MB\n"
          ],
          "name": "stdout"
        }
      ]
    },
    {
      "cell_type": "code",
      "metadata": {
        "id": "SV6wvN1JqX0h"
      },
      "source": [
        "cols = [4,5,6,7,8,9]\n",
        "df.drop(df.columns[cols], axis =1, inplace=True);"
      ],
      "execution_count": null,
      "outputs": []
    },
    {
      "cell_type": "code",
      "metadata": {
        "id": "kB-jD7qcq5Or",
        "outputId": "6fcb893f-ca61-477a-ef72-f47a186b5dba",
        "colab": {
          "base_uri": "https://localhost:8080/",
          "height": 238
        }
      },
      "source": [
        "df.info()"
      ],
      "execution_count": null,
      "outputs": [
        {
          "output_type": "stream",
          "text": [
            "<class 'pandas.core.frame.DataFrame'>\n",
            "Int64Index: 27074 entries, 0 to 27073\n",
            "Data columns (total 6 columns):\n",
            " #   Column          Non-Null Count  Dtype  \n",
            "---  ------          --------------  -----  \n",
            " 0   District        27074 non-null  object \n",
            " 1   Taluk           27074 non-null  object \n",
            " 2   Gram Panchayat  27074 non-null  object \n",
            " 3   Village         27074 non-null  object \n",
            " 4   HDI             27074 non-null  float64\n",
            " 5   Rank.3          27074 non-null  float64\n",
            "dtypes: float64(2), object(4)\n",
            "memory usage: 1.4+ MB\n"
          ],
          "name": "stdout"
        }
      ]
    },
    {
      "cell_type": "code",
      "metadata": {
        "id": "IaOiAlfItYzB",
        "outputId": "b0d632e7-9260-4695-8316-bfb92627a7af",
        "colab": {
          "base_uri": "https://localhost:8080/",
          "height": 669
        }
      },
      "source": [
        "df.head(5)"
      ],
      "execution_count": null,
      "outputs": [
        {
          "output_type": "execute_result",
          "data": {
            "text/html": [
              "<div>\n",
              "<style scoped>\n",
              "    .dataframe tbody tr th:only-of-type {\n",
              "        vertical-align: middle;\n",
              "    }\n",
              "\n",
              "    .dataframe tbody tr th {\n",
              "        vertical-align: top;\n",
              "    }\n",
              "\n",
              "    .dataframe thead th {\n",
              "        text-align: right;\n",
              "    }\n",
              "</style>\n",
              "<table border=\"1\" class=\"dataframe\">\n",
              "  <thead>\n",
              "    <tr style=\"text-align: right;\">\n",
              "      <th></th>\n",
              "      <th>District</th>\n",
              "      <th>Taluk</th>\n",
              "      <th>Gram Panchayat</th>\n",
              "      <th>Village</th>\n",
              "      <th>HDI</th>\n",
              "      <th>Rank.3</th>\n",
              "    </tr>\n",
              "  </thead>\n",
              "  <tbody>\n",
              "    <tr>\n",
              "      <th>0</th>\n",
              "      <td>Bengaluru Urban</td>\n",
              "      <td>Bengaluru North</td>\n",
              "      <td>Arakere</td>\n",
              "      <td>Arakere</td>\n",
              "      <td>0.75287</td>\n",
              "      <td>1.0</td>\n",
              "    </tr>\n",
              "    <tr>\n",
              "      <th>1</th>\n",
              "      <td>Bengaluru Urban</td>\n",
              "      <td>Bengaluru North</td>\n",
              "      <td>Vaderahalli</td>\n",
              "      <td>Shamarajpura</td>\n",
              "      <td>0.74663</td>\n",
              "      <td>2.0</td>\n",
              "    </tr>\n",
              "    <tr>\n",
              "      <th>2</th>\n",
              "      <td>Bengaluru Urban</td>\n",
              "      <td>Bengaluru North</td>\n",
              "      <td>Kasagattapura</td>\n",
              "      <td>Kasagattapura</td>\n",
              "      <td>0.73772</td>\n",
              "      <td>3.0</td>\n",
              "    </tr>\n",
              "    <tr>\n",
              "      <th>3</th>\n",
              "      <td>Bengaluru Urban</td>\n",
              "      <td>Bengaluru North</td>\n",
              "      <td>Adakamaranahalli</td>\n",
              "      <td>Makali</td>\n",
              "      <td>0.72313</td>\n",
              "      <td>4.0</td>\n",
              "    </tr>\n",
              "    <tr>\n",
              "      <th>4</th>\n",
              "      <td>Bengaluru Urban</td>\n",
              "      <td>Bengaluru North</td>\n",
              "      <td>Shivakote</td>\n",
              "      <td>Kalenahalli</td>\n",
              "      <td>0.72268</td>\n",
              "      <td>5.0</td>\n",
              "    </tr>\n",
              "    <tr>\n",
              "      <th>5</th>\n",
              "      <td>Bengaluru Urban</td>\n",
              "      <td>Bengaluru North</td>\n",
              "      <td>Madanayakanahalli</td>\n",
              "      <td>Kadaranahalli</td>\n",
              "      <td>0.72218</td>\n",
              "      <td>6.0</td>\n",
              "    </tr>\n",
              "    <tr>\n",
              "      <th>6</th>\n",
              "      <td>Bengaluru Urban</td>\n",
              "      <td>Anekal</td>\n",
              "      <td>Vanakanahalli</td>\n",
              "      <td>Menasiganahalli</td>\n",
              "      <td>0.72205</td>\n",
              "      <td>7.0</td>\n",
              "    </tr>\n",
              "    <tr>\n",
              "      <th>7</th>\n",
              "      <td>Bengaluru Urban</td>\n",
              "      <td>Bengaluru North</td>\n",
              "      <td>Huskur</td>\n",
              "      <td>Huskur</td>\n",
              "      <td>0.72088</td>\n",
              "      <td>8.0</td>\n",
              "    </tr>\n",
              "    <tr>\n",
              "      <th>8</th>\n",
              "      <td>Bengaluru Urban</td>\n",
              "      <td>Bengaluru South</td>\n",
              "      <td>Nelaguli</td>\n",
              "      <td>Naganayakanaha\\rlli</td>\n",
              "      <td>0.71940</td>\n",
              "      <td>9.0</td>\n",
              "    </tr>\n",
              "    <tr>\n",
              "      <th>9</th>\n",
              "      <td>Bengaluru Urban</td>\n",
              "      <td>Bengaluru South</td>\n",
              "      <td>Chikkana halli</td>\n",
              "      <td>Sulivara</td>\n",
              "      <td>0.71499</td>\n",
              "      <td>10.0</td>\n",
              "    </tr>\n",
              "    <tr>\n",
              "      <th>10</th>\n",
              "      <td>Bengaluru Urban</td>\n",
              "      <td>Bengaluru North</td>\n",
              "      <td>Bandi kodige halli</td>\n",
              "      <td>Mahadevakodige\\rhalli</td>\n",
              "      <td>0.71288</td>\n",
              "      <td>11.0</td>\n",
              "    </tr>\n",
              "    <tr>\n",
              "      <th>11</th>\n",
              "      <td>Bengaluru Urban</td>\n",
              "      <td>Bengaluru North</td>\n",
              "      <td>Arakere</td>\n",
              "      <td>Kakkehalli</td>\n",
              "      <td>0.71171</td>\n",
              "      <td>12.0</td>\n",
              "    </tr>\n",
              "    <tr>\n",
              "      <th>12</th>\n",
              "      <td>Bengaluru Urban</td>\n",
              "      <td>Bengaluru North</td>\n",
              "      <td>Hurali chikkanahalli</td>\n",
              "      <td>Ivar kandapura</td>\n",
              "      <td>0.71141</td>\n",
              "      <td>13.0</td>\n",
              "    </tr>\n",
              "    <tr>\n",
              "      <th>13</th>\n",
              "      <td>Bengaluru Urban</td>\n",
              "      <td>Bengaluru North</td>\n",
              "      <td>Huskur</td>\n",
              "      <td>Pillahalli</td>\n",
              "      <td>0.70814</td>\n",
              "      <td>14.0</td>\n",
              "    </tr>\n",
              "    <tr>\n",
              "      <th>14</th>\n",
              "      <td>Bengaluru Urban</td>\n",
              "      <td>Bengaluru North</td>\n",
              "      <td>Huskur</td>\n",
              "      <td>Muniyanapalya</td>\n",
              "      <td>0.70527</td>\n",
              "      <td>15.0</td>\n",
              "    </tr>\n",
              "    <tr>\n",
              "      <th>15</th>\n",
              "      <td>Bengaluru Urban</td>\n",
              "      <td>Bengaluru North</td>\n",
              "      <td>Shivakote</td>\n",
              "      <td>Seethakempanah\\ralli</td>\n",
              "      <td>0.70507</td>\n",
              "      <td>16.0</td>\n",
              "    </tr>\n",
              "    <tr>\n",
              "      <th>16</th>\n",
              "      <td>Bengaluru Urban</td>\n",
              "      <td>Bengaluru North</td>\n",
              "      <td>K.g.srikantapura</td>\n",
              "      <td>Gangondanahalli</td>\n",
              "      <td>0.70389</td>\n",
              "      <td>17.0</td>\n",
              "    </tr>\n",
              "    <tr>\n",
              "      <th>17</th>\n",
              "      <td>Bengaluru Urban</td>\n",
              "      <td>Bengaluru North</td>\n",
              "      <td>Alur</td>\n",
              "      <td>Kuduragere</td>\n",
              "      <td>0.70348</td>\n",
              "      <td>18.0</td>\n",
              "    </tr>\n",
              "    <tr>\n",
              "      <th>18</th>\n",
              "      <td>Bengaluru Urban</td>\n",
              "      <td>Bengaluru North</td>\n",
              "      <td>Gopalapura</td>\n",
              "      <td>Shamabhattara\\rpalya</td>\n",
              "      <td>0.70276</td>\n",
              "      <td>19.0</td>\n",
              "    </tr>\n",
              "    <tr>\n",
              "      <th>19</th>\n",
              "      <td>Bengaluru Urban</td>\n",
              "      <td>Bengaluru North</td>\n",
              "      <td>Gopalapura</td>\n",
              "      <td>Hosahalli palya</td>\n",
              "      <td>0.70165</td>\n",
              "      <td>20.0</td>\n",
              "    </tr>\n",
              "  </tbody>\n",
              "</table>\n",
              "</div>"
            ],
            "text/plain": [
              "           District            Taluk  ...      HDI Rank.3\n",
              "0   Bengaluru Urban  Bengaluru North  ...  0.75287    1.0\n",
              "1   Bengaluru Urban  Bengaluru North  ...  0.74663    2.0\n",
              "2   Bengaluru Urban  Bengaluru North  ...  0.73772    3.0\n",
              "3   Bengaluru Urban  Bengaluru North  ...  0.72313    4.0\n",
              "4   Bengaluru Urban  Bengaluru North  ...  0.72268    5.0\n",
              "5   Bengaluru Urban  Bengaluru North  ...  0.72218    6.0\n",
              "6   Bengaluru Urban           Anekal  ...  0.72205    7.0\n",
              "7   Bengaluru Urban  Bengaluru North  ...  0.72088    8.0\n",
              "8   Bengaluru Urban  Bengaluru South  ...  0.71940    9.0\n",
              "9   Bengaluru Urban  Bengaluru South  ...  0.71499   10.0\n",
              "10  Bengaluru Urban  Bengaluru North  ...  0.71288   11.0\n",
              "11  Bengaluru Urban  Bengaluru North  ...  0.71171   12.0\n",
              "12  Bengaluru Urban  Bengaluru North  ...  0.71141   13.0\n",
              "13  Bengaluru Urban  Bengaluru North  ...  0.70814   14.0\n",
              "14  Bengaluru Urban  Bengaluru North  ...  0.70527   15.0\n",
              "15  Bengaluru Urban  Bengaluru North  ...  0.70507   16.0\n",
              "16  Bengaluru Urban  Bengaluru North  ...  0.70389   17.0\n",
              "17  Bengaluru Urban  Bengaluru North  ...  0.70348   18.0\n",
              "18  Bengaluru Urban  Bengaluru North  ...  0.70276   19.0\n",
              "19  Bengaluru Urban  Bengaluru North  ...  0.70165   20.0\n",
              "\n",
              "[20 rows x 6 columns]"
            ]
          },
          "metadata": {
            "tags": []
          },
          "execution_count": 123
        }
      ]
    },
    {
      "cell_type": "code",
      "metadata": {
        "id": "23uoVe40yvGa"
      },
      "source": [
        "df.replace(\" \",\"\", inplace=True, regex=True)"
      ],
      "execution_count": null,
      "outputs": []
    },
    {
      "cell_type": "code",
      "metadata": {
        "id": "4-FwN4dZufSV"
      },
      "source": [
        "df.replace(\"\\r\",\"\", inplace=True, regex=True)"
      ],
      "execution_count": null,
      "outputs": []
    },
    {
      "cell_type": "code",
      "metadata": {
        "id": "5iFtIRR6ukGf",
        "outputId": "5b617af3-5cfb-4ffe-cf80-71d199237563",
        "colab": {
          "base_uri": "https://localhost:8080/",
          "height": 669
        }
      },
      "source": [
        "df.head(5)"
      ],
      "execution_count": null,
      "outputs": [
        {
          "output_type": "execute_result",
          "data": {
            "text/html": [
              "<div>\n",
              "<style scoped>\n",
              "    .dataframe tbody tr th:only-of-type {\n",
              "        vertical-align: middle;\n",
              "    }\n",
              "\n",
              "    .dataframe tbody tr th {\n",
              "        vertical-align: top;\n",
              "    }\n",
              "\n",
              "    .dataframe thead th {\n",
              "        text-align: right;\n",
              "    }\n",
              "</style>\n",
              "<table border=\"1\" class=\"dataframe\">\n",
              "  <thead>\n",
              "    <tr style=\"text-align: right;\">\n",
              "      <th></th>\n",
              "      <th>District</th>\n",
              "      <th>Taluk</th>\n",
              "      <th>Gram Panchayat</th>\n",
              "      <th>Village</th>\n",
              "      <th>HDI</th>\n",
              "      <th>Rank.3</th>\n",
              "    </tr>\n",
              "  </thead>\n",
              "  <tbody>\n",
              "    <tr>\n",
              "      <th>0</th>\n",
              "      <td>BengaluruUrban</td>\n",
              "      <td>BengaluruNorth</td>\n",
              "      <td>Arakere</td>\n",
              "      <td>Arakere</td>\n",
              "      <td>0.75287</td>\n",
              "      <td>1.0</td>\n",
              "    </tr>\n",
              "    <tr>\n",
              "      <th>1</th>\n",
              "      <td>BengaluruUrban</td>\n",
              "      <td>BengaluruNorth</td>\n",
              "      <td>Vaderahalli</td>\n",
              "      <td>Shamarajpura</td>\n",
              "      <td>0.74663</td>\n",
              "      <td>2.0</td>\n",
              "    </tr>\n",
              "    <tr>\n",
              "      <th>2</th>\n",
              "      <td>BengaluruUrban</td>\n",
              "      <td>BengaluruNorth</td>\n",
              "      <td>Kasagattapura</td>\n",
              "      <td>Kasagattapura</td>\n",
              "      <td>0.73772</td>\n",
              "      <td>3.0</td>\n",
              "    </tr>\n",
              "    <tr>\n",
              "      <th>3</th>\n",
              "      <td>BengaluruUrban</td>\n",
              "      <td>BengaluruNorth</td>\n",
              "      <td>Adakamaranahalli</td>\n",
              "      <td>Makali</td>\n",
              "      <td>0.72313</td>\n",
              "      <td>4.0</td>\n",
              "    </tr>\n",
              "    <tr>\n",
              "      <th>4</th>\n",
              "      <td>BengaluruUrban</td>\n",
              "      <td>BengaluruNorth</td>\n",
              "      <td>Shivakote</td>\n",
              "      <td>Kalenahalli</td>\n",
              "      <td>0.72268</td>\n",
              "      <td>5.0</td>\n",
              "    </tr>\n",
              "    <tr>\n",
              "      <th>5</th>\n",
              "      <td>BengaluruUrban</td>\n",
              "      <td>BengaluruNorth</td>\n",
              "      <td>Madanayakanahalli</td>\n",
              "      <td>Kadaranahalli</td>\n",
              "      <td>0.72218</td>\n",
              "      <td>6.0</td>\n",
              "    </tr>\n",
              "    <tr>\n",
              "      <th>6</th>\n",
              "      <td>BengaluruUrban</td>\n",
              "      <td>Anekal</td>\n",
              "      <td>Vanakanahalli</td>\n",
              "      <td>Menasiganahalli</td>\n",
              "      <td>0.72205</td>\n",
              "      <td>7.0</td>\n",
              "    </tr>\n",
              "    <tr>\n",
              "      <th>7</th>\n",
              "      <td>BengaluruUrban</td>\n",
              "      <td>BengaluruNorth</td>\n",
              "      <td>Huskur</td>\n",
              "      <td>Huskur</td>\n",
              "      <td>0.72088</td>\n",
              "      <td>8.0</td>\n",
              "    </tr>\n",
              "    <tr>\n",
              "      <th>8</th>\n",
              "      <td>BengaluruUrban</td>\n",
              "      <td>BengaluruSouth</td>\n",
              "      <td>Nelaguli</td>\n",
              "      <td>Naganayakanahalli</td>\n",
              "      <td>0.71940</td>\n",
              "      <td>9.0</td>\n",
              "    </tr>\n",
              "    <tr>\n",
              "      <th>9</th>\n",
              "      <td>BengaluruUrban</td>\n",
              "      <td>BengaluruSouth</td>\n",
              "      <td>Chikkanahalli</td>\n",
              "      <td>Sulivara</td>\n",
              "      <td>0.71499</td>\n",
              "      <td>10.0</td>\n",
              "    </tr>\n",
              "    <tr>\n",
              "      <th>10</th>\n",
              "      <td>BengaluruUrban</td>\n",
              "      <td>BengaluruNorth</td>\n",
              "      <td>Bandikodigehalli</td>\n",
              "      <td>Mahadevakodigehalli</td>\n",
              "      <td>0.71288</td>\n",
              "      <td>11.0</td>\n",
              "    </tr>\n",
              "    <tr>\n",
              "      <th>11</th>\n",
              "      <td>BengaluruUrban</td>\n",
              "      <td>BengaluruNorth</td>\n",
              "      <td>Arakere</td>\n",
              "      <td>Kakkehalli</td>\n",
              "      <td>0.71171</td>\n",
              "      <td>12.0</td>\n",
              "    </tr>\n",
              "    <tr>\n",
              "      <th>12</th>\n",
              "      <td>BengaluruUrban</td>\n",
              "      <td>BengaluruNorth</td>\n",
              "      <td>Huralichikkanahalli</td>\n",
              "      <td>Ivarkandapura</td>\n",
              "      <td>0.71141</td>\n",
              "      <td>13.0</td>\n",
              "    </tr>\n",
              "    <tr>\n",
              "      <th>13</th>\n",
              "      <td>BengaluruUrban</td>\n",
              "      <td>BengaluruNorth</td>\n",
              "      <td>Huskur</td>\n",
              "      <td>Pillahalli</td>\n",
              "      <td>0.70814</td>\n",
              "      <td>14.0</td>\n",
              "    </tr>\n",
              "    <tr>\n",
              "      <th>14</th>\n",
              "      <td>BengaluruUrban</td>\n",
              "      <td>BengaluruNorth</td>\n",
              "      <td>Huskur</td>\n",
              "      <td>Muniyanapalya</td>\n",
              "      <td>0.70527</td>\n",
              "      <td>15.0</td>\n",
              "    </tr>\n",
              "    <tr>\n",
              "      <th>15</th>\n",
              "      <td>BengaluruUrban</td>\n",
              "      <td>BengaluruNorth</td>\n",
              "      <td>Shivakote</td>\n",
              "      <td>Seethakempanahalli</td>\n",
              "      <td>0.70507</td>\n",
              "      <td>16.0</td>\n",
              "    </tr>\n",
              "    <tr>\n",
              "      <th>16</th>\n",
              "      <td>BengaluruUrban</td>\n",
              "      <td>BengaluruNorth</td>\n",
              "      <td>K.g.srikantapura</td>\n",
              "      <td>Gangondanahalli</td>\n",
              "      <td>0.70389</td>\n",
              "      <td>17.0</td>\n",
              "    </tr>\n",
              "    <tr>\n",
              "      <th>17</th>\n",
              "      <td>BengaluruUrban</td>\n",
              "      <td>BengaluruNorth</td>\n",
              "      <td>Alur</td>\n",
              "      <td>Kuduragere</td>\n",
              "      <td>0.70348</td>\n",
              "      <td>18.0</td>\n",
              "    </tr>\n",
              "    <tr>\n",
              "      <th>18</th>\n",
              "      <td>BengaluruUrban</td>\n",
              "      <td>BengaluruNorth</td>\n",
              "      <td>Gopalapura</td>\n",
              "      <td>Shamabhattarapalya</td>\n",
              "      <td>0.70276</td>\n",
              "      <td>19.0</td>\n",
              "    </tr>\n",
              "    <tr>\n",
              "      <th>19</th>\n",
              "      <td>BengaluruUrban</td>\n",
              "      <td>BengaluruNorth</td>\n",
              "      <td>Gopalapura</td>\n",
              "      <td>Hosahallipalya</td>\n",
              "      <td>0.70165</td>\n",
              "      <td>20.0</td>\n",
              "    </tr>\n",
              "  </tbody>\n",
              "</table>\n",
              "</div>"
            ],
            "text/plain": [
              "          District           Taluk  ...      HDI Rank.3\n",
              "0   BengaluruUrban  BengaluruNorth  ...  0.75287    1.0\n",
              "1   BengaluruUrban  BengaluruNorth  ...  0.74663    2.0\n",
              "2   BengaluruUrban  BengaluruNorth  ...  0.73772    3.0\n",
              "3   BengaluruUrban  BengaluruNorth  ...  0.72313    4.0\n",
              "4   BengaluruUrban  BengaluruNorth  ...  0.72268    5.0\n",
              "5   BengaluruUrban  BengaluruNorth  ...  0.72218    6.0\n",
              "6   BengaluruUrban          Anekal  ...  0.72205    7.0\n",
              "7   BengaluruUrban  BengaluruNorth  ...  0.72088    8.0\n",
              "8   BengaluruUrban  BengaluruSouth  ...  0.71940    9.0\n",
              "9   BengaluruUrban  BengaluruSouth  ...  0.71499   10.0\n",
              "10  BengaluruUrban  BengaluruNorth  ...  0.71288   11.0\n",
              "11  BengaluruUrban  BengaluruNorth  ...  0.71171   12.0\n",
              "12  BengaluruUrban  BengaluruNorth  ...  0.71141   13.0\n",
              "13  BengaluruUrban  BengaluruNorth  ...  0.70814   14.0\n",
              "14  BengaluruUrban  BengaluruNorth  ...  0.70527   15.0\n",
              "15  BengaluruUrban  BengaluruNorth  ...  0.70507   16.0\n",
              "16  BengaluruUrban  BengaluruNorth  ...  0.70389   17.0\n",
              "17  BengaluruUrban  BengaluruNorth  ...  0.70348   18.0\n",
              "18  BengaluruUrban  BengaluruNorth  ...  0.70276   19.0\n",
              "19  BengaluruUrban  BengaluruNorth  ...  0.70165   20.0\n",
              "\n",
              "[20 rows x 6 columns]"
            ]
          },
          "metadata": {
            "tags": []
          },
          "execution_count": 126
        }
      ]
    },
    {
      "cell_type": "code",
      "metadata": {
        "id": "RpBQI9u90-En",
        "outputId": "d0448d6d-4fb7-4b8b-95f5-c284230b5c4c",
        "colab": {
          "base_uri": "https://localhost:8080/",
          "height": 34
        }
      },
      "source": [
        "df['Taluk'].nunique()"
      ],
      "execution_count": null,
      "outputs": [
        {
          "output_type": "execute_result",
          "data": {
            "text/plain": [
              "176"
            ]
          },
          "metadata": {
            "tags": []
          },
          "execution_count": 127
        }
      ]
    },
    {
      "cell_type": "code",
      "metadata": {
        "id": "T4Nf32fF523e",
        "outputId": "113279e3-1955-478b-b079-a103ba192208",
        "colab": {
          "base_uri": "https://localhost:8080/",
          "height": 629
        }
      },
      "source": [
        "df['Taluk'].unique()"
      ],
      "execution_count": null,
      "outputs": [
        {
          "output_type": "execute_result",
          "data": {
            "text/plain": [
              "array(['BengaluruNorth', 'Anekal', 'BengaluruSouth', 'Hospet',\n",
              "       'BengaluruEast', 'Mangaluru', 'Karwar', 'Doddaballapur',\n",
              "       'Shivamogga', 'Belagavi', 'Somvarpet', 'Mudigere', 'Sirsi',\n",
              "       'Bangarapet', 'Channapatna', 'Mysuru', 'Udupi', 'Devanahalli',\n",
              "       'Kundapura', 'Nelamangala', 'Virajpet', 'Ramanagara', 'Hosanagara',\n",
              "       'Madikere', 'Siddapur', 'Holalkere', 'Shrirangapattana', 'Hassan',\n",
              "       'Tumakuru', 'Karkal', 'Hunsur', 'Bhatkal', 'Hiriyur',\n",
              "       'Chikkamagalur', 'Heggadadevankote', 'Sorab', 'Sakleshpur',\n",
              "       'Malur', 'Bantval', 'Sulya', 'Tirumakudal-Narsip', 'Harihar',\n",
              "       'Sagar', 'Nanjangud', 'Tirthahalli', 'Davanagere', 'Bagepalli',\n",
              "       'Yellapur', 'Hosakote', 'Beltangadi', 'Hubli', 'Koppa', 'Gubbi',\n",
              "       'Malavalli', 'Arkalgud', 'Magadi', 'Chikkaballapura', 'Dharwad',\n",
              "       'Puttur', 'Jagalur', 'Maddur', 'Gauribidanur', 'Tarikere',\n",
              "       'Krishnarajpet', 'Kanakapura', 'Koratagere', 'Bhadravati',\n",
              "       'Piriyapatna', 'Krishnarajanagara', 'Mulbagal', 'Belur', 'Kadur',\n",
              "       'Kumta', 'Honavar', 'Sringeri', 'Mundgod', 'Chintamani',\n",
              "       'Nagamangala', 'Alur', 'Mandya', 'Gadag', 'Haliyal', 'Kolar',\n",
              "       'Supa', 'Channarayapatna', 'Shikaripur', 'Madhugiri',\n",
              "       'Narasimharajapura', 'Channagiri', 'HoleNarsipur',\n",
              "       'Chamarajanagara', 'Honnali', 'Pavagada', 'Turuvekere',\n",
              "       'Pandavapura', 'Kalghatgi', 'Tiptur', 'Arsikere', 'Ankola',\n",
              "       'Srinivaspur', 'Kollegala', 'Bagalkot', 'Chikkodi', 'Ranibennur',\n",
              "       'Harapanahalli', 'Sira', 'Navalgund', 'Hosadurga', 'Kunigal',\n",
              "       'Koppal', 'Khanapur', 'Hungund', 'Bidar', 'Ramdurg', 'Chitradurga',\n",
              "       'Sandur', 'Gudibanda', 'Chiknayakanhalli', 'Hukeri', 'Sidlaghatta',\n",
              "       'Gundlupet', 'Hirekerur', 'Yelandur', 'Molakalmuru', 'Challakere',\n",
              "       'Badami', 'Gangawati', 'Jamkhandi', 'Kalaburagi', 'Byadgi',\n",
              "       'Hagaribommanahalli', 'Gokak', 'Vijayapura', 'Shiggaon', 'Hangal',\n",
              "       'Humnabad', 'Bellary', 'Kundgol', 'Savadathi', 'Shorapur',\n",
              "       'Kudligi', 'Mudhol', 'Yelburga', 'Sindhnur', 'Athni', 'Haveri',\n",
              "       'Sedam', 'Bilahongal', 'Manvi', 'BasavanaBagevadi', 'Basavakalyan',\n",
              "       'Bilgi', 'Raybag', 'Nargund', 'Shirahatti', 'Savanur', 'Raichur',\n",
              "       'Siruguppa', 'Chincholi', 'Hadagalli', 'Kushtagi', 'Lingsugur',\n",
              "       'Jevargi', 'Shahpur', 'Bhalki', 'Chitapur', 'Afzalpur', 'Sindgi',\n",
              "       'Muddebihal', 'Yadgir', 'Ron', 'Mundargi', 'Indi', 'Aurad',\n",
              "       'Devadurga', 'Aland'], dtype=object)"
            ]
          },
          "metadata": {
            "tags": []
          },
          "execution_count": 128
        }
      ]
    },
    {
      "cell_type": "code",
      "metadata": {
        "id": "iMwpLxOv15vm",
        "outputId": "77713a24-db19-4b3f-f575-ef3e207bcbfd",
        "colab": {
          "base_uri": "https://localhost:8080/",
          "height": 34
        }
      },
      "source": [
        "df['Gram Panchayat'].nunique()"
      ],
      "execution_count": null,
      "outputs": [
        {
          "output_type": "execute_result",
          "data": {
            "text/plain": [
              "5574"
            ]
          },
          "metadata": {
            "tags": []
          },
          "execution_count": 129
        }
      ]
    },
    {
      "cell_type": "code",
      "metadata": {
        "id": "aWLzWqeD4yAF",
        "outputId": "6b847563-9a91-4535-a254-d6b20d22f911",
        "colab": {
          "base_uri": "https://localhost:8080/",
          "height": 51
        }
      },
      "source": [
        "df['Gram Panchayat'].unique()"
      ],
      "execution_count": null,
      "outputs": [
        {
          "output_type": "execute_result",
          "data": {
            "text/plain": [
              "array(['Arakere', 'Vaderahalli', 'Kasagattapura', ...,\n",
              "       'Notunderanypanchayat', 'Maidala', 'Gadinadforest'], dtype=object)"
            ]
          },
          "metadata": {
            "tags": []
          },
          "execution_count": 130
        }
      ]
    },
    {
      "cell_type": "code",
      "metadata": {
        "id": "VpdbFE1W-HsQ"
      },
      "source": [
        "#df[['Gram Panchayat','gp_extra_info']] = df['Gram Panchayat'].str.split('(',expand=True)\n",
        "#df['Gram Panchayat'].str.replace(r\"\\(.*\\)\",\"\", inplace=True)\n",
        "df.replace(r\"\\(.*\\)\",\"\", inplace=True, regex=True)"
      ],
      "execution_count": null,
      "outputs": []
    },
    {
      "cell_type": "code",
      "metadata": {
        "id": "Q8w78DJK_p6c",
        "outputId": "f6805021-4b79-4169-a288-3a6597215e61",
        "colab": {
          "base_uri": "https://localhost:8080/",
          "height": 238
        }
      },
      "source": [
        "df.info()"
      ],
      "execution_count": null,
      "outputs": [
        {
          "output_type": "stream",
          "text": [
            "<class 'pandas.core.frame.DataFrame'>\n",
            "Int64Index: 27074 entries, 0 to 27073\n",
            "Data columns (total 6 columns):\n",
            " #   Column          Non-Null Count  Dtype  \n",
            "---  ------          --------------  -----  \n",
            " 0   District        27074 non-null  object \n",
            " 1   Taluk           27074 non-null  object \n",
            " 2   Gram Panchayat  27074 non-null  object \n",
            " 3   Village         27074 non-null  object \n",
            " 4   HDI             27074 non-null  float64\n",
            " 5   Rank.3          27074 non-null  float64\n",
            "dtypes: float64(2), object(4)\n",
            "memory usage: 1.4+ MB\n"
          ],
          "name": "stdout"
        }
      ]
    },
    {
      "cell_type": "code",
      "metadata": {
        "id": "00my7SD_d-zJ",
        "outputId": "39266adc-6f1d-4184-d99f-9b5a3fda38b7",
        "colab": {
          "base_uri": "https://localhost:8080/",
          "height": 204
        }
      },
      "source": [
        "df.sample(5)"
      ],
      "execution_count": null,
      "outputs": [
        {
          "output_type": "execute_result",
          "data": {
            "text/html": [
              "<div>\n",
              "<style scoped>\n",
              "    .dataframe tbody tr th:only-of-type {\n",
              "        vertical-align: middle;\n",
              "    }\n",
              "\n",
              "    .dataframe tbody tr th {\n",
              "        vertical-align: top;\n",
              "    }\n",
              "\n",
              "    .dataframe thead th {\n",
              "        text-align: right;\n",
              "    }\n",
              "</style>\n",
              "<table border=\"1\" class=\"dataframe\">\n",
              "  <thead>\n",
              "    <tr style=\"text-align: right;\">\n",
              "      <th></th>\n",
              "      <th>District</th>\n",
              "      <th>Taluk</th>\n",
              "      <th>Gram Panchayat</th>\n",
              "      <th>Village</th>\n",
              "      <th>HDI</th>\n",
              "      <th>Rank.3</th>\n",
              "    </tr>\n",
              "  </thead>\n",
              "  <tbody>\n",
              "    <tr>\n",
              "      <th>5675</th>\n",
              "      <td>BengaluruRural</td>\n",
              "      <td>Hosakote</td>\n",
              "      <td>Jadigenahalli</td>\n",
              "      <td>Kurubaragollahalli</td>\n",
              "      <td>0.49211</td>\n",
              "      <td>5676.0</td>\n",
              "    </tr>\n",
              "    <tr>\n",
              "      <th>13965</th>\n",
              "      <td>Kalaburagi</td>\n",
              "      <td>Chincholi</td>\n",
              "      <td>Siroli</td>\n",
              "      <td>Rudnoor</td>\n",
              "      <td>0.41591</td>\n",
              "      <td>13966.0</td>\n",
              "    </tr>\n",
              "    <tr>\n",
              "      <th>21569</th>\n",
              "      <td>Yadgir</td>\n",
              "      <td>Yadgir</td>\n",
              "      <td>Saidapur</td>\n",
              "      <td>Balched</td>\n",
              "      <td>0.32024</td>\n",
              "      <td>21570.0</td>\n",
              "    </tr>\n",
              "    <tr>\n",
              "      <th>10746</th>\n",
              "      <td>Chikkamagalur</td>\n",
              "      <td>Chikkamagalur</td>\n",
              "      <td>Kadavanthi</td>\n",
              "      <td>Basapura</td>\n",
              "      <td>0.44399</td>\n",
              "      <td>10747.0</td>\n",
              "    </tr>\n",
              "    <tr>\n",
              "      <th>791</th>\n",
              "      <td>Chikkamagalur</td>\n",
              "      <td>Chikkamagalur</td>\n",
              "      <td>Allampura</td>\n",
              "      <td>Karadihallikaval</td>\n",
              "      <td>0.57720</td>\n",
              "      <td>792.0</td>\n",
              "    </tr>\n",
              "  </tbody>\n",
              "</table>\n",
              "</div>"
            ],
            "text/plain": [
              "             District          Taluk  ...      HDI   Rank.3\n",
              "5675   BengaluruRural       Hosakote  ...  0.49211   5676.0\n",
              "13965      Kalaburagi      Chincholi  ...  0.41591  13966.0\n",
              "21569          Yadgir         Yadgir  ...  0.32024  21570.0\n",
              "10746   Chikkamagalur  Chikkamagalur  ...  0.44399  10747.0\n",
              "791     Chikkamagalur  Chikkamagalur  ...  0.57720    792.0\n",
              "\n",
              "[5 rows x 6 columns]"
            ]
          },
          "metadata": {
            "tags": []
          },
          "execution_count": 133
        }
      ]
    },
    {
      "cell_type": "code",
      "metadata": {
        "id": "0OP345fQbiM1",
        "outputId": "0e4eda7e-1e89-4012-8c32-b1e659e45e6d",
        "colab": {
          "base_uri": "https://localhost:8080/",
          "height": 181
        }
      },
      "source": [
        "# convert to csv\n",
        "df.to_csv('/content/drive/My Drive/omdena/cleaned_karnataka_hdi.csv', index=False, header=True)"
      ],
      "execution_count": null,
      "outputs": [
        {
          "output_type": "error",
          "ename": "NameError",
          "evalue": "ignored",
          "traceback": [
            "\u001b[0;31m---------------------------------------------------------------------------\u001b[0m",
            "\u001b[0;31mNameError\u001b[0m                                 Traceback (most recent call last)",
            "\u001b[0;32m<ipython-input-4-99c830d907b0>\u001b[0m in \u001b[0;36m<module>\u001b[0;34m()\u001b[0m\n\u001b[1;32m      1\u001b[0m \u001b[0;31m# convert to csv\u001b[0m\u001b[0;34m\u001b[0m\u001b[0;34m\u001b[0m\u001b[0;34m\u001b[0m\u001b[0m\n\u001b[0;32m----> 2\u001b[0;31m \u001b[0mdf\u001b[0m\u001b[0;34m.\u001b[0m\u001b[0mto_csv\u001b[0m\u001b[0;34m(\u001b[0m\u001b[0;34m'/content/drive/My Drive/omdena/cleaned_karnataka_hdi.csv'\u001b[0m\u001b[0;34m,\u001b[0m \u001b[0mindex\u001b[0m\u001b[0;34m=\u001b[0m\u001b[0;32mFalse\u001b[0m\u001b[0;34m,\u001b[0m \u001b[0mheader\u001b[0m\u001b[0;34m=\u001b[0m\u001b[0;32mTrue\u001b[0m\u001b[0;34m)\u001b[0m\u001b[0;34m\u001b[0m\u001b[0;34m\u001b[0m\u001b[0m\n\u001b[0m",
            "\u001b[0;31mNameError\u001b[0m: name 'df' is not defined"
          ]
        }
      ]
    },
    {
      "cell_type": "code",
      "metadata": {
        "id": "1YtOzpPzcfiK"
      },
      "source": [
        "df_cleaned = pd.read_csv(\"/content/drive/My Drive/omdena_hdi/data/cleaned_karnataka_hdi.csv\")"
      ],
      "execution_count": null,
      "outputs": []
    },
    {
      "cell_type": "code",
      "metadata": {
        "id": "dtDdNd2QjZY3",
        "outputId": "243f0471-53e6-4896-eb6b-870fe32d45c7",
        "colab": {
          "base_uri": "https://localhost:8080/",
          "height": 238
        }
      },
      "source": [
        "df_cleaned.info()"
      ],
      "execution_count": null,
      "outputs": [
        {
          "output_type": "stream",
          "text": [
            "<class 'pandas.core.frame.DataFrame'>\n",
            "RangeIndex: 27074 entries, 0 to 27073\n",
            "Data columns (total 6 columns):\n",
            " #   Column          Non-Null Count  Dtype  \n",
            "---  ------          --------------  -----  \n",
            " 0   District        27074 non-null  object \n",
            " 1   Taluk           27074 non-null  object \n",
            " 2   Gram Panchayat  27074 non-null  object \n",
            " 3   Village         27074 non-null  object \n",
            " 4   HDI             27074 non-null  float64\n",
            " 5   Rank.3          27074 non-null  float64\n",
            "dtypes: float64(2), object(4)\n",
            "memory usage: 1.2+ MB\n"
          ],
          "name": "stdout"
        }
      ]
    },
    {
      "cell_type": "code",
      "metadata": {
        "id": "_HkAPECnjbDd",
        "outputId": "dc378bfb-f8fb-45ce-d1bc-69135018c6d6",
        "colab": {
          "base_uri": "https://localhost:8080/",
          "height": 136
        }
      },
      "source": [
        "df_cleaned['District'].unique()"
      ],
      "execution_count": null,
      "outputs": [
        {
          "output_type": "execute_result",
          "data": {
            "text/plain": [
              "array(['BengaluruUrban', 'Ballari', 'DakshinaKannada', 'UttaraKannada',\n",
              "       'BengaluruRural', 'Shivamogga', 'Belagavi', 'Kodagu',\n",
              "       'Chikkamagalur', 'Kolar', 'Ramanagara', 'Mysuru', 'Udupi',\n",
              "       'Chitradurga', 'Mandya', 'Hassan', 'Tumakuru', 'Davanagere',\n",
              "       'Chikkaballapura', 'Dharwad', 'Gadag', 'Chamarajanagara',\n",
              "       'Bagalkot', 'Haveri', 'Koppal', 'Bidar', 'Kalaburagi',\n",
              "       'Vijayapura', 'Yadgir', 'Raichur'], dtype=object)"
            ]
          },
          "metadata": {
            "tags": []
          },
          "execution_count": 7
        }
      ]
    },
    {
      "cell_type": "code",
      "metadata": {
        "id": "hr42wqvBhJYX",
        "outputId": "13a2d801-03d2-4346-b2b8-1245d6b518c2",
        "colab": {
          "base_uri": "https://localhost:8080/",
          "height": 34
        }
      },
      "source": [
        "df_cleaned['District'].nunique()"
      ],
      "execution_count": null,
      "outputs": [
        {
          "output_type": "execute_result",
          "data": {
            "text/plain": [
              "30"
            ]
          },
          "metadata": {
            "tags": []
          },
          "execution_count": 8
        }
      ]
    },
    {
      "cell_type": "code",
      "metadata": {
        "id": "kG4cQ7okhEJg"
      },
      "source": [
        "#df_cleaned['Taluk'].unique()"
      ],
      "execution_count": null,
      "outputs": []
    },
    {
      "cell_type": "code",
      "metadata": {
        "id": "g8bOrbNfhOPk",
        "outputId": "0b3f413d-1eee-4075-f890-f7271780c7e9",
        "colab": {
          "base_uri": "https://localhost:8080/",
          "height": 34
        }
      },
      "source": [
        "df_cleaned['Taluk'].nunique()"
      ],
      "execution_count": null,
      "outputs": [
        {
          "output_type": "execute_result",
          "data": {
            "text/plain": [
              "176"
            ]
          },
          "metadata": {
            "tags": []
          },
          "execution_count": 10
        }
      ]
    },
    {
      "cell_type": "code",
      "metadata": {
        "id": "mb3LUdBThP7E",
        "outputId": "293bf58e-98b9-4e4e-cb84-933dbf798edc",
        "colab": {
          "base_uri": "https://localhost:8080/",
          "height": 51
        }
      },
      "source": [
        "df_cleaned['Gram Panchayat'].unique()"
      ],
      "execution_count": null,
      "outputs": [
        {
          "output_type": "execute_result",
          "data": {
            "text/plain": [
              "array(['Arakere', 'Vaderahalli', 'Kasagattapura', ...,\n",
              "       'Notunderanypanchayat', 'Maidala', 'Gadinadforest'], dtype=object)"
            ]
          },
          "metadata": {
            "tags": []
          },
          "execution_count": 11
        }
      ]
    },
    {
      "cell_type": "code",
      "metadata": {
        "id": "jy0xzDMfhVQc",
        "outputId": "e4b7f7dd-ed7a-4158-a91a-f63d4a73380a",
        "colab": {
          "base_uri": "https://localhost:8080/",
          "height": 34
        }
      },
      "source": [
        "df_cleaned['Gram Panchayat'].nunique()"
      ],
      "execution_count": null,
      "outputs": [
        {
          "output_type": "execute_result",
          "data": {
            "text/plain": [
              "5543"
            ]
          },
          "metadata": {
            "tags": []
          },
          "execution_count": 12
        }
      ]
    },
    {
      "cell_type": "code",
      "metadata": {
        "id": "iDRQnMZrnbdi",
        "outputId": "ce5da309-1c5b-402e-f68d-ee97f9169f13",
        "colab": {
          "base_uri": "https://localhost:8080/",
          "height": 204
        }
      },
      "source": [
        "df_cleaned.sample(5)"
      ],
      "execution_count": null,
      "outputs": [
        {
          "output_type": "execute_result",
          "data": {
            "text/html": [
              "<div>\n",
              "<style scoped>\n",
              "    .dataframe tbody tr th:only-of-type {\n",
              "        vertical-align: middle;\n",
              "    }\n",
              "\n",
              "    .dataframe tbody tr th {\n",
              "        vertical-align: top;\n",
              "    }\n",
              "\n",
              "    .dataframe thead th {\n",
              "        text-align: right;\n",
              "    }\n",
              "</style>\n",
              "<table border=\"1\" class=\"dataframe\">\n",
              "  <thead>\n",
              "    <tr style=\"text-align: right;\">\n",
              "      <th></th>\n",
              "      <th>District</th>\n",
              "      <th>Taluk</th>\n",
              "      <th>Gram Panchayat</th>\n",
              "      <th>Village</th>\n",
              "      <th>HDI</th>\n",
              "      <th>Rank.3</th>\n",
              "    </tr>\n",
              "  </thead>\n",
              "  <tbody>\n",
              "    <tr>\n",
              "      <th>6244</th>\n",
              "      <td>BengaluruUrban</td>\n",
              "      <td>BengaluruSouth</td>\n",
              "      <td>Ramohalli</td>\n",
              "      <td>Chalaghatta</td>\n",
              "      <td>0.48576</td>\n",
              "      <td>6245.0</td>\n",
              "    </tr>\n",
              "    <tr>\n",
              "      <th>9606</th>\n",
              "      <td>Tumakuru</td>\n",
              "      <td>Tiptur</td>\n",
              "      <td>Karadi</td>\n",
              "      <td>Ramenahalli</td>\n",
              "      <td>0.45425</td>\n",
              "      <td>9607.0</td>\n",
              "    </tr>\n",
              "    <tr>\n",
              "      <th>26478</th>\n",
              "      <td>Chikkaballapura</td>\n",
              "      <td>Sidlaghatta</td>\n",
              "      <td>Sdevaganahalli</td>\n",
              "      <td>Neralemaradahalli</td>\n",
              "      <td>0.15897</td>\n",
              "      <td>26479.0</td>\n",
              "    </tr>\n",
              "    <tr>\n",
              "      <th>1215</th>\n",
              "      <td>UttaraKannada</td>\n",
              "      <td>Siddapur</td>\n",
              "      <td>Shiralgi</td>\n",
              "      <td>Shiralgi</td>\n",
              "      <td>0.56303</td>\n",
              "      <td>1216.0</td>\n",
              "    </tr>\n",
              "    <tr>\n",
              "      <th>11147</th>\n",
              "      <td>Belagavi</td>\n",
              "      <td>Bilahongal</td>\n",
              "      <td>DODAWAD</td>\n",
              "      <td>DODAWAD</td>\n",
              "      <td>0.44080</td>\n",
              "      <td>11148.0</td>\n",
              "    </tr>\n",
              "  </tbody>\n",
              "</table>\n",
              "</div>"
            ],
            "text/plain": [
              "              District           Taluk  ...      HDI   Rank.3\n",
              "6244    BengaluruUrban  BengaluruSouth  ...  0.48576   6245.0\n",
              "9606          Tumakuru          Tiptur  ...  0.45425   9607.0\n",
              "26478  Chikkaballapura     Sidlaghatta  ...  0.15897  26479.0\n",
              "1215     UttaraKannada        Siddapur  ...  0.56303   1216.0\n",
              "11147         Belagavi      Bilahongal  ...  0.44080  11148.0\n",
              "\n",
              "[5 rows x 6 columns]"
            ]
          },
          "metadata": {
            "tags": []
          },
          "execution_count": 13
        }
      ]
    },
    {
      "cell_type": "code",
      "metadata": {
        "id": "hrttQKwPoo1n",
        "outputId": "56d812cb-07d5-4097-9d68-edda32d33f1b",
        "colab": {
          "base_uri": "https://localhost:8080/",
          "height": 279
        }
      },
      "source": [
        "sns.distplot(df_cleaned['HDI']);"
      ],
      "execution_count": null,
      "outputs": [
        {
          "output_type": "display_data",
          "data": {
            "image/png": "[encoded data removed]",
            "text/plain": [
              "<Figure size 432x288 with 1 Axes>"
            ]
          },
          "metadata": {
            "tags": [],
            "needs_background": "light"
          }
        }
      ]
    },
    {
      "cell_type": "code",
      "metadata": {
        "id": "wdUr2ph4YO8B",
        "outputId": "a8736155-27cf-4026-f0b8-16fd2491868b",
        "colab": {
          "base_uri": "https://localhost:8080/",
          "height": 34
        }
      },
      "source": [
        "df_cleaned['Village'].nunique()"
      ],
      "execution_count": null,
      "outputs": [
        {
          "output_type": "execute_result",
          "data": {
            "text/plain": [
              "20221"
            ]
          },
          "metadata": {
            "tags": []
          },
          "execution_count": 15
        }
      ]
    },
    {
      "cell_type": "code",
      "metadata": {
        "id": "tg-KYt3uhk70"
      },
      "source": [
        "df_codes = pd.read_csv(\"/content/drive/My Drive/omdena_hdi/data/gram_panchayat.csv\", sep=';')"
      ],
      "execution_count": null,
      "outputs": []
    },
    {
      "cell_type": "code",
      "metadata": {
        "id": "Kbir9-zBiMqJ",
        "outputId": "144bf2e4-7ff3-423b-9e33-c401d746e293",
        "colab": {
          "base_uri": "https://localhost:8080/",
          "height": 374
        }
      },
      "source": [
        "df_codes.info()"
      ],
      "execution_count": null,
      "outputs": [
        {
          "output_type": "stream",
          "text": [
            "<class 'pandas.core.frame.DataFrame'>\n",
            "RangeIndex: 34328 entries, 0 to 34327\n",
            "Data columns (total 14 columns):\n",
            " #   Column                         Non-Null Count  Dtype  \n",
            "---  ------                         --------------  -----  \n",
            " 0   District Code                  34328 non-null  int64  \n",
            " 1   District Name(in English)      34328 non-null  object \n",
            " 2   District Census Code2011       34328 non-null  int64  \n",
            " 3   District Census Code 2001      34328 non-null  int64  \n",
            " 4   Sub District Code              34328 non-null  int64  \n",
            " 5   Sub District Name(in English)  34328 non-null  object \n",
            " 6   Sub District Census Code 2011  34328 non-null  int64  \n",
            " 7   Sub District Census Code 2001  31602 non-null  float64\n",
            " 8   Village Code                   34328 non-null  int64  \n",
            " 9   Village Name(in English)       34328 non-null  object \n",
            " 10  Village Census Code 2011       34328 non-null  int64  \n",
            " 11  Village Census Code 2001       29446 non-null  float64\n",
            " 12  Local Body Code                32616 non-null  float64\n",
            " 13  Local Body Name(in English)    32616 non-null  object \n",
            "dtypes: float64(3), int64(7), object(4)\n",
            "memory usage: 3.7+ MB\n"
          ],
          "name": "stdout"
        }
      ]
    },
    {
      "cell_type": "code",
      "metadata": {
        "id": "xRd1wm5Eket4",
        "outputId": "8a0f8325-fb15-43de-ce9a-e215985185a6",
        "colab": {
          "base_uri": "https://localhost:8080/",
          "height": 292
        }
      },
      "source": [
        "df_codes.head(5)"
      ],
      "execution_count": null,
      "outputs": [
        {
          "output_type": "execute_result",
          "data": {
            "text/html": [
              "<div>\n",
              "<style scoped>\n",
              "    .dataframe tbody tr th:only-of-type {\n",
              "        vertical-align: middle;\n",
              "    }\n",
              "\n",
              "    .dataframe tbody tr th {\n",
              "        vertical-align: top;\n",
              "    }\n",
              "\n",
              "    .dataframe thead th {\n",
              "        text-align: right;\n",
              "    }\n",
              "</style>\n",
              "<table border=\"1\" class=\"dataframe\">\n",
              "  <thead>\n",
              "    <tr style=\"text-align: right;\">\n",
              "      <th></th>\n",
              "      <th>District Code</th>\n",
              "      <th>District Name(in English)</th>\n",
              "      <th>District Census Code2011</th>\n",
              "      <th>District Census Code 2001</th>\n",
              "      <th>Sub District Code</th>\n",
              "      <th>Sub District Name(in English)</th>\n",
              "      <th>Sub District Census Code 2011</th>\n",
              "      <th>Sub District Census Code 2001</th>\n",
              "      <th>Village Code</th>\n",
              "      <th>Village Name(in English)</th>\n",
              "      <th>Village Census Code 2011</th>\n",
              "      <th>Village Census Code 2001</th>\n",
              "      <th>Local Body Code</th>\n",
              "      <th>Local Body Name(in English)</th>\n",
              "    </tr>\n",
              "  </thead>\n",
              "  <tbody>\n",
              "    <tr>\n",
              "      <th>0</th>\n",
              "      <td>524</td>\n",
              "      <td>BAGALKOTE</td>\n",
              "      <td>556</td>\n",
              "      <td>2</td>\n",
              "      <td>5446</td>\n",
              "      <td>Badami</td>\n",
              "      <td>5446</td>\n",
              "      <td>4.0</td>\n",
              "      <td>598748</td>\n",
              "      <td>Adagal</td>\n",
              "      <td>598748</td>\n",
              "      <td>161700.0</td>\n",
              "      <td>215148.0</td>\n",
              "      <td>ADAGAL</td>\n",
              "    </tr>\n",
              "    <tr>\n",
              "      <th>1</th>\n",
              "      <td>524</td>\n",
              "      <td>BAGALKOTE</td>\n",
              "      <td>556</td>\n",
              "      <td>2</td>\n",
              "      <td>5446</td>\n",
              "      <td>Badami</td>\n",
              "      <td>5446</td>\n",
              "      <td>4.0</td>\n",
              "      <td>598647</td>\n",
              "      <td>Agasarakoppa</td>\n",
              "      <td>598647</td>\n",
              "      <td>151600.0</td>\n",
              "      <td>215158.0</td>\n",
              "      <td>HULIGERI</td>\n",
              "    </tr>\n",
              "    <tr>\n",
              "      <th>2</th>\n",
              "      <td>524</td>\n",
              "      <td>BAGALKOTE</td>\n",
              "      <td>556</td>\n",
              "      <td>2</td>\n",
              "      <td>5446</td>\n",
              "      <td>Badami</td>\n",
              "      <td>5446</td>\n",
              "      <td>4.0</td>\n",
              "      <td>598713</td>\n",
              "      <td>Aladakatti</td>\n",
              "      <td>598713</td>\n",
              "      <td>158200.0</td>\n",
              "      <td>215173.0</td>\n",
              "      <td>MUTALGERI</td>\n",
              "    </tr>\n",
              "    <tr>\n",
              "      <th>3</th>\n",
              "      <td>524</td>\n",
              "      <td>BAGALKOTE</td>\n",
              "      <td>556</td>\n",
              "      <td>2</td>\n",
              "      <td>5446</td>\n",
              "      <td>Badami</td>\n",
              "      <td>5446</td>\n",
              "      <td>4.0</td>\n",
              "      <td>598724</td>\n",
              "      <td>Alur .S.K.</td>\n",
              "      <td>598724</td>\n",
              "      <td>159300.0</td>\n",
              "      <td>273085.0</td>\n",
              "      <td>ALUR-SK</td>\n",
              "    </tr>\n",
              "    <tr>\n",
              "      <th>4</th>\n",
              "      <td>524</td>\n",
              "      <td>BAGALKOTE</td>\n",
              "      <td>556</td>\n",
              "      <td>2</td>\n",
              "      <td>5446</td>\n",
              "      <td>Badami</td>\n",
              "      <td>5446</td>\n",
              "      <td>4.0</td>\n",
              "      <td>598769</td>\n",
              "      <td>Anantagiri</td>\n",
              "      <td>598769</td>\n",
              "      <td>163800.0</td>\n",
              "      <td>215157.0</td>\n",
              "      <td>HOSUR</td>\n",
              "    </tr>\n",
              "  </tbody>\n",
              "</table>\n",
              "</div>"
            ],
            "text/plain": [
              "   District Code  ... Local Body Name(in English)\n",
              "0            524  ...                      ADAGAL\n",
              "1            524  ...                    HULIGERI\n",
              "2            524  ...                   MUTALGERI\n",
              "3            524  ...                     ALUR-SK\n",
              "4            524  ...                       HOSUR\n",
              "\n",
              "[5 rows x 14 columns]"
            ]
          },
          "metadata": {
            "tags": []
          },
          "execution_count": 18
        }
      ]
    },
    {
      "cell_type": "code",
      "metadata": {
        "id": "idgmI6ABqWxG",
        "outputId": "cc933ab8-71b0-481f-9f72-87b74a4b1f7d",
        "colab": {
          "base_uri": "https://localhost:8080/",
          "height": 136
        }
      },
      "source": [
        "df_codes['District Name(in English)'].unique()"
      ],
      "execution_count": null,
      "outputs": [
        {
          "output_type": "execute_result",
          "data": {
            "text/plain": [
              "array(['BAGALKOTE', 'BALLARI', 'BELAGAVI', 'BENGALURU RURAL',\n",
              "       'BENGALURU URBAN', 'BIDAR', 'CHAMARAJANAGARA', 'CHIKKABALLAPURA',\n",
              "       'CHIKKAMAGALURU', 'CHITRADURGA', 'DAKSHINA KANNADA', 'DAVANGERE',\n",
              "       'DHARWAD', 'GADAG', 'HASSAN', 'HAVERI', 'KALABURAGI', 'KODAGU',\n",
              "       'KOLAR', 'KOPPAL', 'MANDYA', 'MYSURU', 'RAICHUR', 'RAMANAGARA',\n",
              "       'SHIVAMOGGA', 'TUMAKURU', 'UDUPI', 'UTTARA KANNADA', 'VIJAYAPURA',\n",
              "       'YADGIR'], dtype=object)"
            ]
          },
          "metadata": {
            "tags": []
          },
          "execution_count": 19
        }
      ]
    },
    {
      "cell_type": "code",
      "metadata": {
        "id": "APoVZ0FeqmtE",
        "outputId": "e5bc5863-4c51-445f-a4da-278d0b23c8e0",
        "colab": {
          "base_uri": "https://localhost:8080/",
          "height": 34
        }
      },
      "source": [
        "df_codes['District Name(in English)'].nunique()"
      ],
      "execution_count": null,
      "outputs": [
        {
          "output_type": "execute_result",
          "data": {
            "text/plain": [
              "30"
            ]
          },
          "metadata": {
            "tags": []
          },
          "execution_count": 20
        }
      ]
    },
    {
      "cell_type": "code",
      "metadata": {
        "id": "txkup9VPrF25"
      },
      "source": [
        "#df_codes['Sub District Name(in English)'].unique()"
      ],
      "execution_count": null,
      "outputs": []
    },
    {
      "cell_type": "code",
      "metadata": {
        "id": "RjVinbU9rRrd",
        "outputId": "f7a36a17-cbe3-4d6b-a895-add67cac9d04",
        "colab": {
          "base_uri": "https://localhost:8080/",
          "height": 34
        }
      },
      "source": [
        "df_codes['Sub District Name(in English)'].nunique()"
      ],
      "execution_count": null,
      "outputs": [
        {
          "output_type": "execute_result",
          "data": {
            "text/plain": [
              "227"
            ]
          },
          "metadata": {
            "tags": []
          },
          "execution_count": 22
        }
      ]
    },
    {
      "cell_type": "code",
      "metadata": {
        "id": "0oUivrCEqqT7",
        "outputId": "1e01e875-be7e-4571-b4bb-94accdcbb2d5",
        "colab": {
          "base_uri": "https://localhost:8080/",
          "height": 68
        }
      },
      "source": [
        "df_codes['District Code'].unique()"
      ],
      "execution_count": null,
      "outputs": [
        {
          "output_type": "execute_result",
          "data": {
            "text/plain": [
              "array([524, 528, 527, 526, 525, 529, 531, 630, 532, 533, 534, 535, 536,\n",
              "       537, 539, 540, 538, 541, 542, 543, 544, 545, 546, 631, 547, 548,\n",
              "       549, 550, 530, 635])"
            ]
          },
          "metadata": {
            "tags": []
          },
          "execution_count": 23
        }
      ]
    },
    {
      "cell_type": "code",
      "metadata": {
        "id": "BRtzMlxhqxHC",
        "outputId": "9a5aec76-a2d2-4d59-9aa3-bdbbad42f9d3",
        "colab": {
          "base_uri": "https://localhost:8080/",
          "height": 68
        }
      },
      "source": [
        "df_codes['District Census Code2011'].unique()"
      ],
      "execution_count": null,
      "outputs": [
        {
          "output_type": "execute_result",
          "data": {
            "text/plain": [
              "array([556, 565, 555, 583, 572, 558, 578, 582, 570, 566, 575, 567, 562,\n",
              "       561, 574, 564, 579, 576, 581, 560, 573, 577, 559, 584, 568, 571,\n",
              "       569, 563, 557, 580])"
            ]
          },
          "metadata": {
            "tags": []
          },
          "execution_count": 24
        }
      ]
    },
    {
      "cell_type": "code",
      "metadata": {
        "id": "jjZmumUInDoc"
      },
      "source": [
        "#cols = [0,3,4,7,8,11,12]\n",
        "#df_codes.drop(df_codes.columns[cols], axis=1, inplace=True);"
      ],
      "execution_count": null,
      "outputs": []
    },
    {
      "cell_type": "code",
      "metadata": {
        "id": "-p2dvzQfko7X",
        "outputId": "31ad6d02-6e83-4ebf-ac32-cd75e10b22db",
        "colab": {
          "base_uri": "https://localhost:8080/",
          "height": 34
        }
      },
      "source": [
        "df_codes.isnull().values.any()"
      ],
      "execution_count": null,
      "outputs": [
        {
          "output_type": "execute_result",
          "data": {
            "text/plain": [
              "True"
            ]
          },
          "metadata": {
            "tags": []
          },
          "execution_count": 26
        }
      ]
    },
    {
      "cell_type": "code",
      "metadata": {
        "id": "9eDDc-K8y33j",
        "outputId": "533d2206-1458-474e-b847-5f4a53bb23d7",
        "colab": {
          "base_uri": "https://localhost:8080/",
          "height": 51
        }
      },
      "source": [
        "(df_codes['District Census Code2011'] == 0).value_counts()"
      ],
      "execution_count": null,
      "outputs": [
        {
          "output_type": "execute_result",
          "data": {
            "text/plain": [
              "False    34328\n",
              "Name: District Census Code2011, dtype: int64"
            ]
          },
          "metadata": {
            "tags": []
          },
          "execution_count": 27
        }
      ]
    },
    {
      "cell_type": "code",
      "metadata": {
        "id": "3AikQF2WlQZH",
        "outputId": "adbe61a7-1df6-4796-a96c-48f9f54811f0",
        "colab": {
          "base_uri": "https://localhost:8080/",
          "height": 68
        }
      },
      "source": [
        "(df_codes['Village Census Code 2011'] == 0).value_counts()"
      ],
      "execution_count": null,
      "outputs": [
        {
          "output_type": "execute_result",
          "data": {
            "text/plain": [
              "False    29523\n",
              "True      4805\n",
              "Name: Village Census Code 2011, dtype: int64"
            ]
          },
          "metadata": {
            "tags": []
          },
          "execution_count": 28
        }
      ]
    },
    {
      "cell_type": "code",
      "metadata": {
        "id": "-FoJxv6tyr1x",
        "outputId": "7ee44813-8278-4e00-8690-771afe4e5b66",
        "colab": {
          "base_uri": "https://localhost:8080/",
          "height": 51
        }
      },
      "source": [
        "(df_codes['Village Code'] == 0).value_counts()"
      ],
      "execution_count": null,
      "outputs": [
        {
          "output_type": "execute_result",
          "data": {
            "text/plain": [
              "False    34328\n",
              "Name: Village Code, dtype: int64"
            ]
          },
          "metadata": {
            "tags": []
          },
          "execution_count": 29
        }
      ]
    },
    {
      "cell_type": "code",
      "metadata": {
        "id": "NLqsLuYflpZ5",
        "outputId": "304996a9-17c7-456d-d4ff-f0a52ad0e408",
        "colab": {
          "base_uri": "https://localhost:8080/",
          "height": 68
        }
      },
      "source": [
        "(df_codes['Sub District Census Code 2011'] == 0).value_counts()"
      ],
      "execution_count": null,
      "outputs": [
        {
          "output_type": "execute_result",
          "data": {
            "text/plain": [
              "False    31602\n",
              "True      2726\n",
              "Name: Sub District Census Code 2011, dtype: int64"
            ]
          },
          "metadata": {
            "tags": []
          },
          "execution_count": 31
        }
      ]
    },
    {
      "cell_type": "code",
      "metadata": {
        "id": "50RNfIZpx2Bk",
        "outputId": "44c93dfd-c1b1-40d3-d2f5-53efc143ca9e",
        "colab": {
          "base_uri": "https://localhost:8080/",
          "height": 51
        }
      },
      "source": [
        "(df_codes['Sub District Code'] == 0).value_counts()"
      ],
      "execution_count": null,
      "outputs": [
        {
          "output_type": "execute_result",
          "data": {
            "text/plain": [
              "False    34328\n",
              "Name: Sub District Code, dtype: int64"
            ]
          },
          "metadata": {
            "tags": []
          },
          "execution_count": 32
        }
      ]
    },
    {
      "cell_type": "code",
      "metadata": {
        "id": "gJu3RxuizoHy"
      },
      "source": [
        "df_codes['unique code'] = '29'+ df_codes['District Census Code2011'].map(str) + '0' + df_codes['Sub District Code'].map(str) + df_codes['Village Code'].map(str)"
      ],
      "execution_count": null,
      "outputs": []
    },
    {
      "cell_type": "code",
      "metadata": {
        "id": "P4naj_52AlWc",
        "outputId": "7a56412a-2087-4091-9a27-c02f20afa248",
        "colab": {
          "base_uri": "https://localhost:8080/",
          "height": 391
        }
      },
      "source": [
        "df_codes.info()"
      ],
      "execution_count": null,
      "outputs": [
        {
          "output_type": "stream",
          "text": [
            "<class 'pandas.core.frame.DataFrame'>\n",
            "RangeIndex: 34328 entries, 0 to 34327\n",
            "Data columns (total 15 columns):\n",
            " #   Column                         Non-Null Count  Dtype  \n",
            "---  ------                         --------------  -----  \n",
            " 0   District Code                  34328 non-null  int64  \n",
            " 1   District Name(in English)      34328 non-null  object \n",
            " 2   District Census Code2011       34328 non-null  int64  \n",
            " 3   District Census Code 2001      34328 non-null  int64  \n",
            " 4   Sub District Code              34328 non-null  int64  \n",
            " 5   Sub District Name(in English)  34328 non-null  object \n",
            " 6   Sub District Census Code 2011  34328 non-null  int64  \n",
            " 7   Sub District Census Code 2001  31602 non-null  float64\n",
            " 8   Village Code                   34328 non-null  int64  \n",
            " 9   Village Name(in English)       34328 non-null  object \n",
            " 10  Village Census Code 2011       34328 non-null  int64  \n",
            " 11  Village Census Code 2001       29446 non-null  float64\n",
            " 12  Local Body Code                32616 non-null  float64\n",
            " 13  Local Body Name(in English)    32616 non-null  object \n",
            " 14  unique code                    34328 non-null  object \n",
            "dtypes: float64(3), int64(7), object(5)\n",
            "memory usage: 3.9+ MB\n"
          ],
          "name": "stdout"
        }
      ]
    },
    {
      "cell_type": "code",
      "metadata": {
        "id": "x2yhTusYAsIX",
        "outputId": "18d3ce8b-c1fe-4c95-f4be-7b8baf86ecc0",
        "colab": {
          "base_uri": "https://localhost:8080/",
          "height": 326
        }
      },
      "source": [
        "df_codes.sample(5)"
      ],
      "execution_count": null,
      "outputs": [
        {
          "output_type": "execute_result",
          "data": {
            "text/html": [
              "<div>\n",
              "<style scoped>\n",
              "    .dataframe tbody tr th:only-of-type {\n",
              "        vertical-align: middle;\n",
              "    }\n",
              "\n",
              "    .dataframe tbody tr th {\n",
              "        vertical-align: top;\n",
              "    }\n",
              "\n",
              "    .dataframe thead th {\n",
              "        text-align: right;\n",
              "    }\n",
              "</style>\n",
              "<table border=\"1\" class=\"dataframe\">\n",
              "  <thead>\n",
              "    <tr style=\"text-align: right;\">\n",
              "      <th></th>\n",
              "      <th>District Code</th>\n",
              "      <th>District Name(in English)</th>\n",
              "      <th>District Census Code2011</th>\n",
              "      <th>District Census Code 2001</th>\n",
              "      <th>Sub District Code</th>\n",
              "      <th>Sub District Name(in English)</th>\n",
              "      <th>Sub District Census Code 2011</th>\n",
              "      <th>Sub District Census Code 2001</th>\n",
              "      <th>Village Code</th>\n",
              "      <th>Village Name(in English)</th>\n",
              "      <th>Village Census Code 2011</th>\n",
              "      <th>Village Census Code 2001</th>\n",
              "      <th>Local Body Code</th>\n",
              "      <th>Local Body Name(in English)</th>\n",
              "      <th>unique code</th>\n",
              "    </tr>\n",
              "  </thead>\n",
              "  <tbody>\n",
              "    <tr>\n",
              "      <th>24993</th>\n",
              "      <td>546</td>\n",
              "      <td>RAICHUR</td>\n",
              "      <td>559</td>\n",
              "      <td>6</td>\n",
              "      <td>5460</td>\n",
              "      <td>Devadurga</td>\n",
              "      <td>5460</td>\n",
              "      <td>2.0</td>\n",
              "      <td>600563</td>\n",
              "      <td>Mukanhal</td>\n",
              "      <td>600563</td>\n",
              "      <td>485100.0</td>\n",
              "      <td>273065.0</td>\n",
              "      <td>AMARAPUR</td>\n",
              "      <td>2955905460600563</td>\n",
              "    </tr>\n",
              "    <tr>\n",
              "      <th>33373</th>\n",
              "      <td>530</td>\n",
              "      <td>VIJAYAPURA</td>\n",
              "      <td>557</td>\n",
              "      <td>3</td>\n",
              "      <td>7072</td>\n",
              "      <td>KOLHAR</td>\n",
              "      <td>0</td>\n",
              "      <td>NaN</td>\n",
              "      <td>599457</td>\n",
              "      <td>Asangi (B.K.)</td>\n",
              "      <td>599457</td>\n",
              "      <td>231100.0</td>\n",
              "      <td>216487.0</td>\n",
              "      <td>MALAGHAN</td>\n",
              "      <td>2955707072599457</td>\n",
              "    </tr>\n",
              "    <tr>\n",
              "      <th>4794</th>\n",
              "      <td>525</td>\n",
              "      <td>BENGALURU URBAN</td>\n",
              "      <td>572</td>\n",
              "      <td>20</td>\n",
              "      <td>5542</td>\n",
              "      <td>Bengaluru North</td>\n",
              "      <td>5542</td>\n",
              "      <td>1.0</td>\n",
              "      <td>939407</td>\n",
              "      <td>AKKITHIMMANAHALLI</td>\n",
              "      <td>0</td>\n",
              "      <td>NaN</td>\n",
              "      <td>NaN</td>\n",
              "      <td>NaN</td>\n",
              "      <td>2957205542939407</td>\n",
              "    </tr>\n",
              "    <tr>\n",
              "      <th>1373</th>\n",
              "      <td>528</td>\n",
              "      <td>BALLARI</td>\n",
              "      <td>565</td>\n",
              "      <td>12</td>\n",
              "      <td>5501</td>\n",
              "      <td>Sandur</td>\n",
              "      <td>5501</td>\n",
              "      <td>6.0</td>\n",
              "      <td>605024</td>\n",
              "      <td>Chikkantapur</td>\n",
              "      <td>605024</td>\n",
              "      <td>929000.0</td>\n",
              "      <td>216247.0</td>\n",
              "      <td>ANTHAPURA</td>\n",
              "      <td>2956505501605024</td>\n",
              "    </tr>\n",
              "    <tr>\n",
              "      <th>6160</th>\n",
              "      <td>529</td>\n",
              "      <td>BIDAR</td>\n",
              "      <td>558</td>\n",
              "      <td>5</td>\n",
              "      <td>7086</td>\n",
              "      <td>HULSOOR</td>\n",
              "      <td>0</td>\n",
              "      <td>NaN</td>\n",
              "      <td>599735</td>\n",
              "      <td>Gadiraipalli</td>\n",
              "      <td>599735</td>\n",
              "      <td>402600.0</td>\n",
              "      <td>216338.0</td>\n",
              "      <td>DHANURA (K)</td>\n",
              "      <td>2955807086599735</td>\n",
              "    </tr>\n",
              "  </tbody>\n",
              "</table>\n",
              "</div>"
            ],
            "text/plain": [
              "       District Code  ...       unique code\n",
              "24993            546  ...  2955905460600563\n",
              "33373            530  ...  2955707072599457\n",
              "4794             525  ...  2957205542939407\n",
              "1373             528  ...  2956505501605024\n",
              "6160             529  ...  2955807086599735\n",
              "\n",
              "[5 rows x 15 columns]"
            ]
          },
          "metadata": {
            "tags": []
          },
          "execution_count": 35
        }
      ]
    },
    {
      "cell_type": "code",
      "metadata": {
        "id": "N3DFrGzhH4D6",
        "outputId": "e08a40c8-08d4-4af8-e36a-beff4fb857ca",
        "colab": {
          "base_uri": "https://localhost:8080/",
          "height": 34
        }
      },
      "source": [
        "df_codes['unique code'].isnull().values.any()"
      ],
      "execution_count": null,
      "outputs": [
        {
          "output_type": "execute_result",
          "data": {
            "text/plain": [
              "False"
            ]
          },
          "metadata": {
            "tags": []
          },
          "execution_count": 36
        }
      ]
    },
    {
      "cell_type": "code",
      "metadata": {
        "id": "4dwACuqmAw3H",
        "outputId": "2855bdd2-eece-4c3f-ab3c-1a594993abcf",
        "colab": {
          "base_uri": "https://localhost:8080/",
          "height": 323
        }
      },
      "source": [
        "df_codes[df_codes['unique code'].duplicated(keep=False)]"
      ],
      "execution_count": null,
      "outputs": [
        {
          "output_type": "execute_result",
          "data": {
            "text/html": [
              "<div>\n",
              "<style scoped>\n",
              "    .dataframe tbody tr th:only-of-type {\n",
              "        vertical-align: middle;\n",
              "    }\n",
              "\n",
              "    .dataframe tbody tr th {\n",
              "        vertical-align: top;\n",
              "    }\n",
              "\n",
              "    .dataframe thead th {\n",
              "        text-align: right;\n",
              "    }\n",
              "</style>\n",
              "<table border=\"1\" class=\"dataframe\">\n",
              "  <thead>\n",
              "    <tr style=\"text-align: right;\">\n",
              "      <th></th>\n",
              "      <th>District Code</th>\n",
              "      <th>District Name(in English)</th>\n",
              "      <th>District Census Code2011</th>\n",
              "      <th>District Census Code 2001</th>\n",
              "      <th>Sub District Code</th>\n",
              "      <th>Sub District Name(in English)</th>\n",
              "      <th>Sub District Census Code 2011</th>\n",
              "      <th>Sub District Census Code 2001</th>\n",
              "      <th>Village Code</th>\n",
              "      <th>Village Name(in English)</th>\n",
              "      <th>Village Census Code 2011</th>\n",
              "      <th>Village Census Code 2001</th>\n",
              "      <th>Local Body Code</th>\n",
              "      <th>Local Body Name(in English)</th>\n",
              "      <th>unique code</th>\n",
              "    </tr>\n",
              "  </thead>\n",
              "  <tbody>\n",
              "    <tr>\n",
              "      <th>18797</th>\n",
              "      <td>541</td>\n",
              "      <td>KODAGU</td>\n",
              "      <td>576</td>\n",
              "      <td>25</td>\n",
              "      <td>5568</td>\n",
              "      <td>Virajpet</td>\n",
              "      <td>5568</td>\n",
              "      <td>3.0</td>\n",
              "      <td>618050</td>\n",
              "      <td>Aruvath0Klu</td>\n",
              "      <td>618050</td>\n",
              "      <td>2751900.0</td>\n",
              "      <td>218728.0</td>\n",
              "      <td>ARUVATOKLU</td>\n",
              "      <td>2957605568618050</td>\n",
              "    </tr>\n",
              "    <tr>\n",
              "      <th>18798</th>\n",
              "      <td>541</td>\n",
              "      <td>KODAGU</td>\n",
              "      <td>576</td>\n",
              "      <td>25</td>\n",
              "      <td>5568</td>\n",
              "      <td>Virajpet</td>\n",
              "      <td>5568</td>\n",
              "      <td>3.0</td>\n",
              "      <td>618050</td>\n",
              "      <td>Aruvath0Klu</td>\n",
              "      <td>618050</td>\n",
              "      <td>2751900.0</td>\n",
              "      <td>218757.0</td>\n",
              "      <td>PONNAMPET</td>\n",
              "      <td>2957605568618050</td>\n",
              "    </tr>\n",
              "    <tr>\n",
              "      <th>18850</th>\n",
              "      <td>541</td>\n",
              "      <td>KODAGU</td>\n",
              "      <td>576</td>\n",
              "      <td>25</td>\n",
              "      <td>5568</td>\n",
              "      <td>Virajpet</td>\n",
              "      <td>5568</td>\n",
              "      <td>3.0</td>\n",
              "      <td>618054</td>\n",
              "      <td>Halligattu</td>\n",
              "      <td>618054</td>\n",
              "      <td>2752300.0</td>\n",
              "      <td>218728.0</td>\n",
              "      <td>ARUVATOKLU</td>\n",
              "      <td>2957605568618054</td>\n",
              "    </tr>\n",
              "    <tr>\n",
              "      <th>18851</th>\n",
              "      <td>541</td>\n",
              "      <td>KODAGU</td>\n",
              "      <td>576</td>\n",
              "      <td>25</td>\n",
              "      <td>5568</td>\n",
              "      <td>Virajpet</td>\n",
              "      <td>5568</td>\n",
              "      <td>3.0</td>\n",
              "      <td>618054</td>\n",
              "      <td>Halligattu</td>\n",
              "      <td>618054</td>\n",
              "      <td>2752300.0</td>\n",
              "      <td>218757.0</td>\n",
              "      <td>PONNAMPET</td>\n",
              "      <td>2957605568618054</td>\n",
              "    </tr>\n",
              "    <tr>\n",
              "      <th>26606</th>\n",
              "      <td>631</td>\n",
              "      <td>RAMANAGARA</td>\n",
              "      <td>584</td>\n",
              "      <td>21</td>\n",
              "      <td>5605</td>\n",
              "      <td>Magadi</td>\n",
              "      <td>5605</td>\n",
              "      <td>5.0</td>\n",
              "      <td>625784</td>\n",
              "      <td>Thippasandra</td>\n",
              "      <td>625784</td>\n",
              "      <td>2207000.0</td>\n",
              "      <td>215548.0</td>\n",
              "      <td>BELAGUMBA</td>\n",
              "      <td>2958405605625784</td>\n",
              "    </tr>\n",
              "    <tr>\n",
              "      <th>26607</th>\n",
              "      <td>631</td>\n",
              "      <td>RAMANAGARA</td>\n",
              "      <td>584</td>\n",
              "      <td>21</td>\n",
              "      <td>5605</td>\n",
              "      <td>Magadi</td>\n",
              "      <td>5605</td>\n",
              "      <td>5.0</td>\n",
              "      <td>625784</td>\n",
              "      <td>Thippasandra</td>\n",
              "      <td>625784</td>\n",
              "      <td>2207000.0</td>\n",
              "      <td>215574.0</td>\n",
              "      <td>THJPPASANDRA</td>\n",
              "      <td>2958405605625784</td>\n",
              "    </tr>\n",
              "  </tbody>\n",
              "</table>\n",
              "</div>"
            ],
            "text/plain": [
              "       District Code  ...       unique code\n",
              "18797            541  ...  2957605568618050\n",
              "18798            541  ...  2957605568618050\n",
              "18850            541  ...  2957605568618054\n",
              "18851            541  ...  2957605568618054\n",
              "26606            631  ...  2958405605625784\n",
              "26607            631  ...  2958405605625784\n",
              "\n",
              "[6 rows x 15 columns]"
            ]
          },
          "metadata": {
            "tags": []
          },
          "execution_count": 37
        }
      ]
    },
    {
      "cell_type": "code",
      "metadata": {
        "id": "hXJX2anwTXzz"
      },
      "source": [
        "#df_codes.drop_duplicates(subset=['unique code'], inplace=True)"
      ],
      "execution_count": null,
      "outputs": []
    },
    {
      "cell_type": "code",
      "metadata": {
        "id": "T_6KDU19GKne",
        "outputId": "20ee3cef-fc9e-4b6c-b28f-b5b7fe1d3069",
        "colab": {
          "base_uri": "https://localhost:8080/",
          "height": 34
        }
      },
      "source": [
        "df_codes['Local Body Code'].nunique()"
      ],
      "execution_count": null,
      "outputs": [
        {
          "output_type": "execute_result",
          "data": {
            "text/plain": [
              "6008"
            ]
          },
          "metadata": {
            "tags": []
          },
          "execution_count": 39
        }
      ]
    },
    {
      "cell_type": "code",
      "metadata": {
        "id": "7-80jDAGSHVK"
      },
      "source": [
        "#cols = [0,2,3,4,6,7,8,10,11,12]\n",
        "#df_codes.drop(df_codes.columns[cols], axis=1, inplace=True);"
      ],
      "execution_count": null,
      "outputs": []
    },
    {
      "cell_type": "code",
      "metadata": {
        "id": "2waGMugPgD7O"
      },
      "source": [
        "df_codes.sort_values(by=['District Name(in English)', 'Local Body Name(in English)', 'Village Name(in English)'], inplace=True)"
      ],
      "execution_count": null,
      "outputs": []
    },
    {
      "cell_type": "code",
      "metadata": {
        "id": "KnvcLejggvrR",
        "outputId": "2eaf3665-8ab0-490e-9e00-b41840b7e581",
        "colab": {
          "base_uri": "https://localhost:8080/",
          "height": 309
        }
      },
      "source": [
        "df_codes.head()"
      ],
      "execution_count": null,
      "outputs": [
        {
          "output_type": "execute_result",
          "data": {
            "text/html": [
              "<div>\n",
              "<style scoped>\n",
              "    .dataframe tbody tr th:only-of-type {\n",
              "        vertical-align: middle;\n",
              "    }\n",
              "\n",
              "    .dataframe tbody tr th {\n",
              "        vertical-align: top;\n",
              "    }\n",
              "\n",
              "    .dataframe thead th {\n",
              "        text-align: right;\n",
              "    }\n",
              "</style>\n",
              "<table border=\"1\" class=\"dataframe\">\n",
              "  <thead>\n",
              "    <tr style=\"text-align: right;\">\n",
              "      <th></th>\n",
              "      <th>District Code</th>\n",
              "      <th>District Name(in English)</th>\n",
              "      <th>District Census Code2011</th>\n",
              "      <th>District Census Code 2001</th>\n",
              "      <th>Sub District Code</th>\n",
              "      <th>Sub District Name(in English)</th>\n",
              "      <th>Sub District Census Code 2011</th>\n",
              "      <th>Sub District Census Code 2001</th>\n",
              "      <th>Village Code</th>\n",
              "      <th>Village Name(in English)</th>\n",
              "      <th>Village Census Code 2011</th>\n",
              "      <th>Village Census Code 2001</th>\n",
              "      <th>Local Body Code</th>\n",
              "      <th>Local Body Name(in English)</th>\n",
              "      <th>unique code</th>\n",
              "    </tr>\n",
              "  </thead>\n",
              "  <tbody>\n",
              "    <tr>\n",
              "      <th>0</th>\n",
              "      <td>524</td>\n",
              "      <td>BAGALKOTE</td>\n",
              "      <td>556</td>\n",
              "      <td>2</td>\n",
              "      <td>5446</td>\n",
              "      <td>Badami</td>\n",
              "      <td>5446</td>\n",
              "      <td>4.0</td>\n",
              "      <td>598748</td>\n",
              "      <td>Adagal</td>\n",
              "      <td>598748</td>\n",
              "      <td>161700.0</td>\n",
              "      <td>215148.0</td>\n",
              "      <td>ADAGAL</td>\n",
              "      <td>2955605446598748</td>\n",
              "    </tr>\n",
              "    <tr>\n",
              "      <th>7</th>\n",
              "      <td>524</td>\n",
              "      <td>BAGALKOTE</td>\n",
              "      <td>556</td>\n",
              "      <td>2</td>\n",
              "      <td>5446</td>\n",
              "      <td>Badami</td>\n",
              "      <td>5446</td>\n",
              "      <td>4.0</td>\n",
              "      <td>598750</td>\n",
              "      <td>Badami (Rural) *</td>\n",
              "      <td>598750</td>\n",
              "      <td>161900.0</td>\n",
              "      <td>215148.0</td>\n",
              "      <td>ADAGAL</td>\n",
              "      <td>2955605446598750</td>\n",
              "    </tr>\n",
              "    <tr>\n",
              "      <th>52</th>\n",
              "      <td>524</td>\n",
              "      <td>BAGALKOTE</td>\n",
              "      <td>556</td>\n",
              "      <td>2</td>\n",
              "      <td>5446</td>\n",
              "      <td>Badami</td>\n",
              "      <td>5446</td>\n",
              "      <td>4.0</td>\n",
              "      <td>598749</td>\n",
              "      <td>Kabbalageri</td>\n",
              "      <td>598749</td>\n",
              "      <td>161800.0</td>\n",
              "      <td>215148.0</td>\n",
              "      <td>ADAGAL</td>\n",
              "      <td>2955605446598749</td>\n",
              "    </tr>\n",
              "    <tr>\n",
              "      <th>544</th>\n",
              "      <td>524</td>\n",
              "      <td>BAGALKOTE</td>\n",
              "      <td>556</td>\n",
              "      <td>2</td>\n",
              "      <td>5443</td>\n",
              "      <td>Jamkhandi</td>\n",
              "      <td>5443</td>\n",
              "      <td>1.0</td>\n",
              "      <td>598464</td>\n",
              "      <td>Adihudi</td>\n",
              "      <td>598464</td>\n",
              "      <td>133300.0</td>\n",
              "      <td>273113.0</td>\n",
              "      <td>ADIHUDI</td>\n",
              "      <td>2955605443598464</td>\n",
              "    </tr>\n",
              "    <tr>\n",
              "      <th>545</th>\n",
              "      <td>524</td>\n",
              "      <td>BAGALKOTE</td>\n",
              "      <td>556</td>\n",
              "      <td>2</td>\n",
              "      <td>5443</td>\n",
              "      <td>Jamkhandi</td>\n",
              "      <td>5443</td>\n",
              "      <td>1.0</td>\n",
              "      <td>598433</td>\n",
              "      <td>Alagur</td>\n",
              "      <td>598433</td>\n",
              "      <td>130200.0</td>\n",
              "      <td>215254.0</td>\n",
              "      <td>ALGUR</td>\n",
              "      <td>2955605443598433</td>\n",
              "    </tr>\n",
              "  </tbody>\n",
              "</table>\n",
              "</div>"
            ],
            "text/plain": [
              "     District Code  ...       unique code\n",
              "0              524  ...  2955605446598748\n",
              "7              524  ...  2955605446598750\n",
              "52             524  ...  2955605446598749\n",
              "544            524  ...  2955605443598464\n",
              "545            524  ...  2955605443598433\n",
              "\n",
              "[5 rows x 15 columns]"
            ]
          },
          "metadata": {
            "tags": []
          },
          "execution_count": 42
        }
      ]
    },
    {
      "cell_type": "code",
      "metadata": {
        "id": "PN8ZtoVcqJuc"
      },
      "source": [
        "df_codes.replace(\" \",\"\", inplace=True, regex=True)"
      ],
      "execution_count": null,
      "outputs": []
    },
    {
      "cell_type": "code",
      "metadata": {
        "id": "4k22BjmmGaE5"
      },
      "source": [
        "df_codes.replace(r\"\\(.*\\)\",\"\", inplace=True, regex=True)"
      ],
      "execution_count": null,
      "outputs": []
    },
    {
      "cell_type": "code",
      "metadata": {
        "id": "ZuYsfdLVqgpt",
        "outputId": "855ea6f3-dbaf-4626-cbd0-f7c3f2ce2ab2",
        "colab": {
          "base_uri": "https://localhost:8080/",
          "height": 292
        }
      },
      "source": [
        "df_codes.head()"
      ],
      "execution_count": null,
      "outputs": [
        {
          "output_type": "execute_result",
          "data": {
            "text/html": [
              "<div>\n",
              "<style scoped>\n",
              "    .dataframe tbody tr th:only-of-type {\n",
              "        vertical-align: middle;\n",
              "    }\n",
              "\n",
              "    .dataframe tbody tr th {\n",
              "        vertical-align: top;\n",
              "    }\n",
              "\n",
              "    .dataframe thead th {\n",
              "        text-align: right;\n",
              "    }\n",
              "</style>\n",
              "<table border=\"1\" class=\"dataframe\">\n",
              "  <thead>\n",
              "    <tr style=\"text-align: right;\">\n",
              "      <th></th>\n",
              "      <th>District Code</th>\n",
              "      <th>District Name(in English)</th>\n",
              "      <th>District Census Code2011</th>\n",
              "      <th>District Census Code 2001</th>\n",
              "      <th>Sub District Code</th>\n",
              "      <th>Sub District Name(in English)</th>\n",
              "      <th>Sub District Census Code 2011</th>\n",
              "      <th>Sub District Census Code 2001</th>\n",
              "      <th>Village Code</th>\n",
              "      <th>Village Name(in English)</th>\n",
              "      <th>Village Census Code 2011</th>\n",
              "      <th>Village Census Code 2001</th>\n",
              "      <th>Local Body Code</th>\n",
              "      <th>Local Body Name(in English)</th>\n",
              "      <th>unique code</th>\n",
              "    </tr>\n",
              "  </thead>\n",
              "  <tbody>\n",
              "    <tr>\n",
              "      <th>0</th>\n",
              "      <td>524</td>\n",
              "      <td>BAGALKOTE</td>\n",
              "      <td>556</td>\n",
              "      <td>2</td>\n",
              "      <td>5446</td>\n",
              "      <td>Badami</td>\n",
              "      <td>5446</td>\n",
              "      <td>4.0</td>\n",
              "      <td>598748</td>\n",
              "      <td>Adagal</td>\n",
              "      <td>598748</td>\n",
              "      <td>161700.0</td>\n",
              "      <td>215148.0</td>\n",
              "      <td>ADAGAL</td>\n",
              "      <td>2955605446598748</td>\n",
              "    </tr>\n",
              "    <tr>\n",
              "      <th>7</th>\n",
              "      <td>524</td>\n",
              "      <td>BAGALKOTE</td>\n",
              "      <td>556</td>\n",
              "      <td>2</td>\n",
              "      <td>5446</td>\n",
              "      <td>Badami</td>\n",
              "      <td>5446</td>\n",
              "      <td>4.0</td>\n",
              "      <td>598750</td>\n",
              "      <td>Badami*</td>\n",
              "      <td>598750</td>\n",
              "      <td>161900.0</td>\n",
              "      <td>215148.0</td>\n",
              "      <td>ADAGAL</td>\n",
              "      <td>2955605446598750</td>\n",
              "    </tr>\n",
              "    <tr>\n",
              "      <th>52</th>\n",
              "      <td>524</td>\n",
              "      <td>BAGALKOTE</td>\n",
              "      <td>556</td>\n",
              "      <td>2</td>\n",
              "      <td>5446</td>\n",
              "      <td>Badami</td>\n",
              "      <td>5446</td>\n",
              "      <td>4.0</td>\n",
              "      <td>598749</td>\n",
              "      <td>Kabbalageri</td>\n",
              "      <td>598749</td>\n",
              "      <td>161800.0</td>\n",
              "      <td>215148.0</td>\n",
              "      <td>ADAGAL</td>\n",
              "      <td>2955605446598749</td>\n",
              "    </tr>\n",
              "    <tr>\n",
              "      <th>544</th>\n",
              "      <td>524</td>\n",
              "      <td>BAGALKOTE</td>\n",
              "      <td>556</td>\n",
              "      <td>2</td>\n",
              "      <td>5443</td>\n",
              "      <td>Jamkhandi</td>\n",
              "      <td>5443</td>\n",
              "      <td>1.0</td>\n",
              "      <td>598464</td>\n",
              "      <td>Adihudi</td>\n",
              "      <td>598464</td>\n",
              "      <td>133300.0</td>\n",
              "      <td>273113.0</td>\n",
              "      <td>ADIHUDI</td>\n",
              "      <td>2955605443598464</td>\n",
              "    </tr>\n",
              "    <tr>\n",
              "      <th>545</th>\n",
              "      <td>524</td>\n",
              "      <td>BAGALKOTE</td>\n",
              "      <td>556</td>\n",
              "      <td>2</td>\n",
              "      <td>5443</td>\n",
              "      <td>Jamkhandi</td>\n",
              "      <td>5443</td>\n",
              "      <td>1.0</td>\n",
              "      <td>598433</td>\n",
              "      <td>Alagur</td>\n",
              "      <td>598433</td>\n",
              "      <td>130200.0</td>\n",
              "      <td>215254.0</td>\n",
              "      <td>ALGUR</td>\n",
              "      <td>2955605443598433</td>\n",
              "    </tr>\n",
              "  </tbody>\n",
              "</table>\n",
              "</div>"
            ],
            "text/plain": [
              "     District Code  ...       unique code\n",
              "0              524  ...  2955605446598748\n",
              "7              524  ...  2955605446598750\n",
              "52             524  ...  2955605446598749\n",
              "544            524  ...  2955605443598464\n",
              "545            524  ...  2955605443598433\n",
              "\n",
              "[5 rows x 15 columns]"
            ]
          },
          "metadata": {
            "tags": []
          },
          "execution_count": 45
        }
      ]
    },
    {
      "cell_type": "code",
      "metadata": {
        "id": "165WfdIesGth"
      },
      "source": [
        "df_codes['District Name(in English)'] = df_codes['District Name(in English)'].str.lower();\n",
        "df_codes['Sub District Name(in English)'] = df_codes['Sub District Name(in English)'].str.lower();\n",
        "df_codes['Village Name(in English)'] = df_codes['Village Name(in English)'].str.lower();\n",
        "df_codes['Local Body Name(in English)'] = df_codes['Local Body Name(in English)'].str.lower();"
      ],
      "execution_count": null,
      "outputs": []
    },
    {
      "cell_type": "code",
      "metadata": {
        "id": "YvZnKk4ss1E9",
        "outputId": "9c209942-6435-4854-b581-6a5360a4e469",
        "colab": {
          "base_uri": "https://localhost:8080/",
          "height": 292
        }
      },
      "source": [
        "df_codes.head()"
      ],
      "execution_count": null,
      "outputs": [
        {
          "output_type": "execute_result",
          "data": {
            "text/html": [
              "<div>\n",
              "<style scoped>\n",
              "    .dataframe tbody tr th:only-of-type {\n",
              "        vertical-align: middle;\n",
              "    }\n",
              "\n",
              "    .dataframe tbody tr th {\n",
              "        vertical-align: top;\n",
              "    }\n",
              "\n",
              "    .dataframe thead th {\n",
              "        text-align: right;\n",
              "    }\n",
              "</style>\n",
              "<table border=\"1\" class=\"dataframe\">\n",
              "  <thead>\n",
              "    <tr style=\"text-align: right;\">\n",
              "      <th></th>\n",
              "      <th>District Code</th>\n",
              "      <th>District Name(in English)</th>\n",
              "      <th>District Census Code2011</th>\n",
              "      <th>District Census Code 2001</th>\n",
              "      <th>Sub District Code</th>\n",
              "      <th>Sub District Name(in English)</th>\n",
              "      <th>Sub District Census Code 2011</th>\n",
              "      <th>Sub District Census Code 2001</th>\n",
              "      <th>Village Code</th>\n",
              "      <th>Village Name(in English)</th>\n",
              "      <th>Village Census Code 2011</th>\n",
              "      <th>Village Census Code 2001</th>\n",
              "      <th>Local Body Code</th>\n",
              "      <th>Local Body Name(in English)</th>\n",
              "      <th>unique code</th>\n",
              "    </tr>\n",
              "  </thead>\n",
              "  <tbody>\n",
              "    <tr>\n",
              "      <th>0</th>\n",
              "      <td>524</td>\n",
              "      <td>bagalkote</td>\n",
              "      <td>556</td>\n",
              "      <td>2</td>\n",
              "      <td>5446</td>\n",
              "      <td>badami</td>\n",
              "      <td>5446</td>\n",
              "      <td>4.0</td>\n",
              "      <td>598748</td>\n",
              "      <td>adagal</td>\n",
              "      <td>598748</td>\n",
              "      <td>161700.0</td>\n",
              "      <td>215148.0</td>\n",
              "      <td>adagal</td>\n",
              "      <td>2955605446598748</td>\n",
              "    </tr>\n",
              "    <tr>\n",
              "      <th>7</th>\n",
              "      <td>524</td>\n",
              "      <td>bagalkote</td>\n",
              "      <td>556</td>\n",
              "      <td>2</td>\n",
              "      <td>5446</td>\n",
              "      <td>badami</td>\n",
              "      <td>5446</td>\n",
              "      <td>4.0</td>\n",
              "      <td>598750</td>\n",
              "      <td>badami*</td>\n",
              "      <td>598750</td>\n",
              "      <td>161900.0</td>\n",
              "      <td>215148.0</td>\n",
              "      <td>adagal</td>\n",
              "      <td>2955605446598750</td>\n",
              "    </tr>\n",
              "    <tr>\n",
              "      <th>52</th>\n",
              "      <td>524</td>\n",
              "      <td>bagalkote</td>\n",
              "      <td>556</td>\n",
              "      <td>2</td>\n",
              "      <td>5446</td>\n",
              "      <td>badami</td>\n",
              "      <td>5446</td>\n",
              "      <td>4.0</td>\n",
              "      <td>598749</td>\n",
              "      <td>kabbalageri</td>\n",
              "      <td>598749</td>\n",
              "      <td>161800.0</td>\n",
              "      <td>215148.0</td>\n",
              "      <td>adagal</td>\n",
              "      <td>2955605446598749</td>\n",
              "    </tr>\n",
              "    <tr>\n",
              "      <th>544</th>\n",
              "      <td>524</td>\n",
              "      <td>bagalkote</td>\n",
              "      <td>556</td>\n",
              "      <td>2</td>\n",
              "      <td>5443</td>\n",
              "      <td>jamkhandi</td>\n",
              "      <td>5443</td>\n",
              "      <td>1.0</td>\n",
              "      <td>598464</td>\n",
              "      <td>adihudi</td>\n",
              "      <td>598464</td>\n",
              "      <td>133300.0</td>\n",
              "      <td>273113.0</td>\n",
              "      <td>adihudi</td>\n",
              "      <td>2955605443598464</td>\n",
              "    </tr>\n",
              "    <tr>\n",
              "      <th>545</th>\n",
              "      <td>524</td>\n",
              "      <td>bagalkote</td>\n",
              "      <td>556</td>\n",
              "      <td>2</td>\n",
              "      <td>5443</td>\n",
              "      <td>jamkhandi</td>\n",
              "      <td>5443</td>\n",
              "      <td>1.0</td>\n",
              "      <td>598433</td>\n",
              "      <td>alagur</td>\n",
              "      <td>598433</td>\n",
              "      <td>130200.0</td>\n",
              "      <td>215254.0</td>\n",
              "      <td>algur</td>\n",
              "      <td>2955605443598433</td>\n",
              "    </tr>\n",
              "  </tbody>\n",
              "</table>\n",
              "</div>"
            ],
            "text/plain": [
              "     District Code  ...       unique code\n",
              "0              524  ...  2955605446598748\n",
              "7              524  ...  2955605446598750\n",
              "52             524  ...  2955605446598749\n",
              "544            524  ...  2955605443598464\n",
              "545            524  ...  2955605443598433\n",
              "\n",
              "[5 rows x 15 columns]"
            ]
          },
          "metadata": {
            "tags": []
          },
          "execution_count": 47
        }
      ]
    },
    {
      "cell_type": "code",
      "metadata": {
        "id": "wdo8CsSpXDD-"
      },
      "source": [
        "df_cleaned.sort_values(by=['District', 'Gram Panchayat', 'Village'], inplace=True)"
      ],
      "execution_count": null,
      "outputs": []
    },
    {
      "cell_type": "code",
      "metadata": {
        "id": "xu_S2cmPfzNW",
        "outputId": "a21fab46-f7ae-471c-b569-5de6ddd37a82",
        "colab": {
          "base_uri": "https://localhost:8080/",
          "height": 204
        }
      },
      "source": [
        "df_cleaned.head()"
      ],
      "execution_count": null,
      "outputs": [
        {
          "output_type": "execute_result",
          "data": {
            "text/html": [
              "<div>\n",
              "<style scoped>\n",
              "    .dataframe tbody tr th:only-of-type {\n",
              "        vertical-align: middle;\n",
              "    }\n",
              "\n",
              "    .dataframe tbody tr th {\n",
              "        vertical-align: top;\n",
              "    }\n",
              "\n",
              "    .dataframe thead th {\n",
              "        text-align: right;\n",
              "    }\n",
              "</style>\n",
              "<table border=\"1\" class=\"dataframe\">\n",
              "  <thead>\n",
              "    <tr style=\"text-align: right;\">\n",
              "      <th></th>\n",
              "      <th>District</th>\n",
              "      <th>Taluk</th>\n",
              "      <th>Gram Panchayat</th>\n",
              "      <th>Village</th>\n",
              "      <th>HDI</th>\n",
              "      <th>Rank.3</th>\n",
              "    </tr>\n",
              "  </thead>\n",
              "  <tbody>\n",
              "    <tr>\n",
              "      <th>17161</th>\n",
              "      <td>Bagalkot</td>\n",
              "      <td>Badami</td>\n",
              "      <td>Adagal</td>\n",
              "      <td>Adagal</td>\n",
              "      <td>0.38380</td>\n",
              "      <td>17162.0</td>\n",
              "    </tr>\n",
              "    <tr>\n",
              "      <th>23678</th>\n",
              "      <td>Bagalkot</td>\n",
              "      <td>Badami</td>\n",
              "      <td>Adagal</td>\n",
              "      <td>Badami*</td>\n",
              "      <td>0.28203</td>\n",
              "      <td>23679.0</td>\n",
              "    </tr>\n",
              "    <tr>\n",
              "      <th>19769</th>\n",
              "      <td>Bagalkot</td>\n",
              "      <td>Badami</td>\n",
              "      <td>Adagal</td>\n",
              "      <td>Kabbalageri</td>\n",
              "      <td>0.35019</td>\n",
              "      <td>19770.0</td>\n",
              "    </tr>\n",
              "    <tr>\n",
              "      <th>19110</th>\n",
              "      <td>Bagalkot</td>\n",
              "      <td>Jamkhandi</td>\n",
              "      <td>Adihudi</td>\n",
              "      <td>Adihudi</td>\n",
              "      <td>0.35949</td>\n",
              "      <td>19111.0</td>\n",
              "    </tr>\n",
              "    <tr>\n",
              "      <th>13451</th>\n",
              "      <td>Bagalkot</td>\n",
              "      <td>Jamkhandi</td>\n",
              "      <td>Algur</td>\n",
              "      <td>Alagur</td>\n",
              "      <td>0.42051</td>\n",
              "      <td>13452.0</td>\n",
              "    </tr>\n",
              "  </tbody>\n",
              "</table>\n",
              "</div>"
            ],
            "text/plain": [
              "       District      Taluk Gram Panchayat      Village      HDI   Rank.3\n",
              "17161  Bagalkot     Badami         Adagal       Adagal  0.38380  17162.0\n",
              "23678  Bagalkot     Badami         Adagal      Badami*  0.28203  23679.0\n",
              "19769  Bagalkot     Badami         Adagal  Kabbalageri  0.35019  19770.0\n",
              "19110  Bagalkot  Jamkhandi        Adihudi      Adihudi  0.35949  19111.0\n",
              "13451  Bagalkot  Jamkhandi          Algur       Alagur  0.42051  13452.0"
            ]
          },
          "metadata": {
            "tags": []
          },
          "execution_count": 49
        }
      ]
    },
    {
      "cell_type": "code",
      "metadata": {
        "id": "O3e4xHGjf2RS"
      },
      "source": [
        "df_cleaned['District'] = df_cleaned['District'].str.lower();\n",
        "df_cleaned['Taluk'] = df_cleaned['Taluk'].str.lower();\n",
        "df_cleaned['Village'] = df_cleaned['Village'].str.lower();\n",
        "df_cleaned['Gram Panchayat'] = df_cleaned['Gram Panchayat'].str.lower();"
      ],
      "execution_count": null,
      "outputs": []
    },
    {
      "cell_type": "code",
      "metadata": {
        "id": "_HnFaO2-uSCM",
        "outputId": "7cc2ae66-f397-4ba6-d2cf-b16b30ed495d",
        "colab": {
          "base_uri": "https://localhost:8080/",
          "height": 204
        }
      },
      "source": [
        "df_cleaned.head()"
      ],
      "execution_count": null,
      "outputs": [
        {
          "output_type": "execute_result",
          "data": {
            "text/html": [
              "<div>\n",
              "<style scoped>\n",
              "    .dataframe tbody tr th:only-of-type {\n",
              "        vertical-align: middle;\n",
              "    }\n",
              "\n",
              "    .dataframe tbody tr th {\n",
              "        vertical-align: top;\n",
              "    }\n",
              "\n",
              "    .dataframe thead th {\n",
              "        text-align: right;\n",
              "    }\n",
              "</style>\n",
              "<table border=\"1\" class=\"dataframe\">\n",
              "  <thead>\n",
              "    <tr style=\"text-align: right;\">\n",
              "      <th></th>\n",
              "      <th>District</th>\n",
              "      <th>Taluk</th>\n",
              "      <th>Gram Panchayat</th>\n",
              "      <th>Village</th>\n",
              "      <th>HDI</th>\n",
              "      <th>Rank.3</th>\n",
              "    </tr>\n",
              "  </thead>\n",
              "  <tbody>\n",
              "    <tr>\n",
              "      <th>17161</th>\n",
              "      <td>bagalkot</td>\n",
              "      <td>badami</td>\n",
              "      <td>adagal</td>\n",
              "      <td>adagal</td>\n",
              "      <td>0.38380</td>\n",
              "      <td>17162.0</td>\n",
              "    </tr>\n",
              "    <tr>\n",
              "      <th>23678</th>\n",
              "      <td>bagalkot</td>\n",
              "      <td>badami</td>\n",
              "      <td>adagal</td>\n",
              "      <td>badami*</td>\n",
              "      <td>0.28203</td>\n",
              "      <td>23679.0</td>\n",
              "    </tr>\n",
              "    <tr>\n",
              "      <th>19769</th>\n",
              "      <td>bagalkot</td>\n",
              "      <td>badami</td>\n",
              "      <td>adagal</td>\n",
              "      <td>kabbalageri</td>\n",
              "      <td>0.35019</td>\n",
              "      <td>19770.0</td>\n",
              "    </tr>\n",
              "    <tr>\n",
              "      <th>19110</th>\n",
              "      <td>bagalkot</td>\n",
              "      <td>jamkhandi</td>\n",
              "      <td>adihudi</td>\n",
              "      <td>adihudi</td>\n",
              "      <td>0.35949</td>\n",
              "      <td>19111.0</td>\n",
              "    </tr>\n",
              "    <tr>\n",
              "      <th>13451</th>\n",
              "      <td>bagalkot</td>\n",
              "      <td>jamkhandi</td>\n",
              "      <td>algur</td>\n",
              "      <td>alagur</td>\n",
              "      <td>0.42051</td>\n",
              "      <td>13452.0</td>\n",
              "    </tr>\n",
              "  </tbody>\n",
              "</table>\n",
              "</div>"
            ],
            "text/plain": [
              "       District      Taluk Gram Panchayat      Village      HDI   Rank.3\n",
              "17161  bagalkot     badami         adagal       adagal  0.38380  17162.0\n",
              "23678  bagalkot     badami         adagal      badami*  0.28203  23679.0\n",
              "19769  bagalkot     badami         adagal  kabbalageri  0.35019  19770.0\n",
              "19110  bagalkot  jamkhandi        adihudi      adihudi  0.35949  19111.0\n",
              "13451  bagalkot  jamkhandi          algur       alagur  0.42051  13452.0"
            ]
          },
          "metadata": {
            "tags": []
          },
          "execution_count": 51
        }
      ]
    },
    {
      "cell_type": "code",
      "metadata": {
        "id": "dygvz4NVucWd",
        "outputId": "c3c3ff39-414e-4843-9e29-d91021b979c9",
        "colab": {
          "base_uri": "https://localhost:8080/",
          "height": 85
        }
      },
      "source": [
        "df_codes['District Name(in English)'].unique() == df_cleaned['District'].unique()"
      ],
      "execution_count": null,
      "outputs": [
        {
          "output_type": "execute_result",
          "data": {
            "text/plain": [
              "array([False,  True,  True,  True,  True,  True,  True,  True, False,\n",
              "        True,  True, False,  True,  True,  True,  True,  True,  True,\n",
              "        True,  True,  True,  True,  True,  True,  True,  True,  True,\n",
              "        True,  True,  True])"
            ]
          },
          "metadata": {
            "tags": []
          },
          "execution_count": 52
        }
      ]
    },
    {
      "cell_type": "code",
      "metadata": {
        "id": "lEXdCRoXXnvR",
        "outputId": "834af371-c1b0-44a4-9156-54cee6b9354a",
        "colab": {
          "base_uri": "https://localhost:8080/",
          "height": 136
        }
      },
      "source": [
        "df_codes['District Name(in English)'].unique()"
      ],
      "execution_count": null,
      "outputs": [
        {
          "output_type": "execute_result",
          "data": {
            "text/plain": [
              "array(['bagalkote', 'ballari', 'belagavi', 'bengalururural',\n",
              "       'bengaluruurban', 'bidar', 'chamarajanagara', 'chikkaballapura',\n",
              "       'chikkamagaluru', 'chitradurga', 'dakshinakannada', 'davangere',\n",
              "       'dharwad', 'gadag', 'hassan', 'haveri', 'kalaburagi', 'kodagu',\n",
              "       'kolar', 'koppal', 'mandya', 'mysuru', 'raichur', 'ramanagara',\n",
              "       'shivamogga', 'tumakuru', 'udupi', 'uttarakannada', 'vijayapura',\n",
              "       'yadgir'], dtype=object)"
            ]
          },
          "metadata": {
            "tags": []
          },
          "execution_count": 53
        }
      ]
    },
    {
      "cell_type": "code",
      "metadata": {
        "id": "yZ2ppqEvXwDV",
        "outputId": "08b2159d-5112-4aa6-d49a-7246d968438b",
        "colab": {
          "base_uri": "https://localhost:8080/",
          "height": 136
        }
      },
      "source": [
        "df_cleaned['District'].unique()"
      ],
      "execution_count": null,
      "outputs": [
        {
          "output_type": "execute_result",
          "data": {
            "text/plain": [
              "array(['bagalkot', 'ballari', 'belagavi', 'bengalururural',\n",
              "       'bengaluruurban', 'bidar', 'chamarajanagara', 'chikkaballapura',\n",
              "       'chikkamagalur', 'chitradurga', 'dakshinakannada', 'davanagere',\n",
              "       'dharwad', 'gadag', 'hassan', 'haveri', 'kalaburagi', 'kodagu',\n",
              "       'kolar', 'koppal', 'mandya', 'mysuru', 'raichur', 'ramanagara',\n",
              "       'shivamogga', 'tumakuru', 'udupi', 'uttarakannada', 'vijayapura',\n",
              "       'yadgir'], dtype=object)"
            ]
          },
          "metadata": {
            "tags": []
          },
          "execution_count": 54
        }
      ]
    },
    {
      "cell_type": "code",
      "metadata": {
        "id": "DC-I2l6mmvKy"
      },
      "source": [
        "df_cleaned['District'].replace({'bagalkot':'bagalkote', 'chikkamagalur':'chikkamagaluru'}, inplace=True)"
      ],
      "execution_count": null,
      "outputs": []
    },
    {
      "cell_type": "code",
      "metadata": {
        "id": "MXoettuOuXHR"
      },
      "source": [
        "df_codes['District Name(in English)'].replace({'davangere':'davanagere'}, inplace=True)"
      ],
      "execution_count": null,
      "outputs": []
    },
    {
      "cell_type": "code",
      "metadata": {
        "id": "rvV3ET9Bu1r5",
        "outputId": "d2ca3d3f-e91e-4e53-8afd-1c901738457f",
        "colab": {
          "base_uri": "https://localhost:8080/",
          "height": 85
        }
      },
      "source": [
        "df_codes['District Name(in English)'].unique() == df_cleaned['District'].unique()"
      ],
      "execution_count": null,
      "outputs": [
        {
          "output_type": "execute_result",
          "data": {
            "text/plain": [
              "array([ True,  True,  True,  True,  True,  True,  True,  True,  True,\n",
              "        True,  True,  True,  True,  True,  True,  True,  True,  True,\n",
              "        True,  True,  True,  True,  True,  True,  True,  True,  True,\n",
              "        True,  True,  True])"
            ]
          },
          "metadata": {
            "tags": []
          },
          "execution_count": 57
        }
      ]
    },
    {
      "cell_type": "code",
      "metadata": {
        "id": "O56q4MNk0j5R",
        "outputId": "59e501db-3451-4fea-ff68-b1c9b8e95d2e",
        "colab": {
          "base_uri": "https://localhost:8080/",
          "height": 34
        }
      },
      "source": [
        "df_codes['Village Name(in English)'].count()"
      ],
      "execution_count": null,
      "outputs": [
        {
          "output_type": "execute_result",
          "data": {
            "text/plain": [
              "34328"
            ]
          },
          "metadata": {
            "tags": []
          },
          "execution_count": 58
        }
      ]
    },
    {
      "cell_type": "code",
      "metadata": {
        "id": "1cvRPiPhX03a",
        "outputId": "362e8a58-aac6-41c8-bf32-4fd4aecd2efc",
        "colab": {
          "base_uri": "https://localhost:8080/",
          "height": 34
        }
      },
      "source": [
        "df_codes['Village Name(in English)'].nunique()"
      ],
      "execution_count": null,
      "outputs": [
        {
          "output_type": "execute_result",
          "data": {
            "text/plain": [
              "25703"
            ]
          },
          "metadata": {
            "tags": []
          },
          "execution_count": 59
        }
      ]
    },
    {
      "cell_type": "code",
      "metadata": {
        "id": "pu_aFJP10v7h"
      },
      "source": [
        "df_codes['freq'] = df_codes.groupby(by='Village Name(in English)')['Village Name(in English)'].transform('count')"
      ],
      "execution_count": null,
      "outputs": []
    },
    {
      "cell_type": "code",
      "metadata": {
        "id": "YPy1HV1d5huW",
        "outputId": "42c23b62-2ebe-425c-a7e8-581065c5035e",
        "colab": {
          "base_uri": "https://localhost:8080/",
          "height": 68
        }
      },
      "source": [
        "(df_codes['freq'] == 1).value_counts()"
      ],
      "execution_count": null,
      "outputs": [
        {
          "output_type": "execute_result",
          "data": {
            "text/plain": [
              "True     22310\n",
              "False    12018\n",
              "Name: freq, dtype: int64"
            ]
          },
          "metadata": {
            "tags": []
          },
          "execution_count": 61
        }
      ]
    },
    {
      "cell_type": "code",
      "metadata": {
        "id": "6iRSfaoN766S",
        "outputId": "d3fdff99-9403-4247-fb93-e3c8a250187c",
        "colab": {
          "base_uri": "https://localhost:8080/",
          "height": 697
        }
      },
      "source": [
        "df_codes['freq'].value_counts()"
      ],
      "execution_count": null,
      "outputs": [
        {
          "output_type": "execute_result",
          "data": {
            "text/plain": [
              "1      22310\n",
              "2       4022\n",
              "3       1800\n",
              "4       1032\n",
              "5        695\n",
              "6        558\n",
              "8        368\n",
              "9        324\n",
              "7        315\n",
              "10       280\n",
              "12       228\n",
              "11       209\n",
              "23       184\n",
              "14       182\n",
              "19       152\n",
              "13       143\n",
              "20       140\n",
              "114      114\n",
              "22       110\n",
              "18       108\n",
              "27       108\n",
              "31        93\n",
              "16        80\n",
              "26        78\n",
              "39        78\n",
              "24        72\n",
              "17        68\n",
              "54        54\n",
              "51        51\n",
              "25        50\n",
              "15        45\n",
              "44        44\n",
              "21        42\n",
              "36        36\n",
              "35        35\n",
              "33        33\n",
              "30        30\n",
              "29        29\n",
              "28        28\n",
              "Name: freq, dtype: int64"
            ]
          },
          "metadata": {
            "tags": []
          },
          "execution_count": 62
        }
      ]
    },
    {
      "cell_type": "code",
      "metadata": {
        "id": "WB--5IGc0VTj",
        "outputId": "c785b72f-e9c1-48cb-84cd-b2c18716b182",
        "colab": {
          "base_uri": "https://localhost:8080/",
          "height": 34
        }
      },
      "source": [
        "df_cleaned['Village'].nunique()"
      ],
      "execution_count": null,
      "outputs": [
        {
          "output_type": "execute_result",
          "data": {
            "text/plain": [
              "20007"
            ]
          },
          "metadata": {
            "tags": []
          },
          "execution_count": 63
        }
      ]
    },
    {
      "cell_type": "code",
      "metadata": {
        "id": "cv87cJWk7HEC"
      },
      "source": [
        "df_cleaned['freq'] = df_cleaned.groupby(by='Village')['Village'].transform('count')"
      ],
      "execution_count": null,
      "outputs": []
    },
    {
      "cell_type": "code",
      "metadata": {
        "id": "hjP1ADQo7X-E",
        "outputId": "e0ac9f8e-c8a5-49a6-91db-107a60b48a00",
        "colab": {
          "base_uri": "https://localhost:8080/",
          "height": 68
        }
      },
      "source": [
        "(df_cleaned['freq'] == 1).value_counts()"
      ],
      "execution_count": null,
      "outputs": [
        {
          "output_type": "execute_result",
          "data": {
            "text/plain": [
              "True     17186\n",
              "False     9888\n",
              "Name: freq, dtype: int64"
            ]
          },
          "metadata": {
            "tags": []
          },
          "execution_count": 65
        }
      ]
    },
    {
      "cell_type": "code",
      "metadata": {
        "id": "vUVEc8xL7quG",
        "outputId": "d3d8ca24-d5b8-4400-9b9a-c9b585f28862",
        "colab": {
          "base_uri": "https://localhost:8080/",
          "height": 646
        }
      },
      "source": [
        "df_cleaned['freq'].value_counts(())"
      ],
      "execution_count": null,
      "outputs": [
        {
          "output_type": "execute_result",
          "data": {
            "text/plain": [
              "1     17186\n",
              "2      3270\n",
              "3      1593\n",
              "4       900\n",
              "5       540\n",
              "6       414\n",
              "7       413\n",
              "8       304\n",
              "9       270\n",
              "17      170\n",
              "10      170\n",
              "13      169\n",
              "16      144\n",
              "12      144\n",
              "11      143\n",
              "15      105\n",
              "20      100\n",
              "99       99\n",
              "24       96\n",
              "23       92\n",
              "18       90\n",
              "21       84\n",
              "36       72\n",
              "19       57\n",
              "14       56\n",
              "26       52\n",
              "47       47\n",
              "22       44\n",
              "39       39\n",
              "38       38\n",
              "32       32\n",
              "31       31\n",
              "30       30\n",
              "28       28\n",
              "27       27\n",
              "25       25\n",
              "Name: freq, dtype: int64"
            ]
          },
          "metadata": {
            "tags": []
          },
          "execution_count": 66
        }
      ]
    },
    {
      "cell_type": "code",
      "metadata": {
        "id": "iVPxA3HNYoEu",
        "outputId": "94fbde24-e640-405f-d6ef-0ac2f86644af",
        "colab": {
          "base_uri": "https://localhost:8080/",
          "height": 34
        }
      },
      "source": [
        "df_codes['Local Body Name(in English)'].nunique()"
      ],
      "execution_count": null,
      "outputs": [
        {
          "output_type": "execute_result",
          "data": {
            "text/plain": [
              "5463"
            ]
          },
          "metadata": {
            "tags": []
          },
          "execution_count": 67
        }
      ]
    },
    {
      "cell_type": "code",
      "metadata": {
        "id": "E3Tj5H1C0ODU",
        "outputId": "8e35bf57-a7d0-4f32-aebc-0f0bf99a486d",
        "colab": {
          "base_uri": "https://localhost:8080/",
          "height": 34
        }
      },
      "source": [
        "df_cleaned['Gram Panchayat'].nunique()"
      ],
      "execution_count": null,
      "outputs": [
        {
          "output_type": "execute_result",
          "data": {
            "text/plain": [
              "5492"
            ]
          },
          "metadata": {
            "tags": []
          },
          "execution_count": 68
        }
      ]
    },
    {
      "cell_type": "code",
      "metadata": {
        "id": "AAb6Nnzn0Tdf"
      },
      "source": [
        "#!pip install fuzzywuzzy[speedup]"
      ],
      "execution_count": null,
      "outputs": []
    },
    {
      "cell_type": "code",
      "metadata": {
        "id": "N-DlZo18lprs"
      },
      "source": [
        "from fuzzywuzzy import process, fuzz"
      ],
      "execution_count": null,
      "outputs": []
    },
    {
      "cell_type": "code",
      "metadata": {
        "id": "cFNv3xhClxA8"
      },
      "source": [
        "df_codes['concat'] = df_codes['District Name(in English)'] + \" \" + df_codes['Local Body Name(in English)'] + \" \" + df_codes['Village Name(in English)']"
      ],
      "execution_count": null,
      "outputs": []
    },
    {
      "cell_type": "code",
      "metadata": {
        "id": "VaJsmhlY-34v",
        "outputId": "947d5a65-b879-41de-d187-09d597fdcea0",
        "colab": {
          "base_uri": "https://localhost:8080/",
          "height": 428
        }
      },
      "source": [
        "df_codes.sample(5)"
      ],
      "execution_count": null,
      "outputs": [
        {
          "output_type": "execute_result",
          "data": {
            "text/html": [
              "<div>\n",
              "<style scoped>\n",
              "    .dataframe tbody tr th:only-of-type {\n",
              "        vertical-align: middle;\n",
              "    }\n",
              "\n",
              "    .dataframe tbody tr th {\n",
              "        vertical-align: top;\n",
              "    }\n",
              "\n",
              "    .dataframe thead th {\n",
              "        text-align: right;\n",
              "    }\n",
              "</style>\n",
              "<table border=\"1\" class=\"dataframe\">\n",
              "  <thead>\n",
              "    <tr style=\"text-align: right;\">\n",
              "      <th></th>\n",
              "      <th>District Code</th>\n",
              "      <th>District Name(in English)</th>\n",
              "      <th>District Census Code2011</th>\n",
              "      <th>District Census Code 2001</th>\n",
              "      <th>Sub District Code</th>\n",
              "      <th>Sub District Name(in English)</th>\n",
              "      <th>Sub District Census Code 2011</th>\n",
              "      <th>Sub District Census Code 2001</th>\n",
              "      <th>Village Code</th>\n",
              "      <th>Village Name(in English)</th>\n",
              "      <th>Village Census Code 2011</th>\n",
              "      <th>Village Census Code 2001</th>\n",
              "      <th>Local Body Code</th>\n",
              "      <th>Local Body Name(in English)</th>\n",
              "      <th>unique code</th>\n",
              "      <th>freq</th>\n",
              "      <th>concat</th>\n",
              "    </tr>\n",
              "  </thead>\n",
              "  <tbody>\n",
              "    <tr>\n",
              "      <th>31949</th>\n",
              "      <td>550</td>\n",
              "      <td>uttarakannada</td>\n",
              "      <td>563</td>\n",
              "      <td>10</td>\n",
              "      <td>5480</td>\n",
              "      <td>haliyal</td>\n",
              "      <td>5480</td>\n",
              "      <td>3.0</td>\n",
              "      <td>602770</td>\n",
              "      <td>satmani</td>\n",
              "      <td>602770</td>\n",
              "      <td>705300.0</td>\n",
              "      <td>220617.0</td>\n",
              "      <td>yadoga</td>\n",
              "      <td>2956305480602770</td>\n",
              "      <td>1</td>\n",
              "      <td>uttarakannada yadoga satmani</td>\n",
              "    </tr>\n",
              "    <tr>\n",
              "      <th>33426</th>\n",
              "      <td>530</td>\n",
              "      <td>vijayapura</td>\n",
              "      <td>557</td>\n",
              "      <td>3</td>\n",
              "      <td>5453</td>\n",
              "      <td>muddebihal</td>\n",
              "      <td>5453</td>\n",
              "      <td>5.0</td>\n",
              "      <td>599585</td>\n",
              "      <td>dhavalagi</td>\n",
              "      <td>599585</td>\n",
              "      <td>243900.0</td>\n",
              "      <td>216605.0</td>\n",
              "      <td>dhavalagi</td>\n",
              "      <td>2955705453599585</td>\n",
              "      <td>1</td>\n",
              "      <td>vijayapura dhavalagi dhavalagi</td>\n",
              "    </tr>\n",
              "    <tr>\n",
              "      <th>5946</th>\n",
              "      <td>529</td>\n",
              "      <td>bidar</td>\n",
              "      <td>558</td>\n",
              "      <td>5</td>\n",
              "      <td>5457</td>\n",
              "      <td>bidar</td>\n",
              "      <td>5457</td>\n",
              "      <td>4.0</td>\n",
              "      <td>600158</td>\n",
              "      <td>dattankeri</td>\n",
              "      <td>600158</td>\n",
              "      <td>444900.0</td>\n",
              "      <td>216416.0</td>\n",
              "      <td>gadgi</td>\n",
              "      <td>2955805457600158</td>\n",
              "      <td>2</td>\n",
              "      <td>bidar gadgi dattankeri</td>\n",
              "    </tr>\n",
              "    <tr>\n",
              "      <th>26984</th>\n",
              "      <td>547</td>\n",
              "      <td>shivamogga</td>\n",
              "      <td>568</td>\n",
              "      <td>15</td>\n",
              "      <td>5518</td>\n",
              "      <td>hosanagara</td>\n",
              "      <td>5518</td>\n",
              "      <td>4.0</td>\n",
              "      <td>608036</td>\n",
              "      <td>anadagadoduru</td>\n",
              "      <td>608036</td>\n",
              "      <td>1229000.0</td>\n",
              "      <td>219875.0</td>\n",
              "      <td>andagadhudhuru</td>\n",
              "      <td>2956805518608036</td>\n",
              "      <td>1</td>\n",
              "      <td>shivamogga andagadhudhuru anadagadoduru</td>\n",
              "    </tr>\n",
              "    <tr>\n",
              "      <th>18514</th>\n",
              "      <td>541</td>\n",
              "      <td>kodagu</td>\n",
              "      <td>576</td>\n",
              "      <td>25</td>\n",
              "      <td>5567</td>\n",
              "      <td>somvarpet</td>\n",
              "      <td>5567</td>\n",
              "      <td>2.0</td>\n",
              "      <td>923975</td>\n",
              "      <td>chikkabetageri</td>\n",
              "      <td>0</td>\n",
              "      <td>NaN</td>\n",
              "      <td>218701.0</td>\n",
              "      <td>guddehosur</td>\n",
              "      <td>2957605567923975</td>\n",
              "      <td>1</td>\n",
              "      <td>kodagu guddehosur chikkabetageri</td>\n",
              "    </tr>\n",
              "  </tbody>\n",
              "</table>\n",
              "</div>"
            ],
            "text/plain": [
              "       District Code  ...                                   concat\n",
              "31949            550  ...             uttarakannada yadoga satmani\n",
              "33426            530  ...           vijayapura dhavalagi dhavalagi\n",
              "5946             529  ...                   bidar gadgi dattankeri\n",
              "26984            547  ...  shivamogga andagadhudhuru anadagadoduru\n",
              "18514            541  ...         kodagu guddehosur chikkabetageri\n",
              "\n",
              "[5 rows x 17 columns]"
            ]
          },
          "metadata": {
            "tags": []
          },
          "execution_count": 72
        }
      ]
    },
    {
      "cell_type": "code",
      "metadata": {
        "id": "Z429Sa2_-8nV"
      },
      "source": [
        "df_cleaned['concat'] = df_cleaned['District'] + \" \" + df_cleaned['Gram Panchayat'] + \" \" + df_cleaned['Village']"
      ],
      "execution_count": null,
      "outputs": []
    },
    {
      "cell_type": "code",
      "metadata": {
        "id": "mlxvGEH6_Ut0",
        "outputId": "ade11d60-ddc0-41ea-dadb-8ffb76ae9cf0",
        "colab": {
          "base_uri": "https://localhost:8080/",
          "height": 204
        }
      },
      "source": [
        "df_cleaned.sample(5)"
      ],
      "execution_count": null,
      "outputs": [
        {
          "output_type": "execute_result",
          "data": {
            "text/html": [
              "<div>\n",
              "<style scoped>\n",
              "    .dataframe tbody tr th:only-of-type {\n",
              "        vertical-align: middle;\n",
              "    }\n",
              "\n",
              "    .dataframe tbody tr th {\n",
              "        vertical-align: top;\n",
              "    }\n",
              "\n",
              "    .dataframe thead th {\n",
              "        text-align: right;\n",
              "    }\n",
              "</style>\n",
              "<table border=\"1\" class=\"dataframe\">\n",
              "  <thead>\n",
              "    <tr style=\"text-align: right;\">\n",
              "      <th></th>\n",
              "      <th>District</th>\n",
              "      <th>Taluk</th>\n",
              "      <th>Gram Panchayat</th>\n",
              "      <th>Village</th>\n",
              "      <th>HDI</th>\n",
              "      <th>Rank.3</th>\n",
              "      <th>freq</th>\n",
              "      <th>concat</th>\n",
              "    </tr>\n",
              "  </thead>\n",
              "  <tbody>\n",
              "    <tr>\n",
              "      <th>4913</th>\n",
              "      <td>mandya</td>\n",
              "      <td>malavalli</td>\n",
              "      <td>thalagavadi</td>\n",
              "      <td>thalagavadi</td>\n",
              "      <td>0.50052</td>\n",
              "      <td>4914.0</td>\n",
              "      <td>1</td>\n",
              "      <td>mandya thalagavadi thalagavadi</td>\n",
              "    </tr>\n",
              "    <tr>\n",
              "      <th>20255</th>\n",
              "      <td>gadag</td>\n",
              "      <td>ron</td>\n",
              "      <td>shantageri</td>\n",
              "      <td>shantageri</td>\n",
              "      <td>0.34257</td>\n",
              "      <td>20256.0</td>\n",
              "      <td>1</td>\n",
              "      <td>gadag shantageri shantageri</td>\n",
              "    </tr>\n",
              "    <tr>\n",
              "      <th>10887</th>\n",
              "      <td>chikkaballapura</td>\n",
              "      <td>chintamani</td>\n",
              "      <td>kagathi</td>\n",
              "      <td>amanikeelukuntekere</td>\n",
              "      <td>0.44283</td>\n",
              "      <td>10888.0</td>\n",
              "      <td>1</td>\n",
              "      <td>chikkaballapura kagathi amanikeelukuntekere</td>\n",
              "    </tr>\n",
              "    <tr>\n",
              "      <th>20064</th>\n",
              "      <td>davanagere</td>\n",
              "      <td>channagiri</td>\n",
              "      <td>kanchiganal</td>\n",
              "      <td>haralakatta</td>\n",
              "      <td>0.34541</td>\n",
              "      <td>20065.0</td>\n",
              "      <td>2</td>\n",
              "      <td>davanagere kanchiganal haralakatta</td>\n",
              "    </tr>\n",
              "    <tr>\n",
              "      <th>19632</th>\n",
              "      <td>koppal</td>\n",
              "      <td>yelburga</td>\n",
              "      <td>kudrimoti</td>\n",
              "      <td>bhairnaikanhalli</td>\n",
              "      <td>0.35260</td>\n",
              "      <td>19633.0</td>\n",
              "      <td>1</td>\n",
              "      <td>koppal kudrimoti bhairnaikanhalli</td>\n",
              "    </tr>\n",
              "  </tbody>\n",
              "</table>\n",
              "</div>"
            ],
            "text/plain": [
              "              District  ...                                       concat\n",
              "4913            mandya  ...               mandya thalagavadi thalagavadi\n",
              "20255            gadag  ...                  gadag shantageri shantageri\n",
              "10887  chikkaballapura  ...  chikkaballapura kagathi amanikeelukuntekere\n",
              "20064       davanagere  ...           davanagere kanchiganal haralakatta\n",
              "19632           koppal  ...            koppal kudrimoti bhairnaikanhalli\n",
              "\n",
              "[5 rows x 8 columns]"
            ]
          },
          "metadata": {
            "tags": []
          },
          "execution_count": 74
        }
      ]
    },
    {
      "cell_type": "code",
      "metadata": {
        "id": "PDYzWmQ5EJda",
        "outputId": "db9177b6-2b72-4502-eb7e-c8a0af82fa99",
        "colab": {
          "base_uri": "https://localhost:8080/",
          "height": 34
        }
      },
      "source": [
        "df_codes['concat'].isnull().values.any()"
      ],
      "execution_count": null,
      "outputs": [
        {
          "output_type": "execute_result",
          "data": {
            "text/plain": [
              "True"
            ]
          },
          "metadata": {
            "tags": []
          },
          "execution_count": 75
        }
      ]
    },
    {
      "cell_type": "code",
      "metadata": {
        "id": "ZzTeJaJHEN2-"
      },
      "source": [
        "df_codes = df_codes[df_codes['concat'].notna()]"
      ],
      "execution_count": null,
      "outputs": []
    },
    {
      "cell_type": "code",
      "metadata": {
        "id": "uNL7F8HBE1mh",
        "outputId": "329f6470-8f6d-4cf4-ebd1-06f1e2742004",
        "colab": {
          "base_uri": "https://localhost:8080/",
          "height": 34
        }
      },
      "source": [
        "df_cleaned['concat'].isnull().values.any()"
      ],
      "execution_count": null,
      "outputs": [
        {
          "output_type": "execute_result",
          "data": {
            "text/plain": [
              "False"
            ]
          },
          "metadata": {
            "tags": []
          },
          "execution_count": 77
        }
      ]
    },
    {
      "cell_type": "code",
      "metadata": {
        "id": "YyEXESS__YDd"
      },
      "source": [
        "import string\n",
        "\n",
        "punct = '!\"#$%&\\'()*+,-./:;<=>?@[\\\\]^_`{}~'   # `|` is not present here\n",
        "transtab = str.maketrans(dict.fromkeys(punct, ''))\n",
        "\n",
        "df_codes['concat'] = '|'.join(df_codes['concat'].tolist()).translate(transtab).split('|')\n",
        "df_cleaned['concat'] = '|'.join(df_cleaned['concat'].tolist()).translate(transtab).split('|')"
      ],
      "execution_count": null,
      "outputs": []
    },
    {
      "cell_type": "code",
      "metadata": {
        "id": "yCtmiYOOFHtZ",
        "outputId": "b5f9729a-1989-4df1-b53e-2feba3a4611b",
        "colab": {
          "base_uri": "https://localhost:8080/",
          "height": 359
        }
      },
      "source": [
        "df_cleaned.head(10)"
      ],
      "execution_count": null,
      "outputs": [
        {
          "output_type": "execute_result",
          "data": {
            "text/html": [
              "<div>\n",
              "<style scoped>\n",
              "    .dataframe tbody tr th:only-of-type {\n",
              "        vertical-align: middle;\n",
              "    }\n",
              "\n",
              "    .dataframe tbody tr th {\n",
              "        vertical-align: top;\n",
              "    }\n",
              "\n",
              "    .dataframe thead th {\n",
              "        text-align: right;\n",
              "    }\n",
              "</style>\n",
              "<table border=\"1\" class=\"dataframe\">\n",
              "  <thead>\n",
              "    <tr style=\"text-align: right;\">\n",
              "      <th></th>\n",
              "      <th>District</th>\n",
              "      <th>Taluk</th>\n",
              "      <th>Gram Panchayat</th>\n",
              "      <th>Village</th>\n",
              "      <th>HDI</th>\n",
              "      <th>Rank.3</th>\n",
              "      <th>freq</th>\n",
              "      <th>concat</th>\n",
              "    </tr>\n",
              "  </thead>\n",
              "  <tbody>\n",
              "    <tr>\n",
              "      <th>17161</th>\n",
              "      <td>bagalkote</td>\n",
              "      <td>badami</td>\n",
              "      <td>adagal</td>\n",
              "      <td>adagal</td>\n",
              "      <td>0.38380</td>\n",
              "      <td>17162.0</td>\n",
              "      <td>1</td>\n",
              "      <td>bagalkote adagal adagal</td>\n",
              "    </tr>\n",
              "    <tr>\n",
              "      <th>23678</th>\n",
              "      <td>bagalkote</td>\n",
              "      <td>badami</td>\n",
              "      <td>adagal</td>\n",
              "      <td>badami*</td>\n",
              "      <td>0.28203</td>\n",
              "      <td>23679.0</td>\n",
              "      <td>1</td>\n",
              "      <td>bagalkote adagal badami</td>\n",
              "    </tr>\n",
              "    <tr>\n",
              "      <th>19769</th>\n",
              "      <td>bagalkote</td>\n",
              "      <td>badami</td>\n",
              "      <td>adagal</td>\n",
              "      <td>kabbalageri</td>\n",
              "      <td>0.35019</td>\n",
              "      <td>19770.0</td>\n",
              "      <td>1</td>\n",
              "      <td>bagalkote adagal kabbalageri</td>\n",
              "    </tr>\n",
              "    <tr>\n",
              "      <th>19110</th>\n",
              "      <td>bagalkote</td>\n",
              "      <td>jamkhandi</td>\n",
              "      <td>adihudi</td>\n",
              "      <td>adihudi</td>\n",
              "      <td>0.35949</td>\n",
              "      <td>19111.0</td>\n",
              "      <td>1</td>\n",
              "      <td>bagalkote adihudi adihudi</td>\n",
              "    </tr>\n",
              "    <tr>\n",
              "      <th>13451</th>\n",
              "      <td>bagalkote</td>\n",
              "      <td>jamkhandi</td>\n",
              "      <td>algur</td>\n",
              "      <td>alagur</td>\n",
              "      <td>0.42051</td>\n",
              "      <td>13452.0</td>\n",
              "      <td>1</td>\n",
              "      <td>bagalkote algur alagur</td>\n",
              "    </tr>\n",
              "    <tr>\n",
              "      <th>21321</th>\n",
              "      <td>bagalkote</td>\n",
              "      <td>badami</td>\n",
              "      <td>alur.s.k.</td>\n",
              "      <td>alur.s.k.</td>\n",
              "      <td>0.32455</td>\n",
              "      <td>21322.0</td>\n",
              "      <td>1</td>\n",
              "      <td>bagalkote alursk alursk</td>\n",
              "    </tr>\n",
              "    <tr>\n",
              "      <th>21227</th>\n",
              "      <td>bagalkote</td>\n",
              "      <td>badami</td>\n",
              "      <td>alur.s.k.</td>\n",
              "      <td>beeranur</td>\n",
              "      <td>0.32641</td>\n",
              "      <td>21228.0</td>\n",
              "      <td>1</td>\n",
              "      <td>bagalkote alursk beeranur</td>\n",
              "    </tr>\n",
              "    <tr>\n",
              "      <th>10843</th>\n",
              "      <td>bagalkote</td>\n",
              "      <td>badami</td>\n",
              "      <td>alur.s.k.</td>\n",
              "      <td>govanakoppa</td>\n",
              "      <td>0.44324</td>\n",
              "      <td>10844.0</td>\n",
              "      <td>2</td>\n",
              "      <td>bagalkote alursk govanakoppa</td>\n",
              "    </tr>\n",
              "    <tr>\n",
              "      <th>26001</th>\n",
              "      <td>bagalkote</td>\n",
              "      <td>badami</td>\n",
              "      <td>alur.s.k.</td>\n",
              "      <td>haganur</td>\n",
              "      <td>0.19630</td>\n",
              "      <td>26002.0</td>\n",
              "      <td>1</td>\n",
              "      <td>bagalkote alursk haganur</td>\n",
              "    </tr>\n",
              "    <tr>\n",
              "      <th>25277</th>\n",
              "      <td>bagalkote</td>\n",
              "      <td>badami</td>\n",
              "      <td>alur.s.k.</td>\n",
              "      <td>talakawad</td>\n",
              "      <td>0.23577</td>\n",
              "      <td>25278.0</td>\n",
              "      <td>1</td>\n",
              "      <td>bagalkote alursk talakawad</td>\n",
              "    </tr>\n",
              "  </tbody>\n",
              "</table>\n",
              "</div>"
            ],
            "text/plain": [
              "        District      Taluk  ... freq                        concat\n",
              "17161  bagalkote     badami  ...    1       bagalkote adagal adagal\n",
              "23678  bagalkote     badami  ...    1       bagalkote adagal badami\n",
              "19769  bagalkote     badami  ...    1  bagalkote adagal kabbalageri\n",
              "19110  bagalkote  jamkhandi  ...    1     bagalkote adihudi adihudi\n",
              "13451  bagalkote  jamkhandi  ...    1        bagalkote algur alagur\n",
              "21321  bagalkote     badami  ...    1       bagalkote alursk alursk\n",
              "21227  bagalkote     badami  ...    1     bagalkote alursk beeranur\n",
              "10843  bagalkote     badami  ...    2  bagalkote alursk govanakoppa\n",
              "26001  bagalkote     badami  ...    1      bagalkote alursk haganur\n",
              "25277  bagalkote     badami  ...    1    bagalkote alursk talakawad\n",
              "\n",
              "[10 rows x 8 columns]"
            ]
          },
          "metadata": {
            "tags": []
          },
          "execution_count": 79
        }
      ]
    },
    {
      "cell_type": "code",
      "metadata": {
        "id": "ffav9D8bjGzo"
      },
      "source": [
        "df_cleaned['freq'] = df_cleaned.groupby(by='concat')['concat'].transform('count')"
      ],
      "execution_count": null,
      "outputs": []
    },
    {
      "cell_type": "code",
      "metadata": {
        "id": "WxBIQU_3jQz6",
        "outputId": "31c27f45-ddad-41ee-8e82-c524d8771cf4",
        "colab": {
          "base_uri": "https://localhost:8080/",
          "height": 68
        }
      },
      "source": [
        "(df_cleaned['freq'] == 1).value_counts()"
      ],
      "execution_count": null,
      "outputs": [
        {
          "output_type": "execute_result",
          "data": {
            "text/plain": [
              "True     26740\n",
              "False      334\n",
              "Name: freq, dtype: int64"
            ]
          },
          "metadata": {
            "tags": []
          },
          "execution_count": 81
        }
      ]
    },
    {
      "cell_type": "code",
      "metadata": {
        "id": "htlmPeMmkHyY",
        "outputId": "baf0c928-48fa-4380-d1f5-9c7f43b36768",
        "colab": {
          "base_uri": "https://localhost:8080/",
          "height": 85
        }
      },
      "source": [
        "df_cleaned['freq'].value_counts()"
      ],
      "execution_count": null,
      "outputs": [
        {
          "output_type": "execute_result",
          "data": {
            "text/plain": [
              "1    26740\n",
              "2      316\n",
              "3       18\n",
              "Name: freq, dtype: int64"
            ]
          },
          "metadata": {
            "tags": []
          },
          "execution_count": 82
        }
      ]
    },
    {
      "cell_type": "code",
      "metadata": {
        "id": "kilpFRXzliPP",
        "outputId": "d0c4d9d1-a694-4d9b-9e5d-31c7c18fa3d1",
        "colab": {
          "base_uri": "https://localhost:8080/",
          "height": 419
        }
      },
      "source": [
        "df_cleaned.loc[df_cleaned['freq'] != 1]"
      ],
      "execution_count": null,
      "outputs": [
        {
          "output_type": "execute_result",
          "data": {
            "text/html": [
              "<div>\n",
              "<style scoped>\n",
              "    .dataframe tbody tr th:only-of-type {\n",
              "        vertical-align: middle;\n",
              "    }\n",
              "\n",
              "    .dataframe tbody tr th {\n",
              "        vertical-align: top;\n",
              "    }\n",
              "\n",
              "    .dataframe thead th {\n",
              "        text-align: right;\n",
              "    }\n",
              "</style>\n",
              "<table border=\"1\" class=\"dataframe\">\n",
              "  <thead>\n",
              "    <tr style=\"text-align: right;\">\n",
              "      <th></th>\n",
              "      <th>District</th>\n",
              "      <th>Taluk</th>\n",
              "      <th>Gram Panchayat</th>\n",
              "      <th>Village</th>\n",
              "      <th>HDI</th>\n",
              "      <th>Rank.3</th>\n",
              "      <th>freq</th>\n",
              "      <th>concat</th>\n",
              "    </tr>\n",
              "  </thead>\n",
              "  <tbody>\n",
              "    <tr>\n",
              "      <th>17614</th>\n",
              "      <td>bagalkote</td>\n",
              "      <td>badami</td>\n",
              "      <td>hosur</td>\n",
              "      <td>hosur</td>\n",
              "      <td>0.37876</td>\n",
              "      <td>17615.0</td>\n",
              "      <td>2</td>\n",
              "      <td>bagalkote hosur hosur</td>\n",
              "    </tr>\n",
              "    <tr>\n",
              "      <th>19215</th>\n",
              "      <td>bagalkote</td>\n",
              "      <td>bagalkot</td>\n",
              "      <td>hosur</td>\n",
              "      <td>hosur</td>\n",
              "      <td>0.35797</td>\n",
              "      <td>19216.0</td>\n",
              "      <td>2</td>\n",
              "      <td>bagalkote hosur hosur</td>\n",
              "    </tr>\n",
              "    <tr>\n",
              "      <th>5660</th>\n",
              "      <td>bagalkote</td>\n",
              "      <td>mudhol</td>\n",
              "      <td>laxanatti</td>\n",
              "      <td>jalikatti</td>\n",
              "      <td>0.49231</td>\n",
              "      <td>5661.0</td>\n",
              "      <td>2</td>\n",
              "      <td>bagalkote laxanatti jalikatti</td>\n",
              "    </tr>\n",
              "    <tr>\n",
              "      <th>6337</th>\n",
              "      <td>bagalkote</td>\n",
              "      <td>mudhol</td>\n",
              "      <td>laxanatti</td>\n",
              "      <td>jalikatti</td>\n",
              "      <td>0.48484</td>\n",
              "      <td>6338.0</td>\n",
              "      <td>2</td>\n",
              "      <td>bagalkote laxanatti jalikatti</td>\n",
              "    </tr>\n",
              "    <tr>\n",
              "      <th>9018</th>\n",
              "      <td>bagalkote</td>\n",
              "      <td>bilgi</td>\n",
              "      <td>nagaral</td>\n",
              "      <td>nagaral</td>\n",
              "      <td>0.45951</td>\n",
              "      <td>9019.0</td>\n",
              "      <td>2</td>\n",
              "      <td>bagalkote nagaral nagaral</td>\n",
              "    </tr>\n",
              "    <tr>\n",
              "      <th>...</th>\n",
              "      <td>...</td>\n",
              "      <td>...</td>\n",
              "      <td>...</td>\n",
              "      <td>...</td>\n",
              "      <td>...</td>\n",
              "      <td>...</td>\n",
              "      <td>...</td>\n",
              "      <td>...</td>\n",
              "    </tr>\n",
              "    <tr>\n",
              "      <th>23928</th>\n",
              "      <td>yadgir</td>\n",
              "      <td>shorapur</td>\n",
              "      <td>mallab</td>\n",
              "      <td>malla</td>\n",
              "      <td>0.27679</td>\n",
              "      <td>23929.0</td>\n",
              "      <td>2</td>\n",
              "      <td>yadgir mallab malla</td>\n",
              "    </tr>\n",
              "    <tr>\n",
              "      <th>15620</th>\n",
              "      <td>yadgir</td>\n",
              "      <td>shorapur</td>\n",
              "      <td>mudnoor</td>\n",
              "      <td>mudnoor</td>\n",
              "      <td>0.40018</td>\n",
              "      <td>15621.0</td>\n",
              "      <td>2</td>\n",
              "      <td>yadgir mudnoor mudnoor</td>\n",
              "    </tr>\n",
              "    <tr>\n",
              "      <th>15816</th>\n",
              "      <td>yadgir</td>\n",
              "      <td>shorapur</td>\n",
              "      <td>mudnoor</td>\n",
              "      <td>mudnoor</td>\n",
              "      <td>0.39802</td>\n",
              "      <td>15817.0</td>\n",
              "      <td>2</td>\n",
              "      <td>yadgir mudnoor mudnoor</td>\n",
              "    </tr>\n",
              "    <tr>\n",
              "      <th>26329</th>\n",
              "      <td>yadgir</td>\n",
              "      <td>yadgir</td>\n",
              "      <td>notunderanypanchayat</td>\n",
              "      <td>yadgir</td>\n",
              "      <td>0.17308</td>\n",
              "      <td>26330.0</td>\n",
              "      <td>2</td>\n",
              "      <td>yadgir notunderanypanchayat yadgir</td>\n",
              "    </tr>\n",
              "    <tr>\n",
              "      <th>26830</th>\n",
              "      <td>yadgir</td>\n",
              "      <td>yadgir</td>\n",
              "      <td>notunderanypanchayat</td>\n",
              "      <td>yadgir</td>\n",
              "      <td>0.10894</td>\n",
              "      <td>26831.0</td>\n",
              "      <td>2</td>\n",
              "      <td>yadgir notunderanypanchayat yadgir</td>\n",
              "    </tr>\n",
              "  </tbody>\n",
              "</table>\n",
              "<p>334 rows × 8 columns</p>\n",
              "</div>"
            ],
            "text/plain": [
              "        District     Taluk  ... freq                              concat\n",
              "17614  bagalkote    badami  ...    2               bagalkote hosur hosur\n",
              "19215  bagalkote  bagalkot  ...    2               bagalkote hosur hosur\n",
              "5660   bagalkote    mudhol  ...    2       bagalkote laxanatti jalikatti\n",
              "6337   bagalkote    mudhol  ...    2       bagalkote laxanatti jalikatti\n",
              "9018   bagalkote     bilgi  ...    2           bagalkote nagaral nagaral\n",
              "...          ...       ...  ...  ...                                 ...\n",
              "23928     yadgir  shorapur  ...    2                 yadgir mallab malla\n",
              "15620     yadgir  shorapur  ...    2              yadgir mudnoor mudnoor\n",
              "15816     yadgir  shorapur  ...    2              yadgir mudnoor mudnoor\n",
              "26329     yadgir    yadgir  ...    2  yadgir notunderanypanchayat yadgir\n",
              "26830     yadgir    yadgir  ...    2  yadgir notunderanypanchayat yadgir\n",
              "\n",
              "[334 rows x 8 columns]"
            ]
          },
          "metadata": {
            "tags": []
          },
          "execution_count": 83
        }
      ]
    },
    {
      "cell_type": "code",
      "metadata": {
        "id": "vlpZQPrzmOqJ"
      },
      "source": [
        "df_cleaned = df_cleaned[df_cleaned['freq'] == 1]"
      ],
      "execution_count": null,
      "outputs": []
    },
    {
      "cell_type": "code",
      "metadata": {
        "id": "EnByhGgjocx2",
        "outputId": "03859676-95c9-447c-b91d-df61f562274b",
        "colab": {
          "base_uri": "https://localhost:8080/",
          "height": 51
        }
      },
      "source": [
        "df_cleaned['freq'].value_counts()"
      ],
      "execution_count": null,
      "outputs": [
        {
          "output_type": "execute_result",
          "data": {
            "text/plain": [
              "1    26740\n",
              "Name: freq, dtype: int64"
            ]
          },
          "metadata": {
            "tags": []
          },
          "execution_count": 85
        }
      ]
    },
    {
      "cell_type": "code",
      "metadata": {
        "id": "VXmismZgFZWk",
        "outputId": "7ddcbc78-9ca9-477f-d2ee-294ced23114a",
        "colab": {
          "base_uri": "https://localhost:8080/",
          "height": 753
        }
      },
      "source": [
        "df_codes.head(10)"
      ],
      "execution_count": null,
      "outputs": [
        {
          "output_type": "execute_result",
          "data": {
            "text/html": [
              "<div>\n",
              "<style scoped>\n",
              "    .dataframe tbody tr th:only-of-type {\n",
              "        vertical-align: middle;\n",
              "    }\n",
              "\n",
              "    .dataframe tbody tr th {\n",
              "        vertical-align: top;\n",
              "    }\n",
              "\n",
              "    .dataframe thead th {\n",
              "        text-align: right;\n",
              "    }\n",
              "</style>\n",
              "<table border=\"1\" class=\"dataframe\">\n",
              "  <thead>\n",
              "    <tr style=\"text-align: right;\">\n",
              "      <th></th>\n",
              "      <th>District Code</th>\n",
              "      <th>District Name(in English)</th>\n",
              "      <th>District Census Code2011</th>\n",
              "      <th>District Census Code 2001</th>\n",
              "      <th>Sub District Code</th>\n",
              "      <th>Sub District Name(in English)</th>\n",
              "      <th>Sub District Census Code 2011</th>\n",
              "      <th>Sub District Census Code 2001</th>\n",
              "      <th>Village Code</th>\n",
              "      <th>Village Name(in English)</th>\n",
              "      <th>Village Census Code 2011</th>\n",
              "      <th>Village Census Code 2001</th>\n",
              "      <th>Local Body Code</th>\n",
              "      <th>Local Body Name(in English)</th>\n",
              "      <th>unique code</th>\n",
              "      <th>freq</th>\n",
              "      <th>concat</th>\n",
              "    </tr>\n",
              "  </thead>\n",
              "  <tbody>\n",
              "    <tr>\n",
              "      <th>0</th>\n",
              "      <td>524</td>\n",
              "      <td>bagalkote</td>\n",
              "      <td>556</td>\n",
              "      <td>2</td>\n",
              "      <td>5446</td>\n",
              "      <td>badami</td>\n",
              "      <td>5446</td>\n",
              "      <td>4.0</td>\n",
              "      <td>598748</td>\n",
              "      <td>adagal</td>\n",
              "      <td>598748</td>\n",
              "      <td>161700.0</td>\n",
              "      <td>215148.0</td>\n",
              "      <td>adagal</td>\n",
              "      <td>2955605446598748</td>\n",
              "      <td>1</td>\n",
              "      <td>bagalkote adagal adagal</td>\n",
              "    </tr>\n",
              "    <tr>\n",
              "      <th>7</th>\n",
              "      <td>524</td>\n",
              "      <td>bagalkote</td>\n",
              "      <td>556</td>\n",
              "      <td>2</td>\n",
              "      <td>5446</td>\n",
              "      <td>badami</td>\n",
              "      <td>5446</td>\n",
              "      <td>4.0</td>\n",
              "      <td>598750</td>\n",
              "      <td>badami*</td>\n",
              "      <td>598750</td>\n",
              "      <td>161900.0</td>\n",
              "      <td>215148.0</td>\n",
              "      <td>adagal</td>\n",
              "      <td>2955605446598750</td>\n",
              "      <td>1</td>\n",
              "      <td>bagalkote adagal badami</td>\n",
              "    </tr>\n",
              "    <tr>\n",
              "      <th>52</th>\n",
              "      <td>524</td>\n",
              "      <td>bagalkote</td>\n",
              "      <td>556</td>\n",
              "      <td>2</td>\n",
              "      <td>5446</td>\n",
              "      <td>badami</td>\n",
              "      <td>5446</td>\n",
              "      <td>4.0</td>\n",
              "      <td>598749</td>\n",
              "      <td>kabbalageri</td>\n",
              "      <td>598749</td>\n",
              "      <td>161800.0</td>\n",
              "      <td>215148.0</td>\n",
              "      <td>adagal</td>\n",
              "      <td>2955605446598749</td>\n",
              "      <td>1</td>\n",
              "      <td>bagalkote adagal kabbalageri</td>\n",
              "    </tr>\n",
              "    <tr>\n",
              "      <th>544</th>\n",
              "      <td>524</td>\n",
              "      <td>bagalkote</td>\n",
              "      <td>556</td>\n",
              "      <td>2</td>\n",
              "      <td>5443</td>\n",
              "      <td>jamkhandi</td>\n",
              "      <td>5443</td>\n",
              "      <td>1.0</td>\n",
              "      <td>598464</td>\n",
              "      <td>adihudi</td>\n",
              "      <td>598464</td>\n",
              "      <td>133300.0</td>\n",
              "      <td>273113.0</td>\n",
              "      <td>adihudi</td>\n",
              "      <td>2955605443598464</td>\n",
              "      <td>1</td>\n",
              "      <td>bagalkote adihudi adihudi</td>\n",
              "    </tr>\n",
              "    <tr>\n",
              "      <th>545</th>\n",
              "      <td>524</td>\n",
              "      <td>bagalkote</td>\n",
              "      <td>556</td>\n",
              "      <td>2</td>\n",
              "      <td>5443</td>\n",
              "      <td>jamkhandi</td>\n",
              "      <td>5443</td>\n",
              "      <td>1.0</td>\n",
              "      <td>598433</td>\n",
              "      <td>alagur</td>\n",
              "      <td>598433</td>\n",
              "      <td>130200.0</td>\n",
              "      <td>215254.0</td>\n",
              "      <td>algur</td>\n",
              "      <td>2955605443598433</td>\n",
              "      <td>1</td>\n",
              "      <td>bagalkote algur alagur</td>\n",
              "    </tr>\n",
              "    <tr>\n",
              "      <th>3</th>\n",
              "      <td>524</td>\n",
              "      <td>bagalkote</td>\n",
              "      <td>556</td>\n",
              "      <td>2</td>\n",
              "      <td>5446</td>\n",
              "      <td>badami</td>\n",
              "      <td>5446</td>\n",
              "      <td>4.0</td>\n",
              "      <td>598724</td>\n",
              "      <td>alur.s.k.</td>\n",
              "      <td>598724</td>\n",
              "      <td>159300.0</td>\n",
              "      <td>273085.0</td>\n",
              "      <td>alur-sk</td>\n",
              "      <td>2955605446598724</td>\n",
              "      <td>1</td>\n",
              "      <td>bagalkote alursk alursk</td>\n",
              "    </tr>\n",
              "    <tr>\n",
              "      <th>11</th>\n",
              "      <td>524</td>\n",
              "      <td>bagalkote</td>\n",
              "      <td>556</td>\n",
              "      <td>2</td>\n",
              "      <td>5446</td>\n",
              "      <td>badami</td>\n",
              "      <td>5446</td>\n",
              "      <td>4.0</td>\n",
              "      <td>598726</td>\n",
              "      <td>beeranur</td>\n",
              "      <td>598726</td>\n",
              "      <td>159500.0</td>\n",
              "      <td>273085.0</td>\n",
              "      <td>alur-sk</td>\n",
              "      <td>2955605446598726</td>\n",
              "      <td>1</td>\n",
              "      <td>bagalkote alursk beeranur</td>\n",
              "    </tr>\n",
              "    <tr>\n",
              "      <th>29</th>\n",
              "      <td>524</td>\n",
              "      <td>bagalkote</td>\n",
              "      <td>556</td>\n",
              "      <td>2</td>\n",
              "      <td>5446</td>\n",
              "      <td>badami</td>\n",
              "      <td>5446</td>\n",
              "      <td>4.0</td>\n",
              "      <td>598727</td>\n",
              "      <td>govanakoppa</td>\n",
              "      <td>598727</td>\n",
              "      <td>159600.0</td>\n",
              "      <td>273085.0</td>\n",
              "      <td>alur-sk</td>\n",
              "      <td>2955605446598727</td>\n",
              "      <td>3</td>\n",
              "      <td>bagalkote alursk govanakoppa</td>\n",
              "    </tr>\n",
              "    <tr>\n",
              "      <th>32</th>\n",
              "      <td>524</td>\n",
              "      <td>bagalkote</td>\n",
              "      <td>556</td>\n",
              "      <td>2</td>\n",
              "      <td>5446</td>\n",
              "      <td>badami</td>\n",
              "      <td>5446</td>\n",
              "      <td>4.0</td>\n",
              "      <td>598723</td>\n",
              "      <td>haganur</td>\n",
              "      <td>598723</td>\n",
              "      <td>159200.0</td>\n",
              "      <td>273085.0</td>\n",
              "      <td>alur-sk</td>\n",
              "      <td>2955605446598723</td>\n",
              "      <td>1</td>\n",
              "      <td>bagalkote alursk haganur</td>\n",
              "    </tr>\n",
              "    <tr>\n",
              "      <th>105</th>\n",
              "      <td>524</td>\n",
              "      <td>bagalkote</td>\n",
              "      <td>556</td>\n",
              "      <td>2</td>\n",
              "      <td>5446</td>\n",
              "      <td>badami</td>\n",
              "      <td>5446</td>\n",
              "      <td>4.0</td>\n",
              "      <td>598725</td>\n",
              "      <td>talakawad</td>\n",
              "      <td>598725</td>\n",
              "      <td>159400.0</td>\n",
              "      <td>273085.0</td>\n",
              "      <td>alur-sk</td>\n",
              "      <td>2955605446598725</td>\n",
              "      <td>1</td>\n",
              "      <td>bagalkote alursk talakawad</td>\n",
              "    </tr>\n",
              "  </tbody>\n",
              "</table>\n",
              "</div>"
            ],
            "text/plain": [
              "     District Code  ...                        concat\n",
              "0              524  ...       bagalkote adagal adagal\n",
              "7              524  ...       bagalkote adagal badami\n",
              "52             524  ...  bagalkote adagal kabbalageri\n",
              "544            524  ...     bagalkote adihudi adihudi\n",
              "545            524  ...        bagalkote algur alagur\n",
              "3              524  ...       bagalkote alursk alursk\n",
              "11             524  ...     bagalkote alursk beeranur\n",
              "29             524  ...  bagalkote alursk govanakoppa\n",
              "32             524  ...      bagalkote alursk haganur\n",
              "105            524  ...    bagalkote alursk talakawad\n",
              "\n",
              "[10 rows x 17 columns]"
            ]
          },
          "metadata": {
            "tags": []
          },
          "execution_count": 86
        }
      ]
    },
    {
      "cell_type": "code",
      "metadata": {
        "id": "3riUzzHXD63N",
        "outputId": "9d83ebff-4781-4bc0-c42a-8b73dbb23f13",
        "colab": {
          "base_uri": "https://localhost:8080/",
          "height": 68
        }
      },
      "source": [
        "df_codes['freq'] = df_codes.groupby(by='concat')['concat'].transform('count')\n",
        "(df_codes['freq'] == 1).value_counts()"
      ],
      "execution_count": null,
      "outputs": [
        {
          "output_type": "execute_result",
          "data": {
            "text/plain": [
              "True     32335\n",
              "False      281\n",
              "Name: freq, dtype: int64"
            ]
          },
          "metadata": {
            "tags": []
          },
          "execution_count": 87
        }
      ]
    },
    {
      "cell_type": "code",
      "metadata": {
        "id": "EYxUhacSkErN",
        "outputId": "22f174c9-63bf-40bb-af42-3ec4258a9333",
        "colab": {
          "base_uri": "https://localhost:8080/",
          "height": 85
        }
      },
      "source": [
        "df_codes['freq'].value_counts()"
      ],
      "execution_count": null,
      "outputs": [
        {
          "output_type": "execute_result",
          "data": {
            "text/plain": [
              "1    32335\n",
              "2      272\n",
              "3        9\n",
              "Name: freq, dtype: int64"
            ]
          },
          "metadata": {
            "tags": []
          },
          "execution_count": 88
        }
      ]
    },
    {
      "cell_type": "code",
      "metadata": {
        "id": "7H20ITMLksBO",
        "outputId": "53d01e04-67f4-485e-f2e4-43265be9705f",
        "colab": {
          "base_uri": "https://localhost:8080/",
          "height": 745
        }
      },
      "source": [
        "df_codes.loc[df_codes['freq'] != 1]"
      ],
      "execution_count": null,
      "outputs": [
        {
          "output_type": "execute_result",
          "data": {
            "text/html": [
              "<div>\n",
              "<style scoped>\n",
              "    .dataframe tbody tr th:only-of-type {\n",
              "        vertical-align: middle;\n",
              "    }\n",
              "\n",
              "    .dataframe tbody tr th {\n",
              "        vertical-align: top;\n",
              "    }\n",
              "\n",
              "    .dataframe thead th {\n",
              "        text-align: right;\n",
              "    }\n",
              "</style>\n",
              "<table border=\"1\" class=\"dataframe\">\n",
              "  <thead>\n",
              "    <tr style=\"text-align: right;\">\n",
              "      <th></th>\n",
              "      <th>District Code</th>\n",
              "      <th>District Name(in English)</th>\n",
              "      <th>District Census Code2011</th>\n",
              "      <th>District Census Code 2001</th>\n",
              "      <th>Sub District Code</th>\n",
              "      <th>Sub District Name(in English)</th>\n",
              "      <th>Sub District Census Code 2011</th>\n",
              "      <th>Sub District Census Code 2001</th>\n",
              "      <th>Village Code</th>\n",
              "      <th>Village Name(in English)</th>\n",
              "      <th>Village Census Code 2011</th>\n",
              "      <th>Village Census Code 2001</th>\n",
              "      <th>Local Body Code</th>\n",
              "      <th>Local Body Name(in English)</th>\n",
              "      <th>unique code</th>\n",
              "      <th>freq</th>\n",
              "      <th>concat</th>\n",
              "    </tr>\n",
              "  </thead>\n",
              "  <tbody>\n",
              "    <tr>\n",
              "      <th>617</th>\n",
              "      <td>524</td>\n",
              "      <td>bagalkote</td>\n",
              "      <td>556</td>\n",
              "      <td>2</td>\n",
              "      <td>5445</td>\n",
              "      <td>mudhol</td>\n",
              "      <td>5445</td>\n",
              "      <td>3.0</td>\n",
              "      <td>598580</td>\n",
              "      <td>chinchakhandi</td>\n",
              "      <td>598580</td>\n",
              "      <td>144900.0</td>\n",
              "      <td>215288.0</td>\n",
              "      <td>chinchakhandik.d.</td>\n",
              "      <td>2955605445598580</td>\n",
              "      <td>2</td>\n",
              "      <td>bagalkote chinchakhandikd chinchakhandi</td>\n",
              "    </tr>\n",
              "    <tr>\n",
              "      <th>618</th>\n",
              "      <td>524</td>\n",
              "      <td>bagalkote</td>\n",
              "      <td>556</td>\n",
              "      <td>2</td>\n",
              "      <td>5445</td>\n",
              "      <td>mudhol</td>\n",
              "      <td>5445</td>\n",
              "      <td>3.0</td>\n",
              "      <td>598581</td>\n",
              "      <td>chinchakhandi</td>\n",
              "      <td>598581</td>\n",
              "      <td>145000.0</td>\n",
              "      <td>215288.0</td>\n",
              "      <td>chinchakhandik.d.</td>\n",
              "      <td>2955605445598581</td>\n",
              "      <td>2</td>\n",
              "      <td>bagalkote chinchakhandikd chinchakhandi</td>\n",
              "    </tr>\n",
              "    <tr>\n",
              "      <th>45</th>\n",
              "      <td>524</td>\n",
              "      <td>bagalkote</td>\n",
              "      <td>556</td>\n",
              "      <td>2</td>\n",
              "      <td>5446</td>\n",
              "      <td>badami</td>\n",
              "      <td>5446</td>\n",
              "      <td>4.0</td>\n",
              "      <td>598753</td>\n",
              "      <td>hosur</td>\n",
              "      <td>598753</td>\n",
              "      <td>162200.0</td>\n",
              "      <td>215157.0</td>\n",
              "      <td>hosur</td>\n",
              "      <td>2955605446598753</td>\n",
              "      <td>2</td>\n",
              "      <td>bagalkote hosur hosur</td>\n",
              "    </tr>\n",
              "    <tr>\n",
              "      <th>164</th>\n",
              "      <td>524</td>\n",
              "      <td>bagalkote</td>\n",
              "      <td>556</td>\n",
              "      <td>2</td>\n",
              "      <td>5447</td>\n",
              "      <td>bagalkot</td>\n",
              "      <td>5447</td>\n",
              "      <td>5.0</td>\n",
              "      <td>598830</td>\n",
              "      <td>hosur</td>\n",
              "      <td>598830</td>\n",
              "      <td>169900.0</td>\n",
              "      <td>273096.0</td>\n",
              "      <td>hosur</td>\n",
              "      <td>2955605447598830</td>\n",
              "      <td>2</td>\n",
              "      <td>bagalkote hosur hosur</td>\n",
              "    </tr>\n",
              "    <tr>\n",
              "      <th>629</th>\n",
              "      <td>524</td>\n",
              "      <td>bagalkote</td>\n",
              "      <td>556</td>\n",
              "      <td>2</td>\n",
              "      <td>5445</td>\n",
              "      <td>mudhol</td>\n",
              "      <td>5445</td>\n",
              "      <td>3.0</td>\n",
              "      <td>598616</td>\n",
              "      <td>jalikatti</td>\n",
              "      <td>598616</td>\n",
              "      <td>148500.0</td>\n",
              "      <td>215297.0</td>\n",
              "      <td>laxanatti</td>\n",
              "      <td>2955605445598616</td>\n",
              "      <td>2</td>\n",
              "      <td>bagalkote laxanatti jalikatti</td>\n",
              "    </tr>\n",
              "    <tr>\n",
              "      <th>...</th>\n",
              "      <td>...</td>\n",
              "      <td>...</td>\n",
              "      <td>...</td>\n",
              "      <td>...</td>\n",
              "      <td>...</td>\n",
              "      <td>...</td>\n",
              "      <td>...</td>\n",
              "      <td>...</td>\n",
              "      <td>...</td>\n",
              "      <td>...</td>\n",
              "      <td>...</td>\n",
              "      <td>...</td>\n",
              "      <td>...</td>\n",
              "      <td>...</td>\n",
              "      <td>...</td>\n",
              "      <td>...</td>\n",
              "      <td>...</td>\n",
              "    </tr>\n",
              "    <tr>\n",
              "      <th>34210</th>\n",
              "      <td>635</td>\n",
              "      <td>yadgir</td>\n",
              "      <td>580</td>\n",
              "      <td>4</td>\n",
              "      <td>7095</td>\n",
              "      <td>wadagera</td>\n",
              "      <td>0</td>\n",
              "      <td>NaN</td>\n",
              "      <td>621204</td>\n",
              "      <td>konkal</td>\n",
              "      <td>621204</td>\n",
              "      <td>382800.0</td>\n",
              "      <td>218105.0</td>\n",
              "      <td>konkal</td>\n",
              "      <td>2958007095621204</td>\n",
              "      <td>2</td>\n",
              "      <td>yadgir konkal konkal</td>\n",
              "    </tr>\n",
              "    <tr>\n",
              "      <th>34132</th>\n",
              "      <td>635</td>\n",
              "      <td>yadgir</td>\n",
              "      <td>580</td>\n",
              "      <td>4</td>\n",
              "      <td>5587</td>\n",
              "      <td>shorapur</td>\n",
              "      <td>5587</td>\n",
              "      <td>8.0</td>\n",
              "      <td>620879</td>\n",
              "      <td>malla</td>\n",
              "      <td>620879</td>\n",
              "      <td>349800.0</td>\n",
              "      <td>218147.0</td>\n",
              "      <td>mallab.</td>\n",
              "      <td>2958005587620879</td>\n",
              "      <td>2</td>\n",
              "      <td>yadgir mallab malla</td>\n",
              "    </tr>\n",
              "    <tr>\n",
              "      <th>34133</th>\n",
              "      <td>635</td>\n",
              "      <td>yadgir</td>\n",
              "      <td>580</td>\n",
              "      <td>4</td>\n",
              "      <td>5587</td>\n",
              "      <td>shorapur</td>\n",
              "      <td>5587</td>\n",
              "      <td>8.0</td>\n",
              "      <td>620878</td>\n",
              "      <td>malla</td>\n",
              "      <td>620878</td>\n",
              "      <td>349700.0</td>\n",
              "      <td>218147.0</td>\n",
              "      <td>mallab.</td>\n",
              "      <td>2958005587620878</td>\n",
              "      <td>2</td>\n",
              "      <td>yadgir mallab malla</td>\n",
              "    </tr>\n",
              "    <tr>\n",
              "      <th>33923</th>\n",
              "      <td>635</td>\n",
              "      <td>yadgir</td>\n",
              "      <td>580</td>\n",
              "      <td>4</td>\n",
              "      <td>7096</td>\n",
              "      <td>hunasagi</td>\n",
              "      <td>0</td>\n",
              "      <td>NaN</td>\n",
              "      <td>620916</td>\n",
              "      <td>mudnoor</td>\n",
              "      <td>620916</td>\n",
              "      <td>353500.0</td>\n",
              "      <td>218149.0</td>\n",
              "      <td>mudanoork</td>\n",
              "      <td>2958007096620916</td>\n",
              "      <td>2</td>\n",
              "      <td>yadgir mudanoork mudnoor</td>\n",
              "    </tr>\n",
              "    <tr>\n",
              "      <th>33924</th>\n",
              "      <td>635</td>\n",
              "      <td>yadgir</td>\n",
              "      <td>580</td>\n",
              "      <td>4</td>\n",
              "      <td>7096</td>\n",
              "      <td>hunasagi</td>\n",
              "      <td>0</td>\n",
              "      <td>NaN</td>\n",
              "      <td>620917</td>\n",
              "      <td>mudnoor</td>\n",
              "      <td>620917</td>\n",
              "      <td>353600.0</td>\n",
              "      <td>218149.0</td>\n",
              "      <td>mudanoork</td>\n",
              "      <td>2958007096620917</td>\n",
              "      <td>2</td>\n",
              "      <td>yadgir mudanoork mudnoor</td>\n",
              "    </tr>\n",
              "  </tbody>\n",
              "</table>\n",
              "<p>281 rows × 17 columns</p>\n",
              "</div>"
            ],
            "text/plain": [
              "       District Code  ...                                   concat\n",
              "617              524  ...  bagalkote chinchakhandikd chinchakhandi\n",
              "618              524  ...  bagalkote chinchakhandikd chinchakhandi\n",
              "45               524  ...                    bagalkote hosur hosur\n",
              "164              524  ...                    bagalkote hosur hosur\n",
              "629              524  ...            bagalkote laxanatti jalikatti\n",
              "...              ...  ...                                      ...\n",
              "34210            635  ...                     yadgir konkal konkal\n",
              "34132            635  ...                      yadgir mallab malla\n",
              "34133            635  ...                      yadgir mallab malla\n",
              "33923            635  ...                 yadgir mudanoork mudnoor\n",
              "33924            635  ...                 yadgir mudanoork mudnoor\n",
              "\n",
              "[281 rows x 17 columns]"
            ]
          },
          "metadata": {
            "tags": []
          },
          "execution_count": 89
        }
      ]
    },
    {
      "cell_type": "code",
      "metadata": {
        "id": "266FmHFYlIP9"
      },
      "source": [
        "df_codes = df_codes[df_codes['freq'] == 1]"
      ],
      "execution_count": null,
      "outputs": []
    },
    {
      "cell_type": "code",
      "metadata": {
        "id": "4wXAyMzypOMb",
        "outputId": "8e939f5b-4bbc-4433-93d0-a9b84a6740b4",
        "colab": {
          "base_uri": "https://localhost:8080/",
          "height": 51
        }
      },
      "source": [
        "df_codes['freq'].value_counts()"
      ],
      "execution_count": null,
      "outputs": [
        {
          "output_type": "execute_result",
          "data": {
            "text/plain": [
              "1    32335\n",
              "Name: freq, dtype: int64"
            ]
          },
          "metadata": {
            "tags": []
          },
          "execution_count": 91
        }
      ]
    },
    {
      "cell_type": "code",
      "metadata": {
        "id": "K0iRsgTJ1LYs",
        "outputId": "3de4681e-06fa-43e9-87af-44568f4a7a33",
        "colab": {
          "base_uri": "https://localhost:8080/",
          "height": 34
        }
      },
      "source": [
        "!pip install rapidfuzz"
      ],
      "execution_count": null,
      "outputs": [
        {
          "output_type": "stream",
          "text": [
            "Requirement already satisfied: rapidfuzz in /usr/local/lib/python3.6/dist-packages (0.11.3)\n"
          ],
          "name": "stdout"
        }
      ]
    },
    {
      "cell_type": "code",
      "metadata": {
        "id": "ZqMcjxLg1PI_"
      },
      "source": [
        "from rapidfuzz import fuzz\n",
        "from rapidfuzz import process"
      ],
      "execution_count": null,
      "outputs": []
    },
    {
      "cell_type": "code",
      "metadata": {
        "id": "YHAIVxnLpUNG",
        "outputId": "65d531ff-61ce-40fc-f55f-ff9a81ebe5d2",
        "colab": {
          "base_uri": "https://localhost:8080/",
          "height": 34
        }
      },
      "source": [
        "fuzz.ratio('bagalkote alursk alursk', 'bagalkote alursk allursp')"
      ],
      "execution_count": null,
      "outputs": [
        {
          "output_type": "execute_result",
          "data": {
            "text/plain": [
              "93.61702127659575"
            ]
          },
          "metadata": {
            "tags": []
          },
          "execution_count": 94
        }
      ]
    },
    {
      "cell_type": "code",
      "metadata": {
        "id": "WReiZocDtu51",
        "outputId": "6377156a-be60-48dc-aac5-c2bc0cdb848f",
        "colab": {
          "base_uri": "https://localhost:8080/",
          "height": 34
        }
      },
      "source": [
        "fuzz.partial_ratio('bagalkote alursk allursp', 'bagalkote alursk alursk')"
      ],
      "execution_count": null,
      "outputs": [
        {
          "output_type": "execute_result",
          "data": {
            "text/plain": [
              "95.65217391304348"
            ]
          },
          "metadata": {
            "tags": []
          },
          "execution_count": 95
        }
      ]
    },
    {
      "cell_type": "code",
      "metadata": {
        "id": "Z8MZM3JNt5Y0",
        "outputId": "afb5c163-8f89-430c-f18b-144f379c439d",
        "colab": {
          "base_uri": "https://localhost:8080/",
          "height": 34
        }
      },
      "source": [
        "fuzz.token_sort_ratio('alursk alursk', 'alursk allursp')"
      ],
      "execution_count": null,
      "outputs": [
        {
          "output_type": "execute_result",
          "data": {
            "text/plain": [
              "88.88888888888889"
            ]
          },
          "metadata": {
            "tags": []
          },
          "execution_count": 96
        }
      ]
    },
    {
      "cell_type": "code",
      "metadata": {
        "id": "L5nraE2luBB1",
        "outputId": "b9b86a9a-4a7a-441b-bb06-3f7431068cbb",
        "colab": {
          "base_uri": "https://localhost:8080/",
          "height": 34
        }
      },
      "source": [
        "fuzz.token_set_ratio('alursk alursk', 'alursk allursp')"
      ],
      "execution_count": null,
      "outputs": [
        {
          "output_type": "execute_result",
          "data": {
            "text/plain": [
              "100.0"
            ]
          },
          "metadata": {
            "tags": []
          },
          "execution_count": 97
        }
      ]
    },
    {
      "cell_type": "code",
      "metadata": {
        "id": "Hf6gbq5rwQkG",
        "outputId": "c5a03969-fc85-485f-c4ce-f627cb64fee9",
        "colab": {
          "base_uri": "https://localhost:8080/",
          "height": 34
        }
      },
      "source": [
        "choices = [\"Atlanta Falcons\", \"New York Jets\", \"New York Giants\", \"Dallas Cowboys\"]\n",
        "process.extract(\"new york jets\", choices, limit=2)"
      ],
      "execution_count": null,
      "outputs": [
        {
          "output_type": "execute_result",
          "data": {
            "text/plain": [
              "[('New York Jets', 100.0), ('New York Giants', 78.57142857142857)]"
            ]
          },
          "metadata": {
            "tags": []
          },
          "execution_count": 98
        }
      ]
    },
    {
      "cell_type": "code",
      "metadata": {
        "id": "wIJdK5pjxEKW",
        "outputId": "5445ffe2-b5c1-4c2e-8f1f-7089e294874e",
        "colab": {
          "base_uri": "https://localhost:8080/",
          "height": 34
        }
      },
      "source": [
        "process.extractOne(\"new york jets\", choices)"
      ],
      "execution_count": null,
      "outputs": [
        {
          "output_type": "execute_result",
          "data": {
            "text/plain": [
              "('New York Jets', 100.0)"
            ]
          },
          "metadata": {
            "tags": []
          },
          "execution_count": 99
        }
      ]
    },
    {
      "cell_type": "code",
      "metadata": {
        "id": "jRLYvTC-GyRI"
      },
      "source": [
        "from tqdm import tqdm\n",
        "import time"
      ],
      "execution_count": null,
      "outputs": []
    },
    {
      "cell_type": "code",
      "metadata": {
        "id": "sOBPmPW9DAYC"
      },
      "source": [
        "df_cleaned.reset_index(drop=True, inplace=True)"
      ],
      "execution_count": null,
      "outputs": []
    },
    {
      "cell_type": "code",
      "metadata": {
        "id": "kYO1YjFLxI19"
      },
      "source": [
        "\n",
        "matched_concat = []\n",
        "similarity = []\n",
        "\n",
        "for idx, i in tqdm(df_cleaned['concat'].iteritems()):\n",
        "        \n",
        "        district_name = df_cleaned['District'].iloc[idx]\n",
        "        gp_name = df_cleaned['Gram Panchayat'].iloc[idx]\n",
        "        vil_name = df_cleaned['Village'].iloc[idx]\n",
        "        ratio = process.extract(i, df_codes['concat'][(df_codes['District Name(in English)'] == district_name)], limit=1, scorer=fuzz.token_sort_ratio)\n",
        "        matched_concat.append(ratio[0][0])\n",
        "        similarity.append(ratio[0][1])\n",
        "\n",
        "df_cleaned['matched_concat'] = pd.Series(matched_concat)\n",
        "df_cleaned['similarity'] = pd.Series(similarity)"
      ],
      "execution_count": null,
      "outputs": []
    },
    {
      "cell_type": "code",
      "metadata": {
        "id": "jLlsnxq--85M",
        "outputId": "184ed229-a7fc-4683-9eec-9e58e27131ef",
        "colab": {
          "base_uri": "https://localhost:8080/",
          "height": 359
        }
      },
      "source": [
        "df_cleaned.head(10)"
      ],
      "execution_count": null,
      "outputs": [
        {
          "output_type": "execute_result",
          "data": {
            "text/html": [
              "<div>\n",
              "<style scoped>\n",
              "    .dataframe tbody tr th:only-of-type {\n",
              "        vertical-align: middle;\n",
              "    }\n",
              "\n",
              "    .dataframe tbody tr th {\n",
              "        vertical-align: top;\n",
              "    }\n",
              "\n",
              "    .dataframe thead th {\n",
              "        text-align: right;\n",
              "    }\n",
              "</style>\n",
              "<table border=\"1\" class=\"dataframe\">\n",
              "  <thead>\n",
              "    <tr style=\"text-align: right;\">\n",
              "      <th></th>\n",
              "      <th>District</th>\n",
              "      <th>Taluk</th>\n",
              "      <th>Gram Panchayat</th>\n",
              "      <th>Village</th>\n",
              "      <th>HDI</th>\n",
              "      <th>Rank.3</th>\n",
              "      <th>freq</th>\n",
              "      <th>concat</th>\n",
              "      <th>matched_concat</th>\n",
              "      <th>similarity</th>\n",
              "    </tr>\n",
              "  </thead>\n",
              "  <tbody>\n",
              "    <tr>\n",
              "      <th>0</th>\n",
              "      <td>bagalkote</td>\n",
              "      <td>badami</td>\n",
              "      <td>adagal</td>\n",
              "      <td>adagal</td>\n",
              "      <td>0.38380</td>\n",
              "      <td>17162.0</td>\n",
              "      <td>1</td>\n",
              "      <td>bagalkote adagal adagal</td>\n",
              "      <td>bagalkote adagal adagal</td>\n",
              "      <td>100.0</td>\n",
              "    </tr>\n",
              "    <tr>\n",
              "      <th>1</th>\n",
              "      <td>bagalkote</td>\n",
              "      <td>badami</td>\n",
              "      <td>adagal</td>\n",
              "      <td>badami*</td>\n",
              "      <td>0.28203</td>\n",
              "      <td>23679.0</td>\n",
              "      <td>1</td>\n",
              "      <td>bagalkote adagal badami</td>\n",
              "      <td>bagalkote adagal badami</td>\n",
              "      <td>100.0</td>\n",
              "    </tr>\n",
              "    <tr>\n",
              "      <th>2</th>\n",
              "      <td>bagalkote</td>\n",
              "      <td>badami</td>\n",
              "      <td>adagal</td>\n",
              "      <td>kabbalageri</td>\n",
              "      <td>0.35019</td>\n",
              "      <td>19770.0</td>\n",
              "      <td>1</td>\n",
              "      <td>bagalkote adagal kabbalageri</td>\n",
              "      <td>bagalkote adagal kabbalageri</td>\n",
              "      <td>100.0</td>\n",
              "    </tr>\n",
              "    <tr>\n",
              "      <th>3</th>\n",
              "      <td>bagalkote</td>\n",
              "      <td>jamkhandi</td>\n",
              "      <td>adihudi</td>\n",
              "      <td>adihudi</td>\n",
              "      <td>0.35949</td>\n",
              "      <td>19111.0</td>\n",
              "      <td>1</td>\n",
              "      <td>bagalkote adihudi adihudi</td>\n",
              "      <td>bagalkote adihudi adihudi</td>\n",
              "      <td>100.0</td>\n",
              "    </tr>\n",
              "    <tr>\n",
              "      <th>4</th>\n",
              "      <td>bagalkote</td>\n",
              "      <td>jamkhandi</td>\n",
              "      <td>algur</td>\n",
              "      <td>alagur</td>\n",
              "      <td>0.42051</td>\n",
              "      <td>13452.0</td>\n",
              "      <td>1</td>\n",
              "      <td>bagalkote algur alagur</td>\n",
              "      <td>bagalkote algur alagur</td>\n",
              "      <td>100.0</td>\n",
              "    </tr>\n",
              "    <tr>\n",
              "      <th>5</th>\n",
              "      <td>bagalkote</td>\n",
              "      <td>badami</td>\n",
              "      <td>alur.s.k.</td>\n",
              "      <td>alur.s.k.</td>\n",
              "      <td>0.32455</td>\n",
              "      <td>21322.0</td>\n",
              "      <td>1</td>\n",
              "      <td>bagalkote alursk alursk</td>\n",
              "      <td>bagalkote alursk alursk</td>\n",
              "      <td>100.0</td>\n",
              "    </tr>\n",
              "    <tr>\n",
              "      <th>6</th>\n",
              "      <td>bagalkote</td>\n",
              "      <td>badami</td>\n",
              "      <td>alur.s.k.</td>\n",
              "      <td>beeranur</td>\n",
              "      <td>0.32641</td>\n",
              "      <td>21228.0</td>\n",
              "      <td>1</td>\n",
              "      <td>bagalkote alursk beeranur</td>\n",
              "      <td>bagalkote alursk beeranur</td>\n",
              "      <td>100.0</td>\n",
              "    </tr>\n",
              "    <tr>\n",
              "      <th>7</th>\n",
              "      <td>bagalkote</td>\n",
              "      <td>badami</td>\n",
              "      <td>alur.s.k.</td>\n",
              "      <td>govanakoppa</td>\n",
              "      <td>0.44324</td>\n",
              "      <td>10844.0</td>\n",
              "      <td>1</td>\n",
              "      <td>bagalkote alursk govanakoppa</td>\n",
              "      <td>bagalkote alursk govanakoppa</td>\n",
              "      <td>100.0</td>\n",
              "    </tr>\n",
              "    <tr>\n",
              "      <th>8</th>\n",
              "      <td>bagalkote</td>\n",
              "      <td>badami</td>\n",
              "      <td>alur.s.k.</td>\n",
              "      <td>haganur</td>\n",
              "      <td>0.19630</td>\n",
              "      <td>26002.0</td>\n",
              "      <td>1</td>\n",
              "      <td>bagalkote alursk haganur</td>\n",
              "      <td>bagalkote alursk haganur</td>\n",
              "      <td>100.0</td>\n",
              "    </tr>\n",
              "    <tr>\n",
              "      <th>9</th>\n",
              "      <td>bagalkote</td>\n",
              "      <td>badami</td>\n",
              "      <td>alur.s.k.</td>\n",
              "      <td>talakawad</td>\n",
              "      <td>0.23577</td>\n",
              "      <td>25278.0</td>\n",
              "      <td>1</td>\n",
              "      <td>bagalkote alursk talakawad</td>\n",
              "      <td>bagalkote alursk talakawad</td>\n",
              "      <td>100.0</td>\n",
              "    </tr>\n",
              "  </tbody>\n",
              "</table>\n",
              "</div>"
            ],
            "text/plain": [
              "    District      Taluk  ...                matched_concat similarity\n",
              "0  bagalkote     badami  ...       bagalkote adagal adagal      100.0\n",
              "1  bagalkote     badami  ...       bagalkote adagal badami      100.0\n",
              "2  bagalkote     badami  ...  bagalkote adagal kabbalageri      100.0\n",
              "3  bagalkote  jamkhandi  ...     bagalkote adihudi adihudi      100.0\n",
              "4  bagalkote  jamkhandi  ...        bagalkote algur alagur      100.0\n",
              "5  bagalkote     badami  ...       bagalkote alursk alursk      100.0\n",
              "6  bagalkote     badami  ...     bagalkote alursk beeranur      100.0\n",
              "7  bagalkote     badami  ...  bagalkote alursk govanakoppa      100.0\n",
              "8  bagalkote     badami  ...      bagalkote alursk haganur      100.0\n",
              "9  bagalkote     badami  ...    bagalkote alursk talakawad      100.0\n",
              "\n",
              "[10 rows x 10 columns]"
            ]
          },
          "metadata": {
            "tags": []
          },
          "execution_count": 117
        }
      ]
    },
    {
      "cell_type": "code",
      "metadata": {
        "id": "zULOqHC8HXgS",
        "outputId": "a1d8b6b0-1618-42a6-f0c8-54bd4e893037",
        "colab": {
          "base_uri": "https://localhost:8080/",
          "height": 204
        }
      },
      "source": [
        "df_cleaned[(df_cleaned['similarity'] > 90)].nunique()"
      ],
      "execution_count": null,
      "outputs": [
        {
          "output_type": "execute_result",
          "data": {
            "text/plain": [
              "District             30\n",
              "Taluk               176\n",
              "Gram Panchayat     5240\n",
              "Village           18776\n",
              "HDI               18179\n",
              "Rank.3            24907\n",
              "freq                  1\n",
              "concat            24922\n",
              "matched_concat    24779\n",
              "similarity          163\n",
              "dtype: int64"
            ]
          },
          "metadata": {
            "tags": []
          },
          "execution_count": 133
        }
      ]
    },
    {
      "cell_type": "code",
      "metadata": {
        "id": "zlfEvgqzTUSX"
      },
      "source": [
        "df_new = pd.merge(df_cleaned, df_codes, how='inner', left_on= 'matched_concat', right_on='concat')"
      ],
      "execution_count": null,
      "outputs": []
    },
    {
      "cell_type": "code",
      "metadata": {
        "id": "ZdtBaWwSUMf4",
        "outputId": "125eadd2-b7dc-4951-b914-a59283d83ee2",
        "colab": {
          "base_uri": "https://localhost:8080/",
          "height": 462
        }
      },
      "source": [
        "df_new.head()"
      ],
      "execution_count": null,
      "outputs": [
        {
          "output_type": "execute_result",
          "data": {
            "text/html": [
              "<div>\n",
              "<style scoped>\n",
              "    .dataframe tbody tr th:only-of-type {\n",
              "        vertical-align: middle;\n",
              "    }\n",
              "\n",
              "    .dataframe tbody tr th {\n",
              "        vertical-align: top;\n",
              "    }\n",
              "\n",
              "    .dataframe thead th {\n",
              "        text-align: right;\n",
              "    }\n",
              "</style>\n",
              "<table border=\"1\" class=\"dataframe\">\n",
              "  <thead>\n",
              "    <tr style=\"text-align: right;\">\n",
              "      <th></th>\n",
              "      <th>District</th>\n",
              "      <th>Taluk</th>\n",
              "      <th>Gram Panchayat</th>\n",
              "      <th>Village</th>\n",
              "      <th>HDI</th>\n",
              "      <th>Rank.3</th>\n",
              "      <th>freq_x</th>\n",
              "      <th>concat_x</th>\n",
              "      <th>matched_concat</th>\n",
              "      <th>similarity</th>\n",
              "      <th>District Code</th>\n",
              "      <th>District Name(in English)</th>\n",
              "      <th>District Census Code2011</th>\n",
              "      <th>District Census Code 2001</th>\n",
              "      <th>Sub District Code</th>\n",
              "      <th>Sub District Name(in English)</th>\n",
              "      <th>Sub District Census Code 2011</th>\n",
              "      <th>Sub District Census Code 2001</th>\n",
              "      <th>Village Code</th>\n",
              "      <th>Village Name(in English)</th>\n",
              "      <th>Village Census Code 2011</th>\n",
              "      <th>Village Census Code 2001</th>\n",
              "      <th>Local Body Code</th>\n",
              "      <th>Local Body Name(in English)</th>\n",
              "      <th>unique code</th>\n",
              "      <th>freq_y</th>\n",
              "      <th>concat_y</th>\n",
              "    </tr>\n",
              "  </thead>\n",
              "  <tbody>\n",
              "    <tr>\n",
              "      <th>0</th>\n",
              "      <td>bagalkote</td>\n",
              "      <td>badami</td>\n",
              "      <td>adagal</td>\n",
              "      <td>adagal</td>\n",
              "      <td>0.38380</td>\n",
              "      <td>17162.0</td>\n",
              "      <td>1</td>\n",
              "      <td>bagalkote adagal adagal</td>\n",
              "      <td>bagalkote adagal adagal</td>\n",
              "      <td>100.0</td>\n",
              "      <td>524</td>\n",
              "      <td>bagalkote</td>\n",
              "      <td>556</td>\n",
              "      <td>2</td>\n",
              "      <td>5446</td>\n",
              "      <td>badami</td>\n",
              "      <td>5446</td>\n",
              "      <td>4.0</td>\n",
              "      <td>598748</td>\n",
              "      <td>adagal</td>\n",
              "      <td>598748</td>\n",
              "      <td>161700.0</td>\n",
              "      <td>215148.0</td>\n",
              "      <td>adagal</td>\n",
              "      <td>2955605446598748</td>\n",
              "      <td>1</td>\n",
              "      <td>bagalkote adagal adagal</td>\n",
              "    </tr>\n",
              "    <tr>\n",
              "      <th>1</th>\n",
              "      <td>bagalkote</td>\n",
              "      <td>badami</td>\n",
              "      <td>adagal</td>\n",
              "      <td>badami*</td>\n",
              "      <td>0.28203</td>\n",
              "      <td>23679.0</td>\n",
              "      <td>1</td>\n",
              "      <td>bagalkote adagal badami</td>\n",
              "      <td>bagalkote adagal badami</td>\n",
              "      <td>100.0</td>\n",
              "      <td>524</td>\n",
              "      <td>bagalkote</td>\n",
              "      <td>556</td>\n",
              "      <td>2</td>\n",
              "      <td>5446</td>\n",
              "      <td>badami</td>\n",
              "      <td>5446</td>\n",
              "      <td>4.0</td>\n",
              "      <td>598750</td>\n",
              "      <td>badami*</td>\n",
              "      <td>598750</td>\n",
              "      <td>161900.0</td>\n",
              "      <td>215148.0</td>\n",
              "      <td>adagal</td>\n",
              "      <td>2955605446598750</td>\n",
              "      <td>1</td>\n",
              "      <td>bagalkote adagal badami</td>\n",
              "    </tr>\n",
              "    <tr>\n",
              "      <th>2</th>\n",
              "      <td>bagalkote</td>\n",
              "      <td>badami</td>\n",
              "      <td>adagal</td>\n",
              "      <td>kabbalageri</td>\n",
              "      <td>0.35019</td>\n",
              "      <td>19770.0</td>\n",
              "      <td>1</td>\n",
              "      <td>bagalkote adagal kabbalageri</td>\n",
              "      <td>bagalkote adagal kabbalageri</td>\n",
              "      <td>100.0</td>\n",
              "      <td>524</td>\n",
              "      <td>bagalkote</td>\n",
              "      <td>556</td>\n",
              "      <td>2</td>\n",
              "      <td>5446</td>\n",
              "      <td>badami</td>\n",
              "      <td>5446</td>\n",
              "      <td>4.0</td>\n",
              "      <td>598749</td>\n",
              "      <td>kabbalageri</td>\n",
              "      <td>598749</td>\n",
              "      <td>161800.0</td>\n",
              "      <td>215148.0</td>\n",
              "      <td>adagal</td>\n",
              "      <td>2955605446598749</td>\n",
              "      <td>1</td>\n",
              "      <td>bagalkote adagal kabbalageri</td>\n",
              "    </tr>\n",
              "    <tr>\n",
              "      <th>3</th>\n",
              "      <td>bagalkote</td>\n",
              "      <td>jamkhandi</td>\n",
              "      <td>adihudi</td>\n",
              "      <td>adihudi</td>\n",
              "      <td>0.35949</td>\n",
              "      <td>19111.0</td>\n",
              "      <td>1</td>\n",
              "      <td>bagalkote adihudi adihudi</td>\n",
              "      <td>bagalkote adihudi adihudi</td>\n",
              "      <td>100.0</td>\n",
              "      <td>524</td>\n",
              "      <td>bagalkote</td>\n",
              "      <td>556</td>\n",
              "      <td>2</td>\n",
              "      <td>5443</td>\n",
              "      <td>jamkhandi</td>\n",
              "      <td>5443</td>\n",
              "      <td>1.0</td>\n",
              "      <td>598464</td>\n",
              "      <td>adihudi</td>\n",
              "      <td>598464</td>\n",
              "      <td>133300.0</td>\n",
              "      <td>273113.0</td>\n",
              "      <td>adihudi</td>\n",
              "      <td>2955605443598464</td>\n",
              "      <td>1</td>\n",
              "      <td>bagalkote adihudi adihudi</td>\n",
              "    </tr>\n",
              "    <tr>\n",
              "      <th>4</th>\n",
              "      <td>bagalkote</td>\n",
              "      <td>jamkhandi</td>\n",
              "      <td>algur</td>\n",
              "      <td>alagur</td>\n",
              "      <td>0.42051</td>\n",
              "      <td>13452.0</td>\n",
              "      <td>1</td>\n",
              "      <td>bagalkote algur alagur</td>\n",
              "      <td>bagalkote algur alagur</td>\n",
              "      <td>100.0</td>\n",
              "      <td>524</td>\n",
              "      <td>bagalkote</td>\n",
              "      <td>556</td>\n",
              "      <td>2</td>\n",
              "      <td>5443</td>\n",
              "      <td>jamkhandi</td>\n",
              "      <td>5443</td>\n",
              "      <td>1.0</td>\n",
              "      <td>598433</td>\n",
              "      <td>alagur</td>\n",
              "      <td>598433</td>\n",
              "      <td>130200.0</td>\n",
              "      <td>215254.0</td>\n",
              "      <td>algur</td>\n",
              "      <td>2955605443598433</td>\n",
              "      <td>1</td>\n",
              "      <td>bagalkote algur alagur</td>\n",
              "    </tr>\n",
              "  </tbody>\n",
              "</table>\n",
              "</div>"
            ],
            "text/plain": [
              "    District      Taluk  ... freq_y                      concat_y\n",
              "0  bagalkote     badami  ...      1       bagalkote adagal adagal\n",
              "1  bagalkote     badami  ...      1       bagalkote adagal badami\n",
              "2  bagalkote     badami  ...      1  bagalkote adagal kabbalageri\n",
              "3  bagalkote  jamkhandi  ...      1     bagalkote adihudi adihudi\n",
              "4  bagalkote  jamkhandi  ...      1        bagalkote algur alagur\n",
              "\n",
              "[5 rows x 27 columns]"
            ]
          },
          "metadata": {
            "tags": []
          },
          "execution_count": 139
        }
      ]
    },
    {
      "cell_type": "code",
      "metadata": {
        "id": "ui9I9q24V6Wf",
        "outputId": "7cd7dfa3-59ef-4855-9d47-2a800a7b8a8e",
        "colab": {
          "base_uri": "https://localhost:8080/",
          "height": 445
        }
      },
      "source": [
        "df_new[(df_new['similarity'] < 80)].sample(5)"
      ],
      "execution_count": null,
      "outputs": [
        {
          "output_type": "execute_result",
          "data": {
            "text/html": [
              "<div>\n",
              "<style scoped>\n",
              "    .dataframe tbody tr th:only-of-type {\n",
              "        vertical-align: middle;\n",
              "    }\n",
              "\n",
              "    .dataframe tbody tr th {\n",
              "        vertical-align: top;\n",
              "    }\n",
              "\n",
              "    .dataframe thead th {\n",
              "        text-align: right;\n",
              "    }\n",
              "</style>\n",
              "<table border=\"1\" class=\"dataframe\">\n",
              "  <thead>\n",
              "    <tr style=\"text-align: right;\">\n",
              "      <th></th>\n",
              "      <th>District</th>\n",
              "      <th>Taluk</th>\n",
              "      <th>Gram Panchayat</th>\n",
              "      <th>Village</th>\n",
              "      <th>HDI</th>\n",
              "      <th>Rank.3</th>\n",
              "      <th>freq_x</th>\n",
              "      <th>concat_x</th>\n",
              "      <th>matched_concat</th>\n",
              "      <th>similarity</th>\n",
              "      <th>District Code</th>\n",
              "      <th>District Name(in English)</th>\n",
              "      <th>District Census Code2011</th>\n",
              "      <th>District Census Code 2001</th>\n",
              "      <th>Sub District Code</th>\n",
              "      <th>Sub District Name(in English)</th>\n",
              "      <th>Sub District Census Code 2011</th>\n",
              "      <th>Sub District Census Code 2001</th>\n",
              "      <th>Village Code</th>\n",
              "      <th>Village Name(in English)</th>\n",
              "      <th>Village Census Code 2011</th>\n",
              "      <th>Village Census Code 2001</th>\n",
              "      <th>Local Body Code</th>\n",
              "      <th>Local Body Name(in English)</th>\n",
              "      <th>unique code</th>\n",
              "      <th>freq_y</th>\n",
              "      <th>concat_y</th>\n",
              "    </tr>\n",
              "  </thead>\n",
              "  <tbody>\n",
              "    <tr>\n",
              "      <th>19512</th>\n",
              "      <td>ramanagara</td>\n",
              "      <td>kanakapura</td>\n",
              "      <td>bekuppe</td>\n",
              "      <td>horalagallu</td>\n",
              "      <td>0.39212</td>\n",
              "      <td>16370.0</td>\n",
              "      <td>1</td>\n",
              "      <td>ramanagara bekuppe horalagallu</td>\n",
              "      <td>ramanagara bannikuppe ganakallu</td>\n",
              "      <td>78.688525</td>\n",
              "      <td>631</td>\n",
              "      <td>ramanagara</td>\n",
              "      <td>584</td>\n",
              "      <td>21</td>\n",
              "      <td>5606</td>\n",
              "      <td>ramanagara</td>\n",
              "      <td>5606</td>\n",
              "      <td>0.0</td>\n",
              "      <td>626097</td>\n",
              "      <td>ganakallu</td>\n",
              "      <td>626097</td>\n",
              "      <td>2238300.0</td>\n",
              "      <td>215598.0</td>\n",
              "      <td>bannikuppe</td>\n",
              "      <td>2958405606626097</td>\n",
              "      <td>1</td>\n",
              "      <td>ramanagara bannikuppe ganakallu</td>\n",
              "    </tr>\n",
              "    <tr>\n",
              "      <th>12987</th>\n",
              "      <td>kalaburagi</td>\n",
              "      <td>afzalpur</td>\n",
              "      <td>patharaga</td>\n",
              "      <td>ghatterga</td>\n",
              "      <td>0.39400</td>\n",
              "      <td>16201.0</td>\n",
              "      <td>1</td>\n",
              "      <td>kalaburagi patharaga ghatterga</td>\n",
              "      <td>kalaburagi chengta pangarga</td>\n",
              "      <td>77.192982</td>\n",
              "      <td>538</td>\n",
              "      <td>kalaburagi</td>\n",
              "      <td>579</td>\n",
              "      <td>4</td>\n",
              "      <td>7090</td>\n",
              "      <td>kamalapur</td>\n",
              "      <td>0</td>\n",
              "      <td>NaN</td>\n",
              "      <td>620342</td>\n",
              "      <td>pangarga</td>\n",
              "      <td>620342</td>\n",
              "      <td>296300.0</td>\n",
              "      <td>217929.0</td>\n",
              "      <td>chengta</td>\n",
              "      <td>2957907090620342</td>\n",
              "      <td>1</td>\n",
              "      <td>kalaburagi chengta pangarga</td>\n",
              "    </tr>\n",
              "    <tr>\n",
              "      <th>20479</th>\n",
              "      <td>shivamogga</td>\n",
              "      <td>hosanagara</td>\n",
              "      <td>chikkajeni</td>\n",
              "      <td>tariga</td>\n",
              "      <td>0.49330</td>\n",
              "      <td>5568.0</td>\n",
              "      <td>1</td>\n",
              "      <td>shivamogga chikkajeni tariga</td>\n",
              "      <td>shivamogga tumari chimale</td>\n",
              "      <td>79.245283</td>\n",
              "      <td>547</td>\n",
              "      <td>shivamogga</td>\n",
              "      <td>568</td>\n",
              "      <td>15</td>\n",
              "      <td>5515</td>\n",
              "      <td>sagar</td>\n",
              "      <td>5515</td>\n",
              "      <td>1.0</td>\n",
              "      <td>607364</td>\n",
              "      <td>chimale</td>\n",
              "      <td>607364</td>\n",
              "      <td>1161800.0</td>\n",
              "      <td>219933.0</td>\n",
              "      <td>tumari</td>\n",
              "      <td>2956805515607364</td>\n",
              "      <td>1</td>\n",
              "      <td>shivamogga tumari chimale</td>\n",
              "    </tr>\n",
              "    <tr>\n",
              "      <th>18348</th>\n",
              "      <td>mysuru</td>\n",
              "      <td>tirumakudal-narsip</td>\n",
              "      <td>rkotthegala</td>\n",
              "      <td>madrahalli</td>\n",
              "      <td>0.47763</td>\n",
              "      <td>7047.0</td>\n",
              "      <td>1</td>\n",
              "      <td>mysuru rkotthegala madrahalli</td>\n",
              "      <td>mysuru nallethalapura madanahalli</td>\n",
              "      <td>70.967742</td>\n",
              "      <td>545</td>\n",
              "      <td>mysuru</td>\n",
              "      <td>577</td>\n",
              "      <td>26</td>\n",
              "      <td>5574</td>\n",
              "      <td>nanjangud</td>\n",
              "      <td>5574</td>\n",
              "      <td>6.0</td>\n",
              "      <td>619123</td>\n",
              "      <td>madanahalli</td>\n",
              "      <td>619123</td>\n",
              "      <td>2857800.0</td>\n",
              "      <td>219598.0</td>\n",
              "      <td>nallethalapura</td>\n",
              "      <td>2957705574619123</td>\n",
              "      <td>1</td>\n",
              "      <td>mysuru nallethalapura madanahalli</td>\n",
              "    </tr>\n",
              "    <tr>\n",
              "      <th>20794</th>\n",
              "      <td>shivamogga</td>\n",
              "      <td>shivamogga</td>\n",
              "      <td>hosahalli</td>\n",
              "      <td>gajanurumullakere</td>\n",
              "      <td>0.52638</td>\n",
              "      <td>3017.0</td>\n",
              "      <td>1</td>\n",
              "      <td>shivamogga hosahalli gajanurumullakere</td>\n",
              "      <td>shivamogga gajanuru gajanurumullakere</td>\n",
              "      <td>74.666667</td>\n",
              "      <td>547</td>\n",
              "      <td>shivamogga</td>\n",
              "      <td>568</td>\n",
              "      <td>15</td>\n",
              "      <td>5520</td>\n",
              "      <td>shivamogga</td>\n",
              "      <td>5520</td>\n",
              "      <td>6.0</td>\n",
              "      <td>608479</td>\n",
              "      <td>gajanurumullakere</td>\n",
              "      <td>608479</td>\n",
              "      <td>1273300.0</td>\n",
              "      <td>219988.0</td>\n",
              "      <td>gajanuru</td>\n",
              "      <td>2956805520608479</td>\n",
              "      <td>1</td>\n",
              "      <td>shivamogga gajanuru gajanurumullakere</td>\n",
              "    </tr>\n",
              "  </tbody>\n",
              "</table>\n",
              "</div>"
            ],
            "text/plain": [
              "         District  ...                               concat_y\n",
              "19512  ramanagara  ...        ramanagara bannikuppe ganakallu\n",
              "12987  kalaburagi  ...            kalaburagi chengta pangarga\n",
              "20479  shivamogga  ...              shivamogga tumari chimale\n",
              "18348      mysuru  ...      mysuru nallethalapura madanahalli\n",
              "20794  shivamogga  ...  shivamogga gajanuru gajanurumullakere\n",
              "\n",
              "[5 rows x 27 columns]"
            ]
          },
          "metadata": {
            "tags": []
          },
          "execution_count": 142
        }
      ]
    },
    {
      "cell_type": "code",
      "metadata": {
        "id": "R9_QbZbjXEEc",
        "outputId": "d2f3fe9a-917a-4f1a-a64e-cfc8595314fd",
        "colab": {
          "base_uri": "https://localhost:8080/",
          "height": 595
        }
      },
      "source": [
        "df_new.info()"
      ],
      "execution_count": null,
      "outputs": [
        {
          "output_type": "stream",
          "text": [
            "<class 'pandas.core.frame.DataFrame'>\n",
            "Int64Index: 26740 entries, 0 to 26739\n",
            "Data columns (total 27 columns):\n",
            " #   Column                         Non-Null Count  Dtype  \n",
            "---  ------                         --------------  -----  \n",
            " 0   District                       26740 non-null  object \n",
            " 1   Taluk                          26740 non-null  object \n",
            " 2   Gram Panchayat                 26740 non-null  object \n",
            " 3   Village                        26740 non-null  object \n",
            " 4   HDI                            26740 non-null  float64\n",
            " 5   Rank.3                         26740 non-null  float64\n",
            " 6   freq_x                         26740 non-null  int64  \n",
            " 7   concat_x                       26740 non-null  object \n",
            " 8   matched_concat                 26740 non-null  object \n",
            " 9   similarity                     26740 non-null  float64\n",
            " 10  District Code                  26740 non-null  int64  \n",
            " 11  District Name(in English)      26740 non-null  object \n",
            " 12  District Census Code2011       26740 non-null  int64  \n",
            " 13  District Census Code 2001      26740 non-null  int64  \n",
            " 14  Sub District Code              26740 non-null  int64  \n",
            " 15  Sub District Name(in English)  26740 non-null  object \n",
            " 16  Sub District Census Code 2011  26740 non-null  int64  \n",
            " 17  Sub District Census Code 2001  24338 non-null  float64\n",
            " 18  Village Code                   26740 non-null  int64  \n",
            " 19  Village Name(in English)       26740 non-null  object \n",
            " 20  Village Census Code 2011       26740 non-null  int64  \n",
            " 21  Village Census Code 2001       26438 non-null  float64\n",
            " 22  Local Body Code                26740 non-null  float64\n",
            " 23  Local Body Name(in English)    26740 non-null  object \n",
            " 24  unique code                    26740 non-null  object \n",
            " 25  freq_y                         26740 non-null  int64  \n",
            " 26  concat_y                       26740 non-null  object \n",
            "dtypes: float64(6), int64(9), object(12)\n",
            "memory usage: 5.7+ MB\n"
          ],
          "name": "stdout"
        }
      ]
    },
    {
      "cell_type": "code",
      "metadata": {
        "id": "_z0Yjp32XR5y"
      },
      "source": [
        "cols = [0,1,2,3,5,6,7,8,10,12,13,14,16,17,18,20,21,22,25,26]\n",
        "df_new.drop(df_new.columns[cols], axis=1, inplace=True);"
      ],
      "execution_count": null,
      "outputs": []
    },
    {
      "cell_type": "code",
      "metadata": {
        "id": "cwaPoIuLZNfa",
        "outputId": "ab3f83b7-a2f7-4585-e04b-442d0ff198ae",
        "colab": {
          "base_uri": "https://localhost:8080/",
          "height": 221
        }
      },
      "source": [
        "df_new.head()"
      ],
      "execution_count": null,
      "outputs": [
        {
          "output_type": "execute_result",
          "data": {
            "text/html": [
              "<div>\n",
              "<style scoped>\n",
              "    .dataframe tbody tr th:only-of-type {\n",
              "        vertical-align: middle;\n",
              "    }\n",
              "\n",
              "    .dataframe tbody tr th {\n",
              "        vertical-align: top;\n",
              "    }\n",
              "\n",
              "    .dataframe thead th {\n",
              "        text-align: right;\n",
              "    }\n",
              "</style>\n",
              "<table border=\"1\" class=\"dataframe\">\n",
              "  <thead>\n",
              "    <tr style=\"text-align: right;\">\n",
              "      <th></th>\n",
              "      <th>HDI</th>\n",
              "      <th>similarity</th>\n",
              "      <th>District Name(in English)</th>\n",
              "      <th>Sub District Name(in English)</th>\n",
              "      <th>Village Name(in English)</th>\n",
              "      <th>Local Body Name(in English)</th>\n",
              "      <th>unique code</th>\n",
              "    </tr>\n",
              "  </thead>\n",
              "  <tbody>\n",
              "    <tr>\n",
              "      <th>0</th>\n",
              "      <td>0.38380</td>\n",
              "      <td>100.0</td>\n",
              "      <td>bagalkote</td>\n",
              "      <td>badami</td>\n",
              "      <td>adagal</td>\n",
              "      <td>adagal</td>\n",
              "      <td>2955605446598748</td>\n",
              "    </tr>\n",
              "    <tr>\n",
              "      <th>1</th>\n",
              "      <td>0.28203</td>\n",
              "      <td>100.0</td>\n",
              "      <td>bagalkote</td>\n",
              "      <td>badami</td>\n",
              "      <td>badami*</td>\n",
              "      <td>adagal</td>\n",
              "      <td>2955605446598750</td>\n",
              "    </tr>\n",
              "    <tr>\n",
              "      <th>2</th>\n",
              "      <td>0.35019</td>\n",
              "      <td>100.0</td>\n",
              "      <td>bagalkote</td>\n",
              "      <td>badami</td>\n",
              "      <td>kabbalageri</td>\n",
              "      <td>adagal</td>\n",
              "      <td>2955605446598749</td>\n",
              "    </tr>\n",
              "    <tr>\n",
              "      <th>3</th>\n",
              "      <td>0.35949</td>\n",
              "      <td>100.0</td>\n",
              "      <td>bagalkote</td>\n",
              "      <td>jamkhandi</td>\n",
              "      <td>adihudi</td>\n",
              "      <td>adihudi</td>\n",
              "      <td>2955605443598464</td>\n",
              "    </tr>\n",
              "    <tr>\n",
              "      <th>4</th>\n",
              "      <td>0.42051</td>\n",
              "      <td>100.0</td>\n",
              "      <td>bagalkote</td>\n",
              "      <td>jamkhandi</td>\n",
              "      <td>alagur</td>\n",
              "      <td>algur</td>\n",
              "      <td>2955605443598433</td>\n",
              "    </tr>\n",
              "  </tbody>\n",
              "</table>\n",
              "</div>"
            ],
            "text/plain": [
              "       HDI  similarity  ... Local Body Name(in English)       unique code\n",
              "0  0.38380       100.0  ...                      adagal  2955605446598748\n",
              "1  0.28203       100.0  ...                      adagal  2955605446598750\n",
              "2  0.35019       100.0  ...                      adagal  2955605446598749\n",
              "3  0.35949       100.0  ...                     adihudi  2955605443598464\n",
              "4  0.42051       100.0  ...                       algur  2955605443598433\n",
              "\n",
              "[5 rows x 7 columns]"
            ]
          },
          "metadata": {
            "tags": []
          },
          "execution_count": 145
        }
      ]
    },
    {
      "cell_type": "code",
      "metadata": {
        "id": "ot0XXvZd_ZZF"
      },
      "source": [
        "df_new.to_csv('/content/drive/My Drive/omdena_hdi/data/hdi_with_census_codes_v2.csv', index=False, header=True)"
      ],
      "execution_count": null,
      "outputs": []
    },
    {
      "cell_type": "code",
      "metadata": {
        "id": "u7cu9f7cx3kA"
      },
      "source": [
        "!pip install geopandas"
      ],
      "execution_count": null,
      "outputs": []
    },
    {
      "cell_type": "code",
      "metadata": {
        "id": "RujiO0G-ZVT8",
        "outputId": "0f931886-46d2-419b-8ebf-9987e22fcaf3",
        "colab": {
          "base_uri": "https://localhost:8080/",
          "height": 71
        }
      },
      "source": [
        "import numpy as np\n",
        "import geopandas as gpd\n",
        "import pandas as pd\n",
        "import glob\n",
        "import os\n",
        "# visualisation\n",
        "import matplotlib.pyplot as plt\n",
        "import seaborn as sns"
      ],
      "execution_count": 7,
      "outputs": [
        {
          "output_type": "stream",
          "text": [
            "/usr/local/lib/python3.6/dist-packages/statsmodels/tools/_testing.py:19: FutureWarning: pandas.util.testing is deprecated. Use the functions in the public API at pandas.testing instead.\n",
            "  import pandas.util.testing as tm\n"
          ],
          "name": "stderr"
        }
      ]
    },
    {
      "cell_type": "code",
      "metadata": {
        "id": "miv6KVrRx2XL"
      },
      "source": [
        "all_files = glob.glob('/content/drive/My Drive/omdena_hdi/karnataka_shapefiles/*/*.shp')"
      ],
      "execution_count": null,
      "outputs": []
    },
    {
      "cell_type": "code",
      "metadata": {
        "id": "jqL31pl_yDTF"
      },
      "source": [
        "len(all_files)"
      ],
      "execution_count": null,
      "outputs": []
    },
    {
      "cell_type": "code",
      "metadata": {
        "id": "hdcVJZxEyGZb"
      },
      "source": [
        "li = []\n",
        "\n",
        "for filename in all_files:\n",
        "    df = gpd.read_file(filename)\n",
        "    base = os.path.basename(filename)\n",
        "    fname = os.path.splitext(base)[0]\n",
        "    df['district'] = fname\n",
        "    li.append(df)\n",
        "\n",
        "frame = pd.concat(li, axis=0, ignore_index=True)\n",
        "\n",
        "frame.to_csv('/content/drive/My Drive/omdena_hdi/data/karnataka_shapefiles.csv', index=False, header=True)"
      ],
      "execution_count": null,
      "outputs": []
    },
    {
      "cell_type": "code",
      "metadata": {
        "id": "7OURqixByJa2"
      },
      "source": [
        "df =  pd.read_csv('/content/drive/My Drive/omdena_hdi/data/karnataka_shapefiles.csv')"
      ],
      "execution_count": 5,
      "outputs": []
    },
    {
      "cell_type": "code",
      "metadata": {
        "id": "zu38uQR04khm",
        "outputId": "33951121-da35-4d2f-88ee-fdc52a11aa1f",
        "colab": {
          "base_uri": "https://localhost:8080/",
          "height": 442
        }
      },
      "source": [
        "df.info()"
      ],
      "execution_count": 17,
      "outputs": [
        {
          "output_type": "stream",
          "text": [
            "<class 'pandas.core.frame.DataFrame'>\n",
            "RangeIndex: 32622 entries, 0 to 32621\n",
            "Data columns (total 18 columns):\n",
            " #   Column      Non-Null Count  Dtype  \n",
            "---  ------      --------------  -----  \n",
            " 0   KGISVillag  32622 non-null  int64  \n",
            " 1   KGISVill_1  32622 non-null  int64  \n",
            " 2   KGISVill_2  32622 non-null  object \n",
            " 3   KGISHobliI  32622 non-null  int64  \n",
            " 4   UniqueVill  32622 non-null  object \n",
            " 5   Bhucode     32033 non-null  float64\n",
            " 6   CensusVill  32622 non-null  int64  \n",
            " 7   BhoomiVill  31893 non-null  float64\n",
            " 8   created_us  32622 non-null  object \n",
            " 9   created_da  32622 non-null  object \n",
            " 10  last_edite  32622 non-null  object \n",
            " 11  last_edi_1  32622 non-null  object \n",
            " 12  LGDGPCode   31083 non-null  float64\n",
            " 13  LGDGPCode_  17 non-null     float64\n",
            " 14  SHAPE_Leng  32622 non-null  float64\n",
            " 15  SHAPE_Area  32622 non-null  float64\n",
            " 16  geometry    32622 non-null  object \n",
            " 17  district    32622 non-null  object \n",
            "dtypes: float64(6), int64(4), object(8)\n",
            "memory usage: 4.5+ MB\n"
          ],
          "name": "stdout"
        }
      ]
    },
    {
      "cell_type": "code",
      "metadata": {
        "id": "dUpdAKU-yYhx",
        "outputId": "df919c8d-649a-4c56-f239-361b9db10335",
        "colab": {
          "base_uri": "https://localhost:8080/",
          "height": 479
        }
      },
      "source": [
        "df.head()"
      ],
      "execution_count": 6,
      "outputs": [
        {
          "output_type": "execute_result",
          "data": {
            "text/html": [
              "<div>\n",
              "<style scoped>\n",
              "    .dataframe tbody tr th:only-of-type {\n",
              "        vertical-align: middle;\n",
              "    }\n",
              "\n",
              "    .dataframe tbody tr th {\n",
              "        vertical-align: top;\n",
              "    }\n",
              "\n",
              "    .dataframe thead th {\n",
              "        text-align: right;\n",
              "    }\n",
              "</style>\n",
              "<table border=\"1\" class=\"dataframe\">\n",
              "  <thead>\n",
              "    <tr style=\"text-align: right;\">\n",
              "      <th></th>\n",
              "      <th>KGISVillag</th>\n",
              "      <th>KGISVill_1</th>\n",
              "      <th>KGISVill_2</th>\n",
              "      <th>KGISHobliI</th>\n",
              "      <th>UniqueVill</th>\n",
              "      <th>Bhucode</th>\n",
              "      <th>CensusVill</th>\n",
              "      <th>BhoomiVill</th>\n",
              "      <th>created_us</th>\n",
              "      <th>created_da</th>\n",
              "      <th>last_edite</th>\n",
              "      <th>last_edi_1</th>\n",
              "      <th>LGDGPCode</th>\n",
              "      <th>LGDGPCode_</th>\n",
              "      <th>SHAPE_Leng</th>\n",
              "      <th>SHAPE_Area</th>\n",
              "      <th>geometry</th>\n",
              "      <th>district</th>\n",
              "    </tr>\n",
              "  </thead>\n",
              "  <tbody>\n",
              "    <tr>\n",
              "      <th>0</th>\n",
              "      <td>25491</td>\n",
              "      <td>2802020027</td>\n",
              "      <td>J.I. Bacchahalli (Nandhi)</td>\n",
              "      <td>771</td>\n",
              "      <td>2802020027_1</td>\n",
              "      <td>2.902010e+11</td>\n",
              "      <td>2958205596623614</td>\n",
              "      <td>2.802020e+09</td>\n",
              "      <td>SA</td>\n",
              "      <td>2019-04-23</td>\n",
              "      <td>SA</td>\n",
              "      <td>2019-04-30</td>\n",
              "      <td>218840.0</td>\n",
              "      <td>NaN</td>\n",
              "      <td>1209.556345</td>\n",
              "      <td>8.358910e+04</td>\n",
              "      <td>POLYGON ((793679.6678450005 1484010.543038, 79...</td>\n",
              "      <td>Chikkaballapura</td>\n",
              "    </tr>\n",
              "    <tr>\n",
              "      <th>1</th>\n",
              "      <td>25492</td>\n",
              "      <td>2802020013</td>\n",
              "      <td>Chikkanahalli (Nandhi)</td>\n",
              "      <td>771</td>\n",
              "      <td>2802020013_1</td>\n",
              "      <td>2.902010e+11</td>\n",
              "      <td>2958205596623600</td>\n",
              "      <td>2.802020e+09</td>\n",
              "      <td>SA</td>\n",
              "      <td>2019-04-23</td>\n",
              "      <td>SA</td>\n",
              "      <td>2019-04-30</td>\n",
              "      <td>218844.0</td>\n",
              "      <td>NaN</td>\n",
              "      <td>2862.470490</td>\n",
              "      <td>5.111686e+05</td>\n",
              "      <td>POLYGON ((784472.3145450004 1486596.793238, 78...</td>\n",
              "      <td>Chikkaballapura</td>\n",
              "    </tr>\n",
              "    <tr>\n",
              "      <th>2</th>\n",
              "      <td>25493</td>\n",
              "      <td>2802010084</td>\n",
              "      <td>Adavi Gollavarahalli</td>\n",
              "      <td>490</td>\n",
              "      <td>2802010084_1</td>\n",
              "      <td>2.902010e+11</td>\n",
              "      <td>2958205596623568</td>\n",
              "      <td>2.802010e+09</td>\n",
              "      <td>SA</td>\n",
              "      <td>2019-04-23</td>\n",
              "      <td>SA</td>\n",
              "      <td>2019-04-23</td>\n",
              "      <td>218842.0</td>\n",
              "      <td>NaN</td>\n",
              "      <td>7992.379780</td>\n",
              "      <td>3.142050e+06</td>\n",
              "      <td>POLYGON ((801490.3950450004 1489450.977738, 80...</td>\n",
              "      <td>Chikkaballapura</td>\n",
              "    </tr>\n",
              "    <tr>\n",
              "      <th>3</th>\n",
              "      <td>25494</td>\n",
              "      <td>2802010074</td>\n",
              "      <td>Angarekhanahalli</td>\n",
              "      <td>490</td>\n",
              "      <td>2802010074_1</td>\n",
              "      <td>2.902010e+11</td>\n",
              "      <td>2958205596623587</td>\n",
              "      <td>2.802010e+09</td>\n",
              "      <td>SA</td>\n",
              "      <td>2019-04-23</td>\n",
              "      <td>SA</td>\n",
              "      <td>2019-04-23</td>\n",
              "      <td>218826.0</td>\n",
              "      <td>NaN</td>\n",
              "      <td>8293.956576</td>\n",
              "      <td>2.094080e+06</td>\n",
              "      <td>POLYGON ((806316.7614450004 1489638.926638, 80...</td>\n",
              "      <td>Chikkaballapura</td>\n",
              "    </tr>\n",
              "    <tr>\n",
              "      <th>4</th>\n",
              "      <td>25495</td>\n",
              "      <td>2802010017</td>\n",
              "      <td>Ankanagondi</td>\n",
              "      <td>490</td>\n",
              "      <td>2802010017_1</td>\n",
              "      <td>2.902010e+11</td>\n",
              "      <td>2958205596623548</td>\n",
              "      <td>2.802010e+09</td>\n",
              "      <td>SA</td>\n",
              "      <td>2019-04-23</td>\n",
              "      <td>SA</td>\n",
              "      <td>2019-04-23</td>\n",
              "      <td>218845.0</td>\n",
              "      <td>NaN</td>\n",
              "      <td>132.824601</td>\n",
              "      <td>1.047021e+03</td>\n",
              "      <td>POLYGON ((793075.3392450004 1488631.922438, 79...</td>\n",
              "      <td>Chikkaballapura</td>\n",
              "    </tr>\n",
              "  </tbody>\n",
              "</table>\n",
              "</div>"
            ],
            "text/plain": [
              "   KGISVillag  ...         district\n",
              "0       25491  ...  Chikkaballapura\n",
              "1       25492  ...  Chikkaballapura\n",
              "2       25493  ...  Chikkaballapura\n",
              "3       25494  ...  Chikkaballapura\n",
              "4       25495  ...  Chikkaballapura\n",
              "\n",
              "[5 rows x 18 columns]"
            ]
          },
          "metadata": {
            "tags": []
          },
          "execution_count": 6
        }
      ]
    },
    {
      "cell_type": "code",
      "metadata": {
        "id": "zA5jmr2Q9ehl",
        "outputId": "d052e1bf-93d1-4ae7-ca9c-f5e2285c342e",
        "colab": {
          "base_uri": "https://localhost:8080/",
          "height": 34
        }
      },
      "source": [
        "df['CensusVill'].nunique()"
      ],
      "execution_count": 35,
      "outputs": [
        {
          "output_type": "execute_result",
          "data": {
            "text/plain": [
              "27823"
            ]
          },
          "metadata": {
            "tags": []
          },
          "execution_count": 35
        }
      ]
    },
    {
      "cell_type": "code",
      "metadata": {
        "id": "9zNwbHTFyd0l"
      },
      "source": [
        "df_new = pd.read_csv('/content/drive/My Drive/omdena_hdi/data/hdi_with_census_codes_v2.csv')"
      ],
      "execution_count": 8,
      "outputs": []
    },
    {
      "cell_type": "code",
      "metadata": {
        "id": "j8OxqXN7zvVQ",
        "outputId": "8d0785a6-bc93-4441-be30-b945c64e8eda",
        "colab": {
          "base_uri": "https://localhost:8080/",
          "height": 221
        }
      },
      "source": [
        "df_new.head()"
      ],
      "execution_count": 9,
      "outputs": [
        {
          "output_type": "execute_result",
          "data": {
            "text/html": [
              "<div>\n",
              "<style scoped>\n",
              "    .dataframe tbody tr th:only-of-type {\n",
              "        vertical-align: middle;\n",
              "    }\n",
              "\n",
              "    .dataframe tbody tr th {\n",
              "        vertical-align: top;\n",
              "    }\n",
              "\n",
              "    .dataframe thead th {\n",
              "        text-align: right;\n",
              "    }\n",
              "</style>\n",
              "<table border=\"1\" class=\"dataframe\">\n",
              "  <thead>\n",
              "    <tr style=\"text-align: right;\">\n",
              "      <th></th>\n",
              "      <th>HDI</th>\n",
              "      <th>similarity</th>\n",
              "      <th>District Name(in English)</th>\n",
              "      <th>Sub District Name(in English)</th>\n",
              "      <th>Village Name(in English)</th>\n",
              "      <th>Local Body Name(in English)</th>\n",
              "      <th>unique code</th>\n",
              "    </tr>\n",
              "  </thead>\n",
              "  <tbody>\n",
              "    <tr>\n",
              "      <th>0</th>\n",
              "      <td>0.38380</td>\n",
              "      <td>100.0</td>\n",
              "      <td>bagalkote</td>\n",
              "      <td>badami</td>\n",
              "      <td>adagal</td>\n",
              "      <td>adagal</td>\n",
              "      <td>2955605446598748</td>\n",
              "    </tr>\n",
              "    <tr>\n",
              "      <th>1</th>\n",
              "      <td>0.28203</td>\n",
              "      <td>100.0</td>\n",
              "      <td>bagalkote</td>\n",
              "      <td>badami</td>\n",
              "      <td>badami*</td>\n",
              "      <td>adagal</td>\n",
              "      <td>2955605446598750</td>\n",
              "    </tr>\n",
              "    <tr>\n",
              "      <th>2</th>\n",
              "      <td>0.35019</td>\n",
              "      <td>100.0</td>\n",
              "      <td>bagalkote</td>\n",
              "      <td>badami</td>\n",
              "      <td>kabbalageri</td>\n",
              "      <td>adagal</td>\n",
              "      <td>2955605446598749</td>\n",
              "    </tr>\n",
              "    <tr>\n",
              "      <th>3</th>\n",
              "      <td>0.35949</td>\n",
              "      <td>100.0</td>\n",
              "      <td>bagalkote</td>\n",
              "      <td>jamkhandi</td>\n",
              "      <td>adihudi</td>\n",
              "      <td>adihudi</td>\n",
              "      <td>2955605443598464</td>\n",
              "    </tr>\n",
              "    <tr>\n",
              "      <th>4</th>\n",
              "      <td>0.42051</td>\n",
              "      <td>100.0</td>\n",
              "      <td>bagalkote</td>\n",
              "      <td>jamkhandi</td>\n",
              "      <td>alagur</td>\n",
              "      <td>algur</td>\n",
              "      <td>2955605443598433</td>\n",
              "    </tr>\n",
              "  </tbody>\n",
              "</table>\n",
              "</div>"
            ],
            "text/plain": [
              "       HDI  similarity  ... Local Body Name(in English)       unique code\n",
              "0  0.38380       100.0  ...                      adagal  2955605446598748\n",
              "1  0.28203       100.0  ...                      adagal  2955605446598750\n",
              "2  0.35019       100.0  ...                      adagal  2955605446598749\n",
              "3  0.35949       100.0  ...                     adihudi  2955605443598464\n",
              "4  0.42051       100.0  ...                       algur  2955605443598433\n",
              "\n",
              "[5 rows x 7 columns]"
            ]
          },
          "metadata": {
            "tags": []
          },
          "execution_count": 9
        }
      ]
    },
    {
      "cell_type": "code",
      "metadata": {
        "id": "mDO5GAvN4qfQ",
        "outputId": "79a10c8a-dbde-4790-b7bd-e6c034ae77a7",
        "colab": {
          "base_uri": "https://localhost:8080/",
          "height": 255
        }
      },
      "source": [
        "df_new.info()"
      ],
      "execution_count": 19,
      "outputs": [
        {
          "output_type": "stream",
          "text": [
            "<class 'pandas.core.frame.DataFrame'>\n",
            "RangeIndex: 26740 entries, 0 to 26739\n",
            "Data columns (total 7 columns):\n",
            " #   Column                         Non-Null Count  Dtype  \n",
            "---  ------                         --------------  -----  \n",
            " 0   HDI                            26740 non-null  float64\n",
            " 1   similarity                     26740 non-null  float64\n",
            " 2   District Name(in English)      26740 non-null  object \n",
            " 3   Sub District Name(in English)  26740 non-null  object \n",
            " 4   Village Name(in English)       26740 non-null  object \n",
            " 5   Local Body Name(in English)    26740 non-null  object \n",
            " 6   unique code                    26740 non-null  int64  \n",
            "dtypes: float64(2), int64(1), object(4)\n",
            "memory usage: 1.4+ MB\n"
          ],
          "name": "stdout"
        }
      ]
    },
    {
      "cell_type": "code",
      "metadata": {
        "id": "cBCY7eeA9lAz",
        "outputId": "e8816d19-d5c1-44a5-f9da-02625f6d6316",
        "colab": {
          "base_uri": "https://localhost:8080/",
          "height": 34
        }
      },
      "source": [
        "df_new['unique code'].nunique()"
      ],
      "execution_count": 37,
      "outputs": [
        {
          "output_type": "execute_result",
          "data": {
            "text/plain": [
              "25609"
            ]
          },
          "metadata": {
            "tags": []
          },
          "execution_count": 37
        }
      ]
    },
    {
      "cell_type": "code",
      "metadata": {
        "id": "f4bncmR99sRe",
        "outputId": "1d13521d-1337-4aa6-d47f-369d88e49b82",
        "colab": {
          "base_uri": "https://localhost:8080/",
          "height": 34
        }
      },
      "source": [
        "(df_new['similarity'] > 90).count()"
      ],
      "execution_count": 38,
      "outputs": [
        {
          "output_type": "execute_result",
          "data": {
            "text/plain": [
              "26740"
            ]
          },
          "metadata": {
            "tags": []
          },
          "execution_count": 38
        }
      ]
    },
    {
      "cell_type": "code",
      "metadata": {
        "id": "3rKFTedWzxvu"
      },
      "source": [
        "df_final = pd.merge(df_new, df, how='inner', left_on= 'unique code', right_on='CensusVill')"
      ],
      "execution_count": 39,
      "outputs": []
    },
    {
      "cell_type": "code",
      "metadata": {
        "id": "GvYfZdqk12j7",
        "outputId": "e5b4552e-92c4-4f49-edb0-a10b4335e24e",
        "colab": {
          "base_uri": "https://localhost:8080/",
          "height": 530
        }
      },
      "source": [
        "df_final.head()"
      ],
      "execution_count": 40,
      "outputs": [
        {
          "output_type": "execute_result",
          "data": {
            "text/html": [
              "<div>\n",
              "<style scoped>\n",
              "    .dataframe tbody tr th:only-of-type {\n",
              "        vertical-align: middle;\n",
              "    }\n",
              "\n",
              "    .dataframe tbody tr th {\n",
              "        vertical-align: top;\n",
              "    }\n",
              "\n",
              "    .dataframe thead th {\n",
              "        text-align: right;\n",
              "    }\n",
              "</style>\n",
              "<table border=\"1\" class=\"dataframe\">\n",
              "  <thead>\n",
              "    <tr style=\"text-align: right;\">\n",
              "      <th></th>\n",
              "      <th>HDI</th>\n",
              "      <th>similarity</th>\n",
              "      <th>District Name(in English)</th>\n",
              "      <th>Sub District Name(in English)</th>\n",
              "      <th>Village Name(in English)</th>\n",
              "      <th>Local Body Name(in English)</th>\n",
              "      <th>unique code</th>\n",
              "      <th>KGISVillag</th>\n",
              "      <th>KGISVill_1</th>\n",
              "      <th>KGISVill_2</th>\n",
              "      <th>KGISHobliI</th>\n",
              "      <th>UniqueVill</th>\n",
              "      <th>Bhucode</th>\n",
              "      <th>CensusVill</th>\n",
              "      <th>BhoomiVill</th>\n",
              "      <th>created_us</th>\n",
              "      <th>created_da</th>\n",
              "      <th>last_edite</th>\n",
              "      <th>last_edi_1</th>\n",
              "      <th>LGDGPCode</th>\n",
              "      <th>LGDGPCode_</th>\n",
              "      <th>SHAPE_Leng</th>\n",
              "      <th>SHAPE_Area</th>\n",
              "      <th>geometry</th>\n",
              "      <th>district</th>\n",
              "    </tr>\n",
              "  </thead>\n",
              "  <tbody>\n",
              "    <tr>\n",
              "      <th>0</th>\n",
              "      <td>0.38380</td>\n",
              "      <td>100.0</td>\n",
              "      <td>bagalkote</td>\n",
              "      <td>badami</td>\n",
              "      <td>adagal</td>\n",
              "      <td>adagal</td>\n",
              "      <td>2955605446598748</td>\n",
              "      <td>3</td>\n",
              "      <td>204010026</td>\n",
              "      <td>Adagal (Balageri)</td>\n",
              "      <td>93</td>\n",
              "      <td>0204010026_1</td>\n",
              "      <td>2.040100e+10</td>\n",
              "      <td>2955605446598748</td>\n",
              "      <td>204010026.0</td>\n",
              "      <td>SA</td>\n",
              "      <td>2019-04-23</td>\n",
              "      <td>SA</td>\n",
              "      <td>2019-04-23</td>\n",
              "      <td>215148.0</td>\n",
              "      <td>NaN</td>\n",
              "      <td>22897.571495</td>\n",
              "      <td>1.947310e+07</td>\n",
              "      <td>POLYGON ((566608.2116450004 1765940.826638, 56...</td>\n",
              "      <td>Bagalkot</td>\n",
              "    </tr>\n",
              "    <tr>\n",
              "      <th>1</th>\n",
              "      <td>0.35019</td>\n",
              "      <td>100.0</td>\n",
              "      <td>bagalkote</td>\n",
              "      <td>badami</td>\n",
              "      <td>kabbalageri</td>\n",
              "      <td>adagal</td>\n",
              "      <td>2955605446598749</td>\n",
              "      <td>22</td>\n",
              "      <td>204010035</td>\n",
              "      <td>Kabbalageri</td>\n",
              "      <td>93</td>\n",
              "      <td>0204010035_1</td>\n",
              "      <td>2.040100e+10</td>\n",
              "      <td>2955605446598749</td>\n",
              "      <td>204010035.0</td>\n",
              "      <td>SA</td>\n",
              "      <td>2019-04-23</td>\n",
              "      <td>SA</td>\n",
              "      <td>2019-04-23</td>\n",
              "      <td>215148.0</td>\n",
              "      <td>NaN</td>\n",
              "      <td>15487.910796</td>\n",
              "      <td>1.097218e+07</td>\n",
              "      <td>POLYGON ((568380.3351450004 1763978.003638, 56...</td>\n",
              "      <td>Bagalkot</td>\n",
              "    </tr>\n",
              "    <tr>\n",
              "      <th>2</th>\n",
              "      <td>0.35949</td>\n",
              "      <td>100.0</td>\n",
              "      <td>bagalkote</td>\n",
              "      <td>jamkhandi</td>\n",
              "      <td>adihudi</td>\n",
              "      <td>adihudi</td>\n",
              "      <td>2955605443598464</td>\n",
              "      <td>536</td>\n",
              "      <td>201020017</td>\n",
              "      <td>Adihudi</td>\n",
              "      <td>892</td>\n",
              "      <td>0201020017_1</td>\n",
              "      <td>2.010100e+10</td>\n",
              "      <td>2955605443598464</td>\n",
              "      <td>201020017.0</td>\n",
              "      <td>SA</td>\n",
              "      <td>2019-04-23</td>\n",
              "      <td>SA</td>\n",
              "      <td>2019-04-23</td>\n",
              "      <td>273113.0</td>\n",
              "      <td>NaN</td>\n",
              "      <td>14297.939131</td>\n",
              "      <td>1.133046e+07</td>\n",
              "      <td>POLYGON ((542850.7316450004 1840982.390038, 54...</td>\n",
              "      <td>Bagalkot</td>\n",
              "    </tr>\n",
              "    <tr>\n",
              "      <th>3</th>\n",
              "      <td>0.42051</td>\n",
              "      <td>100.0</td>\n",
              "      <td>bagalkote</td>\n",
              "      <td>jamkhandi</td>\n",
              "      <td>alagur</td>\n",
              "      <td>algur</td>\n",
              "      <td>2955605443598433</td>\n",
              "      <td>486</td>\n",
              "      <td>201010003</td>\n",
              "      <td>Alagura</td>\n",
              "      <td>406</td>\n",
              "      <td>0201010003_1</td>\n",
              "      <td>2.010100e+10</td>\n",
              "      <td>2955605443598433</td>\n",
              "      <td>201010003.0</td>\n",
              "      <td>SA</td>\n",
              "      <td>2019-04-23</td>\n",
              "      <td>SA</td>\n",
              "      <td>2019-04-23</td>\n",
              "      <td>215254.0</td>\n",
              "      <td>NaN</td>\n",
              "      <td>20133.208044</td>\n",
              "      <td>2.126997e+07</td>\n",
              "      <td>POLYGON ((538953.8338450005 1834576.741838, 53...</td>\n",
              "      <td>Bagalkot</td>\n",
              "    </tr>\n",
              "    <tr>\n",
              "      <th>4</th>\n",
              "      <td>0.32455</td>\n",
              "      <td>100.0</td>\n",
              "      <td>bagalkote</td>\n",
              "      <td>badami</td>\n",
              "      <td>alur.s.k.</td>\n",
              "      <td>alur-sk</td>\n",
              "      <td>2955605446598724</td>\n",
              "      <td>116</td>\n",
              "      <td>204040024</td>\n",
              "      <td>Alura S.K.</td>\n",
              "      <td>658</td>\n",
              "      <td>0204040024_1</td>\n",
              "      <td>2.040100e+10</td>\n",
              "      <td>2955605446598724</td>\n",
              "      <td>204040024.0</td>\n",
              "      <td>SA</td>\n",
              "      <td>2019-04-23</td>\n",
              "      <td>SA</td>\n",
              "      <td>2019-04-23</td>\n",
              "      <td>273085.0</td>\n",
              "      <td>NaN</td>\n",
              "      <td>11363.132397</td>\n",
              "      <td>5.636253e+06</td>\n",
              "      <td>POLYGON ((551238.4974450005 1758804.688138, 55...</td>\n",
              "      <td>Bagalkot</td>\n",
              "    </tr>\n",
              "  </tbody>\n",
              "</table>\n",
              "</div>"
            ],
            "text/plain": [
              "       HDI  ...  district\n",
              "0  0.38380  ...  Bagalkot\n",
              "1  0.35019  ...  Bagalkot\n",
              "2  0.35949  ...  Bagalkot\n",
              "3  0.42051  ...  Bagalkot\n",
              "4  0.32455  ...  Bagalkot\n",
              "\n",
              "[5 rows x 25 columns]"
            ]
          },
          "metadata": {
            "tags": []
          },
          "execution_count": 40
        }
      ]
    },
    {
      "cell_type": "code",
      "metadata": {
        "id": "xdsnyEgS14qe",
        "outputId": "444284f5-80db-4b5e-ba6d-9ebce5e91282",
        "colab": {
          "base_uri": "https://localhost:8080/",
          "height": 561
        }
      },
      "source": [
        "df_final.info()"
      ],
      "execution_count": 41,
      "outputs": [
        {
          "output_type": "stream",
          "text": [
            "<class 'pandas.core.frame.DataFrame'>\n",
            "Int64Index: 25823 entries, 0 to 25822\n",
            "Data columns (total 25 columns):\n",
            " #   Column                         Non-Null Count  Dtype  \n",
            "---  ------                         --------------  -----  \n",
            " 0   HDI                            25823 non-null  float64\n",
            " 1   similarity                     25823 non-null  float64\n",
            " 2   District Name(in English)      25823 non-null  object \n",
            " 3   Sub District Name(in English)  25823 non-null  object \n",
            " 4   Village Name(in English)       25823 non-null  object \n",
            " 5   Local Body Name(in English)    25823 non-null  object \n",
            " 6   unique code                    25823 non-null  int64  \n",
            " 7   KGISVillag                     25823 non-null  int64  \n",
            " 8   KGISVill_1                     25823 non-null  int64  \n",
            " 9   KGISVill_2                     25823 non-null  object \n",
            " 10  KGISHobliI                     25823 non-null  int64  \n",
            " 11  UniqueVill                     25823 non-null  object \n",
            " 12  Bhucode                        25385 non-null  float64\n",
            " 13  CensusVill                     25823 non-null  int64  \n",
            " 14  BhoomiVill                     25415 non-null  float64\n",
            " 15  created_us                     25823 non-null  object \n",
            " 16  created_da                     25823 non-null  object \n",
            " 17  last_edite                     25823 non-null  object \n",
            " 18  last_edi_1                     25823 non-null  object \n",
            " 19  LGDGPCode                      25729 non-null  float64\n",
            " 20  LGDGPCode_                     13 non-null     float64\n",
            " 21  SHAPE_Leng                     25823 non-null  float64\n",
            " 22  SHAPE_Area                     25823 non-null  float64\n",
            " 23  geometry                       25823 non-null  object \n",
            " 24  district                       25823 non-null  object \n",
            "dtypes: float64(8), int64(5), object(12)\n",
            "memory usage: 5.1+ MB\n"
          ],
          "name": "stdout"
        }
      ]
    },
    {
      "cell_type": "code",
      "metadata": {
        "id": "9BcyqBgy2FOe"
      },
      "source": [
        "cols = [7,8,9,10,11,12,13,14,15,16,17,18,19,20,24]\n",
        "df_final.drop(df_final.columns[cols], axis=1, inplace=True);"
      ],
      "execution_count": 42,
      "outputs": []
    },
    {
      "cell_type": "code",
      "metadata": {
        "id": "XkZhc0VC3Zx6",
        "outputId": "26ea4c69-e48a-4371-9b4b-64b37e9d6a05",
        "colab": {
          "base_uri": "https://localhost:8080/",
          "height": 306
        }
      },
      "source": [
        "df_final.info()"
      ],
      "execution_count": 43,
      "outputs": [
        {
          "output_type": "stream",
          "text": [
            "<class 'pandas.core.frame.DataFrame'>\n",
            "Int64Index: 25823 entries, 0 to 25822\n",
            "Data columns (total 10 columns):\n",
            " #   Column                         Non-Null Count  Dtype  \n",
            "---  ------                         --------------  -----  \n",
            " 0   HDI                            25823 non-null  float64\n",
            " 1   similarity                     25823 non-null  float64\n",
            " 2   District Name(in English)      25823 non-null  object \n",
            " 3   Sub District Name(in English)  25823 non-null  object \n",
            " 4   Village Name(in English)       25823 non-null  object \n",
            " 5   Local Body Name(in English)    25823 non-null  object \n",
            " 6   unique code                    25823 non-null  int64  \n",
            " 7   SHAPE_Leng                     25823 non-null  float64\n",
            " 8   SHAPE_Area                     25823 non-null  float64\n",
            " 9   geometry                       25823 non-null  object \n",
            "dtypes: float64(4), int64(1), object(5)\n",
            "memory usage: 2.2+ MB\n"
          ],
          "name": "stdout"
        }
      ]
    },
    {
      "cell_type": "code",
      "metadata": {
        "id": "Iiu_ry-W962Y",
        "outputId": "7356acdd-911d-4fc8-ecd6-3d939faa28fa",
        "colab": {
          "base_uri": "https://localhost:8080/",
          "height": 34
        }
      },
      "source": [
        "df_final['unique code'].nunique()"
      ],
      "execution_count": 45,
      "outputs": [
        {
          "output_type": "execute_result",
          "data": {
            "text/plain": [
              "21790"
            ]
          },
          "metadata": {
            "tags": []
          },
          "execution_count": 45
        }
      ]
    },
    {
      "cell_type": "code",
      "metadata": {
        "id": "SX2nGUs4-JEO",
        "outputId": "893da966-04df-405c-fd51-0dd3349ba6c4",
        "colab": {
          "base_uri": "https://localhost:8080/",
          "height": 204
        }
      },
      "source": [
        "df_final[(df_final['similarity'] > 90)].count()"
      ],
      "execution_count": 51,
      "outputs": [
        {
          "output_type": "execute_result",
          "data": {
            "text/plain": [
              "HDI                              24151\n",
              "similarity                       24151\n",
              "District Name(in English)        24151\n",
              "Sub District Name(in English)    24151\n",
              "Village Name(in English)         24151\n",
              "Local Body Name(in English)      24151\n",
              "unique code                      24151\n",
              "SHAPE_Leng                       24151\n",
              "SHAPE_Area                       24151\n",
              "geometry                         24151\n",
              "dtype: int64"
            ]
          },
          "metadata": {
            "tags": []
          },
          "execution_count": 51
        }
      ]
    },
    {
      "cell_type": "code",
      "metadata": {
        "id": "OCLOSBMu_Xf3"
      },
      "source": [
        "df_final = df_final[(df_final['similarity'] > 90)]"
      ],
      "execution_count": 52,
      "outputs": []
    },
    {
      "cell_type": "code",
      "metadata": {
        "id": "0FoBfPUJ_egV",
        "outputId": "79dfb5c3-06e1-475e-b488-cd15666ed652",
        "colab": {
          "base_uri": "https://localhost:8080/",
          "height": 306
        }
      },
      "source": [
        "df_final.info()"
      ],
      "execution_count": 53,
      "outputs": [
        {
          "output_type": "stream",
          "text": [
            "<class 'pandas.core.frame.DataFrame'>\n",
            "Int64Index: 24151 entries, 0 to 25822\n",
            "Data columns (total 10 columns):\n",
            " #   Column                         Non-Null Count  Dtype  \n",
            "---  ------                         --------------  -----  \n",
            " 0   HDI                            24151 non-null  float64\n",
            " 1   similarity                     24151 non-null  float64\n",
            " 2   District Name(in English)      24151 non-null  object \n",
            " 3   Sub District Name(in English)  24151 non-null  object \n",
            " 4   Village Name(in English)       24151 non-null  object \n",
            " 5   Local Body Name(in English)    24151 non-null  object \n",
            " 6   unique code                    24151 non-null  int64  \n",
            " 7   SHAPE_Leng                     24151 non-null  float64\n",
            " 8   SHAPE_Area                     24151 non-null  float64\n",
            " 9   geometry                       24151 non-null  object \n",
            "dtypes: float64(4), int64(1), object(5)\n",
            "memory usage: 2.0+ MB\n"
          ],
          "name": "stdout"
        }
      ]
    },
    {
      "cell_type": "code",
      "metadata": {
        "id": "jw6Azzw63b4u",
        "outputId": "d854932c-145e-4d89-a426-b951fa9dedf5",
        "colab": {
          "base_uri": "https://localhost:8080/",
          "height": 34
        }
      },
      "source": [
        "df_final['unique code'].nunique()"
      ],
      "execution_count": 54,
      "outputs": [
        {
          "output_type": "execute_result",
          "data": {
            "text/plain": [
              "21161"
            ]
          },
          "metadata": {
            "tags": []
          },
          "execution_count": 54
        }
      ]
    },
    {
      "cell_type": "code",
      "metadata": {
        "id": "6aba7MuZ35gu",
        "outputId": "bd1fe5bc-7863-4858-cb58-087ec11f854e",
        "colab": {
          "base_uri": "https://localhost:8080/",
          "height": 68
        }
      },
      "source": [
        "df_final['freq'] = df_final.groupby(by='unique code')['unique code'].transform('count')\n",
        "(df_final['freq'] == 1).value_counts()"
      ],
      "execution_count": 55,
      "outputs": [
        {
          "output_type": "execute_result",
          "data": {
            "text/plain": [
              "True     18984\n",
              "False     5167\n",
              "Name: freq, dtype: int64"
            ]
          },
          "metadata": {
            "tags": []
          },
          "execution_count": 55
        }
      ]
    },
    {
      "cell_type": "code",
      "metadata": {
        "id": "82KKnep453YH",
        "outputId": "c85117ed-79ad-403f-ca17-42e9df21b960",
        "colab": {
          "base_uri": "https://localhost:8080/",
          "height": 255
        }
      },
      "source": [
        "df_final['freq'].value_counts()"
      ],
      "execution_count": 56,
      "outputs": [
        {
          "output_type": "execute_result",
          "data": {
            "text/plain": [
              "1     18984\n",
              "2      3452\n",
              "3       831\n",
              "4       420\n",
              "5       145\n",
              "6        96\n",
              "7        56\n",
              "8        48\n",
              "10       30\n",
              "9        27\n",
              "12       24\n",
              "23       23\n",
              "15       15\n",
              "Name: freq, dtype: int64"
            ]
          },
          "metadata": {
            "tags": []
          },
          "execution_count": 56
        }
      ]
    },
    {
      "cell_type": "code",
      "metadata": {
        "id": "_TvsToim6DRP",
        "outputId": "24e0bb35-2388-41e1-bcaf-8604225839bf",
        "colab": {
          "base_uri": "https://localhost:8080/",
          "height": 1000
        }
      },
      "source": [
        "df_final[df_final['freq'] == 7]"
      ],
      "execution_count": 59,
      "outputs": [
        {
          "output_type": "execute_result",
          "data": {
            "text/html": [
              "<div>\n",
              "<style scoped>\n",
              "    .dataframe tbody tr th:only-of-type {\n",
              "        vertical-align: middle;\n",
              "    }\n",
              "\n",
              "    .dataframe tbody tr th {\n",
              "        vertical-align: top;\n",
              "    }\n",
              "\n",
              "    .dataframe thead th {\n",
              "        text-align: right;\n",
              "    }\n",
              "</style>\n",
              "<table border=\"1\" class=\"dataframe\">\n",
              "  <thead>\n",
              "    <tr style=\"text-align: right;\">\n",
              "      <th></th>\n",
              "      <th>HDI</th>\n",
              "      <th>similarity</th>\n",
              "      <th>District Name(in English)</th>\n",
              "      <th>Sub District Name(in English)</th>\n",
              "      <th>Village Name(in English)</th>\n",
              "      <th>Local Body Name(in English)</th>\n",
              "      <th>unique code</th>\n",
              "      <th>SHAPE_Leng</th>\n",
              "      <th>SHAPE_Area</th>\n",
              "      <th>geometry</th>\n",
              "      <th>freq</th>\n",
              "    </tr>\n",
              "  </thead>\n",
              "  <tbody>\n",
              "    <tr>\n",
              "      <th>1613</th>\n",
              "      <td>0.45022</td>\n",
              "      <td>100.000000</td>\n",
              "      <td>belagavi</td>\n",
              "      <td>belagavi</td>\n",
              "      <td>mandoli</td>\n",
              "      <td>mandoli</td>\n",
              "      <td>2955505438597727</td>\n",
              "      <td>1406.045137</td>\n",
              "      <td>2.484415e+04</td>\n",
              "      <td>POLYGON ((443514.1732450004 1749045.541138, 44...</td>\n",
              "      <td>7</td>\n",
              "    </tr>\n",
              "    <tr>\n",
              "      <th>1614</th>\n",
              "      <td>0.45022</td>\n",
              "      <td>100.000000</td>\n",
              "      <td>belagavi</td>\n",
              "      <td>belagavi</td>\n",
              "      <td>mandoli</td>\n",
              "      <td>mandoli</td>\n",
              "      <td>2955505438597727</td>\n",
              "      <td>627.147752</td>\n",
              "      <td>2.107419e+04</td>\n",
              "      <td>POLYGON ((443175.2380450005 1749038.984138, 44...</td>\n",
              "      <td>7</td>\n",
              "    </tr>\n",
              "    <tr>\n",
              "      <th>1615</th>\n",
              "      <td>0.45022</td>\n",
              "      <td>100.000000</td>\n",
              "      <td>belagavi</td>\n",
              "      <td>belagavi</td>\n",
              "      <td>mandoli</td>\n",
              "      <td>mandoli</td>\n",
              "      <td>2955505438597727</td>\n",
              "      <td>1177.104345</td>\n",
              "      <td>3.650797e+04</td>\n",
              "      <td>POLYGON ((443734.8192450004 1749193.205438, 44...</td>\n",
              "      <td>7</td>\n",
              "    </tr>\n",
              "    <tr>\n",
              "      <th>1616</th>\n",
              "      <td>0.45022</td>\n",
              "      <td>100.000000</td>\n",
              "      <td>belagavi</td>\n",
              "      <td>belagavi</td>\n",
              "      <td>mandoli</td>\n",
              "      <td>mandoli</td>\n",
              "      <td>2955505438597727</td>\n",
              "      <td>417.288437</td>\n",
              "      <td>5.849310e+03</td>\n",
              "      <td>POLYGON ((444321.2014450004 1749197.249138, 44...</td>\n",
              "      <td>7</td>\n",
              "    </tr>\n",
              "    <tr>\n",
              "      <th>1617</th>\n",
              "      <td>0.45022</td>\n",
              "      <td>100.000000</td>\n",
              "      <td>belagavi</td>\n",
              "      <td>belagavi</td>\n",
              "      <td>mandoli</td>\n",
              "      <td>mandoli</td>\n",
              "      <td>2955505438597727</td>\n",
              "      <td>1036.234419</td>\n",
              "      <td>4.874765e+04</td>\n",
              "      <td>POLYGON ((444436.3906450004 1749791.754938, 44...</td>\n",
              "      <td>7</td>\n",
              "    </tr>\n",
              "    <tr>\n",
              "      <th>1618</th>\n",
              "      <td>0.45022</td>\n",
              "      <td>100.000000</td>\n",
              "      <td>belagavi</td>\n",
              "      <td>belagavi</td>\n",
              "      <td>mandoli</td>\n",
              "      <td>mandoli</td>\n",
              "      <td>2955505438597727</td>\n",
              "      <td>11579.323464</td>\n",
              "      <td>5.858524e+06</td>\n",
              "      <td>POLYGON ((443991.5782450004 1750493.568038, 44...</td>\n",
              "      <td>7</td>\n",
              "    </tr>\n",
              "    <tr>\n",
              "      <th>1619</th>\n",
              "      <td>0.45022</td>\n",
              "      <td>100.000000</td>\n",
              "      <td>belagavi</td>\n",
              "      <td>belagavi</td>\n",
              "      <td>mandoli</td>\n",
              "      <td>mandoli</td>\n",
              "      <td>2955505438597727</td>\n",
              "      <td>16344.927954</td>\n",
              "      <td>3.482625e+06</td>\n",
              "      <td>POLYGON ((444436.3906450004 1749791.754938, 44...</td>\n",
              "      <td>7</td>\n",
              "    </tr>\n",
              "    <tr>\n",
              "      <th>2738</th>\n",
              "      <td>0.41748</td>\n",
              "      <td>98.245614</td>\n",
              "      <td>bengalururural</td>\n",
              "      <td>devanahalli</td>\n",
              "      <td>nallur</td>\n",
              "      <td>nalluru</td>\n",
              "      <td>2958305603625444</td>\n",
              "      <td>2390.405557</td>\n",
              "      <td>1.751938e+05</td>\n",
              "      <td>POLYGON ((799015.4213450004 1460027.280338, 79...</td>\n",
              "      <td>7</td>\n",
              "    </tr>\n",
              "    <tr>\n",
              "      <th>2739</th>\n",
              "      <td>0.41748</td>\n",
              "      <td>98.245614</td>\n",
              "      <td>bengalururural</td>\n",
              "      <td>devanahalli</td>\n",
              "      <td>nallur</td>\n",
              "      <td>nalluru</td>\n",
              "      <td>2958305603625444</td>\n",
              "      <td>354.917481</td>\n",
              "      <td>6.925565e+03</td>\n",
              "      <td>POLYGON ((798695.5587450005 1460237.830838, 79...</td>\n",
              "      <td>7</td>\n",
              "    </tr>\n",
              "    <tr>\n",
              "      <th>2740</th>\n",
              "      <td>0.41748</td>\n",
              "      <td>98.245614</td>\n",
              "      <td>bengalururural</td>\n",
              "      <td>devanahalli</td>\n",
              "      <td>nallur</td>\n",
              "      <td>nalluru</td>\n",
              "      <td>2958305603625444</td>\n",
              "      <td>553.587424</td>\n",
              "      <td>1.974327e+04</td>\n",
              "      <td>POLYGON ((799531.2698450005 1459529.831238, 79...</td>\n",
              "      <td>7</td>\n",
              "    </tr>\n",
              "    <tr>\n",
              "      <th>2741</th>\n",
              "      <td>0.41748</td>\n",
              "      <td>98.245614</td>\n",
              "      <td>bengalururural</td>\n",
              "      <td>devanahalli</td>\n",
              "      <td>nallur</td>\n",
              "      <td>nalluru</td>\n",
              "      <td>2958305603625444</td>\n",
              "      <td>294.622666</td>\n",
              "      <td>3.655162e+03</td>\n",
              "      <td>POLYGON ((799149.1083450004 1459511.526738, 79...</td>\n",
              "      <td>7</td>\n",
              "    </tr>\n",
              "    <tr>\n",
              "      <th>2742</th>\n",
              "      <td>0.41748</td>\n",
              "      <td>98.245614</td>\n",
              "      <td>bengalururural</td>\n",
              "      <td>devanahalli</td>\n",
              "      <td>nallur</td>\n",
              "      <td>nalluru</td>\n",
              "      <td>2958305603625444</td>\n",
              "      <td>1153.067992</td>\n",
              "      <td>7.466677e+04</td>\n",
              "      <td>POLYGON ((799040.4820450004 1459530.567838, 79...</td>\n",
              "      <td>7</td>\n",
              "    </tr>\n",
              "    <tr>\n",
              "      <th>2743</th>\n",
              "      <td>0.41748</td>\n",
              "      <td>98.245614</td>\n",
              "      <td>bengalururural</td>\n",
              "      <td>devanahalli</td>\n",
              "      <td>nallur</td>\n",
              "      <td>nalluru</td>\n",
              "      <td>2958305603625444</td>\n",
              "      <td>245.921754</td>\n",
              "      <td>4.183911e+03</td>\n",
              "      <td>POLYGON ((799320.8709450004 1459586.264438, 79...</td>\n",
              "      <td>7</td>\n",
              "    </tr>\n",
              "    <tr>\n",
              "      <th>2744</th>\n",
              "      <td>0.41748</td>\n",
              "      <td>98.245614</td>\n",
              "      <td>bengalururural</td>\n",
              "      <td>devanahalli</td>\n",
              "      <td>nallur</td>\n",
              "      <td>nalluru</td>\n",
              "      <td>2958305603625444</td>\n",
              "      <td>9360.642681</td>\n",
              "      <td>2.604733e+06</td>\n",
              "      <td>POLYGON ((799515.6829450005 1462032.156238, 79...</td>\n",
              "      <td>7</td>\n",
              "    </tr>\n",
              "    <tr>\n",
              "      <th>3442</th>\n",
              "      <td>0.47112</td>\n",
              "      <td>97.777778</td>\n",
              "      <td>bidar</td>\n",
              "      <td>bidar</td>\n",
              "      <td>gornalli</td>\n",
              "      <td>amalapur</td>\n",
              "      <td>2955805457600189</td>\n",
              "      <td>1065.437386</td>\n",
              "      <td>6.410704e+04</td>\n",
              "      <td>POLYGON ((768006.9680450005 1977596.225238, 76...</td>\n",
              "      <td>7</td>\n",
              "    </tr>\n",
              "    <tr>\n",
              "      <th>3443</th>\n",
              "      <td>0.47112</td>\n",
              "      <td>97.777778</td>\n",
              "      <td>bidar</td>\n",
              "      <td>bidar</td>\n",
              "      <td>gornalli</td>\n",
              "      <td>amalapur</td>\n",
              "      <td>2955805457600189</td>\n",
              "      <td>725.833395</td>\n",
              "      <td>2.952633e+04</td>\n",
              "      <td>POLYGON ((767782.4224450004 1978309.259338, 76...</td>\n",
              "      <td>7</td>\n",
              "    </tr>\n",
              "    <tr>\n",
              "      <th>3444</th>\n",
              "      <td>0.47112</td>\n",
              "      <td>97.777778</td>\n",
              "      <td>bidar</td>\n",
              "      <td>bidar</td>\n",
              "      <td>gornalli</td>\n",
              "      <td>amalapur</td>\n",
              "      <td>2955805457600189</td>\n",
              "      <td>315.637024</td>\n",
              "      <td>6.145621e+03</td>\n",
              "      <td>POLYGON ((767741.1910450005 1977974.792438, 76...</td>\n",
              "      <td>7</td>\n",
              "    </tr>\n",
              "    <tr>\n",
              "      <th>3445</th>\n",
              "      <td>0.47112</td>\n",
              "      <td>97.777778</td>\n",
              "      <td>bidar</td>\n",
              "      <td>bidar</td>\n",
              "      <td>gornalli</td>\n",
              "      <td>amalapur</td>\n",
              "      <td>2955805457600189</td>\n",
              "      <td>555.437594</td>\n",
              "      <td>1.511686e+04</td>\n",
              "      <td>POLYGON ((767415.2535450005 1978015.772638, 76...</td>\n",
              "      <td>7</td>\n",
              "    </tr>\n",
              "    <tr>\n",
              "      <th>3446</th>\n",
              "      <td>0.47112</td>\n",
              "      <td>97.777778</td>\n",
              "      <td>bidar</td>\n",
              "      <td>bidar</td>\n",
              "      <td>gornalli</td>\n",
              "      <td>amalapur</td>\n",
              "      <td>2955805457600189</td>\n",
              "      <td>954.300002</td>\n",
              "      <td>4.682189e+04</td>\n",
              "      <td>POLYGON ((767663.0323450004 1978054.654638, 76...</td>\n",
              "      <td>7</td>\n",
              "    </tr>\n",
              "    <tr>\n",
              "      <th>3447</th>\n",
              "      <td>0.47112</td>\n",
              "      <td>97.777778</td>\n",
              "      <td>bidar</td>\n",
              "      <td>bidar</td>\n",
              "      <td>gornalli</td>\n",
              "      <td>amalapur</td>\n",
              "      <td>2955805457600189</td>\n",
              "      <td>2136.330994</td>\n",
              "      <td>1.763298e+05</td>\n",
              "      <td>POLYGON ((767442.5969450005 1978161.332638, 76...</td>\n",
              "      <td>7</td>\n",
              "    </tr>\n",
              "    <tr>\n",
              "      <th>3448</th>\n",
              "      <td>0.47112</td>\n",
              "      <td>97.777778</td>\n",
              "      <td>bidar</td>\n",
              "      <td>bidar</td>\n",
              "      <td>gornalli</td>\n",
              "      <td>amalapur</td>\n",
              "      <td>2955805457600189</td>\n",
              "      <td>10398.554969</td>\n",
              "      <td>2.460733e+06</td>\n",
              "      <td>POLYGON ((768407.7682450004 1976943.813338, 76...</td>\n",
              "      <td>7</td>\n",
              "    </tr>\n",
              "    <tr>\n",
              "      <th>5117</th>\n",
              "      <td>0.22788</td>\n",
              "      <td>100.000000</td>\n",
              "      <td>chikkaballapura</td>\n",
              "      <td>gauribidanur</td>\n",
              "      <td>minakanagurki</td>\n",
              "      <td>minakanagurki</td>\n",
              "      <td>2958205595623396</td>\n",
              "      <td>4884.720089</td>\n",
              "      <td>9.663723e+05</td>\n",
              "      <td>POLYGON ((782126.1106450004 1495629.366238, 78...</td>\n",
              "      <td>7</td>\n",
              "    </tr>\n",
              "    <tr>\n",
              "      <th>5118</th>\n",
              "      <td>0.22788</td>\n",
              "      <td>100.000000</td>\n",
              "      <td>chikkaballapura</td>\n",
              "      <td>gauribidanur</td>\n",
              "      <td>minakanagurki</td>\n",
              "      <td>minakanagurki</td>\n",
              "      <td>2958205595623396</td>\n",
              "      <td>1864.564850</td>\n",
              "      <td>1.489569e+05</td>\n",
              "      <td>POLYGON ((783344.4892450004 1494871.315438, 78...</td>\n",
              "      <td>7</td>\n",
              "    </tr>\n",
              "    <tr>\n",
              "      <th>5119</th>\n",
              "      <td>0.22788</td>\n",
              "      <td>100.000000</td>\n",
              "      <td>chikkaballapura</td>\n",
              "      <td>gauribidanur</td>\n",
              "      <td>minakanagurki</td>\n",
              "      <td>minakanagurki</td>\n",
              "      <td>2958205595623396</td>\n",
              "      <td>1514.831570</td>\n",
              "      <td>1.228500e+05</td>\n",
              "      <td>POLYGON ((782946.0339450005 1495640.394338, 78...</td>\n",
              "      <td>7</td>\n",
              "    </tr>\n",
              "    <tr>\n",
              "      <th>5120</th>\n",
              "      <td>0.22788</td>\n",
              "      <td>100.000000</td>\n",
              "      <td>chikkaballapura</td>\n",
              "      <td>gauribidanur</td>\n",
              "      <td>minakanagurki</td>\n",
              "      <td>minakanagurki</td>\n",
              "      <td>2958205595623396</td>\n",
              "      <td>320.722659</td>\n",
              "      <td>6.119991e+03</td>\n",
              "      <td>POLYGON ((783187.8259450004 1495722.822838, 78...</td>\n",
              "      <td>7</td>\n",
              "    </tr>\n",
              "    <tr>\n",
              "      <th>5121</th>\n",
              "      <td>0.22788</td>\n",
              "      <td>100.000000</td>\n",
              "      <td>chikkaballapura</td>\n",
              "      <td>gauribidanur</td>\n",
              "      <td>minakanagurki</td>\n",
              "      <td>minakanagurki</td>\n",
              "      <td>2958205595623396</td>\n",
              "      <td>386.251265</td>\n",
              "      <td>8.499656e+03</td>\n",
              "      <td>POLYGON ((782906.3290450005 1495799.643838, 78...</td>\n",
              "      <td>7</td>\n",
              "    </tr>\n",
              "    <tr>\n",
              "      <th>5122</th>\n",
              "      <td>0.22788</td>\n",
              "      <td>100.000000</td>\n",
              "      <td>chikkaballapura</td>\n",
              "      <td>gauribidanur</td>\n",
              "      <td>minakanagurki</td>\n",
              "      <td>minakanagurki</td>\n",
              "      <td>2958205595623396</td>\n",
              "      <td>4181.021031</td>\n",
              "      <td>6.610142e+05</td>\n",
              "      <td>POLYGON ((783610.6455450004 1496225.174238, 78...</td>\n",
              "      <td>7</td>\n",
              "    </tr>\n",
              "    <tr>\n",
              "      <th>5123</th>\n",
              "      <td>0.22788</td>\n",
              "      <td>100.000000</td>\n",
              "      <td>chikkaballapura</td>\n",
              "      <td>gauribidanur</td>\n",
              "      <td>minakanagurki</td>\n",
              "      <td>minakanagurki</td>\n",
              "      <td>2958205595623396</td>\n",
              "      <td>31311.104116</td>\n",
              "      <td>1.174336e+07</td>\n",
              "      <td>POLYGON ((781904.0228450005 1497913.778938, 78...</td>\n",
              "      <td>7</td>\n",
              "    </tr>\n",
              "    <tr>\n",
              "      <th>6948</th>\n",
              "      <td>0.47796</td>\n",
              "      <td>93.670886</td>\n",
              "      <td>chitradurga</td>\n",
              "      <td>challakere</td>\n",
              "      <td>badavanahallikaval</td>\n",
              "      <td>gopanahalli</td>\n",
              "      <td>2956605504605362</td>\n",
              "      <td>651.396930</td>\n",
              "      <td>2.711165e+04</td>\n",
              "      <td>POLYGON ((686869.0339450005 1567426.579638, 68...</td>\n",
              "      <td>7</td>\n",
              "    </tr>\n",
              "    <tr>\n",
              "      <th>6949</th>\n",
              "      <td>0.47796</td>\n",
              "      <td>93.670886</td>\n",
              "      <td>chitradurga</td>\n",
              "      <td>challakere</td>\n",
              "      <td>badavanahallikaval</td>\n",
              "      <td>gopanahalli</td>\n",
              "      <td>2956605504605362</td>\n",
              "      <td>4835.691649</td>\n",
              "      <td>6.805099e+05</td>\n",
              "      <td>POLYGON ((686779.6541450005 1570305.757738, 68...</td>\n",
              "      <td>7</td>\n",
              "    </tr>\n",
              "    <tr>\n",
              "      <th>6950</th>\n",
              "      <td>0.47796</td>\n",
              "      <td>93.670886</td>\n",
              "      <td>chitradurga</td>\n",
              "      <td>challakere</td>\n",
              "      <td>badavanahallikaval</td>\n",
              "      <td>gopanahalli</td>\n",
              "      <td>2956605504605362</td>\n",
              "      <td>4005.445128</td>\n",
              "      <td>4.646938e+05</td>\n",
              "      <td>POLYGON ((685221.7568450004 1568683.701538, 68...</td>\n",
              "      <td>7</td>\n",
              "    </tr>\n",
              "    <tr>\n",
              "      <th>6951</th>\n",
              "      <td>0.47796</td>\n",
              "      <td>93.670886</td>\n",
              "      <td>chitradurga</td>\n",
              "      <td>challakere</td>\n",
              "      <td>badavanahallikaval</td>\n",
              "      <td>gopanahalli</td>\n",
              "      <td>2956605504605362</td>\n",
              "      <td>3877.112452</td>\n",
              "      <td>2.746652e+05</td>\n",
              "      <td>POLYGON ((683136.1081450004 1569079.549738, 68...</td>\n",
              "      <td>7</td>\n",
              "    </tr>\n",
              "    <tr>\n",
              "      <th>6952</th>\n",
              "      <td>0.47796</td>\n",
              "      <td>93.670886</td>\n",
              "      <td>chitradurga</td>\n",
              "      <td>challakere</td>\n",
              "      <td>badavanahallikaval</td>\n",
              "      <td>gopanahalli</td>\n",
              "      <td>2956605504605362</td>\n",
              "      <td>1675.644054</td>\n",
              "      <td>9.030539e+04</td>\n",
              "      <td>POLYGON ((682929.8509450004 1569744.313938, 68...</td>\n",
              "      <td>7</td>\n",
              "    </tr>\n",
              "    <tr>\n",
              "      <th>6953</th>\n",
              "      <td>0.47796</td>\n",
              "      <td>93.670886</td>\n",
              "      <td>chitradurga</td>\n",
              "      <td>challakere</td>\n",
              "      <td>badavanahallikaval</td>\n",
              "      <td>gopanahalli</td>\n",
              "      <td>2956605504605362</td>\n",
              "      <td>478.208218</td>\n",
              "      <td>1.588020e+04</td>\n",
              "      <td>POLYGON ((683025.5526450004 1569924.256238, 68...</td>\n",
              "      <td>7</td>\n",
              "    </tr>\n",
              "    <tr>\n",
              "      <th>6954</th>\n",
              "      <td>0.47796</td>\n",
              "      <td>93.670886</td>\n",
              "      <td>chitradurga</td>\n",
              "      <td>challakere</td>\n",
              "      <td>badavanahallikaval</td>\n",
              "      <td>gopanahalli</td>\n",
              "      <td>2956605504605362</td>\n",
              "      <td>40686.110557</td>\n",
              "      <td>2.071863e+07</td>\n",
              "      <td>POLYGON ((684819.0335450005 1572342.845538, 68...</td>\n",
              "      <td>7</td>\n",
              "    </tr>\n",
              "    <tr>\n",
              "      <th>10232</th>\n",
              "      <td>0.46314</td>\n",
              "      <td>100.000000</td>\n",
              "      <td>hassan</td>\n",
              "      <td>belur</td>\n",
              "      <td>devarakeshavi</td>\n",
              "      <td>hunuganahalli</td>\n",
              "      <td>2957405554615088</td>\n",
              "      <td>573.714658</td>\n",
              "      <td>1.457180e+04</td>\n",
              "      <td>POLYGON ((583639.6427450004 1451743.685538, 58...</td>\n",
              "      <td>7</td>\n",
              "    </tr>\n",
              "    <tr>\n",
              "      <th>10233</th>\n",
              "      <td>0.46314</td>\n",
              "      <td>100.000000</td>\n",
              "      <td>hassan</td>\n",
              "      <td>belur</td>\n",
              "      <td>devarakeshavi</td>\n",
              "      <td>hunuganahalli</td>\n",
              "      <td>2957405554615088</td>\n",
              "      <td>5661.962574</td>\n",
              "      <td>1.202389e+06</td>\n",
              "      <td>POLYGON ((583502.2843450004 1451885.413438, 58...</td>\n",
              "      <td>7</td>\n",
              "    </tr>\n",
              "    <tr>\n",
              "      <th>10234</th>\n",
              "      <td>0.46314</td>\n",
              "      <td>100.000000</td>\n",
              "      <td>hassan</td>\n",
              "      <td>belur</td>\n",
              "      <td>devarakeshavi</td>\n",
              "      <td>hunuganahalli</td>\n",
              "      <td>2957405554615088</td>\n",
              "      <td>150.279915</td>\n",
              "      <td>1.076828e+03</td>\n",
              "      <td>POLYGON ((583906.1883450004 1451825.782838, 58...</td>\n",
              "      <td>7</td>\n",
              "    </tr>\n",
              "    <tr>\n",
              "      <th>10235</th>\n",
              "      <td>0.46314</td>\n",
              "      <td>100.000000</td>\n",
              "      <td>hassan</td>\n",
              "      <td>belur</td>\n",
              "      <td>devarakeshavi</td>\n",
              "      <td>hunuganahalli</td>\n",
              "      <td>2957405554615088</td>\n",
              "      <td>102.428635</td>\n",
              "      <td>4.463001e+02</td>\n",
              "      <td>POLYGON ((583880.2469450005 1451881.705238, 58...</td>\n",
              "      <td>7</td>\n",
              "    </tr>\n",
              "    <tr>\n",
              "      <th>10236</th>\n",
              "      <td>0.46314</td>\n",
              "      <td>100.000000</td>\n",
              "      <td>hassan</td>\n",
              "      <td>belur</td>\n",
              "      <td>devarakeshavi</td>\n",
              "      <td>hunuganahalli</td>\n",
              "      <td>2957405554615088</td>\n",
              "      <td>108.573350</td>\n",
              "      <td>5.219143e+02</td>\n",
              "      <td>POLYGON ((583848.4018450005 1451916.204738, 58...</td>\n",
              "      <td>7</td>\n",
              "    </tr>\n",
              "    <tr>\n",
              "      <th>10237</th>\n",
              "      <td>0.46314</td>\n",
              "      <td>100.000000</td>\n",
              "      <td>hassan</td>\n",
              "      <td>belur</td>\n",
              "      <td>devarakeshavi</td>\n",
              "      <td>hunuganahalli</td>\n",
              "      <td>2957405554615088</td>\n",
              "      <td>117.630465</td>\n",
              "      <td>8.292008e+02</td>\n",
              "      <td>POLYGON ((583985.5096450004 1451955.649538, 58...</td>\n",
              "      <td>7</td>\n",
              "    </tr>\n",
              "    <tr>\n",
              "      <th>10238</th>\n",
              "      <td>0.46314</td>\n",
              "      <td>100.000000</td>\n",
              "      <td>hassan</td>\n",
              "      <td>belur</td>\n",
              "      <td>devarakeshavi</td>\n",
              "      <td>hunuganahalli</td>\n",
              "      <td>2957405554615088</td>\n",
              "      <td>456.790498</td>\n",
              "      <td>7.297307e+03</td>\n",
              "      <td>POLYGON ((583791.7425450005 1451970.984738, 58...</td>\n",
              "      <td>7</td>\n",
              "    </tr>\n",
              "    <tr>\n",
              "      <th>10240</th>\n",
              "      <td>0.44992</td>\n",
              "      <td>100.000000</td>\n",
              "      <td>hassan</td>\n",
              "      <td>belur</td>\n",
              "      <td>hirigadde</td>\n",
              "      <td>hunuganahalli</td>\n",
              "      <td>2957405554615089</td>\n",
              "      <td>117.968732</td>\n",
              "      <td>7.577617e+02</td>\n",
              "      <td>POLYGON ((583803.3764450004 1451657.574638, 58...</td>\n",
              "      <td>7</td>\n",
              "    </tr>\n",
              "    <tr>\n",
              "      <th>10241</th>\n",
              "      <td>0.44992</td>\n",
              "      <td>100.000000</td>\n",
              "      <td>hassan</td>\n",
              "      <td>belur</td>\n",
              "      <td>hirigadde</td>\n",
              "      <td>hunuganahalli</td>\n",
              "      <td>2957405554615089</td>\n",
              "      <td>141.297614</td>\n",
              "      <td>7.775699e+02</td>\n",
              "      <td>POLYGON ((583784.1199450004 1451700.661838, 58...</td>\n",
              "      <td>7</td>\n",
              "    </tr>\n",
              "    <tr>\n",
              "      <th>10242</th>\n",
              "      <td>0.44992</td>\n",
              "      <td>100.000000</td>\n",
              "      <td>hassan</td>\n",
              "      <td>belur</td>\n",
              "      <td>hirigadde</td>\n",
              "      <td>hunuganahalli</td>\n",
              "      <td>2957405554615089</td>\n",
              "      <td>1524.362388</td>\n",
              "      <td>1.101298e+05</td>\n",
              "      <td>POLYGON ((583532.8660450005 1451314.670538, 58...</td>\n",
              "      <td>7</td>\n",
              "    </tr>\n",
              "    <tr>\n",
              "      <th>10243</th>\n",
              "      <td>0.44992</td>\n",
              "      <td>100.000000</td>\n",
              "      <td>hassan</td>\n",
              "      <td>belur</td>\n",
              "      <td>hirigadde</td>\n",
              "      <td>hunuganahalli</td>\n",
              "      <td>2957405554615089</td>\n",
              "      <td>344.742945</td>\n",
              "      <td>3.412063e+03</td>\n",
              "      <td>POLYGON ((583929.7433450004 1451594.579338, 58...</td>\n",
              "      <td>7</td>\n",
              "    </tr>\n",
              "    <tr>\n",
              "      <th>10244</th>\n",
              "      <td>0.44992</td>\n",
              "      <td>100.000000</td>\n",
              "      <td>hassan</td>\n",
              "      <td>belur</td>\n",
              "      <td>hirigadde</td>\n",
              "      <td>hunuganahalli</td>\n",
              "      <td>2957405554615089</td>\n",
              "      <td>999.526985</td>\n",
              "      <td>1.080278e+04</td>\n",
              "      <td>POLYGON ((584026.1897450004 1451988.390338, 58...</td>\n",
              "      <td>7</td>\n",
              "    </tr>\n",
              "    <tr>\n",
              "      <th>10245</th>\n",
              "      <td>0.44992</td>\n",
              "      <td>100.000000</td>\n",
              "      <td>hassan</td>\n",
              "      <td>belur</td>\n",
              "      <td>hirigadde</td>\n",
              "      <td>hunuganahalli</td>\n",
              "      <td>2957405554615089</td>\n",
              "      <td>377.221878</td>\n",
              "      <td>7.777181e+03</td>\n",
              "      <td>POLYGON ((584285.0112450004 1451888.948738, 58...</td>\n",
              "      <td>7</td>\n",
              "    </tr>\n",
              "    <tr>\n",
              "      <th>10246</th>\n",
              "      <td>0.44992</td>\n",
              "      <td>100.000000</td>\n",
              "      <td>hassan</td>\n",
              "      <td>belur</td>\n",
              "      <td>hirigadde</td>\n",
              "      <td>hunuganahalli</td>\n",
              "      <td>2957405554615089</td>\n",
              "      <td>9352.470584</td>\n",
              "      <td>1.441352e+06</td>\n",
              "      <td>POLYGON ((585385.4069450004 1452280.938138, 58...</td>\n",
              "      <td>7</td>\n",
              "    </tr>\n",
              "    <tr>\n",
              "      <th>19466</th>\n",
              "      <td>0.15952</td>\n",
              "      <td>100.000000</td>\n",
              "      <td>ramanagara</td>\n",
              "      <td>kanakapura</td>\n",
              "      <td>cheelandavadiforest</td>\n",
              "      <td>uyyamballi</td>\n",
              "      <td>2958405608626562</td>\n",
              "      <td>1431.397226</td>\n",
              "      <td>1.152313e+05</td>\n",
              "      <td>POLYGON ((756180.0598450005 1359185.150938, 75...</td>\n",
              "      <td>7</td>\n",
              "    </tr>\n",
              "    <tr>\n",
              "      <th>19467</th>\n",
              "      <td>0.15952</td>\n",
              "      <td>100.000000</td>\n",
              "      <td>ramanagara</td>\n",
              "      <td>kanakapura</td>\n",
              "      <td>cheelandavadiforest</td>\n",
              "      <td>uyyamballi</td>\n",
              "      <td>2958405608626562</td>\n",
              "      <td>1469.027617</td>\n",
              "      <td>1.237799e+05</td>\n",
              "      <td>POLYGON ((765037.9489450004 1360491.830538, 76...</td>\n",
              "      <td>7</td>\n",
              "    </tr>\n",
              "    <tr>\n",
              "      <th>19468</th>\n",
              "      <td>0.15952</td>\n",
              "      <td>100.000000</td>\n",
              "      <td>ramanagara</td>\n",
              "      <td>kanakapura</td>\n",
              "      <td>cheelandavadiforest</td>\n",
              "      <td>uyyamballi</td>\n",
              "      <td>2958405608626562</td>\n",
              "      <td>2847.467528</td>\n",
              "      <td>4.222283e+05</td>\n",
              "      <td>POLYGON ((765436.9634450005 1360343.929738, 76...</td>\n",
              "      <td>7</td>\n",
              "    </tr>\n",
              "    <tr>\n",
              "      <th>19469</th>\n",
              "      <td>0.15952</td>\n",
              "      <td>100.000000</td>\n",
              "      <td>ramanagara</td>\n",
              "      <td>kanakapura</td>\n",
              "      <td>cheelandavadiforest</td>\n",
              "      <td>uyyamballi</td>\n",
              "      <td>2958405608626562</td>\n",
              "      <td>3892.778328</td>\n",
              "      <td>7.729512e+05</td>\n",
              "      <td>POLYGON ((759229.5888450004 1363055.202838, 75...</td>\n",
              "      <td>7</td>\n",
              "    </tr>\n",
              "    <tr>\n",
              "      <th>19470</th>\n",
              "      <td>0.15952</td>\n",
              "      <td>100.000000</td>\n",
              "      <td>ramanagara</td>\n",
              "      <td>kanakapura</td>\n",
              "      <td>cheelandavadiforest</td>\n",
              "      <td>uyyamballi</td>\n",
              "      <td>2958405608626562</td>\n",
              "      <td>81172.672243</td>\n",
              "      <td>1.285135e+08</td>\n",
              "      <td>POLYGON ((757799.7873450004 1372815.447138, 75...</td>\n",
              "      <td>7</td>\n",
              "    </tr>\n",
              "    <tr>\n",
              "      <th>19471</th>\n",
              "      <td>0.15952</td>\n",
              "      <td>100.000000</td>\n",
              "      <td>ramanagara</td>\n",
              "      <td>kanakapura</td>\n",
              "      <td>cheelandavadiforest</td>\n",
              "      <td>uyyamballi</td>\n",
              "      <td>2958405608626562</td>\n",
              "      <td>2083.813455</td>\n",
              "      <td>2.507727e+05</td>\n",
              "      <td>POLYGON ((756306.8202450004 1367662.545138, 75...</td>\n",
              "      <td>7</td>\n",
              "    </tr>\n",
              "    <tr>\n",
              "      <th>19472</th>\n",
              "      <td>0.15952</td>\n",
              "      <td>100.000000</td>\n",
              "      <td>ramanagara</td>\n",
              "      <td>kanakapura</td>\n",
              "      <td>cheelandavadiforest</td>\n",
              "      <td>uyyamballi</td>\n",
              "      <td>2958405608626562</td>\n",
              "      <td>4041.388683</td>\n",
              "      <td>1.016485e+06</td>\n",
              "      <td>POLYGON ((758332.9028450004 1367478.685738, 75...</td>\n",
              "      <td>7</td>\n",
              "    </tr>\n",
              "  </tbody>\n",
              "</table>\n",
              "</div>"
            ],
            "text/plain": [
              "           HDI  ...  freq\n",
              "1613   0.45022  ...     7\n",
              "1614   0.45022  ...     7\n",
              "1615   0.45022  ...     7\n",
              "1616   0.45022  ...     7\n",
              "1617   0.45022  ...     7\n",
              "1618   0.45022  ...     7\n",
              "1619   0.45022  ...     7\n",
              "2738   0.41748  ...     7\n",
              "2739   0.41748  ...     7\n",
              "2740   0.41748  ...     7\n",
              "2741   0.41748  ...     7\n",
              "2742   0.41748  ...     7\n",
              "2743   0.41748  ...     7\n",
              "2744   0.41748  ...     7\n",
              "3442   0.47112  ...     7\n",
              "3443   0.47112  ...     7\n",
              "3444   0.47112  ...     7\n",
              "3445   0.47112  ...     7\n",
              "3446   0.47112  ...     7\n",
              "3447   0.47112  ...     7\n",
              "3448   0.47112  ...     7\n",
              "5117   0.22788  ...     7\n",
              "5118   0.22788  ...     7\n",
              "5119   0.22788  ...     7\n",
              "5120   0.22788  ...     7\n",
              "5121   0.22788  ...     7\n",
              "5122   0.22788  ...     7\n",
              "5123   0.22788  ...     7\n",
              "6948   0.47796  ...     7\n",
              "6949   0.47796  ...     7\n",
              "6950   0.47796  ...     7\n",
              "6951   0.47796  ...     7\n",
              "6952   0.47796  ...     7\n",
              "6953   0.47796  ...     7\n",
              "6954   0.47796  ...     7\n",
              "10232  0.46314  ...     7\n",
              "10233  0.46314  ...     7\n",
              "10234  0.46314  ...     7\n",
              "10235  0.46314  ...     7\n",
              "10236  0.46314  ...     7\n",
              "10237  0.46314  ...     7\n",
              "10238  0.46314  ...     7\n",
              "10240  0.44992  ...     7\n",
              "10241  0.44992  ...     7\n",
              "10242  0.44992  ...     7\n",
              "10243  0.44992  ...     7\n",
              "10244  0.44992  ...     7\n",
              "10245  0.44992  ...     7\n",
              "10246  0.44992  ...     7\n",
              "19466  0.15952  ...     7\n",
              "19467  0.15952  ...     7\n",
              "19468  0.15952  ...     7\n",
              "19469  0.15952  ...     7\n",
              "19470  0.15952  ...     7\n",
              "19471  0.15952  ...     7\n",
              "19472  0.15952  ...     7\n",
              "\n",
              "[56 rows x 11 columns]"
            ]
          },
          "metadata": {
            "tags": []
          },
          "execution_count": 59
        }
      ]
    },
    {
      "cell_type": "code",
      "metadata": {
        "id": "lzDOxUZe6bYf"
      },
      "source": [
        "df_final = df_final[(df_final['freq'] == 1)]"
      ],
      "execution_count": 60,
      "outputs": []
    },
    {
      "cell_type": "code",
      "metadata": {
        "id": "1ZPXFLfLB_Rh",
        "outputId": "0f17977d-b94b-4a07-b199-f63cb62804d8",
        "colab": {
          "base_uri": "https://localhost:8080/",
          "height": 323
        }
      },
      "source": [
        "df_final.info()"
      ],
      "execution_count": 61,
      "outputs": [
        {
          "output_type": "stream",
          "text": [
            "<class 'pandas.core.frame.DataFrame'>\n",
            "Int64Index: 18984 entries, 0 to 25822\n",
            "Data columns (total 11 columns):\n",
            " #   Column                         Non-Null Count  Dtype  \n",
            "---  ------                         --------------  -----  \n",
            " 0   HDI                            18984 non-null  float64\n",
            " 1   similarity                     18984 non-null  float64\n",
            " 2   District Name(in English)      18984 non-null  object \n",
            " 3   Sub District Name(in English)  18984 non-null  object \n",
            " 4   Village Name(in English)       18984 non-null  object \n",
            " 5   Local Body Name(in English)    18984 non-null  object \n",
            " 6   unique code                    18984 non-null  int64  \n",
            " 7   SHAPE_Leng                     18984 non-null  float64\n",
            " 8   SHAPE_Area                     18984 non-null  float64\n",
            " 9   geometry                       18984 non-null  object \n",
            " 10  freq                           18984 non-null  int64  \n",
            "dtypes: float64(4), int64(2), object(5)\n",
            "memory usage: 1.7+ MB\n"
          ],
          "name": "stdout"
        }
      ]
    },
    {
      "cell_type": "code",
      "metadata": {
        "id": "4q3cM5cHCBMu",
        "outputId": "75bdc1ef-0d86-4a35-f52e-bcf695b00eb8",
        "colab": {
          "base_uri": "https://localhost:8080/",
          "height": 34
        }
      },
      "source": [
        "df_final.isnull().values.any()"
      ],
      "execution_count": 62,
      "outputs": [
        {
          "output_type": "execute_result",
          "data": {
            "text/plain": [
              "False"
            ]
          },
          "metadata": {
            "tags": []
          },
          "execution_count": 62
        }
      ]
    },
    {
      "cell_type": "code",
      "metadata": {
        "id": "c0w_UweWCjpH",
        "outputId": "1167f99d-a977-46bb-c30e-463dcbcab2c9",
        "colab": {
          "base_uri": "https://localhost:8080/",
          "height": 510
        }
      },
      "source": [
        "df_final.head()"
      ],
      "execution_count": 64,
      "outputs": [
        {
          "output_type": "execute_result",
          "data": {
            "text/html": [
              "<div>\n",
              "<style scoped>\n",
              "    .dataframe tbody tr th:only-of-type {\n",
              "        vertical-align: middle;\n",
              "    }\n",
              "\n",
              "    .dataframe tbody tr th {\n",
              "        vertical-align: top;\n",
              "    }\n",
              "\n",
              "    .dataframe thead th {\n",
              "        text-align: right;\n",
              "    }\n",
              "</style>\n",
              "<table border=\"1\" class=\"dataframe\">\n",
              "  <thead>\n",
              "    <tr style=\"text-align: right;\">\n",
              "      <th></th>\n",
              "      <th>HDI</th>\n",
              "      <th>similarity</th>\n",
              "      <th>District Name(in English)</th>\n",
              "      <th>Sub District Name(in English)</th>\n",
              "      <th>Village Name(in English)</th>\n",
              "      <th>Local Body Name(in English)</th>\n",
              "      <th>unique code</th>\n",
              "      <th>SHAPE_Leng</th>\n",
              "      <th>SHAPE_Area</th>\n",
              "      <th>geometry</th>\n",
              "      <th>freq</th>\n",
              "    </tr>\n",
              "  </thead>\n",
              "  <tbody>\n",
              "    <tr>\n",
              "      <th>0</th>\n",
              "      <td>0.38380</td>\n",
              "      <td>100.0</td>\n",
              "      <td>bagalkote</td>\n",
              "      <td>badami</td>\n",
              "      <td>adagal</td>\n",
              "      <td>adagal</td>\n",
              "      <td>2955605446598748</td>\n",
              "      <td>22897.571495</td>\n",
              "      <td>1.947310e+07</td>\n",
              "      <td>POLYGON ((566608.2116450004 1765940.826638, 56...</td>\n",
              "      <td>1</td>\n",
              "    </tr>\n",
              "    <tr>\n",
              "      <th>1</th>\n",
              "      <td>0.35019</td>\n",
              "      <td>100.0</td>\n",
              "      <td>bagalkote</td>\n",
              "      <td>badami</td>\n",
              "      <td>kabbalageri</td>\n",
              "      <td>adagal</td>\n",
              "      <td>2955605446598749</td>\n",
              "      <td>15487.910796</td>\n",
              "      <td>1.097218e+07</td>\n",
              "      <td>POLYGON ((568380.3351450004 1763978.003638, 56...</td>\n",
              "      <td>1</td>\n",
              "    </tr>\n",
              "    <tr>\n",
              "      <th>2</th>\n",
              "      <td>0.35949</td>\n",
              "      <td>100.0</td>\n",
              "      <td>bagalkote</td>\n",
              "      <td>jamkhandi</td>\n",
              "      <td>adihudi</td>\n",
              "      <td>adihudi</td>\n",
              "      <td>2955605443598464</td>\n",
              "      <td>14297.939131</td>\n",
              "      <td>1.133046e+07</td>\n",
              "      <td>POLYGON ((542850.7316450004 1840982.390038, 54...</td>\n",
              "      <td>1</td>\n",
              "    </tr>\n",
              "    <tr>\n",
              "      <th>3</th>\n",
              "      <td>0.42051</td>\n",
              "      <td>100.0</td>\n",
              "      <td>bagalkote</td>\n",
              "      <td>jamkhandi</td>\n",
              "      <td>alagur</td>\n",
              "      <td>algur</td>\n",
              "      <td>2955605443598433</td>\n",
              "      <td>20133.208044</td>\n",
              "      <td>2.126997e+07</td>\n",
              "      <td>POLYGON ((538953.8338450005 1834576.741838, 53...</td>\n",
              "      <td>1</td>\n",
              "    </tr>\n",
              "    <tr>\n",
              "      <th>4</th>\n",
              "      <td>0.32455</td>\n",
              "      <td>100.0</td>\n",
              "      <td>bagalkote</td>\n",
              "      <td>badami</td>\n",
              "      <td>alur.s.k.</td>\n",
              "      <td>alur-sk</td>\n",
              "      <td>2955605446598724</td>\n",
              "      <td>11363.132397</td>\n",
              "      <td>5.636253e+06</td>\n",
              "      <td>POLYGON ((551238.4974450005 1758804.688138, 55...</td>\n",
              "      <td>1</td>\n",
              "    </tr>\n",
              "  </tbody>\n",
              "</table>\n",
              "</div>"
            ],
            "text/plain": [
              "       HDI  similarity  ...                                           geometry freq\n",
              "0  0.38380       100.0  ...  POLYGON ((566608.2116450004 1765940.826638, 56...    1\n",
              "1  0.35019       100.0  ...  POLYGON ((568380.3351450004 1763978.003638, 56...    1\n",
              "2  0.35949       100.0  ...  POLYGON ((542850.7316450004 1840982.390038, 54...    1\n",
              "3  0.42051       100.0  ...  POLYGON ((538953.8338450005 1834576.741838, 53...    1\n",
              "4  0.32455       100.0  ...  POLYGON ((551238.4974450005 1758804.688138, 55...    1\n",
              "\n",
              "[5 rows x 11 columns]"
            ]
          },
          "metadata": {
            "tags": []
          },
          "execution_count": 64
        }
      ]
    },
    {
      "cell_type": "code",
      "metadata": {
        "id": "-5amiVtWCMPd"
      },
      "source": [
        "df_final.to_csv('/content/drive/My Drive/omdena_hdi/data/hdi_with_geometry.csv', index=False, header=True)"
      ],
      "execution_count": 63,
      "outputs": []
    },
    {
      "cell_type": "code",
      "metadata": {
        "id": "ZTgV0JpJCfT_"
      },
      "source": [
        ""
      ],
      "execution_count": null,
      "outputs": []
    }
  ]
}