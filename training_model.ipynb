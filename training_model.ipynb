{
  "nbformat": 4,
  "nbformat_minor": 0,
  "metadata": {
    "colab": {
      "name": "training_model.ipynb",
      "provenance": [],
      "collapsed_sections": [],
      "include_colab_link": true
    },
    "kernelspec": {
      "name": "python3",
      "display_name": "Python 3"
    },
    "accelerator": "GPU"
  },
  "cells": [
    {
      "cell_type": "markdown",
      "metadata": {
        "id": "view-in-github",
        "colab_type": "text"
      },
      "source": [
        "<a href=\"https://colab.research.google.com/github/ishgirwan/omdena_hdi/blob/master/training_model.ipynb\" target=\"_parent\"><img src=\"https://colab.research.google.com/assets/colab-badge.svg\" alt=\"Open In Colab\"/></a>"
      ]
    },
    {
      "cell_type": "code",
      "metadata": {
        "id": "iRuhZ485rw74",
        "outputId": "647d43b9-c92f-4c46-ab5f-8f7d3537940b",
        "colab": {
          "base_uri": "https://localhost:8080/",
          "height": 34
        }
      },
      "source": [
        "from google.colab import drive\n",
        "drive.mount('/content/drive')"
      ],
      "execution_count": null,
      "outputs": [
        {
          "output_type": "stream",
          "text": [
            "Mounted at /content/drive\n"
          ],
          "name": "stdout"
        }
      ]
    },
    {
      "cell_type": "code",
      "metadata": {
        "id": "zA_oBu5p5MVR"
      },
      "source": [
        "#!curl https://raw.githubusercontent.com/pytorch/xla/master/contrib/scripts/env-setup.py -o pytorch-xla-env-setup.py\n",
        "#!python pytorch-xla-env-setup.py --version nightly --apt-packages libomp5 libopenblas-dev"
      ],
      "execution_count": null,
      "outputs": []
    },
    {
      "cell_type": "code",
      "metadata": {
        "id": "RpV-DVFz1Hvm"
      },
      "source": [
        "!nvidia-smi "
      ],
      "execution_count": null,
      "outputs": []
    },
    {
      "cell_type": "code",
      "metadata": {
        "id": "W35Y6SeysC1Q"
      },
      "source": [
        "!pip install rasterio\n",
        "#pip install pytorch-lightning\n",
        "!pip install pytorch-lightning-bolts\n",
        "#!pip install albumentations\n",
        "!pip install git+https://github.com/PytorchLightning/pytorch-lightning.git@master --upgrade"
      ],
      "execution_count": null,
      "outputs": []
    },
    {
      "cell_type": "code",
      "metadata": {
        "id": "gsgOsjXXwWhp"
      },
      "source": [
        "import numpy as np\n",
        "import pandas as pd\n",
        "import rasterio\n",
        "\n",
        "import torch\n",
        "import torchvision\n",
        "from torch import nn\n",
        "import torch.nn.functional as F\n",
        "from torch.utils.data import DataLoader, Dataset, sampler\n",
        "from torchvision import transforms\n",
        "\n",
        "import pytorch_lightning as pl\n",
        "from pytorch_lightning import Trainer\n",
        "from pl_bolts.callbacks import PrintTableMetricsCallback\n",
        "from pytorch_lightning.metrics import MeanAbsoluteError\n",
        "#import albumentations as A\n",
        "\n",
        "#from sklearn.preprocessing import MinMaxScaler    \n",
        "from sklearn.metrics import r2_score\n",
        "\n",
        "import glob\n",
        "import os\n",
        "\n",
        "# visualisation\n",
        "import matplotlib.pyplot as plt\n",
        "import seaborn as sns"
      ],
      "execution_count": null,
      "outputs": []
    },
    {
      "cell_type": "code",
      "metadata": {
        "id": "HYk3QE2Ynvg7"
      },
      "source": [
        "csv_path = '/content/drive/My Drive/omdena_hdi/hdi_with_geometry.csv'\n",
        "root_dir = '/content/drive/My Drive/Landsat/'"
      ],
      "execution_count": null,
      "outputs": []
    },
    {
      "cell_type": "code",
      "metadata": {
        "id": "PobXyZ3sXXDf"
      },
      "source": [
        "model =  torchvision.models.resnet18(pretrained=False, progress=True)"
      ],
      "execution_count": null,
      "outputs": []
    },
    {
      "cell_type": "code",
      "metadata": {
        "id": "m5-pqivEYKdG"
      },
      "source": [
        "model.conv1 = nn.Conv2d(6, 64, kernel_size=(3, 3), stride=(1, 1), padding=(3, 3), bias=False)\n",
        "model.fc = nn.Sequential(nn.Linear(in_features=512, out_features=1000, bias=True), nn.Sigmoid())"
      ],
      "execution_count": null,
      "outputs": []
    },
    {
      "cell_type": "code",
      "metadata": {
        "id": "nie2HAucPCp0"
      },
      "source": [
        "class MyDataset(Dataset):\n",
        "    \"\"\"\n",
        "    Generate normalized, rescaled and transformed datasets\n",
        "    \"\"\"\n",
        "\n",
        "    def __init__(self, dataset, transform=None):\n",
        "        \n",
        "        super().__init__()\n",
        "        self.df = dataset\n",
        "        self.transform = transform\n",
        "\n",
        "    def __len__(self):\n",
        "        \n",
        "        return len(self.df)\n",
        "    \n",
        "    def __getitem__(self, idx):\n",
        "       \n",
        "        if torch.is_tensor(idx):\n",
        "              idx = idx.tolist()\n",
        "\n",
        "        # generate image sample\n",
        "        image_path = self.df['image_path'].iloc[idx] \n",
        "        image_sample = rasterio.open(str(image_path), \"r\")\n",
        "        bands = [i for i in range(1, image_sample.count+1)]\n",
        "        image_sample = image_sample.read(bands)\n",
        "        image_sample = image_sample.astype('float32')\n",
        "\n",
        "        # generate hdi sample\n",
        "\n",
        "        hdi_sample = self.df['HDI'].iloc[idx]\n",
        "\n",
        "        # Normalize the image sample and rescale it between 0 and 1\n",
        "        for ch in range(image_sample.shape[0]):\n",
        "            channel_mean = np.nanmean(image_sample[ch])\n",
        "            channel_stdev = np.nanstd(image_sample[ch])\n",
        "            image_sample[ch] = (image_sample[ch] - channel_mean)\n",
        "\n",
        "            if channel_stdev != 0:\n",
        "\n",
        "                # standardize\n",
        "                image_sample[ch] = image_sample[ch] / channel_stdev\n",
        "                \n",
        "                # normalize\n",
        "                image_sample[ch] = (image_sample[ch] - np.nanmin(image_sample[ch])) / (np.nanmax(image_sample[ch]) - np.nanmin(image_sample[ch]))\n",
        "        \n",
        "        # convet nan to 0\n",
        "        image_sample[np.isnan(image_sample)] = 0\n",
        "\n",
        "        if self.transform:\n",
        "            image_sample = self.transform(image_sample)\n",
        "\n",
        "        else:\n",
        "            return [image_sample.permute(1, 0, 2),  hdi_sample.astype('float32')]\n",
        "    "
      ],
      "execution_count": null,
      "outputs": []
    },
    {
      "cell_type": "code",
      "metadata": {
        "id": "8ahO2P-jeIhc"
      },
      "source": [
        "from pytorch_lightning.callbacks import EarlyStopping, LearningRateMonitor,  ModelCheckpoint\n",
        "\n",
        "# default used by the Trainer\n",
        "early_stop = EarlyStopping(\n",
        "    monitor='val_loss',\n",
        "    patience=10,\n",
        "    strict=False,\n",
        "    verbose=True,\n",
        "    mode='min')\n",
        "\n",
        "\n",
        "# DEFAULTS used by the Trainer\n",
        "checkpoint_callback = ModelCheckpoint(\n",
        "    filepath='/content/drive/My Drive/omdena/ckpt/model.ckpt',\n",
        "    save_top_k=1,\n",
        "    verbose=True,\n",
        "    monitor='val_loss',\n",
        "    mode='min',\n",
        "    prefix=''\n",
        ")\n",
        "\n",
        "lr_monitor = LearningRateMonitor(logging_interval='step')\n"
      ],
      "execution_count": null,
      "outputs": []
    },
    {
      "cell_type": "code",
      "metadata": {
        "id": "TcRISG57HcvO"
      },
      "source": [
        "def my_collate(batch):\n",
        "\n",
        "    max_wh = 0\n",
        "\n",
        "    for item in batch:\n",
        "        image = item[0]\n",
        "        w = image.shape[1]\n",
        "        h = image.shape[2]\n",
        "        max_i = np.max([w, h])\n",
        "        if max_i > max_wh:\n",
        "            max_wh = max_i\n",
        "    \n",
        "    #print(max_wh)\n",
        "\n",
        "    data = []\n",
        "\n",
        "    for item in batch:\n",
        "        image = item[0]\n",
        "        rows = image.shape[1]\n",
        "        cols = image.shape[2]\n",
        "        rows_diff = max_wh - rows\n",
        "        cols_diff = max_wh - cols\n",
        "        cols_half = int(cols_diff / 2)\n",
        "        rows_half = int(rows_diff / 2)\n",
        "        padding = (cols_half, cols_diff-cols_half, rows_half, rows_diff-rows_half)\n",
        "        image_pad = F.pad(image, padding, 'constant', 0)\n",
        "        #print(image.shape)\n",
        "        #print(image_pad.shape)\n",
        "        #print(type(image_pad))\n",
        "        data.append(image_pad)\n",
        "\n",
        "    target = [item[1] for item in batch]\n",
        "    return [data, target]"
      ],
      "execution_count": null,
      "outputs": []
    },
    {
      "cell_type": "code",
      "metadata": {
        "id": "fH3C0vhkT-3j"
      },
      "source": [
        "#df_test = pd.DataFrame(columns = ['y', 'y_hat', 'idx'])\n"
      ],
      "execution_count": null,
      "outputs": []
    },
    {
      "cell_type": "markdown",
      "metadata": {
        "id": "elEmnDp5qA80"
      },
      "source": [
        ""
      ]
    },
    {
      "cell_type": "code",
      "metadata": {
        "id": "zyzLyuj1KjSw"
      },
      "source": [
        "\n",
        "class Model(pl.LightningModule):\n",
        "\n",
        "    def __init__(self, model, batch_size=1, learning_rate=.001):\n",
        "        super().__init__()\n",
        "        self.learning_rate = learning_rate\n",
        "        self.save_hyperparameters()\n",
        "        self.model = model\n",
        "        self.batch_size = batch_size\n",
        "        self.ser_y = pd.Series(dtype='float32', name='y')\n",
        "        self.ser_y_hat = pd.Series(dtype='float32', name='y_pred')\n",
        "\n",
        "    def forward(self, x):\n",
        "        x = self.model(x)\n",
        "        #print('shape', x.shape)\n",
        "        x = torch.mean(x, 1)\n",
        "        return x\n",
        "\n",
        "    def prepare_data(self):\n",
        "\n",
        "        df = pd.read_csv(csv_path)\n",
        "        df['image_path'] = root_dir + df['unique code'].astype(str) + '.tif' \n",
        "        df = df.sample(frac=1, random_state=1).reset_index(drop=True)\n",
        "        # split the dataset\n",
        "        train, validate, test = np.split(df, [int(.9*len(df)), int(.95*len(df))]) \n",
        "\n",
        "        # transforms\n",
        "        train_transform = transforms.Compose([\n",
        "                                transforms.ToTensor()\n",
        "                                ])\n",
        "\n",
        "        validate_transform = transforms.Compose([\n",
        "                                transforms.ToTensor()\n",
        "                                ])\n",
        "        # create datasets for training, validation and test\n",
        "        self.train_dataset = MyDataset(dataset=train, transform=train_transform)\n",
        "        self.validate_dataset = MyDataset(dataset=validate, transform=validate_transform)\n",
        "        self.test_dataset = MyDataset(dataset=test, transform=validate_transform) \n",
        "\n",
        "        return test\n",
        "    \n",
        "    def train_dataloader(self):\n",
        "        return DataLoader(self.train_dataset, self.batch_size, shuffle=True, num_workers=4, collate_fn=my_collate, pin_memory=True, drop_last=True)\n",
        "\n",
        "    def val_dataloader(self):\n",
        "        return DataLoader(self.validate_dataset, self.batch_size, num_workers=4,collate_fn=my_collate, pin_memory=True, drop_last=True) \n",
        "\n",
        "    def test_dataloader(self):\n",
        "        return DataLoader(self.test_dataset, self.batch_size, num_workers=4, collate_fn=my_collate, pin_memory=True, drop_last=True) \n",
        "\n",
        "    def configure_optimizers(self):\n",
        "        optimizer = torch.optim.Adam(self.parameters(), lr=self.learning_rate)\n",
        "        scheduler = torch.optim.lr_scheduler.ReduceLROnPlateau(optimizer, mode='min', factor=0.1, patience=2, verbose=True)\n",
        "        return {'optimizer': optimizer, 'lr_scheduler': scheduler, 'monitor': 'val_loss'}\n",
        "\n",
        "    def training_step(self, batch, batch_idx):\n",
        "        x, y = batch\n",
        "        x = torch.stack(x)\n",
        "        y = torch.cuda.FloatTensor(y)\n",
        "        y_hat = self(x)\n",
        "        #print(y, y_hat)\n",
        "        loss = F.mse_loss(y_hat, y)\n",
        "        self.log('train_loss', loss, on_step=True, on_epoch=True, prog_bar=True, logger=True)\n",
        "        return loss\n",
        "\n",
        "    #def training_step_end(self, training_step_outputs):\n",
        "    #    return training_step_outputs\n",
        "\n",
        "    #def training_epoch_end(self, outputs) -> None:\n",
        "    #    torch.stack([x[\"loss\"] for x in outputs]).mean()\n",
        "\n",
        "    def validation_step(self, batch, batch_idx):\n",
        "        x, y = batch\n",
        "        x = torch.stack(x)\n",
        "        y = torch.cuda.FloatTensor(y)\n",
        "        y_hat = self(x)\n",
        "        #print(y, y_hat)\n",
        "        loss = F.mse_loss(y_hat, y)\n",
        "        r2 = r2_score(y.cpu().detach().numpy(), y_hat.cpu().detach().numpy())\n",
        "        self.log('val_loss', loss)\n",
        "        self.log('val_R-square', r2)\n",
        "        #return {\"loss\": loss, 'R-square': r2_score}\n",
        "\n",
        "    #def validation_epoch_end(self, outputs) -> None:\n",
        "    #    torch.stack([x['loss'] for x in outputs]).mean()\n",
        "    #    torch.stack([x['R-square'] for x in outputs]).mean()\n",
        "\n",
        "    #def validation_epoch_end(self, outputs):\n",
        "    #   avg_loss = torch.stack([x['val_loss'] for x in outputs]).mean()\n",
        "    #  return {'val_loss': avg_loss}\n",
        "\n",
        "    def test_step(self, batch, batch_idx):\n",
        "        x, y = batch\n",
        "\n",
        "        y_series = pd.Series(y)\n",
        "        \n",
        "        x = torch.stack(x)\n",
        "        y = torch.cuda.FloatTensor(y)\n",
        "        y_hat = self(x)\n",
        "        loss = F.mse_loss(y_hat, y)\n",
        "        r2 = r2_score(y.cpu().detach().numpy(), y_hat.cpu().detach().numpy())\n",
        "        \n",
        "        self.log('test_loss', loss)\n",
        "        self.log('test_R-square', r2)\n",
        "\n",
        "        y_hat = y_hat.cpu().detach().numpy()\n",
        "        y_hat_series = pd.Series(y_hat)\n",
        "        #print('y_series', y_series)\n",
        "\n",
        "        self.ser_y = self.ser_y.append(y_series, ignore_index=True)\n",
        "        self.ser_y_hat = self.ser_y_hat.append(y_hat_series, ignore_index=True)\n",
        "\n",
        "        #print('y', y)\n",
        "        #print('y_hat', y_hat)\n",
        "    \n",
        "\n",
        "    def backward(self, loss, optimizer, optimizer_idx):\n",
        "        loss.backward()\n",
        "\n",
        "    def optimizer_step(self, current_epoch, batch_idx, optimizer, \n",
        "      optimizer_idx, second_order_closure=None, \n",
        "       on_tpu=False, using_native_amp=False, using_lbfgs=False):\n",
        "        optimizer.step()\n"
      ],
      "execution_count": null,
      "outputs": []
    },
    {
      "cell_type": "code",
      "metadata": {
        "id": "MHJbx9hdL13d"
      },
      "source": [
        "# init model\n",
        "model_one = Model(model, batch_size=16)\n",
        "#from pytorch_lightning.core.memory import ModelSummary\n",
        "#ModelSummary(model_one, mode='full')\n",
        "from pytorch_lightning.loggers import TensorBoardLogger\n",
        "logger = TensorBoardLogger('/content/drive/My Drive/omdena/tb_logs', name='my_model')\n",
        "\n",
        "#train\n",
        "root_path = '/content/drive/My Drive/omdena'"
      ],
      "execution_count": null,
      "outputs": []
    },
    {
      "cell_type": "code",
      "metadata": {
        "id": "8r9EaWfmmIDT",
        "outputId": "c47a5c85-ae98-4a9a-b36a-da1f6c0ccd6f",
        "colab": {
          "base_uri": "https://localhost:8080/",
          "height": 69
        }
      },
      "source": [
        "#seed\n",
        "resume_ckpt_path =  '/content/drive/My Drive/omdena/ckpt/model_t3.ckpt'\n",
        "#resume_from_checkpoint=resume_ckpt_path,\n",
        "pl.seed_everything(1)\n",
        "\n",
        "trainer = pl.Trainer(gpus=1,resume_from_checkpoint=resume_ckpt_path, logger=logger, checkpoint_callback=checkpoint_callback, progress_bar_refresh_rate=50, accumulate_grad_batches=2, fast_dev_run=False,\\\n",
        "                    default_root_dir=root_path, auto_lr_find=True,\\\n",
        "                    profiler=True, max_epochs=1000, callbacks=[lr_monitor, early_stop, PrintTableMetricsCallback()])\n",
        "\n",
        "\n"
      ],
      "execution_count": null,
      "outputs": [
        {
          "output_type": "stream",
          "text": [
            "GPU available: True, used: True\n",
            "TPU available: False, using: 0 TPU cores\n",
            "LOCAL_RANK: 0 - CUDA_VISIBLE_DEVICES: [0]\n"
          ],
          "name": "stderr"
        }
      ]
    },
    {
      "cell_type": "code",
      "metadata": {
        "id": "uw_LiPdReciL"
      },
      "source": [
        "trainer.fit(model_one)"
      ],
      "execution_count": null,
      "outputs": []
    },
    {
      "cell_type": "code",
      "metadata": {
        "id": "zj0U-Zx1xlIa"
      },
      "source": [
        "#!nvidia-smi "
      ],
      "execution_count": null,
      "outputs": []
    },
    {
      "cell_type": "code",
      "metadata": {
        "id": "lOAMKL4wbLWA"
      },
      "source": [
        "# Start tensorboard.\n",
        "%reload_ext tensorboard\n",
        "%tensorboard --logdir='/content/drive/My Drive/omdena/tb_logs'"
      ],
      "execution_count": null,
      "outputs": []
    },
    {
      "cell_type": "code",
      "metadata": {
        "id": "Y9r8rxWAa4h7"
      },
      "source": [
        "# test\n",
        "trainer.test(ckpt_path='/content/drive/My Drive/omdena/ckpt/model.ckpt-v0.ckpt', model=model_one, verbose=True)"
      ],
      "execution_count": null,
      "outputs": []
    },
    {
      "cell_type": "code",
      "metadata": {
        "id": "dtX_1tJ2_nKE"
      },
      "source": [
        "df_pred = pd.concat([model_one.ser_y, model_one.ser_y_hat], axis=1)"
      ],
      "execution_count": null,
      "outputs": []
    },
    {
      "cell_type": "code",
      "metadata": {
        "id": "P4MtnBYiAtdm"
      },
      "source": [
        "df_pred = df_pred.set_axis(['y', 'y_pred'], axis=1, inplace=False)"
      ],
      "execution_count": null,
      "outputs": []
    },
    {
      "cell_type": "code",
      "metadata": {
        "id": "jZeZP85dDqKO"
      },
      "source": [
        "df_pred['diff'] = (df_pred.y - df_pred.y_pred).abs()"
      ],
      "execution_count": null,
      "outputs": []
    },
    {
      "cell_type": "code",
      "metadata": {
        "id": "A84KHwGqFfpP",
        "outputId": "85cac4aa-aa09-47b3-c746-4d7a5edde0bc",
        "colab": {
          "base_uri": "https://localhost:8080/",
          "height": 424
        }
      },
      "source": [
        "df_pred"
      ],
      "execution_count": null,
      "outputs": [
        {
          "output_type": "execute_result",
          "data": {
            "text/html": [
              "<div>\n",
              "<style scoped>\n",
              "    .dataframe tbody tr th:only-of-type {\n",
              "        vertical-align: middle;\n",
              "    }\n",
              "\n",
              "    .dataframe tbody tr th {\n",
              "        vertical-align: top;\n",
              "    }\n",
              "\n",
              "    .dataframe thead th {\n",
              "        text-align: right;\n",
              "    }\n",
              "</style>\n",
              "<table border=\"1\" class=\"dataframe\">\n",
              "  <thead>\n",
              "    <tr style=\"text-align: right;\">\n",
              "      <th></th>\n",
              "      <th>y</th>\n",
              "      <th>y_pred</th>\n",
              "      <th>diff</th>\n",
              "    </tr>\n",
              "  </thead>\n",
              "  <tbody>\n",
              "    <tr>\n",
              "      <th>0</th>\n",
              "      <td>0.53461</td>\n",
              "      <td>0.398532</td>\n",
              "      <td>0.136078</td>\n",
              "    </tr>\n",
              "    <tr>\n",
              "      <th>1</th>\n",
              "      <td>0.49756</td>\n",
              "      <td>0.425046</td>\n",
              "      <td>0.072514</td>\n",
              "    </tr>\n",
              "    <tr>\n",
              "      <th>2</th>\n",
              "      <td>0.46562</td>\n",
              "      <td>0.411119</td>\n",
              "      <td>0.054501</td>\n",
              "    </tr>\n",
              "    <tr>\n",
              "      <th>3</th>\n",
              "      <td>0.41685</td>\n",
              "      <td>0.431976</td>\n",
              "      <td>0.015126</td>\n",
              "    </tr>\n",
              "    <tr>\n",
              "      <th>4</th>\n",
              "      <td>0.44367</td>\n",
              "      <td>0.350882</td>\n",
              "      <td>0.092788</td>\n",
              "    </tr>\n",
              "    <tr>\n",
              "      <th>...</th>\n",
              "      <td>...</td>\n",
              "      <td>...</td>\n",
              "      <td>...</td>\n",
              "    </tr>\n",
              "    <tr>\n",
              "      <th>939</th>\n",
              "      <td>0.45258</td>\n",
              "      <td>0.405481</td>\n",
              "      <td>0.047099</td>\n",
              "    </tr>\n",
              "    <tr>\n",
              "      <th>940</th>\n",
              "      <td>0.39688</td>\n",
              "      <td>0.376790</td>\n",
              "      <td>0.020090</td>\n",
              "    </tr>\n",
              "    <tr>\n",
              "      <th>941</th>\n",
              "      <td>0.28733</td>\n",
              "      <td>0.406607</td>\n",
              "      <td>0.119277</td>\n",
              "    </tr>\n",
              "    <tr>\n",
              "      <th>942</th>\n",
              "      <td>0.26788</td>\n",
              "      <td>0.398719</td>\n",
              "      <td>0.130839</td>\n",
              "    </tr>\n",
              "    <tr>\n",
              "      <th>943</th>\n",
              "      <td>0.39924</td>\n",
              "      <td>0.390129</td>\n",
              "      <td>0.009111</td>\n",
              "    </tr>\n",
              "  </tbody>\n",
              "</table>\n",
              "<p>944 rows × 3 columns</p>\n",
              "</div>"
            ],
            "text/plain": [
              "           y    y_pred      diff\n",
              "0    0.53461  0.398532  0.136078\n",
              "1    0.49756  0.425046  0.072514\n",
              "2    0.46562  0.411119  0.054501\n",
              "3    0.41685  0.431976  0.015126\n",
              "4    0.44367  0.350882  0.092788\n",
              "..       ...       ...       ...\n",
              "939  0.45258  0.405481  0.047099\n",
              "940  0.39688  0.376790  0.020090\n",
              "941  0.28733  0.406607  0.119277\n",
              "942  0.26788  0.398719  0.130839\n",
              "943  0.39924  0.390129  0.009111\n",
              "\n",
              "[944 rows x 3 columns]"
            ]
          },
          "metadata": {
            "tags": []
          },
          "execution_count": 220
        }
      ]
    },
    {
      "cell_type": "code",
      "metadata": {
        "id": "NJLMddx6im9O"
      },
      "source": [
        "df = pd.read_csv(csv_path)\n",
        "df['image_path'] = root_dir + df['unique code'].astype(str) + '.tif' \n",
        "df = df.sample(frac=1, random_state=1).reset_index(drop=True)\n",
        "# split the dataset\n",
        "train, validate, test = np.split(df, [int(.9*len(df)), int(.95*len(df))]) "
      ],
      "execution_count": null,
      "outputs": []
    },
    {
      "cell_type": "code",
      "metadata": {
        "id": "yNy4-PBPz_AB",
        "outputId": "1c7f6eda-f7da-453a-a040-fd012c1f33c8",
        "colab": {
          "base_uri": "https://localhost:8080/",
          "height": 939
        }
      },
      "source": [
        "test.head(10)"
      ],
      "execution_count": null,
      "outputs": [
        {
          "output_type": "execute_result",
          "data": {
            "text/html": [
              "<div>\n",
              "<style scoped>\n",
              "    .dataframe tbody tr th:only-of-type {\n",
              "        vertical-align: middle;\n",
              "    }\n",
              "\n",
              "    .dataframe tbody tr th {\n",
              "        vertical-align: top;\n",
              "    }\n",
              "\n",
              "    .dataframe thead th {\n",
              "        text-align: right;\n",
              "    }\n",
              "</style>\n",
              "<table border=\"1\" class=\"dataframe\">\n",
              "  <thead>\n",
              "    <tr style=\"text-align: right;\">\n",
              "      <th></th>\n",
              "      <th>HDI</th>\n",
              "      <th>District Name(in English)</th>\n",
              "      <th>Sub District Name(in English)</th>\n",
              "      <th>Village Name(in English)</th>\n",
              "      <th>Local Body Name(in English)</th>\n",
              "      <th>unique code</th>\n",
              "      <th>SHAPE_Leng</th>\n",
              "      <th>SHAPE_Area</th>\n",
              "      <th>geometry</th>\n",
              "      <th>image_path</th>\n",
              "    </tr>\n",
              "  </thead>\n",
              "  <tbody>\n",
              "    <tr>\n",
              "      <th>18034</th>\n",
              "      <td>0.53461</td>\n",
              "      <td>davanagere</td>\n",
              "      <td>davanagere</td>\n",
              "      <td>nerlegi</td>\n",
              "      <td>nerlige</td>\n",
              "      <td>2956705512606632</td>\n",
              "      <td>7617.474684</td>\n",
              "      <td>3.535501e+06</td>\n",
              "      <td>POLYGON ((614129.5213450005 1589446.426938, 61...</td>\n",
              "      <td>/content/drive/My Drive/Landsat/29567055126066...</td>\n",
              "    </tr>\n",
              "    <tr>\n",
              "      <th>18035</th>\n",
              "      <td>0.49756</td>\n",
              "      <td>mysuru</td>\n",
              "      <td>krishnarajanagara</td>\n",
              "      <td>chikkahanasoge</td>\n",
              "      <td>channamgere</td>\n",
              "      <td>2957705571618603</td>\n",
              "      <td>11927.509204</td>\n",
              "      <td>3.103637e+06</td>\n",
              "      <td>POLYGON ((626997.4277450005 1385629.627738, 62...</td>\n",
              "      <td>/content/drive/My Drive/Landsat/29577055716186...</td>\n",
              "    </tr>\n",
              "    <tr>\n",
              "      <th>18036</th>\n",
              "      <td>0.46562</td>\n",
              "      <td>uttarakannada</td>\n",
              "      <td>kumta</td>\n",
              "      <td>santagal</td>\n",
              "      <td>santeguli</td>\n",
              "      <td>2956305485603517</td>\n",
              "      <td>7290.090149</td>\n",
              "      <td>2.779026e+06</td>\n",
              "      <td>POLYGON ((449914.2168450005 1594854.645838, 45...</td>\n",
              "      <td>/content/drive/My Drive/Landsat/29563054856035...</td>\n",
              "    </tr>\n",
              "    <tr>\n",
              "      <th>18037</th>\n",
              "      <td>0.41685</td>\n",
              "      <td>kolar</td>\n",
              "      <td>srinivaspur</td>\n",
              "      <td>thimmasandra</td>\n",
              "      <td>hodali</td>\n",
              "      <td>2958105590621594</td>\n",
              "      <td>9500.702794</td>\n",
              "      <td>3.962890e+06</td>\n",
              "      <td>POLYGON ((852212.7420450004 1481146.898838, 85...</td>\n",
              "      <td>/content/drive/My Drive/Landsat/29581055906215...</td>\n",
              "    </tr>\n",
              "    <tr>\n",
              "      <th>18038</th>\n",
              "      <td>0.44367</td>\n",
              "      <td>ballari</td>\n",
              "      <td>siruguppa</td>\n",
              "      <td>udegolam</td>\n",
              "      <td>nadavi</td>\n",
              "      <td>2956505499604779</td>\n",
              "      <td>12948.404795</td>\n",
              "      <td>8.151924e+06</td>\n",
              "      <td>POLYGON ((697813.5895450005 1717591.231738, 69...</td>\n",
              "      <td>/content/drive/My Drive/Landsat/29565054996047...</td>\n",
              "    </tr>\n",
              "    <tr>\n",
              "      <th>18039</th>\n",
              "      <td>0.16672</td>\n",
              "      <td>hassan</td>\n",
              "      <td>channarayapatna</td>\n",
              "      <td>rayasamudrakaval</td>\n",
              "      <td>nuggehalli</td>\n",
              "      <td>2957405560617256</td>\n",
              "      <td>16527.637814</td>\n",
              "      <td>1.152461e+07</td>\n",
              "      <td>POLYGON ((657386.1887450004 1444829.206538, 65...</td>\n",
              "      <td>/content/drive/My Drive/Landsat/29574055606172...</td>\n",
              "    </tr>\n",
              "    <tr>\n",
              "      <th>18040</th>\n",
              "      <td>0.36098</td>\n",
              "      <td>hassan</td>\n",
              "      <td>arsikere</td>\n",
              "      <td>bisalehalli</td>\n",
              "      <td>mududi</td>\n",
              "      <td>2957405555615785</td>\n",
              "      <td>6582.155698</td>\n",
              "      <td>2.399416e+06</td>\n",
              "      <td>POLYGON ((641024.8853450004 1459835.998438, 64...</td>\n",
              "      <td>/content/drive/My Drive/Landsat/29574055556157...</td>\n",
              "    </tr>\n",
              "    <tr>\n",
              "      <th>18041</th>\n",
              "      <td>0.20949</td>\n",
              "      <td>yadgir</td>\n",
              "      <td>shorapur</td>\n",
              "      <td>gogaddihal</td>\n",
              "      <td>mallab.</td>\n",
              "      <td>2958005587620884</td>\n",
              "      <td>4835.350211</td>\n",
              "      <td>1.386170e+06</td>\n",
              "      <td>POLYGON ((667944.5764450005 1846935.917438, 66...</td>\n",
              "      <td>/content/drive/My Drive/Landsat/29580055876208...</td>\n",
              "    </tr>\n",
              "    <tr>\n",
              "      <th>18042</th>\n",
              "      <td>0.48155</td>\n",
              "      <td>chikkamagaluru</td>\n",
              "      <td>kadur</td>\n",
              "      <td>m.mallenahalli</td>\n",
              "      <td>s.madapura</td>\n",
              "      <td>2957005529609604</td>\n",
              "      <td>5708.030068</td>\n",
              "      <td>1.577087e+06</td>\n",
              "      <td>POLYGON ((633077.8166450004 1491071.388038, 63...</td>\n",
              "      <td>/content/drive/My Drive/Landsat/29570055296096...</td>\n",
              "    </tr>\n",
              "    <tr>\n",
              "      <th>18043</th>\n",
              "      <td>0.40064</td>\n",
              "      <td>belagavi</td>\n",
              "      <td>raybag</td>\n",
              "      <td>bhendwad</td>\n",
              "      <td>bendwad</td>\n",
              "      <td>2955505435597379</td>\n",
              "      <td>20783.642101</td>\n",
              "      <td>1.402840e+07</td>\n",
              "      <td>POLYGON ((481465.4435450005 1809779.726038, 48...</td>\n",
              "      <td>/content/drive/My Drive/Landsat/29555054355973...</td>\n",
              "    </tr>\n",
              "  </tbody>\n",
              "</table>\n",
              "</div>"
            ],
            "text/plain": [
              "           HDI  ...                                         image_path\n",
              "18034  0.53461  ...  /content/drive/My Drive/Landsat/29567055126066...\n",
              "18035  0.49756  ...  /content/drive/My Drive/Landsat/29577055716186...\n",
              "18036  0.46562  ...  /content/drive/My Drive/Landsat/29563054856035...\n",
              "18037  0.41685  ...  /content/drive/My Drive/Landsat/29581055906215...\n",
              "18038  0.44367  ...  /content/drive/My Drive/Landsat/29565054996047...\n",
              "18039  0.16672  ...  /content/drive/My Drive/Landsat/29574055606172...\n",
              "18040  0.36098  ...  /content/drive/My Drive/Landsat/29574055556157...\n",
              "18041  0.20949  ...  /content/drive/My Drive/Landsat/29580055876208...\n",
              "18042  0.48155  ...  /content/drive/My Drive/Landsat/29570055296096...\n",
              "18043  0.40064  ...  /content/drive/My Drive/Landsat/29555054355973...\n",
              "\n",
              "[10 rows x 10 columns]"
            ]
          },
          "metadata": {
            "tags": []
          },
          "execution_count": 222
        }
      ]
    },
    {
      "cell_type": "code",
      "metadata": {
        "id": "CYRmjrPmH1tI"
      },
      "source": [
        "test.reset_index(inplace=True, drop=True)"
      ],
      "execution_count": null,
      "outputs": []
    },
    {
      "cell_type": "code",
      "metadata": {
        "id": "1waaF4dmH9sB"
      },
      "source": [
        "df_final = pd.concat([test, df_pred], axis =1)"
      ],
      "execution_count": null,
      "outputs": []
    },
    {
      "cell_type": "code",
      "metadata": {
        "id": "lxosnW8nIjZe"
      },
      "source": [
        "df_final = df_final[df_final['y_pred'].notna()]"
      ],
      "execution_count": null,
      "outputs": []
    },
    {
      "cell_type": "code",
      "metadata": {
        "id": "ZVZaQgt_L84Q"
      },
      "source": [
        "df_final.sort_values(by=['diff'], ascending=False, inplace=True)"
      ],
      "execution_count": null,
      "outputs": []
    },
    {
      "cell_type": "code",
      "metadata": {
        "id": "8NRoCjwGOPOg"
      },
      "source": [
        "df_final['num_pixel'] = df['SHAPE_Area'] / 900"
      ],
      "execution_count": null,
      "outputs": []
    },
    {
      "cell_type": "code",
      "metadata": {
        "id": "61K2laOPVhsI"
      },
      "source": [
        "df_final.reset_index(inplace=True, drop=True)"
      ],
      "execution_count": null,
      "outputs": []
    },
    {
      "cell_type": "code",
      "metadata": {
        "id": "7TWBSFMwOrpS",
        "outputId": "edf289cc-2eaf-472e-aa80-60b2c13518a6",
        "colab": {
          "base_uri": "https://localhost:8080/",
          "height": 539
        }
      },
      "source": [
        "df_final.head()"
      ],
      "execution_count": null,
      "outputs": [
        {
          "output_type": "execute_result",
          "data": {
            "text/html": [
              "<div>\n",
              "<style scoped>\n",
              "    .dataframe tbody tr th:only-of-type {\n",
              "        vertical-align: middle;\n",
              "    }\n",
              "\n",
              "    .dataframe tbody tr th {\n",
              "        vertical-align: top;\n",
              "    }\n",
              "\n",
              "    .dataframe thead th {\n",
              "        text-align: right;\n",
              "    }\n",
              "</style>\n",
              "<table border=\"1\" class=\"dataframe\">\n",
              "  <thead>\n",
              "    <tr style=\"text-align: right;\">\n",
              "      <th></th>\n",
              "      <th>HDI</th>\n",
              "      <th>District Name(in English)</th>\n",
              "      <th>Sub District Name(in English)</th>\n",
              "      <th>Village Name(in English)</th>\n",
              "      <th>Local Body Name(in English)</th>\n",
              "      <th>unique code</th>\n",
              "      <th>SHAPE_Leng</th>\n",
              "      <th>SHAPE_Area</th>\n",
              "      <th>geometry</th>\n",
              "      <th>image_path</th>\n",
              "      <th>y</th>\n",
              "      <th>y_pred</th>\n",
              "      <th>diff</th>\n",
              "      <th>num_pixel</th>\n",
              "    </tr>\n",
              "  </thead>\n",
              "  <tbody>\n",
              "    <tr>\n",
              "      <th>0</th>\n",
              "      <td>0.04171</td>\n",
              "      <td>shivamogga</td>\n",
              "      <td>sorab</td>\n",
              "      <td>balekoppa</td>\n",
              "      <td>tatturu</td>\n",
              "      <td>2956805516607494</td>\n",
              "      <td>6860.800144</td>\n",
              "      <td>1.549959e+06</td>\n",
              "      <td>POLYGON ((518810.7192450005 1601411.493338, 51...</td>\n",
              "      <td>/content/drive/My Drive/Landsat/29568055166074...</td>\n",
              "      <td>0.04171</td>\n",
              "      <td>0.406278</td>\n",
              "      <td>0.364568</td>\n",
              "      <td>8229.346581</td>\n",
              "    </tr>\n",
              "    <tr>\n",
              "      <th>1</th>\n",
              "      <td>0.06456</td>\n",
              "      <td>shivamogga</td>\n",
              "      <td>shivamogga</td>\n",
              "      <td>belagalu</td>\n",
              "      <td>umblebilu</td>\n",
              "      <td>2956805520608510</td>\n",
              "      <td>5543.765565</td>\n",
              "      <td>1.366471e+06</td>\n",
              "      <td>POLYGON ((554791.4985450004 1522096.741938, 55...</td>\n",
              "      <td>/content/drive/My Drive/Landsat/29568055206085...</td>\n",
              "      <td>0.06456</td>\n",
              "      <td>0.406033</td>\n",
              "      <td>0.341473</td>\n",
              "      <td>2676.090773</td>\n",
              "    </tr>\n",
              "    <tr>\n",
              "      <th>2</th>\n",
              "      <td>0.06803</td>\n",
              "      <td>uttarakannada</td>\n",
              "      <td>mundgod</td>\n",
              "      <td>veerapur</td>\n",
              "      <td>malagi</td>\n",
              "      <td>2956305482603089</td>\n",
              "      <td>8265.657717</td>\n",
              "      <td>1.955045e+06</td>\n",
              "      <td>POLYGON ((502722.1408450005 1628068.265438, 50...</td>\n",
              "      <td>/content/drive/My Drive/Landsat/29563054826030...</td>\n",
              "      <td>0.06803</td>\n",
              "      <td>0.408183</td>\n",
              "      <td>0.340153</td>\n",
              "      <td>4932.253401</td>\n",
              "    </tr>\n",
              "    <tr>\n",
              "      <th>3</th>\n",
              "      <td>0.12873</td>\n",
              "      <td>chamarajanagara</td>\n",
              "      <td>gundlupet</td>\n",
              "      <td>berambadistateforest</td>\n",
              "      <td>berambadi</td>\n",
              "      <td>2957805576619556</td>\n",
              "      <td>96341.233422</td>\n",
              "      <td>2.444253e+08</td>\n",
              "      <td>POLYGON ((667155.7107450005 1312881.293138, 66...</td>\n",
              "      <td>/content/drive/My Drive/Landsat/29578055766195...</td>\n",
              "      <td>0.12873</td>\n",
              "      <td>0.465751</td>\n",
              "      <td>0.337021</td>\n",
              "      <td>9816.910804</td>\n",
              "    </tr>\n",
              "    <tr>\n",
              "      <th>4</th>\n",
              "      <td>0.04304</td>\n",
              "      <td>uttarakannada</td>\n",
              "      <td>supa</td>\n",
              "      <td>kuveshi</td>\n",
              "      <td>bazaarkulang</td>\n",
              "      <td>2956305479602664</td>\n",
              "      <td>19384.635546</td>\n",
              "      <td>1.990181e+07</td>\n",
              "      <td>POLYGON ((430512.5735450005 1695187.951038, 43...</td>\n",
              "      <td>/content/drive/My Drive/Landsat/29563054796026...</td>\n",
              "      <td>0.04304</td>\n",
              "      <td>0.379121</td>\n",
              "      <td>0.336081</td>\n",
              "      <td>65053.310785</td>\n",
              "    </tr>\n",
              "  </tbody>\n",
              "</table>\n",
              "</div>"
            ],
            "text/plain": [
              "       HDI District Name(in English)  ...      diff     num_pixel\n",
              "0  0.04171                shivamogga  ...  0.364568   8229.346581\n",
              "1  0.06456                shivamogga  ...  0.341473   2676.090773\n",
              "2  0.06803             uttarakannada  ...  0.340153   4932.253401\n",
              "3  0.12873           chamarajanagara  ...  0.337021   9816.910804\n",
              "4  0.04304             uttarakannada  ...  0.336081  65053.310785\n",
              "\n",
              "[5 rows x 14 columns]"
            ]
          },
          "metadata": {
            "tags": []
          },
          "execution_count": 243
        }
      ]
    },
    {
      "cell_type": "code",
      "metadata": {
        "id": "Woep-luMTtG4",
        "outputId": "1257e70c-57a3-4004-85e8-0b69374801af",
        "colab": {
          "base_uri": "https://localhost:8080/",
          "height": 539
        }
      },
      "source": [
        "df_final.tail()"
      ],
      "execution_count": null,
      "outputs": [
        {
          "output_type": "execute_result",
          "data": {
            "text/html": [
              "<div>\n",
              "<style scoped>\n",
              "    .dataframe tbody tr th:only-of-type {\n",
              "        vertical-align: middle;\n",
              "    }\n",
              "\n",
              "    .dataframe tbody tr th {\n",
              "        vertical-align: top;\n",
              "    }\n",
              "\n",
              "    .dataframe thead th {\n",
              "        text-align: right;\n",
              "    }\n",
              "</style>\n",
              "<table border=\"1\" class=\"dataframe\">\n",
              "  <thead>\n",
              "    <tr style=\"text-align: right;\">\n",
              "      <th></th>\n",
              "      <th>HDI</th>\n",
              "      <th>District Name(in English)</th>\n",
              "      <th>Sub District Name(in English)</th>\n",
              "      <th>Village Name(in English)</th>\n",
              "      <th>Local Body Name(in English)</th>\n",
              "      <th>unique code</th>\n",
              "      <th>SHAPE_Leng</th>\n",
              "      <th>SHAPE_Area</th>\n",
              "      <th>geometry</th>\n",
              "      <th>image_path</th>\n",
              "      <th>y</th>\n",
              "      <th>y_pred</th>\n",
              "      <th>diff</th>\n",
              "      <th>num_pixel</th>\n",
              "    </tr>\n",
              "  </thead>\n",
              "  <tbody>\n",
              "    <tr>\n",
              "      <th>939</th>\n",
              "      <td>0.38761</td>\n",
              "      <td>tumakuru</td>\n",
              "      <td>madhugiri</td>\n",
              "      <td>doddagalihalli</td>\n",
              "      <td>gondihalli</td>\n",
              "      <td>2957105535610952</td>\n",
              "      <td>6254.107260</td>\n",
              "      <td>2.126059e+06</td>\n",
              "      <td>POLYGON ((748644.9707450005 1517008.206538, 74...</td>\n",
              "      <td>/content/drive/My Drive/Landsat/29571055356109...</td>\n",
              "      <td>0.38761</td>\n",
              "      <td>0.387060</td>\n",
              "      <td>0.000550</td>\n",
              "      <td>12400.113252</td>\n",
              "    </tr>\n",
              "    <tr>\n",
              "      <th>940</th>\n",
              "      <td>0.39145</td>\n",
              "      <td>koppal</td>\n",
              "      <td>koppal</td>\n",
              "      <td>kunikera</td>\n",
              "      <td>kunikeri</td>\n",
              "      <td>2956005467601777</td>\n",
              "      <td>16055.875991</td>\n",
              "      <td>1.487641e+07</td>\n",
              "      <td>POLYGON ((632291.6446450005 1692127.216138, 63...</td>\n",
              "      <td>/content/drive/My Drive/Landsat/29560054676017...</td>\n",
              "      <td>0.39145</td>\n",
              "      <td>0.391043</td>\n",
              "      <td>0.000407</td>\n",
              "      <td>17356.279634</td>\n",
              "    </tr>\n",
              "    <tr>\n",
              "      <th>941</th>\n",
              "      <td>0.43359</td>\n",
              "      <td>kolar</td>\n",
              "      <td>mulbagal</td>\n",
              "      <td>batrahalli</td>\n",
              "      <td>alangur</td>\n",
              "      <td>2958105594623003</td>\n",
              "      <td>6762.333237</td>\n",
              "      <td>2.501581e+06</td>\n",
              "      <td>POLYGON ((875571.7962450004 1460552.904638, 87...</td>\n",
              "      <td>/content/drive/My Drive/Landsat/29581055946230...</td>\n",
              "      <td>0.43359</td>\n",
              "      <td>0.433959</td>\n",
              "      <td>0.000369</td>\n",
              "      <td>2273.417774</td>\n",
              "    </tr>\n",
              "    <tr>\n",
              "      <th>942</th>\n",
              "      <td>0.39137</td>\n",
              "      <td>mandya</td>\n",
              "      <td>krishnarajpet</td>\n",
              "      <td>mandalekanahalli</td>\n",
              "      <td>aikanahalli</td>\n",
              "      <td>2957305546613373</td>\n",
              "      <td>5072.338958</td>\n",
              "      <td>1.393061e+06</td>\n",
              "      <td>POLYGON ((653321.5132450005 1416443.780838, 65...</td>\n",
              "      <td>/content/drive/My Drive/Landsat/29573055466133...</td>\n",
              "      <td>0.39137</td>\n",
              "      <td>0.391713</td>\n",
              "      <td>0.000343</td>\n",
              "      <td>65720.181522</td>\n",
              "    </tr>\n",
              "    <tr>\n",
              "      <th>943</th>\n",
              "      <td>0.40898</td>\n",
              "      <td>chikkamagaluru</td>\n",
              "      <td>mudigere</td>\n",
              "      <td>kademadkal</td>\n",
              "      <td>hesagal</td>\n",
              "      <td>2957005531609962</td>\n",
              "      <td>8876.245382</td>\n",
              "      <td>3.546379e+06</td>\n",
              "      <td>POLYGON ((574404.3907450004 1455273.171438, 57...</td>\n",
              "      <td>/content/drive/My Drive/Landsat/29570055316099...</td>\n",
              "      <td>0.40898</td>\n",
              "      <td>0.408671</td>\n",
              "      <td>0.000309</td>\n",
              "      <td>27244.221174</td>\n",
              "    </tr>\n",
              "  </tbody>\n",
              "</table>\n",
              "</div>"
            ],
            "text/plain": [
              "         HDI District Name(in English)  ...      diff     num_pixel\n",
              "939  0.38761                  tumakuru  ...  0.000550  12400.113252\n",
              "940  0.39145                    koppal  ...  0.000407  17356.279634\n",
              "941  0.43359                     kolar  ...  0.000369   2273.417774\n",
              "942  0.39137                    mandya  ...  0.000343  65720.181522\n",
              "943  0.40898            chikkamagaluru  ...  0.000309  27244.221174\n",
              "\n",
              "[5 rows x 14 columns]"
            ]
          },
          "metadata": {
            "tags": []
          },
          "execution_count": 244
        }
      ]
    },
    {
      "cell_type": "code",
      "metadata": {
        "id": "BOhgu_MmhpzG"
      },
      "source": [
        "df_final.to_csv('/content/drive/My Drive/post_training_analysis.csv')"
      ],
      "execution_count": null,
      "outputs": []
    },
    {
      "cell_type": "code",
      "metadata": {
        "id": "wjUo91cviNI9"
      },
      "source": [
        "df_final = pd.read_csv('/content/drive/My Drive/post_training_analysis.csv')"
      ],
      "execution_count": null,
      "outputs": []
    },
    {
      "cell_type": "code",
      "metadata": {
        "id": "J4l3oaHbOtYv",
        "outputId": "c73209e4-c879-43e7-9c17-b817b663089b",
        "colab": {
          "base_uri": "https://localhost:8080/",
          "height": 300
        }
      },
      "source": [
        "df_final.describe()"
      ],
      "execution_count": null,
      "outputs": [
        {
          "output_type": "execute_result",
          "data": {
            "text/html": [
              "<div>\n",
              "<style scoped>\n",
              "    .dataframe tbody tr th:only-of-type {\n",
              "        vertical-align: middle;\n",
              "    }\n",
              "\n",
              "    .dataframe tbody tr th {\n",
              "        vertical-align: top;\n",
              "    }\n",
              "\n",
              "    .dataframe thead th {\n",
              "        text-align: right;\n",
              "    }\n",
              "</style>\n",
              "<table border=\"1\" class=\"dataframe\">\n",
              "  <thead>\n",
              "    <tr style=\"text-align: right;\">\n",
              "      <th></th>\n",
              "      <th>Unnamed: 0</th>\n",
              "      <th>HDI</th>\n",
              "      <th>unique code</th>\n",
              "      <th>SHAPE_Leng</th>\n",
              "      <th>SHAPE_Area</th>\n",
              "      <th>y</th>\n",
              "      <th>y_pred</th>\n",
              "      <th>diff</th>\n",
              "      <th>num_pixel</th>\n",
              "    </tr>\n",
              "  </thead>\n",
              "  <tbody>\n",
              "    <tr>\n",
              "      <th>count</th>\n",
              "      <td>944.000000</td>\n",
              "      <td>944.000000</td>\n",
              "      <td>9.440000e+02</td>\n",
              "      <td>944.000000</td>\n",
              "      <td>9.440000e+02</td>\n",
              "      <td>944.000000</td>\n",
              "      <td>944.000000</td>\n",
              "      <td>944.000000</td>\n",
              "      <td>944.000000</td>\n",
              "    </tr>\n",
              "    <tr>\n",
              "      <th>mean</th>\n",
              "      <td>471.500000</td>\n",
              "      <td>0.405577</td>\n",
              "      <td>2.957085e+15</td>\n",
              "      <td>10965.039557</td>\n",
              "      <td>6.500187e+06</td>\n",
              "      <td>0.405577</td>\n",
              "      <td>0.407065</td>\n",
              "      <td>0.080659</td>\n",
              "      <td>6065.306622</td>\n",
              "    </tr>\n",
              "    <tr>\n",
              "      <th>std</th>\n",
              "      <td>272.653626</td>\n",
              "      <td>0.106423</td>\n",
              "      <td>8.291601e+11</td>\n",
              "      <td>6489.741222</td>\n",
              "      <td>1.061206e+07</td>\n",
              "      <td>0.106423</td>\n",
              "      <td>0.028678</td>\n",
              "      <td>0.063919</td>\n",
              "      <td>6436.651366</td>\n",
              "    </tr>\n",
              "    <tr>\n",
              "      <th>min</th>\n",
              "      <td>0.000000</td>\n",
              "      <td>0.041710</td>\n",
              "      <td>2.955505e+15</td>\n",
              "      <td>633.375529</td>\n",
              "      <td>8.364195e+03</td>\n",
              "      <td>0.041710</td>\n",
              "      <td>0.308994</td>\n",
              "      <td>0.000309</td>\n",
              "      <td>5.488597</td>\n",
              "    </tr>\n",
              "    <tr>\n",
              "      <th>25%</th>\n",
              "      <td>235.750000</td>\n",
              "      <td>0.343125</td>\n",
              "      <td>2.956506e+15</td>\n",
              "      <td>6654.596334</td>\n",
              "      <td>2.024476e+06</td>\n",
              "      <td>0.343125</td>\n",
              "      <td>0.392455</td>\n",
              "      <td>0.032531</td>\n",
              "      <td>2228.728632</td>\n",
              "    </tr>\n",
              "    <tr>\n",
              "      <th>50%</th>\n",
              "      <td>471.500000</td>\n",
              "      <td>0.421820</td>\n",
              "      <td>2.957106e+15</td>\n",
              "      <td>9465.749559</td>\n",
              "      <td>3.955927e+06</td>\n",
              "      <td>0.421820</td>\n",
              "      <td>0.405249</td>\n",
              "      <td>0.067347</td>\n",
              "      <td>4031.143602</td>\n",
              "    </tr>\n",
              "    <tr>\n",
              "      <th>75%</th>\n",
              "      <td>707.250000</td>\n",
              "      <td>0.480535</td>\n",
              "      <td>2.957706e+15</td>\n",
              "      <td>13754.356337</td>\n",
              "      <td>7.520856e+06</td>\n",
              "      <td>0.480535</td>\n",
              "      <td>0.419748</td>\n",
              "      <td>0.114160</td>\n",
              "      <td>7710.371549</td>\n",
              "    </tr>\n",
              "    <tr>\n",
              "      <th>max</th>\n",
              "      <td>943.000000</td>\n",
              "      <td>0.653830</td>\n",
              "      <td>2.958406e+15</td>\n",
              "      <td>96341.233423</td>\n",
              "      <td>2.444253e+08</td>\n",
              "      <td>0.653830</td>\n",
              "      <td>0.475150</td>\n",
              "      <td>0.364568</td>\n",
              "      <td>65720.181522</td>\n",
              "    </tr>\n",
              "  </tbody>\n",
              "</table>\n",
              "</div>"
            ],
            "text/plain": [
              "       Unnamed: 0         HDI  ...        diff     num_pixel\n",
              "count  944.000000  944.000000  ...  944.000000    944.000000\n",
              "mean   471.500000    0.405577  ...    0.080659   6065.306622\n",
              "std    272.653626    0.106423  ...    0.063919   6436.651366\n",
              "min      0.000000    0.041710  ...    0.000309      5.488597\n",
              "25%    235.750000    0.343125  ...    0.032531   2228.728632\n",
              "50%    471.500000    0.421820  ...    0.067347   4031.143602\n",
              "75%    707.250000    0.480535  ...    0.114160   7710.371549\n",
              "max    943.000000    0.653830  ...    0.364568  65720.181522\n",
              "\n",
              "[8 rows x 9 columns]"
            ]
          },
          "metadata": {
            "tags": []
          },
          "execution_count": 264
        }
      ]
    },
    {
      "cell_type": "code",
      "metadata": {
        "id": "tmWOqXOrQLhg",
        "outputId": "28dffc6e-e741-4ec5-ec37-567bd4937af8",
        "colab": {
          "base_uri": "https://localhost:8080/",
          "height": 483
        }
      },
      "source": [
        "import matplotlib.pyplot as plt\n",
        "from rasterio.plot import show\n",
        "\n",
        "plt.figure(figsize=(10,8))\n",
        "# the file has been downloaded from drive to show here\n",
        "image_h = rasterio.open(df_final['image_path'].iloc[4])\n",
        "show(image_h, adjust='linear')\n",
        "plt.show()"
      ],
      "execution_count": null,
      "outputs": [
        {
          "output_type": "display_data",
          "data": {
            "image/png": "[encoded data removed]",
            "text/plain": [
              "<Figure size 720x576 with 1 Axes>"
            ]
          },
          "metadata": {
            "tags": [],
            "needs_background": "light"
          }
        }
      ]
    },
    {
      "cell_type": "code",
      "metadata": {
        "id": "_-E9Y0bIVu2w",
        "outputId": "41c2fd31-095a-4646-d41a-84fa31620646",
        "colab": {
          "base_uri": "https://localhost:8080/",
          "height": 344
        }
      },
      "source": [
        "plt.figure(figsize=(10,8))\n",
        "# the file has been downloaded from drive to show here\n",
        "image = rasterio.open(df_final['image_path'].iloc[-2])\n",
        "show(image, adjust='linear')\n",
        "plt.show()"
      ],
      "execution_count": null,
      "outputs": [
        {
          "output_type": "display_data",
          "data": {
            "image/png": "[encoded data removed]",
            "text/plain": [
              "<Figure size 720x576 with 1 Axes>"
            ]
          },
          "metadata": {
            "tags": [],
            "needs_background": "light"
          }
        }
      ]
    },
    {
      "cell_type": "code",
      "metadata": {
        "id": "hg2EdXXTQqQ2",
        "outputId": "b3e898ca-2646-4956-acb3-b4c044e0d3d5",
        "colab": {
          "base_uri": "https://localhost:8080/",
          "height": 351
        }
      },
      "source": [
        "sns.distplot(df_final['y'])"
      ],
      "execution_count": null,
      "outputs": [
        {
          "output_type": "stream",
          "text": [
            "/usr/local/lib/python3.6/dist-packages/seaborn/distributions.py:2551: FutureWarning: `distplot` is a deprecated function and will be removed in a future version. Please adapt your code to use either `displot` (a figure-level function with similar flexibility) or `histplot` (an axes-level function for histograms).\n",
            "  warnings.warn(msg, FutureWarning)\n"
          ],
          "name": "stderr"
        },
        {
          "output_type": "execute_result",
          "data": {
            "text/plain": [
              "<matplotlib.axes._subplots.AxesSubplot at 0x7f43b5e58e48>"
            ]
          },
          "metadata": {
            "tags": []
          },
          "execution_count": 235
        },
        {
          "output_type": "display_data",
          "data": {
            "image/png": "[encoded data removed]",
            "text/plain": [
              "<Figure size 432x288 with 1 Axes>"
            ]
          },
          "metadata": {
            "tags": [],
            "needs_background": "light"
          }
        }
      ]
    },
    {
      "cell_type": "code",
      "metadata": {
        "id": "h7GyqYGfSx7_",
        "outputId": "fc7c0442-037d-4a11-95f8-842b9dfa672a",
        "colab": {
          "base_uri": "https://localhost:8080/",
          "height": 337
        }
      },
      "source": [
        "sns.distplot(df_final['y_pred']);"
      ],
      "execution_count": null,
      "outputs": [
        {
          "output_type": "stream",
          "text": [
            "/usr/local/lib/python3.6/dist-packages/seaborn/distributions.py:2551: FutureWarning: `distplot` is a deprecated function and will be removed in a future version. Please adapt your code to use either `displot` (a figure-level function with similar flexibility) or `histplot` (an axes-level function for histograms).\n",
            "  warnings.warn(msg, FutureWarning)\n"
          ],
          "name": "stderr"
        },
        {
          "output_type": "display_data",
          "data": {
            "image/png": "[encoded data removed]",
            "text/plain": [
              "<Figure size 432x288 with 1 Axes>"
            ]
          },
          "metadata": {
            "tags": [],
            "needs_background": "light"
          }
        }
      ]
    },
    {
      "cell_type": "code",
      "metadata": {
        "id": "7fzkdZ0gS2do",
        "outputId": "2f829e8d-c93c-4e91-d9e6-15dd1f351231",
        "colab": {
          "base_uri": "https://localhost:8080/",
          "height": 351
        }
      },
      "source": [
        "sns.distplot(df_final['diff'])"
      ],
      "execution_count": null,
      "outputs": [
        {
          "output_type": "stream",
          "text": [
            "/usr/local/lib/python3.6/dist-packages/seaborn/distributions.py:2551: FutureWarning: `distplot` is a deprecated function and will be removed in a future version. Please adapt your code to use either `displot` (a figure-level function with similar flexibility) or `histplot` (an axes-level function for histograms).\n",
            "  warnings.warn(msg, FutureWarning)\n"
          ],
          "name": "stderr"
        },
        {
          "output_type": "execute_result",
          "data": {
            "text/plain": [
              "<matplotlib.axes._subplots.AxesSubplot at 0x7f43b5335128>"
            ]
          },
          "metadata": {
            "tags": []
          },
          "execution_count": 237
        },
        {
          "output_type": "display_data",
          "data": {
            "image/png": "[encoded data removed]",
            "text/plain": [
              "<Figure size 432x288 with 1 Axes>"
            ]
          },
          "metadata": {
            "tags": [],
            "needs_background": "light"
          }
        }
      ]
    },
    {
      "cell_type": "code",
      "metadata": {
        "id": "topbuywzTeHO",
        "outputId": "e3e317f5-57fb-48dd-a790-c3d11d5379c7",
        "colab": {
          "base_uri": "https://localhost:8080/",
          "height": 238
        }
      },
      "source": [
        "df_corr = df_final.corr()# irrelevant fields\n",
        "fields = ['unique code', 'HDI']# drop rows\n",
        "df_corr.drop(fields, inplace=True)# drop cols\n",
        "df_corr.drop(fields, axis=1, inplace=True)\n",
        "df_corr"
      ],
      "execution_count": null,
      "outputs": [
        {
          "output_type": "execute_result",
          "data": {
            "text/html": [
              "<div>\n",
              "<style scoped>\n",
              "    .dataframe tbody tr th:only-of-type {\n",
              "        vertical-align: middle;\n",
              "    }\n",
              "\n",
              "    .dataframe tbody tr th {\n",
              "        vertical-align: top;\n",
              "    }\n",
              "\n",
              "    .dataframe thead th {\n",
              "        text-align: right;\n",
              "    }\n",
              "</style>\n",
              "<table border=\"1\" class=\"dataframe\">\n",
              "  <thead>\n",
              "    <tr style=\"text-align: right;\">\n",
              "      <th></th>\n",
              "      <th>SHAPE_Leng</th>\n",
              "      <th>SHAPE_Area</th>\n",
              "      <th>y</th>\n",
              "      <th>y_pred</th>\n",
              "      <th>diff</th>\n",
              "      <th>num_pixel</th>\n",
              "    </tr>\n",
              "  </thead>\n",
              "  <tbody>\n",
              "    <tr>\n",
              "      <th>SHAPE_Leng</th>\n",
              "      <td>1.000000</td>\n",
              "      <td>0.865466</td>\n",
              "      <td>0.001102</td>\n",
              "      <td>0.016692</td>\n",
              "      <td>-0.018077</td>\n",
              "      <td>-0.024448</td>\n",
              "    </tr>\n",
              "    <tr>\n",
              "      <th>SHAPE_Area</th>\n",
              "      <td>0.865466</td>\n",
              "      <td>1.000000</td>\n",
              "      <td>-0.080723</td>\n",
              "      <td>-0.040392</td>\n",
              "      <td>0.041211</td>\n",
              "      <td>0.002701</td>\n",
              "    </tr>\n",
              "    <tr>\n",
              "      <th>y</th>\n",
              "      <td>0.001102</td>\n",
              "      <td>-0.080723</td>\n",
              "      <td>1.000000</td>\n",
              "      <td>0.254271</td>\n",
              "      <td>-0.361068</td>\n",
              "      <td>-0.019093</td>\n",
              "    </tr>\n",
              "    <tr>\n",
              "      <th>y_pred</th>\n",
              "      <td>0.016692</td>\n",
              "      <td>-0.040392</td>\n",
              "      <td>0.254271</td>\n",
              "      <td>1.000000</td>\n",
              "      <td>0.044505</td>\n",
              "      <td>-0.001470</td>\n",
              "    </tr>\n",
              "    <tr>\n",
              "      <th>diff</th>\n",
              "      <td>-0.018077</td>\n",
              "      <td>0.041211</td>\n",
              "      <td>-0.361068</td>\n",
              "      <td>0.044505</td>\n",
              "      <td>1.000000</td>\n",
              "      <td>0.002876</td>\n",
              "    </tr>\n",
              "    <tr>\n",
              "      <th>num_pixel</th>\n",
              "      <td>-0.024448</td>\n",
              "      <td>0.002701</td>\n",
              "      <td>-0.019093</td>\n",
              "      <td>-0.001470</td>\n",
              "      <td>0.002876</td>\n",
              "      <td>1.000000</td>\n",
              "    </tr>\n",
              "  </tbody>\n",
              "</table>\n",
              "</div>"
            ],
            "text/plain": [
              "            SHAPE_Leng  SHAPE_Area         y    y_pred      diff  num_pixel\n",
              "SHAPE_Leng    1.000000    0.865466  0.001102  0.016692 -0.018077  -0.024448\n",
              "SHAPE_Area    0.865466    1.000000 -0.080723 -0.040392  0.041211   0.002701\n",
              "y             0.001102   -0.080723  1.000000  0.254271 -0.361068  -0.019093\n",
              "y_pred        0.016692   -0.040392  0.254271  1.000000  0.044505  -0.001470\n",
              "diff         -0.018077    0.041211 -0.361068  0.044505  1.000000   0.002876\n",
              "num_pixel    -0.024448    0.002701 -0.019093 -0.001470  0.002876   1.000000"
            ]
          },
          "metadata": {
            "tags": []
          },
          "execution_count": 252
        }
      ]
    }
  ]
}