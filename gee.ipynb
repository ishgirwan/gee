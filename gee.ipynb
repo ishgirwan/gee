{
  "nbformat": 4,
  "nbformat_minor": 0,
  "metadata": {
    "colab": {
      "name": "gee.ipynb",
      "provenance": [],
      "authorship_tag": "ABX9TyNLnXco3ArnaByLRwiTDi0/",
      "include_colab_link": true
    },
    "kernelspec": {
      "name": "python3",
      "display_name": "Python 3"
    },
    "widgets": {
      "application/vnd.jupyter.widget-state+json": {
        "7a4eb65341c94b7296e91527d2e2c34f": {
          "model_module": "jupyter-leaflet",
          "model_name": "LeafletMapModel",
          "state": {
            "_view_name": "LeafletMapView",
            "keyboard_pan_offset": 80,
            "right": 0,
            "tap": true,
            "_view_module": "jupyter-leaflet",
            "max_zoom": 18,
            "_model_module_version": "^0.13.2",
            "_view_count": null,
            "zoom_snap": 1,
            "min_zoom": 1,
            "bounce_at_zoom_limits": true,
            "keyboard": true,
            "north": 0,
            "scroll_wheel_zoom": true,
            "dragging": true,
            "_model_module": "jupyter-leaflet",
            "zoom_delta": 1,
            "close_popup_on_click": true,
            "fullscreen": false,
            "style": "IPY_MODEL_9732217ddfb7497da506bb5e408c4d52",
            "layout": "IPY_MODEL_abe481eb66c3487ebddb566e9eacbdb7",
            "bottom": 0,
            "inertia_max_speed": 1500,
            "top": 9007199254740991,
            "box_zoom": true,
            "controls": [
              "IPY_MODEL_58a801198ccc4247a73def688fcc135f",
              "IPY_MODEL_684cf0679cbe4c43b64c8a5d783174a6",
              "IPY_MODEL_52f0d140f109424c9cb6e05ad391ebce",
              "IPY_MODEL_37f785b7c7844f8a9f9a9b13320144a9",
              "IPY_MODEL_3868d3fa5b7d41bb892f46fdf60907ac",
              "IPY_MODEL_7fcecb59e67943409a995f39f113f58b",
              "IPY_MODEL_69352e70ce5e448a9f1850c6b11870b7",
              "IPY_MODEL_f034627dadea474c92c19de2a3884362",
              "IPY_MODEL_5a13d1ee86d84bae8e07406385e40601",
              "IPY_MODEL_49f6555b39b646a9879d34051694baa0",
              "IPY_MODEL_076c83d5a3ee450d94d9e30050423fcb",
              "IPY_MODEL_fff9cfed4311486989dd5faac6c39eb5",
              "IPY_MODEL_ea692b3e8fea409983cce7f37f2ccb26"
            ],
            "default_style": "IPY_MODEL_5dbb132fed62491db1c15b30e1d9b80e",
            "east": 0,
            "double_click_zoom": true,
            "interpolation": "bilinear",
            "layers": [
              "IPY_MODEL_bf2a4dd143a540a8b87cbd8952f5e776",
              "IPY_MODEL_36e02a4d77d54796bad63c39f0f201d5",
              "IPY_MODEL_c28ec8309735458cbeba9ebd28650917"
            ],
            "dragging_style": "IPY_MODEL_346119a5b5684296bcc3565b7dd715a1",
            "_dom_classes": [],
            "zoom_animation_threshold": 4,
            "_model_name": "LeafletMapModel",
            "zoom_start": 12,
            "modisdate": "yesterday",
            "keyboard_zoom_offset": 1,
            "inertia_deceleration": 3000,
            "inertia": true,
            "crs": {
              "name": "EPSG3857",
              "custom": false
            },
            "center": [
              -21.602387946052122,
              60.14537368628781
            ],
            "zoom": 4,
            "world_copy_jump": false,
            "_view_module_version": "^0.13.2",
            "window_url": "",
            "tap_tolerance": 15,
            "west": 0,
            "touch_zoom": true,
            "options": [
              "bounce_at_zoom_limits",
              "box_zoom",
              "center",
              "close_popup_on_click",
              "double_click_zoom",
              "dragging",
              "fullscreen",
              "inertia",
              "inertia_deceleration",
              "inertia_max_speed",
              "interpolation",
              "keyboard",
              "keyboard_pan_offset",
              "keyboard_zoom_offset",
              "max_zoom",
              "min_zoom",
              "scroll_wheel_zoom",
              "tap",
              "tap_tolerance",
              "touch_zoom",
              "world_copy_jump",
              "zoom",
              "zoom_animation_threshold",
              "zoom_delta",
              "zoom_snap",
              "zoom_start"
            ],
            "south": 0,
            "left": 9007199254740991
          }
        }
      }
    }
  },
  "cells": [
    {
      "cell_type": "markdown",
      "metadata": {
        "id": "view-in-github",
        "colab_type": "text"
      },
      "source": [
        "<a href=\"https://colab.research.google.com/github/ishgirwan/gee/blob/master/gee.ipynb\" target=\"_parent\"><img src=\"https://colab.research.google.com/assets/colab-badge.svg\" alt=\"Open In Colab\"/></a>"
      ]
    },
    {
      "cell_type": "code",
      "metadata": {
        "id": "Q6vL00I30HUz",
        "colab_type": "code",
        "colab": {}
      },
      "source": [
        "from google.colab import drive\n",
        "drive.mount('/content/drive')"
      ],
      "execution_count": null,
      "outputs": []
    },
    {
      "cell_type": "code",
      "metadata": {
        "id": "KhKBb4Cs1nri",
        "colab_type": "code",
        "colab": {}
      },
      "source": [
        "import ee\n",
        "# Trigger the authentication flow.\n",
        "ee.Authenticate()\n",
        "\n",
        "# Initialize the library.\n",
        "ee.Initialize()"
      ],
      "execution_count": null,
      "outputs": []
    },
    {
      "cell_type": "code",
      "metadata": {
        "id": "B9LkXZH71_oS",
        "colab_type": "code",
        "colab": {}
      },
      "source": [
        "!pip install geopandas\n",
        "!pip install rasterio\n",
        "!pip install geemap"
      ],
      "execution_count": null,
      "outputs": []
    },
    {
      "cell_type": "code",
      "metadata": {
        "id": "1asGNFg_2PTs",
        "colab_type": "code",
        "colab": {}
      },
      "source": [
        "import numpy as np\n",
        "import geopandas as gpd\n",
        "\n",
        "# visualisation\n",
        "import matplotlib.pyplot as plt\n",
        "import geemap\n",
        "from rasterio.plot import show\n",
        "import rasterio"
      ],
      "execution_count": 4,
      "outputs": []
    },
    {
      "cell_type": "code",
      "metadata": {
        "id": "zmOyIdod3oaU",
        "colab_type": "code",
        "colab": {
          "resources": {
            "http://localhost:8080/nbextensions/google.colab/files.js": {
              "data": "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",
              "ok": true,
              "headers": [
                [
                  "content-type",
                  "application/javascript"
                ]
              ],
              "status": 200,
              "status_text": ""
            }
          },
          "base_uri": "https://localhost:8080/",
          "height": 443
        },
        "outputId": "0a6cad63-0958-4e2a-a00d-c246367c42f2"
      },
      "source": [
        "from google.colab import files\n",
        "\n",
        "uploaded = files.upload()\n",
        "\n",
        "for fn in uploaded.keys():\n",
        "  print('User uploaded file \"{name}\" with length {length} bytes'.format(\n",
        "      name=fn, length=len(uploaded[fn])))"
      ],
      "execution_count": 5,
      "outputs": [
        {
          "output_type": "display_data",
          "data": {
            "text/html": [
              "\n",
              "     <input type=\"file\" id=\"files-b6c593ff-d049-4d7a-a322-657e13067ce7\" name=\"files[]\" multiple disabled\n",
              "        style=\"border:none\" />\n",
              "     <output id=\"result-b6c593ff-d049-4d7a-a322-657e13067ce7\">\n",
              "      Upload widget is only available when the cell has been executed in the\n",
              "      current browser session. Please rerun this cell to enable.\n",
              "      </output>\n",
              "      <script src=\"/nbextensions/google.colab/files.js\"></script> "
            ],
            "text/plain": [
              "<IPython.core.display.HTML object>"
            ]
          },
          "metadata": {
            "tags": []
          }
        },
        {
          "output_type": "stream",
          "text": [
            "Saving Bengaluru_Rural.cpg to Bengaluru_Rural.cpg\n",
            "Saving Bengaluru_Rural.dbf to Bengaluru_Rural.dbf\n",
            "Saving Bengaluru_Rural.prj to Bengaluru_Rural.prj\n",
            "Saving Bengaluru_Rural.sbn to Bengaluru_Rural.sbn\n",
            "Saving Bengaluru_Rural.sbx to Bengaluru_Rural.sbx\n",
            "Saving Bengaluru_Rural.shp to Bengaluru_Rural.shp\n",
            "Saving Bengaluru_Rural.shp.xml to Bengaluru_Rural.shp.xml\n",
            "Saving Bengaluru_Rural.shx to Bengaluru_Rural.shx\n",
            "User uploaded file \"Bengaluru_Rural.cpg\" with length 5 bytes\n",
            "User uploaded file \"Bengaluru_Rural.dbf\" with length 913140 bytes\n",
            "User uploaded file \"Bengaluru_Rural.prj\" with length 401 bytes\n",
            "User uploaded file \"Bengaluru_Rural.sbn\" with length 12492 bytes\n",
            "User uploaded file \"Bengaluru_Rural.sbx\" with length 1124 bytes\n",
            "User uploaded file \"Bengaluru_Rural.shp\" with length 2576592 bytes\n",
            "User uploaded file \"Bengaluru_Rural.shp.xml\" with length 156955 bytes\n",
            "User uploaded file \"Bengaluru_Rural.shx\" with length 9484 bytes\n"
          ],
          "name": "stdout"
        }
      ]
    },
    {
      "cell_type": "code",
      "metadata": {
        "id": "l92Jzp9K3pHc",
        "colab_type": "code",
        "colab": {
          "base_uri": "https://localhost:8080/",
          "height": 564
        },
        "outputId": "e8887d42-c79d-450c-d3a4-f2642c05c6cc"
      },
      "source": [
        "villages = gpd.read_file('Bengaluru_Rural.shp')\n",
        "villages.sample(5)"
      ],
      "execution_count": 7,
      "outputs": [
        {
          "output_type": "execute_result",
          "data": {
            "text/html": [
              "<div>\n",
              "<style scoped>\n",
              "    .dataframe tbody tr th:only-of-type {\n",
              "        vertical-align: middle;\n",
              "    }\n",
              "\n",
              "    .dataframe tbody tr th {\n",
              "        vertical-align: top;\n",
              "    }\n",
              "\n",
              "    .dataframe thead th {\n",
              "        text-align: right;\n",
              "    }\n",
              "</style>\n",
              "<table border=\"1\" class=\"dataframe\">\n",
              "  <thead>\n",
              "    <tr style=\"text-align: right;\">\n",
              "      <th></th>\n",
              "      <th>KGISVillag</th>\n",
              "      <th>KGISVill_1</th>\n",
              "      <th>KGISVill_2</th>\n",
              "      <th>KGISHobliI</th>\n",
              "      <th>UniqueVill</th>\n",
              "      <th>Bhucode</th>\n",
              "      <th>CensusVill</th>\n",
              "      <th>BhoomiVill</th>\n",
              "      <th>created_us</th>\n",
              "      <th>created_da</th>\n",
              "      <th>last_edite</th>\n",
              "      <th>last_edi_1</th>\n",
              "      <th>LGDGPCode</th>\n",
              "      <th>LGDGPCode_</th>\n",
              "      <th>SHAPE_Leng</th>\n",
              "      <th>SHAPE_Area</th>\n",
              "      <th>geometry</th>\n",
              "    </tr>\n",
              "  </thead>\n",
              "  <tbody>\n",
              "    <tr>\n",
              "      <th>130</th>\n",
              "      <td>20114</td>\n",
              "      <td>2103020058</td>\n",
              "      <td>Udayagiri</td>\n",
              "      <td>497</td>\n",
              "      <td>2103020058_1</td>\n",
              "      <td>210301002058</td>\n",
              "      <td>2958305603625400</td>\n",
              "      <td>2103020058</td>\n",
              "      <td>SA</td>\n",
              "      <td>2019-04-23</td>\n",
              "      <td>SA</td>\n",
              "      <td>2019-04-23</td>\n",
              "      <td>215424</td>\n",
              "      <td>None</td>\n",
              "      <td>5645.118269</td>\n",
              "      <td>1.333830e+06</td>\n",
              "      <td>POLYGON ((790450.246 1461805.301, 790378.462 1...</td>\n",
              "    </tr>\n",
              "    <tr>\n",
              "      <th>1005</th>\n",
              "      <td>21011</td>\n",
              "      <td>2101020036</td>\n",
              "      <td>Channohalli</td>\n",
              "      <td>936</td>\n",
              "      <td>2101020036_1</td>\n",
              "      <td>210101002016</td>\n",
              "      <td>2958305601624736</td>\n",
              "      <td>2101020036</td>\n",
              "      <td>SA</td>\n",
              "      <td>2019-04-23</td>\n",
              "      <td>SA</td>\n",
              "      <td>2019-04-23</td>\n",
              "      <td>215591</td>\n",
              "      <td>None</td>\n",
              "      <td>4319.555037</td>\n",
              "      <td>8.446296e+05</td>\n",
              "      <td>POLYGON ((742346.581 1467412.230, 742418.384 1...</td>\n",
              "    </tr>\n",
              "    <tr>\n",
              "      <th>392</th>\n",
              "      <td>20387</td>\n",
              "      <td>2102040048</td>\n",
              "      <td>Sonnenahalli</td>\n",
              "      <td>231</td>\n",
              "      <td>2102040048_1</td>\n",
              "      <td>210201001060</td>\n",
              "      <td>2958305602625194</td>\n",
              "      <td>2102040048</td>\n",
              "      <td>SA</td>\n",
              "      <td>2019-04-23</td>\n",
              "      <td>SA</td>\n",
              "      <td>2019-04-23</td>\n",
              "      <td>215470</td>\n",
              "      <td>None</td>\n",
              "      <td>4484.187693</td>\n",
              "      <td>4.624012e+05</td>\n",
              "      <td>POLYGON ((761679.559 1470592.204, 761678.750 1...</td>\n",
              "    </tr>\n",
              "    <tr>\n",
              "      <th>97</th>\n",
              "      <td>20081</td>\n",
              "      <td>2103020034</td>\n",
              "      <td>J.I.Kempalinganahalli</td>\n",
              "      <td>497</td>\n",
              "      <td>2103020034_1</td>\n",
              "      <td>210301002030</td>\n",
              "      <td>2958305603625385</td>\n",
              "      <td>2103020034</td>\n",
              "      <td>SA</td>\n",
              "      <td>2019-04-23</td>\n",
              "      <td>SA</td>\n",
              "      <td>2019-04-23</td>\n",
              "      <td>215436</td>\n",
              "      <td>None</td>\n",
              "      <td>3190.387741</td>\n",
              "      <td>5.693834e+05</td>\n",
              "      <td>POLYGON ((789024.615 1464991.249, 789020.856 1...</td>\n",
              "    </tr>\n",
              "    <tr>\n",
              "      <th>1099</th>\n",
              "      <td>21106</td>\n",
              "      <td>2101060001</td>\n",
              "      <td>J.I.Lakkappanahalli</td>\n",
              "      <td>985</td>\n",
              "      <td>2101060001_1</td>\n",
              "      <td>210101003029</td>\n",
              "      <td>2958305601624814</td>\n",
              "      <td>2101060001</td>\n",
              "      <td>SA</td>\n",
              "      <td>2019-04-23</td>\n",
              "      <td>SA</td>\n",
              "      <td>2019-04-23</td>\n",
              "      <td>215581</td>\n",
              "      <td>None</td>\n",
              "      <td>5053.439503</td>\n",
              "      <td>1.361698e+06</td>\n",
              "      <td>POLYGON ((757149.619 1461080.200, 757148.067 1...</td>\n",
              "    </tr>\n",
              "  </tbody>\n",
              "</table>\n",
              "</div>"
            ],
            "text/plain": [
              "      KGISVillag  ...                                           geometry\n",
              "130        20114  ...  POLYGON ((790450.246 1461805.301, 790378.462 1...\n",
              "1005       21011  ...  POLYGON ((742346.581 1467412.230, 742418.384 1...\n",
              "392        20387  ...  POLYGON ((761679.559 1470592.204, 761678.750 1...\n",
              "97         20081  ...  POLYGON ((789024.615 1464991.249, 789020.856 1...\n",
              "1099       21106  ...  POLYGON ((757149.619 1461080.200, 757148.067 1...\n",
              "\n",
              "[5 rows x 17 columns]"
            ]
          },
          "metadata": {
            "tags": []
          },
          "execution_count": 7
        }
      ]
    },
    {
      "cell_type": "code",
      "metadata": {
        "id": "jgk-FDrt4djH",
        "colab_type": "code",
        "colab": {
          "base_uri": "https://localhost:8080/",
          "height": 425
        },
        "outputId": "6942ac63-cc8c-48c2-fb58-864a7de14596"
      },
      "source": [
        "villages.info()"
      ],
      "execution_count": 8,
      "outputs": [
        {
          "output_type": "stream",
          "text": [
            "<class 'geopandas.geodataframe.GeoDataFrame'>\n",
            "RangeIndex: 1173 entries, 0 to 1172\n",
            "Data columns (total 17 columns):\n",
            " #   Column      Non-Null Count  Dtype   \n",
            "---  ------      --------------  -----   \n",
            " 0   KGISVillag  1173 non-null   int64   \n",
            " 1   KGISVill_1  1173 non-null   object  \n",
            " 2   KGISVill_2  1173 non-null   object  \n",
            " 3   KGISHobliI  1173 non-null   int64   \n",
            " 4   UniqueVill  1173 non-null   object  \n",
            " 5   Bhucode     1173 non-null   object  \n",
            " 6   CensusVill  1173 non-null   object  \n",
            " 7   BhoomiVill  1163 non-null   object  \n",
            " 8   created_us  1173 non-null   object  \n",
            " 9   created_da  1173 non-null   object  \n",
            " 10  last_edite  1173 non-null   object  \n",
            " 11  last_edi_1  1173 non-null   object  \n",
            " 12  LGDGPCode   1120 non-null   object  \n",
            " 13  LGDGPCode_  0 non-null      object  \n",
            " 14  SHAPE_Leng  1173 non-null   float64 \n",
            " 15  SHAPE_Area  1173 non-null   float64 \n",
            " 16  geometry    1173 non-null   geometry\n",
            "dtypes: float64(2), geometry(1), int64(2), object(12)\n",
            "memory usage: 155.9+ KB\n"
          ],
          "name": "stdout"
        }
      ]
    },
    {
      "cell_type": "code",
      "metadata": {
        "id": "DV8SBtgP5GVL",
        "colab_type": "code",
        "colab": {}
      },
      "source": [
        "# Import landsat 8 image collection\n",
        "l8 = ee.ImageCollection(\"LANDSAT/LC08/C01/T1_SR\")"
      ],
      "execution_count": 9,
      "outputs": []
    },
    {
      "cell_type": "code",
      "metadata": {
        "id": "vGglpYuy__Bj",
        "colab_type": "code",
        "colab": {}
      },
      "source": [
        "def get_geometry(roi, df, column_name):\n",
        "    \"\"\"\n",
        "    Returns the feature collection (geometry) for a region of interest\n",
        "    \n",
        "    :params roi: Region of Interest\n",
        "    \n",
        "    returns - geometry feature collection\n",
        "    \"\"\"\n",
        "    \n",
        "    # get the polygons for roi\n",
        "    polygons = (df.geometry[df[column_name] == roi].values)\n",
        "    # convert each polygon into a feature and append\n",
        "    features = []\n",
        "    for p in range(len(polygons)):\n",
        "        f = ee.Feature(gpd.GeoSeries(polygons[0]).__geo_interface__['features'][0])\n",
        "        features.append(f)\n",
        "    \n",
        "    # convert list of features into feature collection\n",
        "    fc = ee.FeatureCollection(features)\n",
        "    return fc"
      ],
      "execution_count": 10,
      "outputs": []
    },
    {
      "cell_type": "code",
      "metadata": {
        "id": "_kgmDjONaXSH",
        "colab_type": "code",
        "colab": {}
      },
      "source": [
        "geometry = get_geometry(roi='Injanahalli', df=villages, column_name='KGISVill_2')"
      ],
      "execution_count": 11,
      "outputs": []
    },
    {
      "cell_type": "code",
      "metadata": {
        "id": "IS4ABE3z_24F",
        "colab_type": "code",
        "colab": {
          "base_uri": "https://localhost:8080/",
          "height": 1000
        },
        "outputId": "a6e12d77-dd62-429a-926f-b800a0df9546"
      },
      "source": [
        "geometry.getInfo()"
      ],
      "execution_count": 12,
      "outputs": [
        {
          "output_type": "execute_result",
          "data": {
            "text/plain": [
              "{'columns': {'system:index': 'String'},\n",
              " 'features': [{'geometry': {'coordinates': [[[813442.1617450004,\n",
              "       1446955.306038],\n",
              "      [813297.2078450004, 1446954.798738],\n",
              "      [812766.9293450004, 1446983.873738],\n",
              "      [812599.0951450004, 1446991.870738],\n",
              "      [812598.5008450004, 1446992.464638],\n",
              "      [812598.4455450005, 1446991.912338],\n",
              "      [812597.4568450004, 1446982.069138],\n",
              "      [812576.3145450004, 1446818.217538],\n",
              "      [812550.6957450004, 1446677.050038],\n",
              "      [812544.4653450004, 1446636.941238],\n",
              "      [812544.4440450005, 1446636.801338],\n",
              "      [812529.6715450005, 1446543.137138],\n",
              "      [812519.1478450005, 1446490.009638],\n",
              "      [812510.7413450005, 1446449.743738],\n",
              "      [812511.0696450004, 1446448.185638],\n",
              "      [812512.4721450005, 1446441.525038],\n",
              "      [812498.3760450005, 1446434.4934379999],\n",
              "      [812457.2734450004, 1446417.899538],\n",
              "      [812404.8775450005, 1446399.629738],\n",
              "      [812369.7951450004, 1446388.861438],\n",
              "      [812360.8584450004, 1446386.471438],\n",
              "      [812364.4667450004, 1446397.006138],\n",
              "      [812335.8839450004, 1446394.133838],\n",
              "      [812299.9745450004, 1446390.654638],\n",
              "      [812293.3134450004, 1446391.551438],\n",
              "      [812267.9444450005, 1446394.999438],\n",
              "      [812208.9011450005, 1446403.104138],\n",
              "      [812204.3487450004, 1446403.678538],\n",
              "      [812077.7270450004, 1446367.609438],\n",
              "      [812072.7361450004, 1446366.108638],\n",
              "      [812072.0127450004, 1446365.987438],\n",
              "      [812122.1352450005, 1446266.997738],\n",
              "      [812122.4461450004, 1446266.257338],\n",
              "      [812123.4991450005, 1446263.748938],\n",
              "      [812126.5878450004, 1446256.380338],\n",
              "      [812103.5935450004, 1446127.348138],\n",
              "      [812102.2073450005, 1446119.792438],\n",
              "      [812101.0153450004, 1446108.781638],\n",
              "      [812100.7864450004, 1446106.671938],\n",
              "      [812100.1755450005, 1446101.048338],\n",
              "      [812099.0705450005, 1446090.901038],\n",
              "      [812098.9511450005, 1446089.805638],\n",
              "      [812079.0765450004, 1445924.279038],\n",
              "      [812078.5703450004, 1445920.326138],\n",
              "      [812077.0746450005, 1445908.684638],\n",
              "      [812104.2036450005, 1445903.397938],\n",
              "      [812107.7483450004, 1445901.0622379999],\n",
              "      [812106.6190450005, 1445894.465438],\n",
              "      [812099.6818450005, 1445841.295138],\n",
              "      [812099.1441450005, 1445836.265538],\n",
              "      [812098.0565450005, 1445829.355338],\n",
              "      [812110.9757450004, 1445822.418438],\n",
              "      [812110.1141450005, 1445785.424538],\n",
              "      [812110.9785450004, 1445761.7900379999],\n",
              "      [812114.0097450004, 1445679.315238],\n",
              "      [812114.6879450004, 1445655.157238],\n",
              "      [812114.8553450005, 1445654.480938],\n",
              "      [812124.4886450004, 1445615.550938],\n",
              "      [812128.9953450004, 1445593.433438],\n",
              "      [812132.5863450004, 1445578.8344379999],\n",
              "      [812134.6233450004, 1445570.530138],\n",
              "      [812138.0776450004, 1445556.403038],\n",
              "      [812141.2377450005, 1445543.426638],\n",
              "      [812146.3723450005, 1445536.225438],\n",
              "      [812164.1585450005, 1445509.476338],\n",
              "      [812173.7778450004, 1445490.6395379999],\n",
              "      [812197.4332450004, 1445444.424038],\n",
              "      [812201.8325450004, 1445433.470438],\n",
              "      [812211.2472450004, 1445399.094438],\n",
              "      [812224.1579450005, 1445352.698338],\n",
              "      [812225.5731450005, 1445347.647238],\n",
              "      [812230.2260450004, 1445344.3207379999],\n",
              "      [812231.9030450005, 1445343.124038],\n",
              "      [812272.6434450005, 1445336.460438],\n",
              "      [812289.3769450004, 1445337.5474379999],\n",
              "      [812311.5442450005, 1445342.915638],\n",
              "      [812347.7732450005, 1445343.684838],\n",
              "      [812349.1539450004, 1445352.5315379999],\n",
              "      [812369.0006450005, 1445351.406038],\n",
              "      [812371.5242450004, 1445351.632538],\n",
              "      [812375.9071450004, 1445352.027838],\n",
              "      [812378.5855450004, 1445378.6935379999],\n",
              "      [812395.0685450004, 1445380.913038],\n",
              "      [812406.2171450005, 1445405.889438],\n",
              "      [812405.8950450004, 1445425.468838],\n",
              "      [812421.6149450005, 1445425.534238],\n",
              "      [812426.7510450005, 1445455.099738],\n",
              "      [812433.5885450004, 1445484.807938],\n",
              "      [812436.6590450004, 1445485.715138],\n",
              "      [812457.5208450004, 1445491.640038],\n",
              "      [812458.9279450005, 1445502.287138],\n",
              "      [812463.4098450004, 1445520.4827379999],\n",
              "      [812478.7417450005, 1445539.520738],\n",
              "      [812482.5661450005, 1445544.127338],\n",
              "      [812489.5092450004, 1445559.845038],\n",
              "      [812493.8299450004, 1445565.266338],\n",
              "      [812540.1879450004, 1445569.261138],\n",
              "      [812548.3948450005, 1445576.986238],\n",
              "      [812549.1465450004, 1445576.887138],\n",
              "      [812560.4870450004, 1445575.412138],\n",
              "      [812597.1299450004, 1445580.605638],\n",
              "      [812658.4126450005, 1445583.2127379999],\n",
              "      [812673.0250450005, 1445597.547038],\n",
              "      [812733.1748450005, 1445598.034938],\n",
              "      [812736.3849450005, 1445618.861438],\n",
              "      [812788.4693450005, 1445620.003538],\n",
              "      [812798.5474450004, 1445613.337038],\n",
              "      [812801.9714450005, 1445611.065338],\n",
              "      [812799.1782450004, 1445591.427138],\n",
              "      [812805.4781450005, 1445591.038738],\n",
              "      [812809.6390450004, 1445590.780738],\n",
              "      [812821.6379450004, 1445590.028438],\n",
              "      [812885.0288450004, 1445582.969938],\n",
              "      [812888.5068450004, 1445582.563838],\n",
              "      [812897.7318450005, 1445581.8640379999],\n",
              "      [812938.4519450004, 1445578.9446379999],\n",
              "      [812954.2973450004, 1445577.872638],\n",
              "      [812960.3798450005, 1445606.500738],\n",
              "      [812990.5395450004, 1445616.490338],\n",
              "      [813004.8795450004, 1445612.218838],\n",
              "      [813007.0401450004, 1445611.576138],\n",
              "      [813008.0468450005, 1445612.371138],\n",
              "      [813041.3614450004, 1445655.828938],\n",
              "      [813052.5733450004, 1445653.464738],\n",
              "      [813076.0490450005, 1445648.416038],\n",
              "      [813086.2113450004, 1445646.178238],\n",
              "      [813107.3592450004, 1445646.930638],\n",
              "      [813154.0262450004, 1445650.749438],\n",
              "      [813163.2934450004, 1445644.805338],\n",
              "      [813257.8849450005, 1445684.347938],\n",
              "      [813253.8759450004, 1445697.582638],\n",
              "      [813253.4470450005, 1445702.585638],\n",
              "      [813252.9402450004, 1445804.3662379999],\n",
              "      [813237.0262450004, 1445818.407238],\n",
              "      [813231.4742450004, 1445823.0644379999],\n",
              "      [813215.4666450005, 1445862.740938],\n",
              "      [813193.8687450005, 1445868.448838],\n",
              "      [813181.0379450005, 1445942.397138],\n",
              "      [813179.1992450005, 1445953.315138],\n",
              "      [813157.1492450004, 1446026.899338],\n",
              "      [813155.5916450005, 1446037.318438],\n",
              "      [813193.5613450005, 1446090.726938],\n",
              "      [813269.7289450004, 1446098.442638],\n",
              "      [813393.9096450005, 1446094.825638],\n",
              "      [813400.3264450005, 1446094.637838],\n",
              "      [813404.7307450004, 1446153.011038],\n",
              "      [813405.7868450005, 1446167.047838],\n",
              "      [813442.1763450005, 1446947.448738],\n",
              "      [813442.1617450004, 1446955.306038]]],\n",
              "    'type': 'Polygon'},\n",
              "   'id': '0',\n",
              "   'properties': {},\n",
              "   'type': 'Feature'}],\n",
              " 'type': 'FeatureCollection'}"
            ]
          },
          "metadata": {
            "tags": []
          },
          "execution_count": 12
        }
      ]
    },
    {
      "cell_type": "code",
      "metadata": {
        "id": "HGah2KJJDd5j",
        "colab_type": "code",
        "colab": {
          "base_uri": "https://localhost:8080/",
          "height": 17,
          "referenced_widgets": [
            "7a4eb65341c94b7296e91527d2e2c34f"
          ]
        },
        "outputId": "983e3aa1-0761-4d10-81cc-aacf174ebb42"
      },
      "source": [
        "# interactive mapping using geemap\n",
        "Map = geemap.Map()\n",
        "Map"
      ],
      "execution_count": 13,
      "outputs": [
        {
          "output_type": "display_data",
          "data": {
            "application/vnd.jupyter.widget-view+json": {
              "model_id": "7a4eb65341c94b7296e91527d2e2c34f",
              "version_minor": 0,
              "version_major": 2
            },
            "text/plain": [
              "Map(center=[40, -100], controls=(WidgetControl(options=['position'], widget=HBox(children=(ToggleButton(value=…"
            ]
          },
          "metadata": {
            "tags": []
          }
        }
      ]
    },
    {
      "cell_type": "code",
      "metadata": {
        "id": "6HoIFPmeN7l6",
        "colab_type": "code",
        "colab": {
          "base_uri": "https://localhost:8080/",
          "height": 34
        },
        "outputId": "c9ec9dbf-1f58-4286-a356-abd11944914f"
      },
      "source": [
        "filtered_collection = l8.filterBounds(geometry).filterDate('2015-01-01','2015-12-31').filterMetadata('CLOUD_COVER','less_than',1)\n",
        "filtered_collection.size().getInfo()"
      ],
      "execution_count": 14,
      "outputs": [
        {
          "output_type": "execute_result",
          "data": {
            "text/plain": [
              "25334"
            ]
          },
          "metadata": {
            "tags": []
          },
          "execution_count": 14
        }
      ]
    },
    {
      "cell_type": "code",
      "metadata": {
        "id": "bY_tTTudOBz9",
        "colab_type": "code",
        "colab": {}
      },
      "source": [
        "image = filtered_collection.median()"
      ],
      "execution_count": 16,
      "outputs": []
    },
    {
      "cell_type": "code",
      "metadata": {
        "id": "xM6V2aGpJy-d",
        "colab_type": "code",
        "colab": {}
      },
      "source": [
        "# clip to geometry\n",
        "clip = image.clip(geometry).toFloat()"
      ],
      "execution_count": 17,
      "outputs": []
    },
    {
      "cell_type": "code",
      "metadata": {
        "id": "J8UgRVMXDm1I",
        "colab_type": "code",
        "colab": {}
      },
      "source": [
        "# select params\n",
        "params = {'bands': ['B4','B3','B2'],\n",
        "         'gamma': 1,\n",
        "          'min': 0,\n",
        "          'max': 0.5\n",
        "         }\n",
        "# visualize\n",
        "Map.centerObject(geometry)\n",
        "Map.addLayer(clip, params, 'Clip', True, 1)"
      ],
      "execution_count": 18,
      "outputs": []
    },
    {
      "cell_type": "code",
      "metadata": {
        "id": "M6okepVkO3Qi",
        "colab_type": "code",
        "colab": {}
      },
      "source": [
        "# creating a task to export clipped image to drive\n",
        "task = ee.batch.Export.image.toDrive(clip, \n",
        "                                    description = 'image',\n",
        "                                    folder = 'Landsat',                                    \n",
        "                                    region = geometry.geometry(),\n",
        "                                    scale = 30,\n",
        "                                    crs = 'EPSG:3857'                                    \n",
        "                                    )\n",
        "task.start()"
      ],
      "execution_count": 19,
      "outputs": []
    },
    {
      "cell_type": "code",
      "metadata": {
        "id": "cVvcXJMAO9vi",
        "colab_type": "code",
        "colab": {
          "base_uri": "https://localhost:8080/",
          "height": 1000
        },
        "outputId": "eb489892-ce87-44d4-f813-bc1de5e32eca"
      },
      "source": [
        "def check_status(task_id):\n",
        "    i = 0\n",
        "    while True:\n",
        "        if i%30000 == 0:\n",
        "            status = ee.data.getTaskStatus(task_id)[0]['state']\n",
        "\n",
        "            print('Status: ', status)\n",
        "        i+=1\n",
        "        if status.lower() == 'failed' or status.lower() == 'completed':\n",
        "            break\n",
        "check_status(task.id)"
      ],
      "execution_count": 20,
      "outputs": [
        {
          "output_type": "stream",
          "text": [
            "Status:  READY\n",
            "Status:  READY\n",
            "Status:  READY\n",
            "Status:  READY\n",
            "Status:  READY\n",
            "Status:  READY\n",
            "Status:  READY\n",
            "Status:  READY\n",
            "Status:  READY\n",
            "Status:  READY\n",
            "Status:  RUNNING\n",
            "Status:  RUNNING\n",
            "Status:  RUNNING\n",
            "Status:  RUNNING\n",
            "Status:  RUNNING\n",
            "Status:  RUNNING\n",
            "Status:  RUNNING\n",
            "Status:  RUNNING\n",
            "Status:  READY\n",
            "Status:  READY\n",
            "Status:  READY\n",
            "Status:  READY\n",
            "Status:  READY\n",
            "Status:  READY\n",
            "Status:  READY\n",
            "Status:  READY\n",
            "Status:  READY\n",
            "Status:  READY\n",
            "Status:  READY\n",
            "Status:  READY\n",
            "Status:  RUNNING\n",
            "Status:  RUNNING\n",
            "Status:  RUNNING\n",
            "Status:  RUNNING\n",
            "Status:  READY\n",
            "Status:  READY\n",
            "Status:  READY\n",
            "Status:  READY\n",
            "Status:  READY\n",
            "Status:  READY\n",
            "Status:  READY\n",
            "Status:  READY\n",
            "Status:  READY\n",
            "Status:  READY\n",
            "Status:  READY\n",
            "Status:  READY\n",
            "Status:  READY\n",
            "Status:  READY\n",
            "Status:  READY\n",
            "Status:  READY\n",
            "Status:  READY\n",
            "Status:  RUNNING\n",
            "Status:  RUNNING\n",
            "Status:  RUNNING\n",
            "Status:  READY\n",
            "Status:  READY\n",
            "Status:  READY\n",
            "Status:  READY\n",
            "Status:  READY\n",
            "Status:  READY\n",
            "Status:  READY\n",
            "Status:  READY\n",
            "Status:  READY\n",
            "Status:  READY\n",
            "Status:  READY\n",
            "Status:  READY\n",
            "Status:  READY\n",
            "Status:  READY\n",
            "Status:  RUNNING\n",
            "Status:  RUNNING\n",
            "Status:  RUNNING\n",
            "Status:  READY\n",
            "Status:  READY\n",
            "Status:  READY\n",
            "Status:  READY\n",
            "Status:  READY\n",
            "Status:  READY\n",
            "Status:  READY\n",
            "Status:  READY\n",
            "Status:  READY\n",
            "Status:  READY\n",
            "Status:  READY\n",
            "Status:  READY\n",
            "Status:  READY\n",
            "Status:  READY\n",
            "Status:  READY\n",
            "Status:  READY\n",
            "Status:  READY\n",
            "Status:  READY\n",
            "Status:  READY\n",
            "Status:  READY\n",
            "Status:  READY\n",
            "Status:  READY\n",
            "Status:  READY\n",
            "Status:  READY\n",
            "Status:  RUNNING\n",
            "Status:  RUNNING\n",
            "Status:  RUNNING\n",
            "Status:  RUNNING\n",
            "Status:  RUNNING\n",
            "Status:  FAILED\n"
          ],
          "name": "stdout"
        }
      ]
    },
    {
      "cell_type": "code",
      "metadata": {
        "id": "ZfBfKnupPBuf",
        "colab_type": "code",
        "colab": {}
      },
      "source": [
        "# viasualizing the image - RGB bands need to be manually named using ColorInterp to view RGB image\n",
        "\n",
        "plt.figure(figsize=(10,8))\n",
        "# the file has been downloaded from drive to show here\n",
        "image = rasterio.open('/content/drive/My Drive/Landsat/test_image.tif')\n",
        "show(image, adjust='linear')\n",
        "plt.show()"
      ],
      "execution_count": null,
      "outputs": []
    },
    {
      "cell_type": "code",
      "metadata": {
        "id": "H3ChbmOcPmX_",
        "colab_type": "code",
        "colab": {}
      },
      "source": [
        ""
      ],
      "execution_count": null,
      "outputs": []
    }
  ]
}