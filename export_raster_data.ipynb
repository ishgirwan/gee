{
  "nbformat": 4,
  "nbformat_minor": 0,
  "metadata": {
    "colab": {
      "name": "export_raster_data.ipynb",
      "provenance": [],
      "collapsed_sections": [],
      "include_colab_link": true
    },
    "kernelspec": {
      "name": "python3",
      "display_name": "Python 3"
    }
  },
  "cells": [
    {
      "cell_type": "markdown",
      "metadata": {
        "id": "view-in-github",
        "colab_type": "text"
      },
      "source": [
        "<a href=\"https://colab.research.google.com/github/ishgirwan/omdena_hdi/blob/master/export_raster_data.ipynb\" target=\"_parent\"><img src=\"https://colab.research.google.com/assets/colab-badge.svg\" alt=\"Open In Colab\"/></a>"
      ]
    },
    {
      "cell_type": "code",
      "metadata": {
        "id": "7wCwR1zpGpRi",
        "outputId": "853fb100-f87c-4090-99b0-270fe66c2bb1",
        "colab": {
          "base_uri": "https://localhost:8080/",
          "height": 34
        }
      },
      "source": [
        "from google.colab import drive\n",
        "drive.mount('/content/drive')"
      ],
      "execution_count": 24,
      "outputs": [
        {
          "output_type": "stream",
          "text": [
            "Drive already mounted at /content/drive; to attempt to forcibly remount, call drive.mount(\"/content/drive\", force_remount=True).\n"
          ],
          "name": "stdout"
        }
      ]
    },
    {
      "cell_type": "code",
      "metadata": {
        "id": "fsR51sr0uCtL"
      },
      "source": [
        "import ee\n",
        "# Trigger the authentication flow.\n",
        "ee.Authenticate()\n",
        "\n",
        "# Initialize the library.\n",
        "ee.Initialize()"
      ],
      "execution_count": null,
      "outputs": []
    },
    {
      "cell_type": "code",
      "metadata": {
        "id": "CEwC-12xITjM"
      },
      "source": [
        "!pip install geopandas\n",
        "!pip install rasterio\n",
        "!pip install geemap"
      ],
      "execution_count": null,
      "outputs": []
    },
    {
      "cell_type": "code",
      "metadata": {
        "id": "I3TSsbMyIhcC"
      },
      "source": [
        "import numpy as np\n",
        "import geopandas as gpd\n",
        "import pandas as pd\n",
        "import glob\n",
        "import os\n",
        "# visualisation\n",
        "import matplotlib.pyplot as plt\n",
        "import seaborn as sns\n",
        "import rasterio\n",
        "import geemap"
      ],
      "execution_count": 4,
      "outputs": []
    },
    {
      "cell_type": "code",
      "metadata": {
        "id": "NqGCz8zqJLPH"
      },
      "source": [
        "df =  pd.read_csv('/content/drive/My Drive/omdena/hdi_with_geometry.csv')"
      ],
      "execution_count": 27,
      "outputs": []
    },
    {
      "cell_type": "code",
      "metadata": {
        "id": "z4BN_kbtaX__",
        "outputId": "e3d1babf-e0e8-4d85-ff31-8cfbd4a9f49b",
        "colab": {
          "base_uri": "https://localhost:8080/",
          "height": 289
        }
      },
      "source": [
        "df.info()"
      ],
      "execution_count": 28,
      "outputs": [
        {
          "output_type": "stream",
          "text": [
            "<class 'pandas.core.frame.DataFrame'>\n",
            "RangeIndex: 18984 entries, 0 to 18983\n",
            "Data columns (total 9 columns):\n",
            " #   Column                         Non-Null Count  Dtype  \n",
            "---  ------                         --------------  -----  \n",
            " 0   HDI                            18984 non-null  float64\n",
            " 1   District Name(in English)      18984 non-null  object \n",
            " 2   Sub District Name(in English)  18984 non-null  object \n",
            " 3   Village Name(in English)       18984 non-null  object \n",
            " 4   Local Body Name(in English)    18984 non-null  object \n",
            " 5   unique code                    18984 non-null  int64  \n",
            " 6   SHAPE_Leng                     18984 non-null  float64\n",
            " 7   SHAPE_Area                     18984 non-null  float64\n",
            " 8   geometry                       18984 non-null  object \n",
            "dtypes: float64(3), int64(1), object(5)\n",
            "memory usage: 1.3+ MB\n"
          ],
          "name": "stdout"
        }
      ]
    },
    {
      "cell_type": "code",
      "metadata": {
        "id": "k0S1HLkxaeJ3"
      },
      "source": [
        "from shapely import wkt\n",
        "df_copy = df.copy()\n",
        "\n",
        "df_copy['geometry'] = df_copy['geometry'].apply(wkt.loads)\n",
        "gdf = gpd.GeoDataFrame(df_copy, crs=\"EPSG:3857\", geometry='geometry')"
      ],
      "execution_count": 29,
      "outputs": []
    },
    {
      "cell_type": "code",
      "metadata": {
        "id": "BFyBgGEjah_u",
        "outputId": "65888978-a2b7-4c96-f1d5-1937333103f8",
        "colab": {
          "base_uri": "https://localhost:8080/",
          "height": 493
        }
      },
      "source": [
        "gdf.head()"
      ],
      "execution_count": 30,
      "outputs": [
        {
          "output_type": "execute_result",
          "data": {
            "text/html": [
              "<div>\n",
              "<style scoped>\n",
              "    .dataframe tbody tr th:only-of-type {\n",
              "        vertical-align: middle;\n",
              "    }\n",
              "\n",
              "    .dataframe tbody tr th {\n",
              "        vertical-align: top;\n",
              "    }\n",
              "\n",
              "    .dataframe thead th {\n",
              "        text-align: right;\n",
              "    }\n",
              "</style>\n",
              "<table border=\"1\" class=\"dataframe\">\n",
              "  <thead>\n",
              "    <tr style=\"text-align: right;\">\n",
              "      <th></th>\n",
              "      <th>HDI</th>\n",
              "      <th>District Name(in English)</th>\n",
              "      <th>Sub District Name(in English)</th>\n",
              "      <th>Village Name(in English)</th>\n",
              "      <th>Local Body Name(in English)</th>\n",
              "      <th>unique code</th>\n",
              "      <th>SHAPE_Leng</th>\n",
              "      <th>SHAPE_Area</th>\n",
              "      <th>geometry</th>\n",
              "    </tr>\n",
              "  </thead>\n",
              "  <tbody>\n",
              "    <tr>\n",
              "      <th>0</th>\n",
              "      <td>0.38380</td>\n",
              "      <td>bagalkote</td>\n",
              "      <td>badami</td>\n",
              "      <td>adagal</td>\n",
              "      <td>adagal</td>\n",
              "      <td>2955605446598748</td>\n",
              "      <td>22897.571495</td>\n",
              "      <td>1.947310e+07</td>\n",
              "      <td>POLYGON ((566608.212 1765940.827, 566857.589 1...</td>\n",
              "    </tr>\n",
              "    <tr>\n",
              "      <th>1</th>\n",
              "      <td>0.35019</td>\n",
              "      <td>bagalkote</td>\n",
              "      <td>badami</td>\n",
              "      <td>kabbalageri</td>\n",
              "      <td>adagal</td>\n",
              "      <td>2955605446598749</td>\n",
              "      <td>15487.910796</td>\n",
              "      <td>1.097218e+07</td>\n",
              "      <td>POLYGON ((568380.335 1763978.004, 568427.532 1...</td>\n",
              "    </tr>\n",
              "    <tr>\n",
              "      <th>2</th>\n",
              "      <td>0.35949</td>\n",
              "      <td>bagalkote</td>\n",
              "      <td>jamkhandi</td>\n",
              "      <td>adihudi</td>\n",
              "      <td>adihudi</td>\n",
              "      <td>2955605443598464</td>\n",
              "      <td>14297.939131</td>\n",
              "      <td>1.133046e+07</td>\n",
              "      <td>POLYGON ((542850.732 1840982.390, 542847.176 1...</td>\n",
              "    </tr>\n",
              "    <tr>\n",
              "      <th>3</th>\n",
              "      <td>0.42051</td>\n",
              "      <td>bagalkote</td>\n",
              "      <td>jamkhandi</td>\n",
              "      <td>alagur</td>\n",
              "      <td>algur</td>\n",
              "      <td>2955605443598433</td>\n",
              "      <td>20133.208044</td>\n",
              "      <td>2.126997e+07</td>\n",
              "      <td>POLYGON ((538953.834 1834576.742, 539404.186 1...</td>\n",
              "    </tr>\n",
              "    <tr>\n",
              "      <th>4</th>\n",
              "      <td>0.32455</td>\n",
              "      <td>bagalkote</td>\n",
              "      <td>badami</td>\n",
              "      <td>alur.s.k.</td>\n",
              "      <td>alur-sk</td>\n",
              "      <td>2955605446598724</td>\n",
              "      <td>11363.132397</td>\n",
              "      <td>5.636253e+06</td>\n",
              "      <td>POLYGON ((551238.497 1758804.688, 551320.472 1...</td>\n",
              "    </tr>\n",
              "  </tbody>\n",
              "</table>\n",
              "</div>"
            ],
            "text/plain": [
              "       HDI  ...                                           geometry\n",
              "0  0.38380  ...  POLYGON ((566608.212 1765940.827, 566857.589 1...\n",
              "1  0.35019  ...  POLYGON ((568380.335 1763978.004, 568427.532 1...\n",
              "2  0.35949  ...  POLYGON ((542850.732 1840982.390, 542847.176 1...\n",
              "3  0.42051  ...  POLYGON ((538953.834 1834576.742, 539404.186 1...\n",
              "4  0.32455  ...  POLYGON ((551238.497 1758804.688, 551320.472 1...\n",
              "\n",
              "[5 rows x 9 columns]"
            ]
          },
          "metadata": {
            "tags": []
          },
          "execution_count": 30
        }
      ]
    },
    {
      "cell_type": "code",
      "metadata": {
        "id": "iuBsFSJsamgr",
        "outputId": "49a93a1b-b1d8-4e23-a798-e27b9dbfdeec",
        "colab": {
          "base_uri": "https://localhost:8080/",
          "height": 493
        }
      },
      "source": [
        "gdf['area'] = gdf['geometry'].area \n",
        "gdf.head()"
      ],
      "execution_count": 31,
      "outputs": [
        {
          "output_type": "execute_result",
          "data": {
            "text/html": [
              "<div>\n",
              "<style scoped>\n",
              "    .dataframe tbody tr th:only-of-type {\n",
              "        vertical-align: middle;\n",
              "    }\n",
              "\n",
              "    .dataframe tbody tr th {\n",
              "        vertical-align: top;\n",
              "    }\n",
              "\n",
              "    .dataframe thead th {\n",
              "        text-align: right;\n",
              "    }\n",
              "</style>\n",
              "<table border=\"1\" class=\"dataframe\">\n",
              "  <thead>\n",
              "    <tr style=\"text-align: right;\">\n",
              "      <th></th>\n",
              "      <th>HDI</th>\n",
              "      <th>District Name(in English)</th>\n",
              "      <th>Sub District Name(in English)</th>\n",
              "      <th>Village Name(in English)</th>\n",
              "      <th>Local Body Name(in English)</th>\n",
              "      <th>unique code</th>\n",
              "      <th>SHAPE_Leng</th>\n",
              "      <th>SHAPE_Area</th>\n",
              "      <th>geometry</th>\n",
              "      <th>area</th>\n",
              "    </tr>\n",
              "  </thead>\n",
              "  <tbody>\n",
              "    <tr>\n",
              "      <th>0</th>\n",
              "      <td>0.38380</td>\n",
              "      <td>bagalkote</td>\n",
              "      <td>badami</td>\n",
              "      <td>adagal</td>\n",
              "      <td>adagal</td>\n",
              "      <td>2955605446598748</td>\n",
              "      <td>22897.571495</td>\n",
              "      <td>1.947310e+07</td>\n",
              "      <td>POLYGON ((566608.212 1765940.827, 566857.589 1...</td>\n",
              "      <td>1.947310e+07</td>\n",
              "    </tr>\n",
              "    <tr>\n",
              "      <th>1</th>\n",
              "      <td>0.35019</td>\n",
              "      <td>bagalkote</td>\n",
              "      <td>badami</td>\n",
              "      <td>kabbalageri</td>\n",
              "      <td>adagal</td>\n",
              "      <td>2955605446598749</td>\n",
              "      <td>15487.910796</td>\n",
              "      <td>1.097218e+07</td>\n",
              "      <td>POLYGON ((568380.335 1763978.004, 568427.532 1...</td>\n",
              "      <td>1.097218e+07</td>\n",
              "    </tr>\n",
              "    <tr>\n",
              "      <th>2</th>\n",
              "      <td>0.35949</td>\n",
              "      <td>bagalkote</td>\n",
              "      <td>jamkhandi</td>\n",
              "      <td>adihudi</td>\n",
              "      <td>adihudi</td>\n",
              "      <td>2955605443598464</td>\n",
              "      <td>14297.939131</td>\n",
              "      <td>1.133046e+07</td>\n",
              "      <td>POLYGON ((542850.732 1840982.390, 542847.176 1...</td>\n",
              "      <td>1.133046e+07</td>\n",
              "    </tr>\n",
              "    <tr>\n",
              "      <th>3</th>\n",
              "      <td>0.42051</td>\n",
              "      <td>bagalkote</td>\n",
              "      <td>jamkhandi</td>\n",
              "      <td>alagur</td>\n",
              "      <td>algur</td>\n",
              "      <td>2955605443598433</td>\n",
              "      <td>20133.208044</td>\n",
              "      <td>2.126997e+07</td>\n",
              "      <td>POLYGON ((538953.834 1834576.742, 539404.186 1...</td>\n",
              "      <td>2.126997e+07</td>\n",
              "    </tr>\n",
              "    <tr>\n",
              "      <th>4</th>\n",
              "      <td>0.32455</td>\n",
              "      <td>bagalkote</td>\n",
              "      <td>badami</td>\n",
              "      <td>alur.s.k.</td>\n",
              "      <td>alur-sk</td>\n",
              "      <td>2955605446598724</td>\n",
              "      <td>11363.132397</td>\n",
              "      <td>5.636253e+06</td>\n",
              "      <td>POLYGON ((551238.497 1758804.688, 551320.472 1...</td>\n",
              "      <td>5.636253e+06</td>\n",
              "    </tr>\n",
              "  </tbody>\n",
              "</table>\n",
              "</div>"
            ],
            "text/plain": [
              "       HDI  ...          area\n",
              "0  0.38380  ...  1.947310e+07\n",
              "1  0.35019  ...  1.097218e+07\n",
              "2  0.35949  ...  1.133046e+07\n",
              "3  0.42051  ...  2.126997e+07\n",
              "4  0.32455  ...  5.636253e+06\n",
              "\n",
              "[5 rows x 10 columns]"
            ]
          },
          "metadata": {
            "tags": []
          },
          "execution_count": 31
        }
      ]
    },
    {
      "cell_type": "code",
      "metadata": {
        "id": "bFhtSarHatfQ",
        "outputId": "8d53deaa-38e5-49e8-a946-c2ea6d5dc77f",
        "colab": {
          "base_uri": "https://localhost:8080/",
          "height": 255
        }
      },
      "source": [
        "gdf.crs"
      ],
      "execution_count": 32,
      "outputs": [
        {
          "output_type": "execute_result",
          "data": {
            "text/plain": [
              "<Projected CRS: EPSG:3857>\n",
              "Name: WGS 84 / Pseudo-Mercator\n",
              "Axis Info [cartesian]:\n",
              "- X[east]: Easting (metre)\n",
              "- Y[north]: Northing (metre)\n",
              "Area of Use:\n",
              "- name: World - 85°S to 85°N\n",
              "- bounds: (-180.0, -85.06, 180.0, 85.06)\n",
              "Coordinate Operation:\n",
              "- name: Popular Visualisation Pseudo-Mercator\n",
              "- method: Popular Visualisation Pseudo Mercator\n",
              "Datum: World Geodetic System 1984\n",
              "- Ellipsoid: WGS 84\n",
              "- Prime Meridian: Greenwich"
            ]
          },
          "metadata": {
            "tags": []
          },
          "execution_count": 32
        }
      ]
    },
    {
      "cell_type": "code",
      "metadata": {
        "id": "awogzGMAawTN",
        "outputId": "45a07730-ec35-4ea1-fb54-572462e9966f",
        "colab": {
          "base_uri": "https://localhost:8080/",
          "height": 204
        }
      },
      "source": [
        "gdf = gdf.to_crs(\"EPSG:4326\")\n",
        "gdf.crs"
      ],
      "execution_count": 33,
      "outputs": [
        {
          "output_type": "execute_result",
          "data": {
            "text/plain": [
              "<Geographic 2D CRS: EPSG:4326>\n",
              "Name: WGS 84\n",
              "Axis Info [ellipsoidal]:\n",
              "- Lat[north]: Geodetic latitude (degree)\n",
              "- Lon[east]: Geodetic longitude (degree)\n",
              "Area of Use:\n",
              "- name: World\n",
              "- bounds: (-180.0, -90.0, 180.0, 90.0)\n",
              "Datum: World Geodetic System 1984\n",
              "- Ellipsoid: WGS 84\n",
              "- Prime Meridian: Greenwich"
            ]
          },
          "metadata": {
            "tags": []
          },
          "execution_count": 33
        }
      ]
    },
    {
      "cell_type": "code",
      "metadata": {
        "id": "hoQPzzxxazXt",
        "outputId": "6f9946d3-9b7e-4c8f-a7dc-a193d50df290",
        "colab": {
          "base_uri": "https://localhost:8080/",
          "height": 34
        }
      },
      "source": [
        "gdf.isnull().values.any()"
      ],
      "execution_count": 35,
      "outputs": [
        {
          "output_type": "execute_result",
          "data": {
            "text/plain": [
              "False"
            ]
          },
          "metadata": {
            "tags": []
          },
          "execution_count": 35
        }
      ]
    },
    {
      "cell_type": "code",
      "metadata": {
        "id": "KmIcTwqJa7Q-",
        "outputId": "b5190e0f-7113-43ae-e033-c786e39ae9e7",
        "colab": {
          "base_uri": "https://localhost:8080/",
          "height": 361
        }
      },
      "source": [
        "sns.distplot(gdf['area'])"
      ],
      "execution_count": 36,
      "outputs": [
        {
          "output_type": "stream",
          "text": [
            "/usr/local/lib/python3.6/dist-packages/seaborn/distributions.py:2551: FutureWarning: `distplot` is a deprecated function and will be removed in a future version. Please adapt your code to use either `displot` (a figure-level function with similar flexibility) or `histplot` (an axes-level function for histograms).\n",
            "  warnings.warn(msg, FutureWarning)\n"
          ],
          "name": "stderr"
        },
        {
          "output_type": "execute_result",
          "data": {
            "text/plain": [
              "<matplotlib.axes._subplots.AxesSubplot at 0x7fdb6c5061d0>"
            ]
          },
          "metadata": {
            "tags": []
          },
          "execution_count": 36
        },
        {
          "output_type": "display_data",
          "data": {
            "image/png": "[encoded data removed]",
            "text/plain": [
              "<Figure size 432x288 with 1 Axes>"
            ]
          },
          "metadata": {
            "tags": [],
            "needs_background": "light"
          }
        }
      ]
    },
    {
      "cell_type": "code",
      "metadata": {
        "id": "GKCFh5L3AYIn"
      },
      "source": [
        "gdf['no_of_pixels'] = gdf['area'] / 900"
      ],
      "execution_count": 37,
      "outputs": []
    },
    {
      "cell_type": "code",
      "metadata": {
        "id": "g8kLn55qA1nn",
        "outputId": "9137a23b-d421-445d-d381-e4076b1635ab",
        "colab": {
          "base_uri": "https://localhost:8080/",
          "height": 351
        }
      },
      "source": [
        "sns.distplot(gdf['no_of_pixels'])"
      ],
      "execution_count": 38,
      "outputs": [
        {
          "output_type": "stream",
          "text": [
            "/usr/local/lib/python3.6/dist-packages/seaborn/distributions.py:2551: FutureWarning: `distplot` is a deprecated function and will be removed in a future version. Please adapt your code to use either `displot` (a figure-level function with similar flexibility) or `histplot` (an axes-level function for histograms).\n",
            "  warnings.warn(msg, FutureWarning)\n"
          ],
          "name": "stderr"
        },
        {
          "output_type": "execute_result",
          "data": {
            "text/plain": [
              "<matplotlib.axes._subplots.AxesSubplot at 0x7fdb69a579e8>"
            ]
          },
          "metadata": {
            "tags": []
          },
          "execution_count": 38
        },
        {
          "output_type": "display_data",
          "data": {
            "image/png": "[encoded data removed]",
            "text/plain": [
              "<Figure size 432x288 with 1 Axes>"
            ]
          },
          "metadata": {
            "tags": [],
            "needs_background": "light"
          }
        }
      ]
    },
    {
      "cell_type": "code",
      "metadata": {
        "id": "jWlnEDt2A6fX",
        "outputId": "2082d110-78df-48a3-e83e-a22311fa9a1a",
        "colab": {
          "base_uri": "https://localhost:8080/",
          "height": 297
        }
      },
      "source": [
        "gdf.describe()"
      ],
      "execution_count": 39,
      "outputs": [
        {
          "output_type": "execute_result",
          "data": {
            "text/html": [
              "<div>\n",
              "<style scoped>\n",
              "    .dataframe tbody tr th:only-of-type {\n",
              "        vertical-align: middle;\n",
              "    }\n",
              "\n",
              "    .dataframe tbody tr th {\n",
              "        vertical-align: top;\n",
              "    }\n",
              "\n",
              "    .dataframe thead th {\n",
              "        text-align: right;\n",
              "    }\n",
              "</style>\n",
              "<table border=\"1\" class=\"dataframe\">\n",
              "  <thead>\n",
              "    <tr style=\"text-align: right;\">\n",
              "      <th></th>\n",
              "      <th>HDI</th>\n",
              "      <th>unique code</th>\n",
              "      <th>SHAPE_Leng</th>\n",
              "      <th>SHAPE_Area</th>\n",
              "      <th>area</th>\n",
              "      <th>no_of_pixels</th>\n",
              "    </tr>\n",
              "  </thead>\n",
              "  <tbody>\n",
              "    <tr>\n",
              "      <th>count</th>\n",
              "      <td>18984.000000</td>\n",
              "      <td>1.898400e+04</td>\n",
              "      <td>18984.000000</td>\n",
              "      <td>1.898400e+04</td>\n",
              "      <td>1.898400e+04</td>\n",
              "      <td>18984.000000</td>\n",
              "    </tr>\n",
              "    <tr>\n",
              "      <th>mean</th>\n",
              "      <td>0.407828</td>\n",
              "      <td>2.957076e+15</td>\n",
              "      <td>10738.594240</td>\n",
              "      <td>6.056185e+06</td>\n",
              "      <td>6.056139e+06</td>\n",
              "      <td>6729.043671</td>\n",
              "    </tr>\n",
              "    <tr>\n",
              "      <th>std</th>\n",
              "      <td>0.104890</td>\n",
              "      <td>8.142506e+11</td>\n",
              "      <td>5856.302005</td>\n",
              "      <td>7.395854e+06</td>\n",
              "      <td>7.395765e+06</td>\n",
              "      <td>8217.516707</td>\n",
              "    </tr>\n",
              "    <tr>\n",
              "      <th>min</th>\n",
              "      <td>0.006050</td>\n",
              "      <td>2.955505e+15</td>\n",
              "      <td>290.597767</td>\n",
              "      <td>4.939737e+03</td>\n",
              "      <td>4.939737e+03</td>\n",
              "      <td>5.488597</td>\n",
              "    </tr>\n",
              "    <tr>\n",
              "      <th>25%</th>\n",
              "      <td>0.343673</td>\n",
              "      <td>2.956505e+15</td>\n",
              "      <td>6685.817782</td>\n",
              "      <td>2.050699e+06</td>\n",
              "      <td>2.050699e+06</td>\n",
              "      <td>2278.554224</td>\n",
              "    </tr>\n",
              "    <tr>\n",
              "      <th>50%</th>\n",
              "      <td>0.421940</td>\n",
              "      <td>2.957106e+15</td>\n",
              "      <td>9369.445562</td>\n",
              "      <td>3.832122e+06</td>\n",
              "      <td>3.832122e+06</td>\n",
              "      <td>4257.912985</td>\n",
              "    </tr>\n",
              "    <tr>\n",
              "      <th>75%</th>\n",
              "      <td>0.481440</td>\n",
              "      <td>2.957706e+15</td>\n",
              "      <td>13259.717136</td>\n",
              "      <td>7.188178e+06</td>\n",
              "      <td>7.188178e+06</td>\n",
              "      <td>7986.863992</td>\n",
              "    </tr>\n",
              "    <tr>\n",
              "      <th>max</th>\n",
              "      <td>0.723130</td>\n",
              "      <td>2.958406e+15</td>\n",
              "      <td>96341.233422</td>\n",
              "      <td>2.444253e+08</td>\n",
              "      <td>2.444253e+08</td>\n",
              "      <td>271583.643362</td>\n",
              "    </tr>\n",
              "  </tbody>\n",
              "</table>\n",
              "</div>"
            ],
            "text/plain": [
              "                HDI   unique code  ...          area   no_of_pixels\n",
              "count  18984.000000  1.898400e+04  ...  1.898400e+04   18984.000000\n",
              "mean       0.407828  2.957076e+15  ...  6.056139e+06    6729.043671\n",
              "std        0.104890  8.142506e+11  ...  7.395765e+06    8217.516707\n",
              "min        0.006050  2.955505e+15  ...  4.939737e+03       5.488597\n",
              "25%        0.343673  2.956505e+15  ...  2.050699e+06    2278.554224\n",
              "50%        0.421940  2.957106e+15  ...  3.832122e+06    4257.912985\n",
              "75%        0.481440  2.957706e+15  ...  7.188178e+06    7986.863992\n",
              "max        0.723130  2.958406e+15  ...  2.444253e+08  271583.643362\n",
              "\n",
              "[8 rows x 6 columns]"
            ]
          },
          "metadata": {
            "tags": []
          },
          "execution_count": 39
        }
      ]
    },
    {
      "cell_type": "code",
      "metadata": {
        "id": "rxp_SXwNa9VJ"
      },
      "source": [
        "# Import landsat 8 image collection\n",
        "l8 = ee.ImageCollection(\"LANDSAT/LC08/C01/T1_SR\")\n",
        "Map = geemap.Map()"
      ],
      "execution_count": 41,
      "outputs": []
    },
    {
      "cell_type": "code",
      "metadata": {
        "id": "N3uxkBFfTJMA",
        "outputId": "112e4475-33ea-45a1-d5c8-79bd628a821a",
        "colab": {
          "base_uri": "https://localhost:8080/",
          "height": 216
        }
      },
      "source": [
        "gdf.loc[gdf['unique code'] == 2958205599624019]"
      ],
      "execution_count": 44,
      "outputs": [
        {
          "output_type": "execute_result",
          "data": {
            "text/html": [
              "<div>\n",
              "<style scoped>\n",
              "    .dataframe tbody tr th:only-of-type {\n",
              "        vertical-align: middle;\n",
              "    }\n",
              "\n",
              "    .dataframe tbody tr th {\n",
              "        vertical-align: top;\n",
              "    }\n",
              "\n",
              "    .dataframe thead th {\n",
              "        text-align: right;\n",
              "    }\n",
              "</style>\n",
              "<table border=\"1\" class=\"dataframe\">\n",
              "  <thead>\n",
              "    <tr style=\"text-align: right;\">\n",
              "      <th></th>\n",
              "      <th>HDI</th>\n",
              "      <th>District Name(in English)</th>\n",
              "      <th>Sub District Name(in English)</th>\n",
              "      <th>Village Name(in English)</th>\n",
              "      <th>Local Body Name(in English)</th>\n",
              "      <th>unique code</th>\n",
              "      <th>SHAPE_Leng</th>\n",
              "      <th>SHAPE_Area</th>\n",
              "      <th>geometry</th>\n",
              "      <th>area</th>\n",
              "      <th>no_of_pixels</th>\n",
              "    </tr>\n",
              "  </thead>\n",
              "  <tbody>\n",
              "    <tr>\n",
              "      <th>3997</th>\n",
              "      <td>0.41889</td>\n",
              "      <td>chikkaballapura</td>\n",
              "      <td>sidlaghatta</td>\n",
              "      <td>sonaganahalli</td>\n",
              "      <td>sadali</td>\n",
              "      <td>2958205599624019</td>\n",
              "      <td>10783.401072</td>\n",
              "      <td>4.528551e+06</td>\n",
              "      <td>POLYGON ((7.29988 13.46208, 7.29859 13.45922, ...</td>\n",
              "      <td>4.528551e+06</td>\n",
              "      <td>5031.723488</td>\n",
              "    </tr>\n",
              "  </tbody>\n",
              "</table>\n",
              "</div>"
            ],
            "text/plain": [
              "          HDI District Name(in English)  ...          area no_of_pixels\n",
              "3997  0.41889           chikkaballapura  ...  4.528551e+06  5031.723488\n",
              "\n",
              "[1 rows x 11 columns]"
            ]
          },
          "metadata": {
            "tags": []
          },
          "execution_count": 44
        }
      ]
    },
    {
      "cell_type": "code",
      "metadata": {
        "id": "BPjLlk0HRV76"
      },
      "source": [
        "def check_status(task_id):\n",
        "    i = 0\n",
        "    while True:\n",
        "        if i%30000 == 0:\n",
        "            status = ee.data.getTaskStatus(task_id)[0]['state']\n",
        "\n",
        "            print('Status: ', status)\n",
        "        i+=1\n",
        "        if status.lower() == 'failed' or status.lower() == 'completed':\n",
        "            break"
      ],
      "execution_count": 45,
      "outputs": []
    },
    {
      "cell_type": "code",
      "metadata": {
        "id": "P0LOoQ3_ecCV"
      },
      "source": [
        "def get_images(geometry, id):\n",
        "    \n",
        "    features = []\n",
        "\n",
        "    for p in range(len(geometry)):\n",
        "        #g = ee.Geometry.Polygon(cords)\n",
        "        #feature = ee.Feature(g)\n",
        "        f = ee.Feature(gpd.GeoSeries(geometry[p]).__geo_interface__['features'][0])\n",
        "        features.append(f)\n",
        "    \n",
        "    # convert list of features into feature collection\n",
        "    geometry = ee.FeatureCollection(features)\n",
        "    \n",
        "    filtered_collection = l8.filterBounds(geometry)\\\n",
        "                            .filterDate('2015-01-01','2016-12-31')\\\n",
        "                            .filterMetadata('CLOUD_COVER','less_than',1)\\\n",
        "                            .select('B[2-7]')\n",
        "    #print(filtered_collection.size().getInfo())\n",
        "\n",
        "    image = filtered_collection.median()\n",
        "    clipped_image = image.clip(geometry).toFloat()\n",
        "\n",
        "    Map.centerObject(geometry)\n",
        "\n",
        "    Map.addLayer(clipped_image)\n",
        "\n",
        "    task = ee.batch.Export.image.toDrive(clipped_image, \n",
        "                                        description = id,\n",
        "                                        folder = 'Landsat',                                    \n",
        "                                        region = geometry.geometry(),\n",
        "                                        scale = 30,\n",
        "                                        crs = 'EPSG:4326'                                    \n",
        "                                        )\n",
        "    task.start()\n",
        "\n",
        "    return task.id\n"
      ],
      "execution_count": 46,
      "outputs": []
    },
    {
      "cell_type": "code",
      "metadata": {
        "id": "zF_i_9dJhH-V",
        "outputId": "fb1effb8-c103-4a91-f0d1-f13900eda777",
        "colab": {
          "base_uri": "https://localhost:8080/",
          "height": 1000
        }
      },
      "source": [
        "from tqdm import tqdm\n",
        "for i in tqdm(gdf['unique code'].iloc[5123:8200]):\n",
        "    #print(i)\n",
        "    geometry = gdf['geometry'][(gdf['unique code'] == i)]\n",
        "    #print(geometry[0])\n",
        "    task_id = get_images(geometry.values, str(i))\n",
        "    #check_status(task_id)"
      ],
      "execution_count": null,
      "outputs": [
        {
          "output_type": "stream",
          "text": [
            "\n",
            "  0%|          | 0/3077 [00:00<?, ?it/s]\u001b[A\n",
            "  0%|          | 1/3077 [00:11<9:31:22, 11.15s/it]\u001b[A\n",
            "  0%|          | 2/3077 [00:23<9:45:26, 11.42s/it]\u001b[A\n",
            "  0%|          | 3/3077 [00:33<9:27:41, 11.08s/it]\u001b[A\n",
            "  0%|          | 4/3077 [00:43<9:18:22, 10.90s/it]\u001b[A\n",
            "  0%|          | 5/3077 [00:53<8:57:08, 10.49s/it]\u001b[A\n",
            "  0%|          | 6/3077 [01:03<8:52:01, 10.39s/it]\u001b[A\n",
            "  0%|          | 7/3077 [01:12<8:23:47,  9.85s/it]\u001b[A\n",
            "  0%|          | 8/3077 [01:23<8:40:04, 10.17s/it]\u001b[A\n",
            "  0%|          | 9/3077 [01:34<8:53:13, 10.43s/it]\u001b[A\n",
            "  0%|          | 10/3077 [01:44<8:43:50, 10.25s/it]\u001b[A\n",
            "  0%|          | 11/3077 [01:55<8:56:47, 10.50s/it]\u001b[A\n",
            "  0%|          | 12/3077 [02:04<8:43:43, 10.25s/it]\u001b[A\n",
            "  0%|          | 13/3077 [02:14<8:42:05, 10.22s/it]\u001b[A\n",
            "  0%|          | 14/3077 [02:26<9:00:18, 10.58s/it]\u001b[A\n",
            "  0%|          | 15/3077 [02:37<9:05:27, 10.69s/it]\u001b[A\n",
            "  1%|          | 16/3077 [02:49<9:28:12, 11.14s/it]\u001b[A\n",
            "  1%|          | 17/3077 [03:05<10:40:53, 12.57s/it]\u001b[A\n",
            "  1%|          | 18/3077 [03:17<10:32:28, 12.41s/it]\u001b[A\n",
            "  1%|          | 19/3077 [03:29<10:23:07, 12.23s/it]\u001b[A\n",
            "  1%|          | 20/3077 [03:40<10:10:23, 11.98s/it]\u001b[A\n",
            "  1%|          | 21/3077 [03:52<10:06:28, 11.91s/it]\u001b[A\n",
            "  1%|          | 22/3077 [04:05<10:26:54, 12.31s/it]\u001b[A\n",
            "  1%|          | 23/3077 [04:16<10:10:01, 11.98s/it]\u001b[A\n",
            "  1%|          | 24/3077 [04:27<9:52:09, 11.64s/it] \u001b[A\n",
            "  1%|          | 25/3077 [04:36<9:08:17, 10.78s/it]\u001b[A\n",
            "  1%|          | 26/3077 [04:46<8:54:13, 10.51s/it]\u001b[A\n",
            "  1%|          | 27/3077 [04:56<8:48:07, 10.39s/it]\u001b[A\n",
            "  1%|          | 28/3077 [05:05<8:23:36,  9.91s/it]\u001b[A\n",
            "  1%|          | 29/3077 [05:15<8:21:40,  9.88s/it]\u001b[A\n",
            "  1%|          | 30/3077 [05:24<8:11:13,  9.67s/it]\u001b[A\n",
            "  1%|          | 31/3077 [05:33<8:04:07,  9.54s/it]\u001b[A\n",
            "  1%|          | 32/3077 [05:41<7:44:53,  9.16s/it]\u001b[A\n",
            "  1%|          | 33/3077 [05:54<8:37:47, 10.21s/it]\u001b[A\n",
            "  1%|          | 34/3077 [06:04<8:40:23, 10.26s/it]\u001b[A\n",
            "  1%|          | 35/3077 [06:14<8:29:43, 10.05s/it]\u001b[A\n",
            "  1%|          | 36/3077 [06:24<8:23:42,  9.94s/it]\u001b[A\n",
            "  1%|          | 37/3077 [06:34<8:30:59, 10.09s/it]\u001b[A\n",
            "  1%|          | 38/3077 [06:44<8:31:06, 10.09s/it]\u001b[A\n",
            "  1%|▏         | 39/3077 [06:54<8:27:11, 10.02s/it]\u001b[A\n",
            "  1%|▏         | 40/3077 [07:10<10:02:18, 11.90s/it]\u001b[A\n",
            "  1%|▏         | 41/3077 [07:19<9:12:13, 10.91s/it] \u001b[A\n",
            "  1%|▏         | 42/3077 [07:30<9:11:45, 10.91s/it]\u001b[A\n",
            "  1%|▏         | 43/3077 [07:41<9:21:53, 11.11s/it]\u001b[A\n",
            "  1%|▏         | 44/3077 [07:52<9:09:03, 10.86s/it]\u001b[A\n",
            "  1%|▏         | 45/3077 [08:01<8:46:37, 10.42s/it]\u001b[A\n",
            "  1%|▏         | 46/3077 [08:11<8:38:28, 10.26s/it]\u001b[A\n",
            "  2%|▏         | 47/3077 [08:25<9:43:13, 11.55s/it]\u001b[A\n",
            "  2%|▏         | 48/3077 [08:36<9:27:50, 11.25s/it]\u001b[A\n",
            "  2%|▏         | 49/3077 [08:48<9:46:52, 11.63s/it]\u001b[A\n",
            "  2%|▏         | 50/3077 [08:58<9:12:58, 10.96s/it]\u001b[A\n",
            "  2%|▏         | 51/3077 [09:08<8:56:15, 10.63s/it]\u001b[A\n",
            "  2%|▏         | 52/3077 [09:18<8:44:08, 10.40s/it]\u001b[A\n",
            "  2%|▏         | 53/3077 [09:28<8:47:43, 10.47s/it]\u001b[A\n",
            "  2%|▏         | 54/3077 [09:38<8:38:36, 10.29s/it]\u001b[A\n",
            "  2%|▏         | 55/3077 [09:48<8:26:13, 10.05s/it]\u001b[A\n",
            "  2%|▏         | 56/3077 [09:57<8:23:48, 10.01s/it]\u001b[A\n",
            "  2%|▏         | 57/3077 [10:07<8:18:24,  9.90s/it]\u001b[A\n",
            "  2%|▏         | 58/3077 [10:19<8:45:38, 10.45s/it]\u001b[A\n",
            "  2%|▏         | 59/3077 [10:30<9:01:25, 10.76s/it]\u001b[A\n",
            "  2%|▏         | 60/3077 [10:41<9:02:24, 10.79s/it]\u001b[A\n",
            "  2%|▏         | 61/3077 [10:52<9:03:44, 10.82s/it]\u001b[A\n",
            "  2%|▏         | 62/3077 [11:03<8:58:14, 10.71s/it]\u001b[A\n",
            "  2%|▏         | 63/3077 [11:14<9:07:47, 10.90s/it]\u001b[A\n",
            "  2%|▏         | 64/3077 [11:24<8:47:54, 10.51s/it]\u001b[A\n",
            "  2%|▏         | 65/3077 [11:32<8:18:11,  9.92s/it]\u001b[A\n",
            "  2%|▏         | 66/3077 [11:42<8:20:23,  9.97s/it]\u001b[A\n",
            "  2%|▏         | 67/3077 [11:53<8:31:34, 10.20s/it]\u001b[A\n",
            "  2%|▏         | 68/3077 [12:03<8:37:17, 10.31s/it]\u001b[A\n",
            "  2%|▏         | 69/3077 [12:13<8:24:43, 10.07s/it]\u001b[A\n",
            "  2%|▏         | 70/3077 [12:23<8:24:34, 10.07s/it]\u001b[A\n",
            "  2%|▏         | 71/3077 [12:34<8:40:33, 10.39s/it]\u001b[A\n",
            "  2%|▏         | 72/3077 [12:44<8:33:25, 10.25s/it]\u001b[A\n",
            "  2%|▏         | 73/3077 [12:54<8:27:57, 10.15s/it]\u001b[A\n",
            "  2%|▏         | 74/3077 [13:05<8:45:51, 10.51s/it]\u001b[A\n",
            "  2%|▏         | 75/3077 [13:17<8:58:37, 10.77s/it]\u001b[A\n",
            "  2%|▏         | 76/3077 [13:27<8:55:26, 10.71s/it]\u001b[A\n",
            "  3%|▎         | 77/3077 [13:35<8:14:37,  9.89s/it]\u001b[A\n",
            "  3%|▎         | 78/3077 [13:45<8:19:31,  9.99s/it]\u001b[A\n",
            "  3%|▎         | 79/3077 [13:56<8:20:40, 10.02s/it]\u001b[A\n",
            "  3%|▎         | 80/3077 [14:07<8:40:31, 10.42s/it]\u001b[A\n",
            "  3%|▎         | 81/3077 [14:19<8:58:38, 10.79s/it]\u001b[A\n",
            "  3%|▎         | 82/3077 [14:28<8:38:16, 10.38s/it]\u001b[A\n",
            "  3%|▎         | 83/3077 [14:44<10:09:11, 12.21s/it]\u001b[A\n",
            "  3%|▎         | 84/3077 [14:56<9:51:49, 11.86s/it] \u001b[A\n",
            "  3%|▎         | 85/3077 [15:04<9:03:24, 10.90s/it]\u001b[A\n",
            "  3%|▎         | 86/3077 [15:16<9:15:13, 11.14s/it]\u001b[A\n",
            "  3%|▎         | 87/3077 [15:26<9:03:05, 10.90s/it]\u001b[A\n",
            "  3%|▎         | 88/3077 [15:37<8:59:06, 10.82s/it]\u001b[A\n",
            "  3%|▎         | 89/3077 [15:48<8:59:56, 10.84s/it]\u001b[A\n",
            "  3%|▎         | 90/3077 [15:59<9:10:56, 11.07s/it]\u001b[A\n",
            "  3%|▎         | 91/3077 [16:10<9:05:57, 10.97s/it]\u001b[A\n",
            "  3%|▎         | 92/3077 [16:20<8:56:12, 10.78s/it]\u001b[A\n",
            "  3%|▎         | 93/3077 [16:32<9:09:32, 11.05s/it]\u001b[A\n",
            "  3%|▎         | 94/3077 [16:41<8:44:34, 10.55s/it]\u001b[A\n",
            "  3%|▎         | 95/3077 [16:51<8:33:30, 10.33s/it]\u001b[A\n",
            "  3%|▎         | 96/3077 [17:03<8:48:57, 10.65s/it]\u001b[A\n",
            "  3%|▎         | 97/3077 [17:13<8:43:02, 10.53s/it]\u001b[A\n",
            "  3%|▎         | 98/3077 [17:25<9:05:10, 10.98s/it]\u001b[A\n",
            "  3%|▎         | 99/3077 [17:34<8:41:12, 10.50s/it]\u001b[A\n",
            "  3%|▎         | 100/3077 [17:47<9:11:00, 11.11s/it]\u001b[A\n",
            "  3%|▎         | 101/3077 [17:55<8:31:13, 10.31s/it]\u001b[A\n",
            "  3%|▎         | 102/3077 [18:04<8:07:10,  9.83s/it]\u001b[A\n",
            "  3%|▎         | 103/3077 [18:13<7:50:42,  9.50s/it]\u001b[A\n",
            "  3%|▎         | 104/3077 [18:23<8:02:03,  9.73s/it]\u001b[A\n",
            "  3%|▎         | 105/3077 [18:33<8:07:35,  9.84s/it]\u001b[A\n",
            "  3%|▎         | 106/3077 [18:43<8:07:09,  9.84s/it]\u001b[A\n",
            "  3%|▎         | 107/3077 [18:53<8:11:43,  9.93s/it]\u001b[A\n",
            "  4%|▎         | 108/3077 [19:03<8:09:33,  9.89s/it]\u001b[A\n",
            "  4%|▎         | 109/3077 [19:13<8:18:55, 10.09s/it]\u001b[A\n",
            "  4%|▎         | 110/3077 [19:23<8:08:30,  9.88s/it]\u001b[A\n",
            "  4%|▎         | 111/3077 [19:32<7:58:23,  9.68s/it]\u001b[A\n",
            "  4%|▎         | 112/3077 [19:42<8:03:27,  9.78s/it]\u001b[A\n",
            "  4%|▎         | 113/3077 [19:52<8:03:56,  9.80s/it]\u001b[A\n",
            "  4%|▎         | 114/3077 [20:00<7:35:24,  9.22s/it]\u001b[A\n",
            "  4%|▎         | 115/3077 [20:09<7:38:46,  9.29s/it]\u001b[A\n",
            "  4%|▍         | 116/3077 [20:18<7:33:12,  9.18s/it]\u001b[A\n",
            "  4%|▍         | 117/3077 [20:28<7:45:50,  9.44s/it]\u001b[A\n",
            "  4%|▍         | 118/3077 [20:38<7:56:15,  9.66s/it]\u001b[A\n",
            "  4%|▍         | 119/3077 [20:48<8:02:34,  9.79s/it]\u001b[A\n",
            "  4%|▍         | 120/3077 [20:59<8:14:42, 10.04s/it]\u001b[A\n",
            "  4%|▍         | 121/3077 [21:10<8:20:51, 10.17s/it]\u001b[A\n",
            "  4%|▍         | 122/3077 [21:19<8:14:42, 10.04s/it]\u001b[A\n",
            "  4%|▍         | 123/3077 [21:28<7:51:01,  9.57s/it]\u001b[A\n",
            "  4%|▍         | 124/3077 [21:38<8:06:46,  9.89s/it]\u001b[A\n",
            "  4%|▍         | 125/3077 [21:50<8:31:25, 10.39s/it]\u001b[A\n",
            "  4%|▍         | 126/3077 [22:00<8:24:34, 10.26s/it]\u001b[A\n",
            "  4%|▍         | 127/3077 [22:09<8:03:45,  9.84s/it]\u001b[A\n",
            "  4%|▍         | 128/3077 [22:18<7:53:29,  9.63s/it]\u001b[A\n",
            "  4%|▍         | 129/3077 [22:29<8:15:21, 10.08s/it]\u001b[A\n",
            "  4%|▍         | 130/3077 [22:40<8:22:14, 10.23s/it]\u001b[A\n",
            "  4%|▍         | 131/3077 [22:51<8:44:38, 10.69s/it]\u001b[A\n",
            "  4%|▍         | 132/3077 [23:03<8:56:00, 10.92s/it]\u001b[A\n",
            "  4%|▍         | 133/3077 [23:16<9:29:02, 11.60s/it]\u001b[A\n",
            "  4%|▍         | 134/3077 [23:25<8:47:45, 10.76s/it]\u001b[A\n",
            "  4%|▍         | 135/3077 [23:36<8:54:22, 10.90s/it]\u001b[A\n",
            "  4%|▍         | 136/3077 [23:45<8:29:27, 10.39s/it]\u001b[A\n",
            "  4%|▍         | 137/3077 [23:54<8:02:31,  9.85s/it]\u001b[A\n",
            "  4%|▍         | 138/3077 [24:06<8:36:11, 10.54s/it]\u001b[A\n",
            "  5%|▍         | 139/3077 [24:17<8:43:00, 10.68s/it]\u001b[A\n",
            "  5%|▍         | 140/3077 [24:27<8:34:01, 10.50s/it]\u001b[A\n",
            "  5%|▍         | 141/3077 [24:37<8:18:01, 10.18s/it]\u001b[A\n",
            "  5%|▍         | 142/3077 [24:47<8:28:22, 10.39s/it]\u001b[A\n",
            "  5%|▍         | 143/3077 [24:58<8:25:03, 10.33s/it]\u001b[A\n",
            "  5%|▍         | 144/3077 [25:08<8:26:24, 10.36s/it]\u001b[A\n",
            "  5%|▍         | 145/3077 [25:20<8:46:48, 10.78s/it]\u001b[A\n",
            "  5%|▍         | 146/3077 [25:31<8:47:34, 10.80s/it]\u001b[A\n",
            "  5%|▍         | 147/3077 [25:42<9:00:17, 11.06s/it]\u001b[A\n",
            "  5%|▍         | 148/3077 [25:52<8:37:18, 10.60s/it]\u001b[A\n",
            "  5%|▍         | 149/3077 [26:01<8:22:37, 10.30s/it]\u001b[A\n",
            "  5%|▍         | 150/3077 [26:13<8:43:56, 10.74s/it]\u001b[A\n",
            "  5%|▍         | 151/3077 [26:24<8:45:25, 10.77s/it]\u001b[A\n",
            "  5%|▍         | 152/3077 [26:35<8:54:08, 10.96s/it]\u001b[A\n",
            "  5%|▍         | 153/3077 [26:47<9:06:14, 11.21s/it]\u001b[A\n",
            "  5%|▌         | 154/3077 [26:57<8:43:53, 10.75s/it]\u001b[A\n",
            "  5%|▌         | 155/3077 [27:08<8:51:58, 10.92s/it]\u001b[A\n",
            "  5%|▌         | 156/3077 [27:19<8:52:40, 10.94s/it]\u001b[A\n",
            "  5%|▌         | 157/3077 [27:31<9:09:59, 11.30s/it]\u001b[A\n",
            "  5%|▌         | 158/3077 [27:43<9:17:41, 11.46s/it]\u001b[A\n",
            "  5%|▌         | 159/3077 [27:53<8:54:09, 10.98s/it]\u001b[A\n",
            "  5%|▌         | 160/3077 [28:03<8:42:36, 10.75s/it]\u001b[A\n",
            "  5%|▌         | 161/3077 [28:13<8:34:35, 10.59s/it]\u001b[A\n",
            "  5%|▌         | 162/3077 [28:25<8:52:07, 10.95s/it]\u001b[A\n",
            "  5%|▌         | 163/3077 [28:34<8:24:37, 10.39s/it]\u001b[A\n",
            "  5%|▌         | 164/3077 [28:46<8:43:49, 10.79s/it]\u001b[A\n",
            "  5%|▌         | 165/3077 [28:58<8:57:00, 11.06s/it]\u001b[A\n",
            "  5%|▌         | 166/3077 [29:07<8:31:09, 10.54s/it]\u001b[A\n",
            "  5%|▌         | 167/3077 [29:19<8:44:22, 10.81s/it]\u001b[A\n",
            "  5%|▌         | 168/3077 [29:30<8:47:50, 10.89s/it]\u001b[A\n",
            "  5%|▌         | 169/3077 [29:40<8:36:22, 10.65s/it]\u001b[A\n",
            "  6%|▌         | 170/3077 [29:50<8:37:06, 10.67s/it]\u001b[A\n",
            "  6%|▌         | 171/3077 [30:02<8:45:30, 10.85s/it]\u001b[A\n",
            "  6%|▌         | 172/3077 [30:12<8:34:16, 10.62s/it]\u001b[A\n",
            "  6%|▌         | 173/3077 [30:20<8:01:51,  9.96s/it]\u001b[A\n",
            "  6%|▌         | 174/3077 [30:29<7:38:20,  9.47s/it]\u001b[A\n",
            "  6%|▌         | 175/3077 [30:38<7:39:37,  9.50s/it]\u001b[A\n",
            "  6%|▌         | 176/3077 [30:49<7:55:45,  9.84s/it]\u001b[A\n",
            "  6%|▌         | 177/3077 [30:59<8:07:11, 10.08s/it]\u001b[A\n",
            "  6%|▌         | 178/3077 [31:10<8:07:32, 10.09s/it]\u001b[A\n",
            "  6%|▌         | 179/3077 [31:19<7:57:35,  9.89s/it]\u001b[A\n",
            "  6%|▌         | 180/3077 [31:29<8:07:25, 10.10s/it]\u001b[A\n",
            "  6%|▌         | 181/3077 [31:40<8:09:00, 10.13s/it]\u001b[A\n",
            "  6%|▌         | 182/3077 [31:51<8:27:03, 10.51s/it]\u001b[A\n",
            "  6%|▌         | 183/3077 [32:02<8:30:51, 10.59s/it]\u001b[A\n",
            "  6%|▌         | 184/3077 [32:13<8:32:08, 10.62s/it]\u001b[A\n",
            "  6%|▌         | 185/3077 [32:26<9:15:27, 11.52s/it]\u001b[A\n",
            "  6%|▌         | 186/3077 [32:36<8:43:39, 10.87s/it]\u001b[A\n",
            "  6%|▌         | 187/3077 [32:48<9:08:19, 11.38s/it]\u001b[A\n",
            "  6%|▌         | 188/3077 [33:01<9:26:49, 11.77s/it]\u001b[A\n",
            "  6%|▌         | 189/3077 [33:11<8:58:49, 11.19s/it]\u001b[A\n",
            "  6%|▌         | 190/3077 [33:20<8:35:49, 10.72s/it]\u001b[A\n",
            "  6%|▌         | 191/3077 [33:30<8:26:40, 10.53s/it]\u001b[A\n",
            "  6%|▌         | 192/3077 [33:40<8:14:32, 10.29s/it]\u001b[A\n",
            "  6%|▋         | 193/3077 [33:52<8:36:44, 10.75s/it]\u001b[A\n",
            "  6%|▋         | 194/3077 [34:05<9:12:04, 11.49s/it]\u001b[A\n",
            "  6%|▋         | 195/3077 [34:16<8:57:44, 11.20s/it]\u001b[A\n",
            "  6%|▋         | 196/3077 [34:26<8:42:42, 10.89s/it]\u001b[A\n",
            "  6%|▋         | 197/3077 [34:36<8:39:08, 10.82s/it]\u001b[A\n",
            "  6%|▋         | 198/3077 [34:47<8:39:46, 10.83s/it]\u001b[A\n",
            "  6%|▋         | 199/3077 [34:58<8:35:59, 10.76s/it]\u001b[A\n",
            "  6%|▋         | 200/3077 [35:08<8:21:42, 10.46s/it]\u001b[A\n",
            "  7%|▋         | 201/3077 [35:17<8:04:19, 10.10s/it]\u001b[A\n",
            "  7%|▋         | 202/3077 [35:28<8:22:15, 10.48s/it]\u001b[A\n",
            "  7%|▋         | 203/3077 [35:38<8:17:14, 10.38s/it]\u001b[A\n",
            "  7%|▋         | 204/3077 [35:49<8:19:10, 10.42s/it]\u001b[A\n",
            "  7%|▋         | 205/3077 [35:59<8:17:58, 10.40s/it]\u001b[A\n",
            "  7%|▋         | 206/3077 [36:10<8:22:47, 10.51s/it]\u001b[A\n",
            "  7%|▋         | 207/3077 [36:20<8:13:54, 10.33s/it]\u001b[A\n",
            "  7%|▋         | 208/3077 [36:31<8:19:36, 10.45s/it]\u001b[A\n",
            "  7%|▋         | 209/3077 [36:41<8:12:31, 10.30s/it]\u001b[A\n",
            "  7%|▋         | 210/3077 [36:51<8:13:20, 10.32s/it]\u001b[A\n",
            "  7%|▋         | 211/3077 [37:04<8:56:22, 11.23s/it]\u001b[A\n",
            "  7%|▋         | 212/3077 [37:16<8:56:05, 11.23s/it]\u001b[A\n",
            "  7%|▋         | 213/3077 [37:26<8:39:20, 10.88s/it]\u001b[A\n",
            "  7%|▋         | 214/3077 [37:38<8:57:04, 11.26s/it]\u001b[A\n",
            "  7%|▋         | 215/3077 [37:49<8:58:43, 11.29s/it]\u001b[A\n",
            "  7%|▋         | 216/3077 [38:00<8:44:50, 11.01s/it]\u001b[A\n",
            "  7%|▋         | 217/3077 [38:11<8:54:07, 11.21s/it]\u001b[A\n",
            "  7%|▋         | 218/3077 [38:22<8:42:12, 10.96s/it]\u001b[A\n",
            "  7%|▋         | 219/3077 [38:32<8:40:50, 10.93s/it]\u001b[A\n",
            "  7%|▋         | 220/3077 [38:43<8:32:39, 10.77s/it]\u001b[A\n",
            "  7%|▋         | 221/3077 [38:51<7:57:30, 10.03s/it]\u001b[A\n",
            "  7%|▋         | 222/3077 [39:03<8:17:41, 10.46s/it]\u001b[A\n",
            "  7%|▋         | 223/3077 [39:13<8:14:48, 10.40s/it]\u001b[A\n",
            "  7%|▋         | 224/3077 [39:21<7:48:50,  9.86s/it]\u001b[A\n",
            "  7%|▋         | 225/3077 [39:32<7:53:14,  9.96s/it]\u001b[A\n",
            "  7%|▋         | 226/3077 [39:42<7:58:47, 10.08s/it]\u001b[A\n",
            "  7%|▋         | 227/3077 [39:52<7:57:06, 10.04s/it]\u001b[A\n",
            "  7%|▋         | 228/3077 [40:03<8:08:18, 10.28s/it]\u001b[A\n",
            "  7%|▋         | 229/3077 [40:14<8:26:27, 10.67s/it]\u001b[A\n",
            "  7%|▋         | 230/3077 [40:27<8:49:40, 11.16s/it]\u001b[A\n",
            "  8%|▊         | 231/3077 [40:38<8:46:22, 11.10s/it]\u001b[A\n",
            "  8%|▊         | 232/3077 [40:47<8:27:13, 10.70s/it]\u001b[A\n",
            "  8%|▊         | 233/3077 [40:59<8:37:00, 10.91s/it]\u001b[A\n",
            "  8%|▊         | 234/3077 [41:09<8:21:28, 10.58s/it]\u001b[A\n",
            "  8%|▊         | 235/3077 [41:20<8:37:58, 10.94s/it]\u001b[A\n",
            "  8%|▊         | 236/3077 [41:32<8:51:07, 11.22s/it]\u001b[A\n",
            "  8%|▊         | 237/3077 [41:42<8:28:05, 10.73s/it]\u001b[A\n",
            "  8%|▊         | 238/3077 [41:54<8:51:22, 11.23s/it]\u001b[A\n",
            "  8%|▊         | 239/3077 [42:05<8:50:40, 11.22s/it]\u001b[A\n",
            "  8%|▊         | 240/3077 [42:17<8:56:42, 11.35s/it]\u001b[A\n",
            "  8%|▊         | 241/3077 [42:29<9:09:43, 11.63s/it]\u001b[A\n",
            "  8%|▊         | 242/3077 [42:39<8:46:59, 11.15s/it]\u001b[A\n",
            "  8%|▊         | 243/3077 [42:51<8:51:42, 11.26s/it]\u001b[A\n",
            "  8%|▊         | 244/3077 [43:00<8:16:08, 10.51s/it]\u001b[A\n",
            "  8%|▊         | 245/3077 [43:11<8:20:27, 10.60s/it]\u001b[A\n",
            "  8%|▊         | 246/3077 [43:20<7:59:09, 10.16s/it]\u001b[A\n",
            "  8%|▊         | 247/3077 [43:44<11:19:50, 14.41s/it]\u001b[A\n",
            "  8%|▊         | 248/3077 [43:57<10:59:48, 13.99s/it]\u001b[A\n",
            "  8%|▊         | 249/3077 [44:07<9:57:44, 12.68s/it] \u001b[A\n",
            "  8%|▊         | 250/3077 [44:16<9:11:55, 11.71s/it]\u001b[A\n",
            "  8%|▊         | 251/3077 [44:26<8:51:06, 11.28s/it]\u001b[A\n",
            "  8%|▊         | 252/3077 [44:37<8:45:05, 11.15s/it]\u001b[A\n",
            "  8%|▊         | 253/3077 [44:49<8:50:05, 11.26s/it]\u001b[A\n",
            "  8%|▊         | 254/3077 [44:58<8:16:17, 10.55s/it]\u001b[A\n",
            "  8%|▊         | 255/3077 [45:08<8:20:08, 10.63s/it]\u001b[A\n",
            "  8%|▊         | 256/3077 [45:21<8:48:45, 11.25s/it]\u001b[A\n",
            "  8%|▊         | 257/3077 [45:34<9:18:28, 11.88s/it]\u001b[A\n",
            "  8%|▊         | 258/3077 [45:46<9:11:07, 11.73s/it]\u001b[A\n",
            "  8%|▊         | 259/3077 [45:55<8:37:49, 11.03s/it]\u001b[A\n",
            "  8%|▊         | 260/3077 [46:07<8:43:25, 11.15s/it]\u001b[A\n",
            "  8%|▊         | 261/3077 [46:16<8:21:38, 10.69s/it]\u001b[A\n",
            "  9%|▊         | 262/3077 [46:26<8:12:56, 10.51s/it]\u001b[A\n",
            "  9%|▊         | 263/3077 [46:37<8:15:53, 10.57s/it]\u001b[A\n",
            "  9%|▊         | 264/3077 [46:48<8:21:11, 10.69s/it]\u001b[A\n",
            "  9%|▊         | 265/3077 [46:58<8:08:18, 10.42s/it]\u001b[A\n",
            "  9%|▊         | 266/3077 [47:18<10:28:20, 13.41s/it]\u001b[A\n",
            "  9%|▊         | 267/3077 [47:29<9:50:53, 12.62s/it] \u001b[A\n",
            "  9%|▊         | 268/3077 [47:41<9:46:05, 12.52s/it]\u001b[A\n",
            "  9%|▊         | 269/3077 [47:52<9:16:31, 11.89s/it]\u001b[A\n",
            "  9%|▉         | 270/3077 [48:03<9:07:01, 11.69s/it]\u001b[A\n",
            "  9%|▉         | 271/3077 [48:14<8:50:49, 11.35s/it]\u001b[A\n",
            "  9%|▉         | 272/3077 [48:25<8:49:44, 11.33s/it]\u001b[A\n",
            "  9%|▉         | 273/3077 [48:37<8:58:36, 11.53s/it]\u001b[A\n",
            "  9%|▉         | 274/3077 [48:47<8:42:26, 11.18s/it]\u001b[A\n",
            "  9%|▉         | 275/3077 [48:59<8:46:42, 11.28s/it]\u001b[A\n",
            "  9%|▉         | 276/3077 [49:12<9:17:46, 11.95s/it]\u001b[A\n",
            "  9%|▉         | 277/3077 [49:22<8:48:33, 11.33s/it]\u001b[A\n",
            "  9%|▉         | 278/3077 [49:35<9:06:53, 11.72s/it]\u001b[A\n",
            "  9%|▉         | 279/3077 [49:45<8:42:52, 11.21s/it]\u001b[A\n",
            "  9%|▉         | 280/3077 [49:58<9:11:45, 11.84s/it]\u001b[A\n",
            "  9%|▉         | 281/3077 [50:09<8:58:40, 11.56s/it]\u001b[A\n",
            "  9%|▉         | 282/3077 [50:18<8:21:17, 10.76s/it]\u001b[A\n",
            "  9%|▉         | 283/3077 [50:29<8:31:03, 10.97s/it]\u001b[A\n",
            "  9%|▉         | 284/3077 [50:40<8:25:40, 10.86s/it]\u001b[A\n",
            "  9%|▉         | 285/3077 [50:50<8:18:24, 10.71s/it]\u001b[A\n",
            "  9%|▉         | 286/3077 [51:02<8:30:36, 10.98s/it]\u001b[A\n",
            "  9%|▉         | 287/3077 [51:12<8:17:17, 10.69s/it]\u001b[A\n",
            "  9%|▉         | 288/3077 [51:21<7:52:12, 10.16s/it]\u001b[A\n",
            "  9%|▉         | 289/3077 [51:32<8:04:29, 10.43s/it]\u001b[A\n",
            "  9%|▉         | 290/3077 [51:45<8:41:23, 11.22s/it]\u001b[A\n",
            "  9%|▉         | 291/3077 [51:57<8:48:00, 11.37s/it]\u001b[A\n",
            "  9%|▉         | 292/3077 [52:10<9:16:52, 12.00s/it]\u001b[A\n",
            " 10%|▉         | 293/3077 [52:20<8:54:20, 11.52s/it]\u001b[A\n",
            " 10%|▉         | 294/3077 [52:30<8:27:39, 10.94s/it]\u001b[A\n",
            " 10%|▉         | 295/3077 [52:40<8:14:40, 10.67s/it]\u001b[A\n",
            " 10%|▉         | 296/3077 [52:52<8:24:54, 10.89s/it]\u001b[A\n",
            " 10%|▉         | 297/3077 [53:01<8:07:15, 10.52s/it]\u001b[A\n",
            " 10%|▉         | 298/3077 [53:13<8:26:02, 10.93s/it]\u001b[A\n",
            " 10%|▉         | 299/3077 [53:23<8:10:00, 10.58s/it]\u001b[A\n",
            " 10%|▉         | 300/3077 [53:34<8:17:27, 10.75s/it]\u001b[A\n",
            " 10%|▉         | 301/3077 [53:44<8:12:19, 10.64s/it]\u001b[A\n",
            " 10%|▉         | 302/3077 [53:56<8:19:04, 10.79s/it]\u001b[A\n",
            " 10%|▉         | 303/3077 [54:05<7:55:10, 10.28s/it]\u001b[A\n",
            " 10%|▉         | 304/3077 [54:16<8:04:42, 10.49s/it]\u001b[A\n",
            " 10%|▉         | 305/3077 [54:27<8:21:19, 10.85s/it]\u001b[A\n",
            " 10%|▉         | 306/3077 [54:40<8:44:52, 11.37s/it]\u001b[A\n",
            " 10%|▉         | 307/3077 [54:50<8:25:18, 10.95s/it]\u001b[A\n",
            " 10%|█         | 308/3077 [55:01<8:32:54, 11.11s/it]\u001b[A\n",
            " 10%|█         | 309/3077 [55:11<8:12:42, 10.68s/it]\u001b[A\n",
            " 10%|█         | 310/3077 [55:22<8:17:31, 10.79s/it]\u001b[A\n",
            " 10%|█         | 311/3077 [55:33<8:16:14, 10.76s/it]\u001b[A\n",
            " 10%|█         | 312/3077 [55:42<7:58:50, 10.39s/it]\u001b[A\n",
            " 10%|█         | 313/3077 [55:54<8:14:46, 10.74s/it]\u001b[A\n",
            " 10%|█         | 314/3077 [56:05<8:21:11, 10.88s/it]\u001b[A\n",
            " 10%|█         | 315/3077 [56:17<8:37:37, 11.24s/it]\u001b[A\n",
            " 10%|█         | 316/3077 [56:29<8:48:51, 11.49s/it]\u001b[A\n",
            " 10%|█         | 317/3077 [56:41<8:48:18, 11.48s/it]\u001b[A\n",
            " 10%|█         | 318/3077 [56:54<9:07:55, 11.92s/it]\u001b[A\n",
            " 10%|█         | 319/3077 [57:06<9:12:32, 12.02s/it]\u001b[A\n",
            " 10%|█         | 320/3077 [57:18<9:11:55, 12.01s/it]\u001b[A\n",
            " 10%|█         | 321/3077 [57:29<8:57:36, 11.70s/it]\u001b[A\n",
            " 10%|█         | 322/3077 [57:41<9:06:07, 11.89s/it]\u001b[A\n",
            " 10%|█         | 323/3077 [57:51<8:36:04, 11.24s/it]\u001b[A\n",
            " 11%|█         | 324/3077 [58:02<8:39:11, 11.32s/it]\u001b[A\n",
            " 11%|█         | 325/3077 [58:13<8:32:07, 11.17s/it]\u001b[A\n",
            " 11%|█         | 326/3077 [58:24<8:20:57, 10.93s/it]\u001b[A\n",
            " 11%|█         | 327/3077 [58:33<8:03:35, 10.55s/it]\u001b[A\n",
            " 11%|█         | 328/3077 [58:44<8:06:10, 10.61s/it]\u001b[A\n",
            " 11%|█         | 329/3077 [58:55<8:11:41, 10.74s/it]\u001b[A\n",
            " 11%|█         | 330/3077 [59:07<8:25:37, 11.04s/it]\u001b[A\n",
            " 11%|█         | 331/3077 [59:18<8:32:46, 11.20s/it]\u001b[A\n",
            " 11%|█         | 332/3077 [59:30<8:33:02, 11.21s/it]\u001b[A\n",
            " 11%|█         | 333/3077 [59:39<8:14:15, 10.81s/it]\u001b[A\n",
            " 11%|█         | 334/3077 [59:50<8:08:04, 10.68s/it]\u001b[A\n",
            " 11%|█         | 335/3077 [1:00:00<8:05:39, 10.63s/it]\u001b[A\n",
            " 11%|█         | 336/3077 [1:00:12<8:18:31, 10.91s/it]\u001b[A\n",
            " 11%|█         | 337/3077 [1:00:22<8:12:29, 10.78s/it]\u001b[A\n",
            " 11%|█         | 338/3077 [1:00:34<8:20:31, 10.96s/it]\u001b[A\n",
            " 11%|█         | 339/3077 [1:00:46<8:36:25, 11.32s/it]\u001b[A\n",
            " 11%|█         | 340/3077 [1:00:56<8:22:16, 11.01s/it]\u001b[A\n",
            " 11%|█         | 341/3077 [1:01:06<8:12:20, 10.80s/it]\u001b[A\n",
            " 11%|█         | 342/3077 [1:01:17<8:08:36, 10.72s/it]\u001b[A\n",
            " 11%|█         | 343/3077 [1:01:30<8:38:00, 11.37s/it]\u001b[A\n",
            " 11%|█         | 344/3077 [1:01:43<8:57:28, 11.80s/it]\u001b[A\n",
            " 11%|█         | 345/3077 [1:01:56<9:22:20, 12.35s/it]\u001b[A\n",
            " 11%|█         | 346/3077 [1:02:08<9:16:29, 12.23s/it]\u001b[A\n",
            " 11%|█▏        | 347/3077 [1:02:21<9:23:48, 12.39s/it]\u001b[A\n",
            " 11%|█▏        | 348/3077 [1:02:34<9:24:49, 12.42s/it]\u001b[A\n",
            " 11%|█▏        | 349/3077 [1:02:47<9:41:04, 12.78s/it]\u001b[A\n",
            " 11%|█▏        | 350/3077 [1:02:57<9:02:07, 11.93s/it]\u001b[A\n",
            " 11%|█▏        | 351/3077 [1:03:09<9:04:13, 11.98s/it]\u001b[A\n",
            " 11%|█▏        | 352/3077 [1:03:20<8:42:15, 11.50s/it]\u001b[A\n",
            " 11%|█▏        | 353/3077 [1:03:30<8:31:39, 11.27s/it]\u001b[A\n",
            " 12%|█▏        | 354/3077 [1:03:43<8:45:54, 11.59s/it]\u001b[A\n",
            " 12%|█▏        | 355/3077 [1:03:52<8:14:30, 10.90s/it]\u001b[A\n",
            " 12%|█▏        | 356/3077 [1:04:02<8:06:54, 10.74s/it]\u001b[A\n",
            " 12%|█▏        | 357/3077 [1:04:12<7:57:41, 10.54s/it]\u001b[A\n",
            " 12%|█▏        | 358/3077 [1:04:24<8:10:10, 10.82s/it]\u001b[A\n",
            " 12%|█▏        | 359/3077 [1:04:32<7:39:16, 10.14s/it]\u001b[A\n",
            " 12%|█▏        | 360/3077 [1:04:45<8:18:39, 11.01s/it]\u001b[A\n",
            " 12%|█▏        | 361/3077 [1:04:56<8:12:34, 10.88s/it]\u001b[A\n",
            " 12%|█▏        | 362/3077 [1:05:06<7:54:40, 10.49s/it]\u001b[A\n",
            " 12%|█▏        | 363/3077 [1:05:15<7:33:47, 10.03s/it]\u001b[A\n",
            " 12%|█▏        | 364/3077 [1:05:24<7:27:02,  9.89s/it]\u001b[A\n",
            " 12%|█▏        | 365/3077 [1:05:36<7:58:04, 10.58s/it]\u001b[A\n",
            " 12%|█▏        | 366/3077 [1:05:45<7:28:50,  9.93s/it]\u001b[A\n",
            " 12%|█▏        | 367/3077 [1:05:56<7:45:47, 10.31s/it]\u001b[A\n",
            " 12%|█▏        | 368/3077 [1:06:06<7:41:44, 10.23s/it]\u001b[A\n",
            " 12%|█▏        | 369/3077 [1:06:15<7:25:23,  9.87s/it]\u001b[A\n",
            " 12%|█▏        | 370/3077 [1:06:26<7:34:48, 10.08s/it]\u001b[A\n",
            " 12%|█▏        | 371/3077 [1:06:36<7:34:51, 10.09s/it]\u001b[A\n",
            " 12%|█▏        | 372/3077 [1:06:46<7:37:07, 10.14s/it]\u001b[A\n",
            " 12%|█▏        | 373/3077 [1:06:56<7:40:22, 10.22s/it]\u001b[A\n",
            " 12%|█▏        | 374/3077 [1:07:05<7:25:00,  9.88s/it]\u001b[A\n",
            " 12%|█▏        | 375/3077 [1:07:16<7:37:50, 10.17s/it]\u001b[A\n",
            " 12%|█▏        | 376/3077 [1:07:26<7:31:34, 10.03s/it]\u001b[A\n",
            " 12%|█▏        | 377/3077 [1:07:34<7:03:29,  9.41s/it]\u001b[A\n",
            " 12%|█▏        | 378/3077 [1:07:44<7:08:34,  9.53s/it]\u001b[A\n",
            " 12%|█▏        | 379/3077 [1:07:54<7:15:39,  9.69s/it]\u001b[A\n",
            " 12%|█▏        | 380/3077 [1:08:06<7:44:13, 10.33s/it]\u001b[A\n",
            " 12%|█▏        | 381/3077 [1:08:15<7:25:50,  9.92s/it]\u001b[A\n",
            " 12%|█▏        | 382/3077 [1:08:26<7:49:46, 10.46s/it]\u001b[A\n",
            " 12%|█▏        | 383/3077 [1:08:38<8:00:12, 10.70s/it]\u001b[A\n",
            " 12%|█▏        | 384/3077 [1:08:49<8:12:17, 10.97s/it]\u001b[A\n",
            " 13%|█▎        | 385/3077 [1:08:58<7:42:54, 10.32s/it]\u001b[A\n",
            " 13%|█▎        | 386/3077 [1:09:08<7:38:48, 10.23s/it]\u001b[A\n",
            " 13%|█▎        | 387/3077 [1:09:19<7:53:21, 10.56s/it]\u001b[A\n",
            " 13%|█▎        | 388/3077 [1:09:31<8:03:24, 10.79s/it]\u001b[A\n",
            " 13%|█▎        | 389/3077 [1:09:41<7:52:50, 10.55s/it]\u001b[A\n",
            " 13%|█▎        | 390/3077 [1:09:51<7:51:17, 10.52s/it]\u001b[A\n",
            " 13%|█▎        | 391/3077 [1:10:07<9:00:09, 12.07s/it]\u001b[A\n",
            " 13%|█▎        | 392/3077 [1:10:16<8:18:36, 11.14s/it]\u001b[A\n",
            " 13%|█▎        | 393/3077 [1:10:26<8:08:52, 10.93s/it]\u001b[A\n",
            " 13%|█▎        | 394/3077 [1:10:38<8:19:45, 11.18s/it]\u001b[A\n",
            " 13%|█▎        | 395/3077 [1:10:51<8:46:51, 11.79s/it]\u001b[A\n",
            " 13%|█▎        | 396/3077 [1:11:01<8:20:14, 11.20s/it]\u001b[A\n",
            " 13%|█▎        | 397/3077 [1:11:12<8:14:17, 11.07s/it]\u001b[A\n",
            " 13%|█▎        | 398/3077 [1:11:22<8:04:42, 10.86s/it]\u001b[A\n",
            " 13%|█▎        | 399/3077 [1:11:35<8:30:08, 11.43s/it]\u001b[A\n",
            " 13%|█▎        | 400/3077 [1:11:44<7:58:39, 10.73s/it]\u001b[A\n",
            " 13%|█▎        | 401/3077 [1:11:58<8:47:39, 11.83s/it]\u001b[A\n",
            " 13%|█▎        | 402/3077 [1:12:12<9:09:36, 12.33s/it]\u001b[A\n",
            " 13%|█▎        | 403/3077 [1:12:25<9:23:55, 12.65s/it]\u001b[A\n",
            " 13%|█▎        | 404/3077 [1:12:40<9:53:18, 13.32s/it]\u001b[A\n",
            " 13%|█▎        | 405/3077 [1:12:52<9:35:31, 12.92s/it]\u001b[A\n",
            " 13%|█▎        | 406/3077 [1:13:09<10:22:50, 13.99s/it]\u001b[A\n",
            " 13%|█▎        | 407/3077 [1:13:21<10:03:24, 13.56s/it]\u001b[A\n",
            " 13%|█▎        | 408/3077 [1:13:34<9:47:07, 13.20s/it] \u001b[A\n",
            " 13%|█▎        | 409/3077 [1:13:45<9:21:07, 12.62s/it]\u001b[A\n",
            " 13%|█▎        | 410/3077 [1:13:56<9:07:46, 12.32s/it]\u001b[A\n",
            " 13%|█▎        | 411/3077 [1:14:12<9:52:28, 13.33s/it]\u001b[A\n",
            " 13%|█▎        | 412/3077 [1:14:25<9:40:50, 13.08s/it]\u001b[A\n",
            " 13%|█▎        | 413/3077 [1:14:39<10:04:25, 13.61s/it]\u001b[A\n",
            " 13%|█▎        | 414/3077 [1:14:52<9:44:17, 13.16s/it] \u001b[A\n",
            " 13%|█▎        | 415/3077 [1:15:04<9:40:21, 13.08s/it]\u001b[A\n",
            " 14%|█▎        | 416/3077 [1:15:18<9:45:05, 13.19s/it]\u001b[A\n",
            " 14%|█▎        | 417/3077 [1:15:28<9:08:35, 12.37s/it]\u001b[A\n",
            " 14%|█▎        | 418/3077 [1:15:42<9:23:22, 12.71s/it]\u001b[A\n",
            " 14%|█▎        | 419/3077 [1:15:56<9:40:03, 13.09s/it]\u001b[A\n",
            " 14%|█▎        | 420/3077 [1:16:10<9:48:03, 13.28s/it]\u001b[A\n",
            " 14%|█▎        | 421/3077 [1:16:21<9:28:07, 12.83s/it]\u001b[A\n",
            " 14%|█▎        | 422/3077 [1:16:34<9:19:13, 12.64s/it]\u001b[A\n",
            " 14%|█▎        | 423/3077 [1:16:45<9:06:37, 12.36s/it]\u001b[A\n",
            " 14%|█▍        | 424/3077 [1:16:57<9:03:08, 12.28s/it]\u001b[A\n",
            " 14%|█▍        | 425/3077 [1:17:10<9:12:37, 12.50s/it]\u001b[A\n",
            " 14%|█▍        | 426/3077 [1:17:23<9:20:36, 12.69s/it]\u001b[A\n",
            " 14%|█▍        | 427/3077 [1:17:35<9:05:45, 12.36s/it]\u001b[A\n",
            " 14%|█▍        | 428/3077 [1:17:48<9:19:22, 12.67s/it]\u001b[A\n",
            " 14%|█▍        | 429/3077 [1:17:59<8:46:51, 11.94s/it]\u001b[A\n",
            " 14%|█▍        | 430/3077 [1:18:14<9:28:22, 12.88s/it]\u001b[A\n",
            " 14%|█▍        | 431/3077 [1:18:25<9:02:14, 12.30s/it]\u001b[A\n",
            " 14%|█▍        | 432/3077 [1:18:37<8:58:56, 12.23s/it]\u001b[A\n",
            " 14%|█▍        | 433/3077 [1:18:51<9:18:53, 12.68s/it]\u001b[A\n",
            " 14%|█▍        | 434/3077 [1:19:14<11:39:59, 15.89s/it]\u001b[A\n",
            " 14%|█▍        | 435/3077 [1:19:30<11:36:05, 15.81s/it]\u001b[A\n",
            " 14%|█▍        | 436/3077 [1:19:44<11:13:10, 15.29s/it]\u001b[A\n",
            " 14%|█▍        | 437/3077 [1:19:56<10:37:17, 14.48s/it]\u001b[A\n",
            " 14%|█▍        | 438/3077 [1:20:11<10:43:43, 14.64s/it]\u001b[A\n",
            " 14%|█▍        | 439/3077 [1:20:27<10:55:24, 14.91s/it]\u001b[A\n",
            " 14%|█▍        | 440/3077 [1:20:40<10:38:06, 14.52s/it]\u001b[A\n",
            " 14%|█▍        | 441/3077 [1:20:50<9:34:04, 13.07s/it] \u001b[A\n",
            " 14%|█▍        | 442/3077 [1:21:01<9:04:44, 12.40s/it]\u001b[A\n",
            " 14%|█▍        | 443/3077 [1:21:12<8:51:05, 12.10s/it]\u001b[A\n",
            " 14%|█▍        | 444/3077 [1:21:26<9:15:44, 12.66s/it]\u001b[A\n",
            " 14%|█▍        | 445/3077 [1:21:38<9:04:55, 12.42s/it]\u001b[A\n",
            " 14%|█▍        | 446/3077 [1:21:50<9:03:28, 12.39s/it]\u001b[A\n",
            " 15%|█▍        | 447/3077 [1:22:03<9:01:28, 12.35s/it]\u001b[A\n",
            " 15%|█▍        | 448/3077 [1:22:15<9:03:02, 12.39s/it]\u001b[A\n",
            " 15%|█▍        | 449/3077 [1:22:26<8:46:33, 12.02s/it]\u001b[A\n",
            " 15%|█▍        | 450/3077 [1:22:38<8:39:20, 11.86s/it]\u001b[A\n",
            " 15%|█▍        | 451/3077 [1:22:52<9:03:12, 12.41s/it]\u001b[A\n",
            " 15%|█▍        | 452/3077 [1:23:04<9:04:03, 12.44s/it]\u001b[A\n",
            " 15%|█▍        | 453/3077 [1:23:20<9:46:08, 13.40s/it]\u001b[A\n",
            " 15%|█▍        | 454/3077 [1:23:32<9:37:09, 13.20s/it]\u001b[A\n",
            " 15%|█▍        | 455/3077 [1:23:44<9:12:40, 12.65s/it]\u001b[A\n",
            " 15%|█▍        | 456/3077 [1:23:57<9:18:07, 12.78s/it]\u001b[A\n",
            " 15%|█▍        | 457/3077 [1:24:10<9:29:23, 13.04s/it]\u001b[A\n",
            " 15%|█▍        | 458/3077 [1:24:23<9:25:43, 12.96s/it]\u001b[A\n",
            " 15%|█▍        | 459/3077 [1:24:34<9:01:14, 12.40s/it]\u001b[A\n",
            " 15%|█▍        | 460/3077 [1:24:48<9:17:43, 12.79s/it]\u001b[A\n",
            " 15%|█▍        | 461/3077 [1:25:01<9:19:57, 12.84s/it]\u001b[A\n",
            " 15%|█▌        | 462/3077 [1:25:16<9:47:46, 13.49s/it]\u001b[A\n",
            " 15%|█▌        | 463/3077 [1:25:25<8:52:58, 12.23s/it]\u001b[A\n",
            " 15%|█▌        | 464/3077 [1:25:37<8:45:01, 12.06s/it]\u001b[A\n",
            " 15%|█▌        | 465/3077 [1:25:49<8:46:54, 12.10s/it]\u001b[A\n",
            " 15%|█▌        | 466/3077 [1:26:01<8:45:56, 12.09s/it]\u001b[A\n",
            " 15%|█▌        | 467/3077 [1:26:13<8:40:45, 11.97s/it]\u001b[A\n",
            " 15%|█▌        | 468/3077 [1:26:25<8:45:42, 12.09s/it]\u001b[A\n",
            " 15%|█▌        | 469/3077 [1:26:37<8:38:50, 11.94s/it]\u001b[A\n",
            " 15%|█▌        | 470/3077 [1:26:51<9:01:51, 12.47s/it]\u001b[A\n",
            " 15%|█▌        | 471/3077 [1:27:03<9:03:01, 12.50s/it]\u001b[A\n",
            " 15%|█▌        | 472/3077 [1:27:14<8:43:55, 12.07s/it]\u001b[A\n",
            " 15%|█▌        | 473/3077 [1:27:27<8:50:44, 12.23s/it]\u001b[A\n",
            " 15%|█▌        | 474/3077 [1:27:40<9:06:42, 12.60s/it]\u001b[A\n",
            " 15%|█▌        | 475/3077 [1:27:51<8:44:36, 12.10s/it]\u001b[A\n",
            " 15%|█▌        | 476/3077 [1:28:06<9:20:21, 12.93s/it]\u001b[A\n",
            " 16%|█▌        | 477/3077 [1:28:20<9:33:59, 13.25s/it]\u001b[A\n",
            " 16%|█▌        | 478/3077 [1:28:32<9:10:51, 12.72s/it]\u001b[A\n",
            " 16%|█▌        | 479/3077 [1:28:43<8:55:55, 12.38s/it]\u001b[A\n",
            " 16%|█▌        | 480/3077 [1:28:57<9:18:05, 12.89s/it]\u001b[A\n",
            " 16%|█▌        | 481/3077 [1:29:10<9:14:09, 12.81s/it]\u001b[A\n",
            " 16%|█▌        | 482/3077 [1:29:24<9:30:28, 13.19s/it]\u001b[A\n",
            " 16%|█▌        | 483/3077 [1:29:35<9:03:26, 12.57s/it]\u001b[A\n",
            " 16%|█▌        | 484/3077 [1:29:47<9:00:30, 12.51s/it]\u001b[A\n",
            " 16%|█▌        | 485/3077 [1:30:02<9:29:04, 13.17s/it]\u001b[A\n",
            " 16%|█▌        | 486/3077 [1:30:12<8:46:42, 12.20s/it]\u001b[A\n",
            " 16%|█▌        | 487/3077 [1:30:23<8:36:13, 11.96s/it]\u001b[A\n",
            " 16%|█▌        | 488/3077 [1:30:38<9:13:05, 12.82s/it]\u001b[A\n",
            " 16%|█▌        | 489/3077 [1:30:52<9:18:24, 12.95s/it]\u001b[A\n",
            " 16%|█▌        | 490/3077 [1:31:07<9:57:07, 13.85s/it]\u001b[A\n",
            " 16%|█▌        | 491/3077 [1:31:18<9:18:42, 12.96s/it]\u001b[A\n",
            " 16%|█▌        | 492/3077 [1:31:30<8:57:39, 12.48s/it]\u001b[A\n",
            " 16%|█▌        | 493/3077 [1:31:43<9:02:56, 12.61s/it]\u001b[A\n",
            " 16%|█▌        | 494/3077 [1:31:57<9:26:09, 13.15s/it]\u001b[A\n",
            " 16%|█▌        | 495/3077 [1:32:11<9:39:33, 13.47s/it]\u001b[A\n",
            " 16%|█▌        | 496/3077 [1:32:23<9:23:29, 13.10s/it]\u001b[A\n",
            " 16%|█▌        | 497/3077 [1:32:35<9:04:26, 12.66s/it]\u001b[A\n",
            " 16%|█▌        | 498/3077 [1:32:48<9:07:33, 12.74s/it]\u001b[A\n",
            " 16%|█▌        | 499/3077 [1:33:02<9:19:17, 13.02s/it]\u001b[A\n",
            " 16%|█▌        | 500/3077 [1:33:15<9:26:05, 13.18s/it]\u001b[A\n",
            " 16%|█▋        | 501/3077 [1:33:26<8:56:07, 12.49s/it]\u001b[A\n",
            " 16%|█▋        | 502/3077 [1:33:39<9:00:04, 12.58s/it]\u001b[A\n",
            " 16%|█▋        | 503/3077 [1:34:02<11:08:24, 15.58s/it]\u001b[A\n",
            " 16%|█▋        | 504/3077 [1:34:14<10:30:16, 14.70s/it]\u001b[A\n",
            " 16%|█▋        | 505/3077 [1:34:25<9:42:51, 13.60s/it] \u001b[A\n",
            " 16%|█▋        | 506/3077 [1:34:35<8:53:01, 12.44s/it]\u001b[A\n",
            " 16%|█▋        | 507/3077 [1:34:45<8:23:29, 11.75s/it]\u001b[A\n",
            " 17%|█▋        | 508/3077 [1:34:56<8:06:30, 11.36s/it]\u001b[A\n",
            " 17%|█▋        | 509/3077 [1:35:06<7:59:36, 11.21s/it]\u001b[A\n",
            " 17%|█▋        | 510/3077 [1:35:22<8:53:40, 12.47s/it]\u001b[A\n",
            " 17%|█▋        | 511/3077 [1:35:33<8:39:13, 12.14s/it]\u001b[A\n",
            " 17%|█▋        | 512/3077 [1:35:46<8:43:59, 12.26s/it]\u001b[A\n",
            " 17%|█▋        | 513/3077 [1:35:55<8:10:02, 11.47s/it]\u001b[A\n",
            " 17%|█▋        | 514/3077 [1:36:07<8:10:41, 11.49s/it]\u001b[A\n",
            " 17%|█▋        | 515/3077 [1:36:20<8:35:26, 12.07s/it]\u001b[A\n",
            " 17%|█▋        | 516/3077 [1:36:32<8:27:20, 11.89s/it]\u001b[A\n",
            " 17%|█▋        | 517/3077 [1:36:46<8:52:36, 12.48s/it]\u001b[A\n",
            " 17%|█▋        | 518/3077 [1:36:57<8:39:49, 12.19s/it]\u001b[A\n",
            " 17%|█▋        | 519/3077 [1:37:10<8:45:51, 12.33s/it]\u001b[A\n",
            " 17%|█▋        | 520/3077 [1:37:21<8:35:53, 12.11s/it]\u001b[A\n",
            " 17%|█▋        | 521/3077 [1:37:34<8:38:52, 12.18s/it]\u001b[A\n",
            " 17%|█▋        | 522/3077 [1:37:47<8:54:04, 12.54s/it]\u001b[A\n",
            " 17%|█▋        | 523/3077 [1:38:00<9:00:15, 12.69s/it]\u001b[A\n",
            " 17%|█▋        | 524/3077 [1:38:14<9:12:13, 12.98s/it]\u001b[A\n",
            " 17%|█▋        | 525/3077 [1:38:35<10:52:09, 15.33s/it]\u001b[A\n",
            " 17%|█▋        | 526/3077 [1:38:46<10:03:24, 14.19s/it]\u001b[A\n",
            " 17%|█▋        | 527/3077 [1:38:58<9:27:49, 13.36s/it] \u001b[A\n",
            " 17%|█▋        | 528/3077 [1:39:09<9:05:23, 12.84s/it]\u001b[A\n",
            " 17%|█▋        | 529/3077 [1:39:21<8:47:06, 12.41s/it]\u001b[A\n",
            " 17%|█▋        | 530/3077 [1:39:34<9:05:26, 12.85s/it]\u001b[A\n",
            " 17%|█▋        | 531/3077 [1:39:47<9:05:37, 12.86s/it]\u001b[A\n",
            " 17%|█▋        | 532/3077 [1:39:57<8:28:44, 11.99s/it]\u001b[A\n",
            " 17%|█▋        | 533/3077 [1:40:11<8:50:32, 12.51s/it]\u001b[A\n",
            " 17%|█▋        | 534/3077 [1:40:23<8:37:51, 12.22s/it]\u001b[A\n",
            " 17%|█▋        | 535/3077 [1:40:31<7:52:12, 11.15s/it]\u001b[A\n",
            " 17%|█▋        | 536/3077 [1:40:45<8:22:50, 11.87s/it]\u001b[A\n",
            " 17%|█▋        | 537/3077 [1:40:57<8:31:38, 12.09s/it]\u001b[A\n",
            " 17%|█▋        | 538/3077 [1:41:18<10:14:55, 14.53s/it]\u001b[A\n",
            " 18%|█▊        | 539/3077 [1:41:31<9:59:05, 14.16s/it] \u001b[A\n",
            " 18%|█▊        | 540/3077 [1:41:42<9:23:50, 13.33s/it]\u001b[A\n",
            " 18%|█▊        | 541/3077 [1:41:54<9:00:29, 12.79s/it]\u001b[A\n",
            " 18%|█▊        | 542/3077 [1:42:06<8:46:10, 12.45s/it]\u001b[A\n",
            " 18%|█▊        | 543/3077 [1:42:18<8:44:02, 12.41s/it]\u001b[A\n",
            " 18%|█▊        | 544/3077 [1:42:30<8:37:23, 12.26s/it]\u001b[A\n",
            " 18%|█▊        | 545/3077 [1:42:42<8:38:02, 12.28s/it]\u001b[A\n",
            " 18%|█▊        | 546/3077 [1:42:54<8:34:13, 12.19s/it]\u001b[A\n",
            " 18%|█▊        | 547/3077 [1:43:06<8:35:41, 12.23s/it]\u001b[A\n",
            " 18%|█▊        | 548/3077 [1:43:17<8:11:56, 11.67s/it]\u001b[A\n",
            " 18%|█▊        | 549/3077 [1:43:29<8:20:55, 11.89s/it]\u001b[A\n",
            " 18%|█▊        | 550/3077 [1:43:41<8:19:13, 11.85s/it]\u001b[A\n",
            " 18%|█▊        | 551/3077 [1:43:53<8:27:07, 12.05s/it]\u001b[A\n",
            " 18%|█▊        | 552/3077 [1:44:06<8:28:39, 12.09s/it]\u001b[A\n",
            " 18%|█▊        | 553/3077 [1:44:17<8:26:09, 12.03s/it]\u001b[A\n",
            " 18%|█▊        | 554/3077 [1:44:28<8:09:20, 11.64s/it]\u001b[A\n",
            " 18%|█▊        | 555/3077 [1:44:39<8:03:52, 11.51s/it]\u001b[A\n",
            " 18%|█▊        | 556/3077 [1:44:52<8:18:50, 11.87s/it]\u001b[A\n",
            " 18%|█▊        | 557/3077 [1:45:05<8:25:16, 12.03s/it]\u001b[A\n",
            " 18%|█▊        | 558/3077 [1:45:18<8:41:37, 12.42s/it]\u001b[A\n",
            " 18%|█▊        | 559/3077 [1:45:30<8:42:48, 12.46s/it]\u001b[A\n",
            " 18%|█▊        | 560/3077 [1:45:42<8:31:01, 12.18s/it]\u001b[A\n",
            " 18%|█▊        | 561/3077 [1:45:52<8:06:15, 11.60s/it]\u001b[A\n",
            " 18%|█▊        | 562/3077 [1:46:05<8:21:51, 11.97s/it]\u001b[A\n",
            " 18%|█▊        | 563/3077 [1:46:15<8:01:26, 11.49s/it]\u001b[A\n",
            " 18%|█▊        | 564/3077 [1:46:26<7:54:47, 11.34s/it]\u001b[A\n",
            " 18%|█▊        | 565/3077 [1:46:39<8:05:35, 11.60s/it]\u001b[A\n",
            " 18%|█▊        | 566/3077 [1:46:50<8:06:08, 11.62s/it]\u001b[A\n",
            " 18%|█▊        | 567/3077 [1:47:02<8:08:04, 11.67s/it]\u001b[A\n",
            " 18%|█▊        | 568/3077 [1:47:26<10:36:19, 15.22s/it]\u001b[A\n",
            " 18%|█▊        | 569/3077 [1:47:36<9:40:28, 13.89s/it] \u001b[A\n",
            " 19%|█▊        | 570/3077 [1:47:51<9:49:00, 14.10s/it]\u001b[A\n",
            " 19%|█▊        | 571/3077 [1:48:05<9:44:55, 14.00s/it]\u001b[A\n",
            " 19%|█▊        | 572/3077 [1:48:21<10:08:24, 14.57s/it]\u001b[A\n",
            " 19%|█▊        | 573/3077 [1:48:33<9:40:41, 13.91s/it] \u001b[A\n",
            " 19%|█▊        | 574/3077 [1:48:45<9:21:31, 13.46s/it]\u001b[A\n",
            " 19%|█▊        | 575/3077 [1:48:57<8:58:47, 12.92s/it]\u001b[A\n",
            " 19%|█▊        | 576/3077 [1:49:14<9:48:37, 14.12s/it]\u001b[A\n",
            " 19%|█▉        | 577/3077 [1:49:27<9:32:52, 13.75s/it]\u001b[A\n",
            " 19%|█▉        | 578/3077 [1:49:40<9:25:54, 13.59s/it]\u001b[A\n",
            " 19%|█▉        | 579/3077 [1:49:52<9:03:32, 13.06s/it]\u001b[A\n",
            " 19%|█▉        | 580/3077 [1:50:03<8:45:05, 12.62s/it]\u001b[A\n",
            " 19%|█▉        | 581/3077 [1:50:15<8:34:16, 12.36s/it]\u001b[A\n",
            " 19%|█▉        | 582/3077 [1:50:25<8:04:55, 11.66s/it]\u001b[A\n",
            " 19%|█▉        | 583/3077 [1:50:36<7:56:17, 11.46s/it]\u001b[A\n",
            " 19%|█▉        | 584/3077 [1:50:48<8:02:39, 11.62s/it]\u001b[A\n",
            " 19%|█▉        | 585/3077 [1:51:01<8:15:55, 11.94s/it]\u001b[A\n",
            " 19%|█▉        | 586/3077 [1:51:12<8:01:19, 11.59s/it]\u001b[A\n",
            " 19%|█▉        | 587/3077 [1:51:21<7:32:37, 10.91s/it]\u001b[A\n",
            " 19%|█▉        | 588/3077 [1:51:33<7:45:01, 11.21s/it]\u001b[A\n",
            " 19%|█▉        | 589/3077 [1:51:46<8:05:20, 11.70s/it]\u001b[A\n",
            " 19%|█▉        | 590/3077 [1:51:57<8:00:10, 11.58s/it]\u001b[A\n",
            " 19%|█▉        | 591/3077 [1:52:09<8:06:26, 11.74s/it]\u001b[A\n",
            " 19%|█▉        | 592/3077 [1:52:21<8:06:31, 11.75s/it]\u001b[A\n",
            " 19%|█▉        | 593/3077 [1:52:30<7:32:56, 10.94s/it]\u001b[A\n",
            " 19%|█▉        | 594/3077 [1:52:40<7:15:44, 10.53s/it]\u001b[A\n",
            " 19%|█▉        | 595/3077 [1:52:53<7:52:05, 11.41s/it]\u001b[A\n",
            " 19%|█▉        | 596/3077 [1:53:55<18:23:52, 26.70s/it]\u001b[A\n",
            " 19%|█▉        | 597/3077 [1:54:08<15:26:15, 22.41s/it]\u001b[A\n",
            " 19%|█▉        | 598/3077 [1:54:20<13:22:06, 19.41s/it]\u001b[A\n",
            " 19%|█▉        | 599/3077 [1:54:32<11:43:43, 17.04s/it]\u001b[A\n",
            " 19%|█▉        | 600/3077 [1:54:45<10:55:44, 15.88s/it]\u001b[A\n",
            " 20%|█▉        | 601/3077 [1:54:57<10:02:34, 14.60s/it]\u001b[A\n",
            " 20%|█▉        | 602/3077 [1:55:10<9:50:47, 14.32s/it] \u001b[A\n",
            " 20%|█▉        | 603/3077 [1:55:23<9:26:12, 13.73s/it]\u001b[A\n",
            " 20%|█▉        | 604/3077 [1:55:34<8:53:11, 12.94s/it]\u001b[A\n",
            " 20%|█▉        | 605/3077 [1:55:44<8:21:26, 12.17s/it]\u001b[A\n",
            " 20%|█▉        | 606/3077 [1:55:56<8:20:59, 12.16s/it]\u001b[A\n",
            " 20%|█▉        | 607/3077 [1:56:14<9:25:50, 13.75s/it]\u001b[A\n",
            " 20%|█▉        | 608/3077 [1:56:25<8:58:25, 13.08s/it]\u001b[A\n",
            " 20%|█▉        | 609/3077 [1:56:45<10:19:34, 15.06s/it]\u001b[A\n",
            " 20%|█▉        | 610/3077 [1:56:58<9:55:19, 14.48s/it] \u001b[A\n",
            " 20%|█▉        | 611/3077 [1:57:09<9:09:55, 13.38s/it]\u001b[A\n",
            " 20%|█▉        | 612/3077 [1:57:26<9:57:45, 14.55s/it]\u001b[A\n",
            " 20%|█▉        | 613/3077 [1:57:41<10:03:53, 14.71s/it]\u001b[A\n",
            " 20%|█▉        | 614/3077 [1:57:54<9:41:19, 14.16s/it] \u001b[A\n",
            " 20%|█▉        | 615/3077 [1:58:07<9:26:02, 13.79s/it]\u001b[A\n",
            " 20%|██        | 616/3077 [1:58:17<8:44:15, 12.78s/it]\u001b[A\n",
            " 20%|██        | 617/3077 [1:58:31<8:53:24, 13.01s/it]\u001b[A\n",
            " 20%|██        | 618/3077 [1:58:44<8:57:09, 13.11s/it]\u001b[A\n",
            " 20%|██        | 619/3077 [1:58:58<9:07:57, 13.38s/it]\u001b[A\n",
            " 20%|██        | 620/3077 [1:59:08<8:27:34, 12.39s/it]\u001b[A\n",
            " 20%|██        | 621/3077 [1:59:20<8:19:13, 12.20s/it]\u001b[A\n",
            " 20%|██        | 622/3077 [1:59:32<8:11:32, 12.01s/it]\u001b[A\n",
            " 20%|██        | 623/3077 [1:59:47<8:48:02, 12.91s/it]\u001b[A\n",
            " 20%|██        | 624/3077 [1:59:57<8:12:37, 12.05s/it]\u001b[A\n",
            " 20%|██        | 625/3077 [2:00:09<8:10:01, 11.99s/it]\u001b[A\n",
            " 20%|██        | 626/3077 [2:00:20<8:06:30, 11.91s/it]\u001b[A\n",
            " 20%|██        | 627/3077 [2:00:33<8:18:42, 12.21s/it]\u001b[A\n",
            " 20%|██        | 628/3077 [2:00:50<9:12:19, 13.53s/it]\u001b[A\n",
            " 20%|██        | 629/3077 [2:01:02<8:59:03, 13.21s/it]\u001b[A\n",
            " 20%|██        | 630/3077 [2:01:13<8:26:53, 12.43s/it]\u001b[A"
          ],
          "name": "stderr"
        }
      ]
    },
    {
      "cell_type": "code",
      "metadata": {
        "id": "gk8h6fDSWXNk",
        "outputId": "fe5c8e57-8ded-4cdf-9e18-e5c34935866b",
        "colab": {
          "base_uri": "https://localhost:8080/",
          "height": 34
        }
      },
      "source": [
        "import glob\n",
        "all_files = glob.glob('/content/drive/My Drive/Landsat1/*.tif')\n",
        "len(all_files)"
      ],
      "execution_count": 47,
      "outputs": [
        {
          "output_type": "execute_result",
          "data": {
            "text/plain": [
              "1123"
            ]
          },
          "metadata": {
            "tags": []
          },
          "execution_count": 47
        }
      ]
    },
    {
      "cell_type": "code",
      "metadata": {
        "id": "CL1ld9XnsoP5",
        "outputId": "dd384773-c40e-4556-af9e-4f7a45f6ab06",
        "colab": {
          "base_uri": "https://localhost:8080/",
          "height": 484
        }
      },
      "source": [
        "# visualizing the image - RGB bands need to be manually named using ColorInterp to view RGB image\n",
        "import matplotlib.pyplot as plt\n",
        "from rasterio.plot import show\n",
        "plt.figure(figsize=(10,8))\n",
        "# the file has been downloaded from drive to show here\n",
        "image = rasterio.open('/content/drive/My Drive/Landsat/2955605446598724.tif')\n",
        "show(image, adjust='linear')\n",
        "plt.show()"
      ],
      "execution_count": 29,
      "outputs": [
        {
          "output_type": "display_data",
          "data": {
            "image/png": "[encoded data removed]",
            "text/plain": [
              "<Figure size 720x576 with 1 Axes>"
            ]
          },
          "metadata": {
            "tags": [],
            "needs_background": "light"
          }
        }
      ]
    },
    {
      "cell_type": "code",
      "metadata": {
        "id": "EsqAIO9praX9",
        "outputId": "94af2544-2b1b-4219-902e-d6595fbf4f01",
        "colab": {
          "base_uri": "https://localhost:8080/",
          "height": 34
        }
      },
      "source": [
        "image.read().shape"
      ],
      "execution_count": 32,
      "outputs": [
        {
          "output_type": "execute_result",
          "data": {
            "text/plain": [
              "(6, 130, 82)"
            ]
          },
          "metadata": {
            "tags": []
          },
          "execution_count": 32
        }
      ]
    },
    {
      "cell_type": "code",
      "metadata": {
        "id": "NIRpc_rTyB0r"
      },
      "source": [
        ""
      ],
      "execution_count": null,
      "outputs": []
    }
  ]
}